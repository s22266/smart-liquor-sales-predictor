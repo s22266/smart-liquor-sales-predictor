{
 "cells": [
  {
   "cell_type": "code",
   "execution_count": 114,
   "id": "initial_id",
   "metadata": {
    "collapsed": true,
    "ExecuteTime": {
     "end_time": "2023-12-03T12:21:59.663627440Z",
     "start_time": "2023-12-03T12:21:59.604483985Z"
    }
   },
   "outputs": [],
   "source": [
    "from autogluon.tabular import TabularDataset, TabularPredictor\n",
    "import pandas as pd\n",
    "from sklearn.model_selection import train_test_split"
   ]
  },
  {
   "cell_type": "code",
   "execution_count": 115,
   "outputs": [
    {
     "name": "stderr",
     "output_type": "stream",
     "text": [
      "/tmp/ipykernel_954473/3882104848.py:1: DtypeWarning: Columns (6) have mixed types. Specify dtype option on import or set low_memory=False.\n",
      "  df = pd.read_csv('../data/03_primary/cleanData.csv')\n"
     ]
    }
   ],
   "source": [
    "df = pd.read_csv('../data/03_primary/cleanData.csv')"
   ],
   "metadata": {
    "collapsed": false,
    "ExecuteTime": {
     "end_time": "2023-12-03T12:22:03.075151910Z",
     "start_time": "2023-12-03T12:21:59.646247696Z"
    }
   },
   "id": "701e70ccc0b95c9f"
  },
  {
   "cell_type": "code",
   "execution_count": 116,
   "outputs": [
    {
     "data": {
      "text/plain": "   invoice_line_no                     date  store  \\\n0  INV-48770300006  2022-06-29T00:00:00.000   5900   \n1  INV-48782900001  2022-06-29T00:00:00.000   3390   \n2  INV-48703200006  2022-06-27T00:00:00.000   4604   \n3  INV-48692600064  2022-06-27T00:00:00.000   2552   \n4  INV-48679200008  2022-06-24T00:00:00.000   2523   \n\n                                  name                address          city  \\\n0         NEW STAR FLETCHER / WATERLOO       315 FLETCHER AVE      WATERLOO   \n1                OKOBOJI AVENUE LIQUOR    1610 OKOBOJI AVENUE       MILFORD   \n2            PIT STOP LIQUORS / NEWTON        1324, 1ST AVE E        NEWTON   \n3  HY-VEE FOOD STORE #3 / CEDAR RAPIDS  20 WILSON AVENUE WEST  CEDAR RAPIDS   \n4      HY-VEE FOOD STORE / CENTERVILLE             609 N 18TH   CENTERVILLE   \n\n   zipcode      county   category                 category_name  ...  pack  \\\n0  50701.0  BLACK HAWK  1031100.0               AMERICAN VODKAS  ...    24   \n1  51351.0   DICKINSON  1031100.0               AMERICAN VODKAS  ...    12   \n2  50208.0      JASPER  1062200.0                     WHITE RUM  ...    24   \n3  52404.0        LINN  1011100.0              BLENDED WHISKIES  ...     6   \n4  52544.0   APPANOOSE  1081300.0  AMERICAN CORDIALS & LIQUEURS  ...    12   \n\n  bottle_volume_ml  state_bottle_cost state_bottle_retail  sale_bottles  \\\n0              375               3.50                5.25            24   \n1             1000               3.97                5.96           288   \n2              375               5.00                7.50            24   \n3             1750              13.99               20.99             6   \n4              750               8.66               12.99            12   \n\n   sale_dollars  sale_liters  sale_gallons  longitude   latitude  \n0        126.00          9.0          2.37 -92.367142  42.489119  \n1       1716.48        288.0         76.08 -95.149955  43.331525  \n2        162.00          9.0          2.37 -93.035653  41.699173  \n3        116.64         10.5          2.77 -91.658576  41.955859  \n4        155.88          9.0          2.37 -92.867967  40.737577  \n\n[5 rows x 24 columns]",
      "text/html": "<div>\n<style scoped>\n    .dataframe tbody tr th:only-of-type {\n        vertical-align: middle;\n    }\n\n    .dataframe tbody tr th {\n        vertical-align: top;\n    }\n\n    .dataframe thead th {\n        text-align: right;\n    }\n</style>\n<table border=\"1\" class=\"dataframe\">\n  <thead>\n    <tr style=\"text-align: right;\">\n      <th></th>\n      <th>invoice_line_no</th>\n      <th>date</th>\n      <th>store</th>\n      <th>name</th>\n      <th>address</th>\n      <th>city</th>\n      <th>zipcode</th>\n      <th>county</th>\n      <th>category</th>\n      <th>category_name</th>\n      <th>...</th>\n      <th>pack</th>\n      <th>bottle_volume_ml</th>\n      <th>state_bottle_cost</th>\n      <th>state_bottle_retail</th>\n      <th>sale_bottles</th>\n      <th>sale_dollars</th>\n      <th>sale_liters</th>\n      <th>sale_gallons</th>\n      <th>longitude</th>\n      <th>latitude</th>\n    </tr>\n  </thead>\n  <tbody>\n    <tr>\n      <th>0</th>\n      <td>INV-48770300006</td>\n      <td>2022-06-29T00:00:00.000</td>\n      <td>5900</td>\n      <td>NEW STAR FLETCHER / WATERLOO</td>\n      <td>315 FLETCHER AVE</td>\n      <td>WATERLOO</td>\n      <td>50701.0</td>\n      <td>BLACK HAWK</td>\n      <td>1031100.0</td>\n      <td>AMERICAN VODKAS</td>\n      <td>...</td>\n      <td>24</td>\n      <td>375</td>\n      <td>3.50</td>\n      <td>5.25</td>\n      <td>24</td>\n      <td>126.00</td>\n      <td>9.0</td>\n      <td>2.37</td>\n      <td>-92.367142</td>\n      <td>42.489119</td>\n    </tr>\n    <tr>\n      <th>1</th>\n      <td>INV-48782900001</td>\n      <td>2022-06-29T00:00:00.000</td>\n      <td>3390</td>\n      <td>OKOBOJI AVENUE LIQUOR</td>\n      <td>1610 OKOBOJI AVENUE</td>\n      <td>MILFORD</td>\n      <td>51351.0</td>\n      <td>DICKINSON</td>\n      <td>1031100.0</td>\n      <td>AMERICAN VODKAS</td>\n      <td>...</td>\n      <td>12</td>\n      <td>1000</td>\n      <td>3.97</td>\n      <td>5.96</td>\n      <td>288</td>\n      <td>1716.48</td>\n      <td>288.0</td>\n      <td>76.08</td>\n      <td>-95.149955</td>\n      <td>43.331525</td>\n    </tr>\n    <tr>\n      <th>2</th>\n      <td>INV-48703200006</td>\n      <td>2022-06-27T00:00:00.000</td>\n      <td>4604</td>\n      <td>PIT STOP LIQUORS / NEWTON</td>\n      <td>1324, 1ST AVE E</td>\n      <td>NEWTON</td>\n      <td>50208.0</td>\n      <td>JASPER</td>\n      <td>1062200.0</td>\n      <td>WHITE RUM</td>\n      <td>...</td>\n      <td>24</td>\n      <td>375</td>\n      <td>5.00</td>\n      <td>7.50</td>\n      <td>24</td>\n      <td>162.00</td>\n      <td>9.0</td>\n      <td>2.37</td>\n      <td>-93.035653</td>\n      <td>41.699173</td>\n    </tr>\n    <tr>\n      <th>3</th>\n      <td>INV-48692600064</td>\n      <td>2022-06-27T00:00:00.000</td>\n      <td>2552</td>\n      <td>HY-VEE FOOD STORE #3 / CEDAR RAPIDS</td>\n      <td>20 WILSON AVENUE WEST</td>\n      <td>CEDAR RAPIDS</td>\n      <td>52404.0</td>\n      <td>LINN</td>\n      <td>1011100.0</td>\n      <td>BLENDED WHISKIES</td>\n      <td>...</td>\n      <td>6</td>\n      <td>1750</td>\n      <td>13.99</td>\n      <td>20.99</td>\n      <td>6</td>\n      <td>116.64</td>\n      <td>10.5</td>\n      <td>2.77</td>\n      <td>-91.658576</td>\n      <td>41.955859</td>\n    </tr>\n    <tr>\n      <th>4</th>\n      <td>INV-48679200008</td>\n      <td>2022-06-24T00:00:00.000</td>\n      <td>2523</td>\n      <td>HY-VEE FOOD STORE / CENTERVILLE</td>\n      <td>609 N 18TH</td>\n      <td>CENTERVILLE</td>\n      <td>52544.0</td>\n      <td>APPANOOSE</td>\n      <td>1081300.0</td>\n      <td>AMERICAN CORDIALS &amp; LIQUEURS</td>\n      <td>...</td>\n      <td>12</td>\n      <td>750</td>\n      <td>8.66</td>\n      <td>12.99</td>\n      <td>12</td>\n      <td>155.88</td>\n      <td>9.0</td>\n      <td>2.37</td>\n      <td>-92.867967</td>\n      <td>40.737577</td>\n    </tr>\n  </tbody>\n</table>\n<p>5 rows × 24 columns</p>\n</div>"
     },
     "execution_count": 116,
     "metadata": {},
     "output_type": "execute_result"
    }
   ],
   "source": [
    "df.head()"
   ],
   "metadata": {
    "collapsed": false,
    "ExecuteTime": {
     "end_time": "2023-12-03T12:22:03.097126378Z",
     "start_time": "2023-12-03T12:22:03.082608319Z"
    }
   },
   "id": "6b93852b2631fe80"
  },
  {
   "cell_type": "code",
   "execution_count": 117,
   "outputs": [],
   "source": [
    "label = 'state_bottle_retail'"
   ],
   "metadata": {
    "collapsed": false,
    "ExecuteTime": {
     "end_time": "2023-12-03T12:22:03.118528345Z",
     "start_time": "2023-12-03T12:22:03.088453552Z"
    }
   },
   "id": "1332bdb42e07ab87"
  },
  {
   "cell_type": "code",
   "execution_count": 118,
   "outputs": [],
   "source": [
    "train_data, test_data = train_test_split(df, test_size=0.25,random_state=42)"
   ],
   "metadata": {
    "collapsed": false,
    "ExecuteTime": {
     "end_time": "2023-12-03T12:22:03.918555524Z",
     "start_time": "2023-12-03T12:22:03.103563950Z"
    }
   },
   "id": "47a5d23e94e88205"
  },
  {
   "cell_type": "code",
   "execution_count": 119,
   "outputs": [
    {
     "name": "stderr",
     "output_type": "stream",
     "text": [
      "Warning: path already exists! This predictor may overwrite an existing predictor! path=\"../asi/src/asi/models/09_gluon\"\n"
     ]
    }
   ],
   "source": [
    "predictor = TabularPredictor(label=label, path='../asi/src/asi/models/09_gluon')"
   ],
   "metadata": {
    "collapsed": false,
    "ExecuteTime": {
     "end_time": "2023-12-03T12:22:03.932487435Z",
     "start_time": "2023-12-03T12:22:03.919935938Z"
    }
   },
   "id": "52701eb4d084892e"
  },
  {
   "cell_type": "code",
   "execution_count": 120,
   "outputs": [],
   "source": [
    "hyperparameters = {'XGBoost': {}, 'LightGBM': {}}\n",
    "time_limit = 300  # 5 minut na model"
   ],
   "metadata": {
    "collapsed": false,
    "ExecuteTime": {
     "end_time": "2023-12-03T12:22:03.967018280Z",
     "start_time": "2023-12-03T12:22:03.927245011Z"
    }
   },
   "id": "edb3072c0c77f8cd"
  },
  {
   "cell_type": "code",
   "execution_count": 121,
   "outputs": [
    {
     "name": "stderr",
     "output_type": "stream",
     "text": [
      "Presets specified: ['medium_quality']\n",
      "Beginning AutoGluon training ... Time limit = 300s\n",
      "AutoGluon will save models to \"../asi/src/asi/models/09_gluon\"\n",
      "=================== System Info ===================\n",
      "AutoGluon Version:  1.0.0\n",
      "Python Version:     3.10.12\n",
      "Operating System:   Linux\n",
      "Platform Machine:   x86_64\n",
      "Platform Version:   #38~22.04.1-Ubuntu SMP PREEMPT_DYNAMIC Thu Nov  2 18:01:13 UTC 2\n",
      "CPU Count:          16\n",
      "Memory Avail:       4.71 GB / 30.71 GB (15.3%)\n",
      "Disk Space Avail:   267.83 GB / 466.23 GB (57.4%)\n",
      "===================================================\n",
      "Train Data Rows:    726620\n",
      "Train Data Columns: 23\n",
      "Label Column:       state_bottle_retail\n",
      "AutoGluon infers your prediction problem is: 'regression' (because dtype of label-column == float and many unique label-values observed).\n",
      "\tLabel info (max, min, mean, stddev): (9702.0, 0.0, 16.32443, 22.9032)\n",
      "\tIf 'regression' is not the correct problem_type, please manually specify the problem_type parameter during predictor init (You may specify problem_type as one of: ['binary', 'multiclass', 'regression'])\n",
      "Problem Type:       regression\n",
      "Preprocessing data ...\n",
      "Using Feature Generators to preprocess the data ...\n",
      "Fitting AutoMLPipelineFeatureGenerator...\n",
      "\tAvailable Memory:                    5272.12 MB\n",
      "\tTrain Data (Original)  Memory Usage: 567.81 MB (10.8% of available memory)\n",
      "\tWarning: Data size prior to feature transformation consumes 10.8% of available memory. Consider increasing memory or subsampling the data to avoid instability.\n",
      "\tInferring data type of each feature based on column values. Set feature_metadata_in to manually specify special dtypes of the features.\n",
      "\tStage 1 Generators:\n",
      "\t\tFitting AsTypeFeatureGenerator...\n",
      "\tStage 2 Generators:\n",
      "\t\tFitting FillNaFeatureGenerator...\n",
      "\tStage 3 Generators:\n",
      "\t\tFitting IdentityFeatureGenerator...\n",
      "\t\tFitting CategoryFeatureGenerator...\n",
      "\t\t\tFitting CategoryMemoryMinimizeFeatureGenerator...\n",
      "\t\tFitting DatetimeFeatureGenerator...\n",
      "\t\tFitting TextSpecialFeatureGenerator...\n",
      "\t\t\tFitting BinnedFeatureGenerator...\n",
      "\t\t\tFitting DropDuplicatesFeatureGenerator...\n",
      "\t\tFitting TextNgramFeatureGenerator...\n",
      "\t\t\tFitting CountVectorizer for text features: ['name', 'address', 'vendor_name', 'im_desc']\n",
      "\t\t\tCountVectorizer fit with vocabulary size = 10000\n",
      "\t\tWarning: Due to memory constraints, ngram feature count is being reduced. Allocate more memory to maximize model quality.\n",
      "\t\tReducing Vectorizer vocab size from 10000 to 210 to avoid OOM error\n",
      "\tStage 4 Generators:\n",
      "\t\tFitting DropUniqueFeatureGenerator...\n",
      "\tStage 5 Generators:\n",
      "\t\tFitting DropDuplicatesFeatureGenerator...\n",
      "\tUnused Original Features (Count: 1): ['invoice_line_no']\n",
      "\t\tThese features were not used to generate any of the output features. Add a feature generator compatible with these features to utilize them.\n",
      "\t\tFeatures can also be unused if they carry very little information, such as being categorical but having almost entirely unique values or being duplicates of other features.\n",
      "\t\tThese features do not need to be present at inference time.\n",
      "\t\t('object', []) : 1 | ['invoice_line_no']\n",
      "\tTypes of features in original data (raw dtype, special dtypes):\n",
      "\t\t('float', [])                      : 7 | ['category', 'state_bottle_cost', 'sale_dollars', 'sale_liters', 'sale_gallons', ...]\n",
      "\t\t('int', [])                        : 6 | ['store', 'vendor_no', 'itemno', 'pack', 'bottle_volume_ml', ...]\n",
      "\t\t('object', [])                     : 3 | ['city', 'county', 'category_name']\n",
      "\t\t('object', ['datetime_as_object']) : 2 | ['date', 'zipcode']\n",
      "\t\t('object', ['text'])               : 4 | ['name', 'address', 'vendor_name', 'im_desc']\n",
      "\tTypes of features in processed data (raw dtype, special dtypes):\n",
      "\t\t('category', [])                    :   3 | ['city', 'county', 'category_name']\n",
      "\t\t('category', ['text_as_category'])  :   4 | ['name', 'address', 'vendor_name', 'im_desc']\n",
      "\t\t('float', [])                       :   7 | ['category', 'state_bottle_cost', 'sale_dollars', 'sale_liters', 'sale_gallons', ...]\n",
      "\t\t('int', [])                         :   6 | ['store', 'vendor_no', 'itemno', 'pack', 'bottle_volume_ml', ...]\n",
      "\t\t('int', ['binned', 'text_special']) :  53 | ['name.char_count', 'name.word_count', 'name.capital_ratio', 'name.digit_ratio', 'name.special_ratio', ...]\n",
      "\t\t('int', ['datetime_as_int'])        :   6 | ['date', 'date.year', 'date.month', 'date.day', 'date.dayofweek', ...]\n",
      "\t\t('int', ['text_ngram'])             : 144 | ['__nlp__.1st', '__nlp__.2nd', '__nlp__.4th', '__nlp__.80', '__nlp__.80 prf', ...]\n",
      "\t140.0s = Fit runtime\n",
      "\t22 features in original data used to generate 223 features in processed data.\n",
      "\tTrain Data (Processed) Memory Usage: 349.95 MB (5.7% of available memory)\n",
      "Data preprocessing and feature engineering runtime = 141.13s ...\n",
      "AutoGluon will gauge predictive performance using evaluation metric: 'root_mean_squared_error'\n",
      "\tThis metric's sign has been flipped to adhere to being higher_is_better. The metric score can be multiplied by -1 to get the metric value.\n",
      "\tTo change this, specify the eval_metric parameter of Predictor()\n",
      "Automatically generating train/validation split with holdout_frac=0.01, Train Rows: 719353, Val Rows: 7267\n",
      "User-specified model hyperparameters to be fit:\n",
      "{\n",
      "\t'NN_TORCH': {},\n",
      "\t'GBM': [{'extra_trees': True, 'ag_args': {'name_suffix': 'XT'}}, {}, 'GBMLarge'],\n",
      "\t'CAT': {},\n",
      "\t'XGB': {},\n",
      "\t'FASTAI': {},\n",
      "\t'RF': [{'criterion': 'gini', 'ag_args': {'name_suffix': 'Gini', 'problem_types': ['binary', 'multiclass']}}, {'criterion': 'entropy', 'ag_args': {'name_suffix': 'Entr', 'problem_types': ['binary', 'multiclass']}}, {'criterion': 'squared_error', 'ag_args': {'name_suffix': 'MSE', 'problem_types': ['regression', 'quantile']}}],\n",
      "\t'XT': [{'criterion': 'gini', 'ag_args': {'name_suffix': 'Gini', 'problem_types': ['binary', 'multiclass']}}, {'criterion': 'entropy', 'ag_args': {'name_suffix': 'Entr', 'problem_types': ['binary', 'multiclass']}}, {'criterion': 'squared_error', 'ag_args': {'name_suffix': 'MSE', 'problem_types': ['regression', 'quantile']}}],\n",
      "\t'KNN': [{'weights': 'uniform', 'ag_args': {'name_suffix': 'Unif'}}, {'weights': 'distance', 'ag_args': {'name_suffix': 'Dist'}}],\n",
      "}\n",
      "Fitting 11 L1 models ...\n",
      "Fitting model: KNeighborsUnif ... Training model for up to 158.87s of the 158.86s of remaining time.\n",
      "\tWarning: Not enough memory to safely train model. Estimated to require 2.310 GB out of 5.522 GB available memory (41.831%)... (20.000% of avail memory is the max safe size)\n",
      "\tTo force training the model, specify the model hyperparameter \"ag.max_memory_usage_ratio\" to a larger value (currently 1.0, set to >=2.14 to avoid the error)\n",
      "\t\tTo set the same value for all models, do the following when calling predictor.fit: `predictor.fit(..., ag_args_fit={\"ag.max_memory_usage_ratio\": VALUE})`\n",
      "\t\tSetting \"ag.max_memory_usage_ratio\" to values above 1 may result in out-of-memory errors. You may consider using a machine with more memory as a safer alternative.\n",
      "\tNot enough memory to train KNeighborsUnif... Skipping this model.\n",
      "Fitting model: KNeighborsDist ... Training model for up to 157.57s of the 157.57s of remaining time.\n",
      "\tWarning: Not enough memory to safely train model. Estimated to require 2.310 GB out of 5.509 GB available memory (41.930%)... (20.000% of avail memory is the max safe size)\n",
      "\tTo force training the model, specify the model hyperparameter \"ag.max_memory_usage_ratio\" to a larger value (currently 1.0, set to >=2.15 to avoid the error)\n",
      "\t\tTo set the same value for all models, do the following when calling predictor.fit: `predictor.fit(..., ag_args_fit={\"ag.max_memory_usage_ratio\": VALUE})`\n",
      "\t\tSetting \"ag.max_memory_usage_ratio\" to values above 1 may result in out-of-memory errors. You may consider using a machine with more memory as a safer alternative.\n",
      "\tNot enough memory to train KNeighborsDist... Skipping this model.\n",
      "Fitting model: LightGBMXT ... Training model for up to 156.3s of the 156.3s of remaining time.\n"
     ]
    },
    {
     "name": "stdout",
     "output_type": "stream",
     "text": [
      "[1000]\tvalid_set's rmse: 4.53692\n",
      "[2000]\tvalid_set's rmse: 1.92737\n",
      "[3000]\tvalid_set's rmse: 1.64544\n"
     ]
    },
    {
     "name": "stderr",
     "output_type": "stream",
     "text": [
      "\tRan out of time, early stopping on iteration 3989. Best iteration is:\n",
      "\t[3647]\tvalid_set's rmse: 1.60781\n",
      "\t-1.6078\t = Validation score   (-root_mean_squared_error)\n",
      "\t157.73s\t = Training   runtime\n",
      "\t1.06s\t = Validation runtime\n",
      "Fitting model: WeightedEnsemble_L2 ... Training model for up to 158.87s of the -2.76s of remaining time.\n",
      "\tEnsemble Weights: {'LightGBMXT': 1.0}\n",
      "\t-1.6078\t = Validation score   (-root_mean_squared_error)\n",
      "\t0.01s\t = Training   runtime\n",
      "\t0.0s\t = Validation runtime\n",
      "AutoGluon training complete, total runtime = 304.62s ... Best model: \"WeightedEnsemble_L2\"\n",
      "TabularPredictor saved. To load, use: predictor = TabularPredictor.load(\"../asi/src/asi/models/09_gluon\")\n"
     ]
    },
    {
     "data": {
      "text/plain": "<autogluon.tabular.predictor.predictor.TabularPredictor at 0x7f1d806d3610>"
     },
     "execution_count": 121,
     "metadata": {},
     "output_type": "execute_result"
    }
   ],
   "source": [
    "predictor.fit(train_data, presets='medium_quality', time_limit=time_limit)\n",
    "# No presets specified! To achieve strong results with AutoGluon, it is recommended to use the available presets.\n",
    "# \tRecommended Presets (For more details refer to https://auto.gluon.ai/stable/tutorials/tabular/tabular-essentials.html#presets):\n",
    "# \tpresets='best_quality'   : Maximize accuracy. Default time_limit=3600.\n",
    "# \tpresets='high_quality'   : Strong accuracy with fast inference speed. Default time_limit=3600.\n",
    "# \tpresets='good_quality'   : Good accuracy with very fast inference speed. Default time_limit=3600.\n",
    "# \tpresets='medium_quality' : Fast training time, ideal for initial prototyping."
   ],
   "metadata": {
    "collapsed": false,
    "ExecuteTime": {
     "end_time": "2023-12-03T12:27:08.647408157Z",
     "start_time": "2023-12-03T12:22:03.943804833Z"
    }
   },
   "id": "c987b7f9b6bf0b18"
  },
  {
   "cell_type": "code",
   "execution_count": 122,
   "outputs": [],
   "source": [
    "performance = predictor.evaluate(test_data)"
   ],
   "metadata": {
    "collapsed": false,
    "ExecuteTime": {
     "end_time": "2023-12-03T12:28:06.611080432Z",
     "start_time": "2023-12-03T12:27:08.619985162Z"
    }
   },
   "id": "6c13272a8ffbcb5c"
  },
  {
   "cell_type": "code",
   "execution_count": 123,
   "outputs": [],
   "source": [
    "y_pred = predictor.predict(test_data)"
   ],
   "metadata": {
    "collapsed": false,
    "ExecuteTime": {
     "end_time": "2023-12-03T12:29:02.790981438Z",
     "start_time": "2023-12-03T12:28:06.610432264Z"
    }
   },
   "id": "3b7362fba39e80c4"
  },
  {
   "cell_type": "code",
   "execution_count": 124,
   "outputs": [
    {
     "name": "stdout",
     "output_type": "stream",
     "text": [
      "{'root_mean_squared_error': -9.538560832272871, 'mean_squared_error': -90.98414275097015, 'mean_absolute_error': -0.34254594159089746, 'r2': 0.8197761840652396, 'pearsonr': 0.9222124426824944, 'median_absolute_error': -0.08489107131958029}\n"
     ]
    }
   ],
   "source": [
    "print(performance)"
   ],
   "metadata": {
    "collapsed": false,
    "ExecuteTime": {
     "end_time": "2023-12-03T12:29:02.835107090Z",
     "start_time": "2023-12-03T12:29:02.834296547Z"
    }
   },
   "id": "1b238305ffd57696"
  }
 ],
 "metadata": {
  "kernelspec": {
   "display_name": "Python 3",
   "language": "python",
   "name": "python3"
  },
  "language_info": {
   "codemirror_mode": {
    "name": "ipython",
    "version": 2
   },
   "file_extension": ".py",
   "mimetype": "text/x-python",
   "name": "python",
   "nbconvert_exporter": "python",
   "pygments_lexer": "ipython2",
   "version": "2.7.6"
  }
 },
 "nbformat": 4,
 "nbformat_minor": 5
}
