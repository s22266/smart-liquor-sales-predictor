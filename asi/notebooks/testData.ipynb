{
 "cells": [
  {
   "cell_type": "code",
   "execution_count": 6,
   "outputs": [],
   "source": [
    "#!/usr/bin/env python\n",
    "\n",
    "# make sure to install these packages before running:\n",
    "# pip install pandas\n",
    "# pip install sodapy\n",
    "\n",
    "import pandas as pd\n",
    "from sodapy import Socrata\n",
    "\n",
    "# Unauthenticated client only works with public data sets. Note 'None'\n",
    "# in place of application token, and no username or password:\n",
    "client = Socrata(\"data.iowa.gov\", \"tOsxNr0serO8VKLi0WhlBUn4k\")\n",
    "\n",
    "# Example authenticated client (needed for non-public datasets):\n",
    "# client = Socrata(data.iowa.gov,\n",
    "#                  MyAppToken,\n",
    "#                  username=\"user@example.com\",\n",
    "#                  password=\"AFakePassword\")\n",
    "\n",
    "# First 2000 results, returned as JSON from API / converted to Python list of\n",
    "# dictionaries by sodapy.\n",
    "results = client.get(\"m3tr-qhgy\", limit=1000000)\n",
    "\n",
    "# Convert to pandas DataFrame\n",
    "results_df = pd.DataFrame.from_records(results)\n"
   ],
   "metadata": {
    "collapsed": false,
    "ExecuteTime": {
     "end_time": "2023-11-13T23:13:03.712280212Z",
     "start_time": "2023-11-13T23:08:05.829548099Z"
    }
   },
   "id": "541549ce7cec9f9f"
  },
  {
   "cell_type": "code",
   "execution_count": 12,
   "outputs": [
    {
     "data": {
      "text/plain": "      invoice_line_no                     date store  \\\n0     INV-48770300006  2022-06-29T00:00:00.000  5900   \n1     INV-48782900001  2022-06-29T00:00:00.000  3390   \n2     INV-48703200006  2022-06-27T00:00:00.000  4604   \n3     INV-48692600064  2022-06-27T00:00:00.000  2552   \n4     INV-48679200008  2022-06-24T00:00:00.000  2523   \n...               ...                      ...   ...   \n9995  INV-48826200019  2022-06-30T00:00:00.000  4511   \n9996  INV-45020100027  2022-07-18T00:00:00.000  2635   \n9997  INV-48759700016  2022-06-28T00:00:00.000  6040   \n9998  INV-48816900206  2022-06-30T00:00:00.000  2572   \n9999  INV-45045300030  2022-07-19T00:00:00.000  2666   \n\n                                     name                address  \\\n0            NEW STAR FLETCHER / WATERLOO       315 FLETCHER AVE   \n1                   OKOBOJI AVENUE LIQUOR    1610 OKOBOJI AVENUE   \n2               PIT STOP LIQUORS / NEWTON        1324, 1ST AVE E   \n3     HY-VEE FOOD STORE #3 / CEDAR RAPIDS  20 WILSON AVENUE WEST   \n4         HY-VEE FOOD STORE / CENTERVILLE             609 N 18TH   \n...                                   ...                    ...   \n9995               SUPER QUICK / SE 30 DM         303 SE 30TH ST   \n9996                HY-VEE #4 / DAVENPORT         4064 E 53RD ST   \n9997               HOMETOWN FOODS / TRAER      420 SECOND STREET   \n9998      HY-VEE FOOD STORE / CEDAR FALLS        6301 UNIVERSITY   \n9999  HY-VEE FOOD STORE #2 / STATE ANKENY       2510 SW STATE ST   \n\n              city zipcode                                     store_location  \\\n0         WATERLOO   50701  {'type': 'Point', 'coordinates': [-92.367142, ...   \n1          MILFORD   51351  {'type': 'Point', 'coordinates': [-95.149955, ...   \n2           NEWTON   50208  {'type': 'Point', 'coordinates': [-93.035653, ...   \n3     CEDAR RAPIDS   52404  {'type': 'Point', 'coordinates': [-91.658576, ...   \n4      CENTERVILLE   52544  {'type': 'Point', 'coordinates': [-92.867967, ...   \n...            ...     ...                                                ...   \n9995    DES MOINES   50317  {'type': 'Point', 'coordinates': [-93.558326, ...   \n9996     DAVENPORT   52807  {'type': 'Point', 'coordinates': [-90.513769, ...   \n9997         TRAER   50675  {'type': 'Point', 'coordinates': [-92.468086, ...   \n9998   CEDAR FALLS   50613  {'type': 'Point', 'coordinates': [-92.435236, ...   \n9999        ANKENY   50023  {'type': 'Point', 'coordinates': [-93.621928, ...   \n\n     county_number      county  ... state_bottle_retail sale_bottles  \\\n0               07  BLACK HAWK  ...                5.25           24   \n1               30   DICKINSON  ...                5.96          288   \n2               50      JASPER  ...                7.50           24   \n3               57        LINN  ...               20.99            6   \n4               04   APPANOOSE  ...               12.99           12   \n...            ...         ...  ...                 ...          ...   \n9995            77        POLK  ...               25.74            1   \n9996           NaN       SCOTT  ...                8.31            2   \n9997            48        IOWA  ...               10.38            6   \n9998            07  BLACK HAWK  ...                1.35           48   \n9999           NaN        POLK  ...               39.99            6   \n\n     sale_dollars sale_liters sale_gallons :@computed_region_3r5t_5243  \\\n0          126.00        9.00         2.37                         145   \n1         1716.48      288.00        76.08                          37   \n2          162.00        9.00         2.37                         903   \n3          116.64       10.50         2.77                         793   \n4          155.88        9.00         2.37                         210   \n...           ...         ...          ...                         ...   \n9995        25.74        0.05         0.01                          87   \n9996        16.62        0.10         0.02                         227   \n9997        62.28       10.50         2.77                         116   \n9998        64.80        4.80         1.26                         511   \n9999       239.94        4.50         1.18                         831   \n\n     :@computed_region_wnea_7qqw :@computed_region_i9mz_6gmt  \\\n0                             18                         240   \n1                             37                         419   \n2                             11                         131   \n3                             18                         264   \n4                             54                         534   \n...                          ...                         ...   \n9995                          29                         342   \n9996                          56                          83   \n9997                          18                         245   \n9998                          18                         244   \n9999                          25                         316   \n\n     :@computed_region_uhgg_e8y2 :@computed_region_e7ym_nrbf  \n0                             35                         176  \n1                              3                        1779  \n2                             66                        1791  \n3                             45                         287  \n4                             98                         175  \n...                          ...                         ...  \n9995                          64                        1878  \n9996                          67                        1881  \n9997                          47                        1883  \n9998                          35                         176  \n9999                          64                        1878  \n\n[10000 rows x 29 columns]",
      "text/html": "<div>\n<style scoped>\n    .dataframe tbody tr th:only-of-type {\n        vertical-align: middle;\n    }\n\n    .dataframe tbody tr th {\n        vertical-align: top;\n    }\n\n    .dataframe thead th {\n        text-align: right;\n    }\n</style>\n<table border=\"1\" class=\"dataframe\">\n  <thead>\n    <tr style=\"text-align: right;\">\n      <th></th>\n      <th>invoice_line_no</th>\n      <th>date</th>\n      <th>store</th>\n      <th>name</th>\n      <th>address</th>\n      <th>city</th>\n      <th>zipcode</th>\n      <th>store_location</th>\n      <th>county_number</th>\n      <th>county</th>\n      <th>...</th>\n      <th>state_bottle_retail</th>\n      <th>sale_bottles</th>\n      <th>sale_dollars</th>\n      <th>sale_liters</th>\n      <th>sale_gallons</th>\n      <th>:@computed_region_3r5t_5243</th>\n      <th>:@computed_region_wnea_7qqw</th>\n      <th>:@computed_region_i9mz_6gmt</th>\n      <th>:@computed_region_uhgg_e8y2</th>\n      <th>:@computed_region_e7ym_nrbf</th>\n    </tr>\n  </thead>\n  <tbody>\n    <tr>\n      <th>0</th>\n      <td>INV-48770300006</td>\n      <td>2022-06-29T00:00:00.000</td>\n      <td>5900</td>\n      <td>NEW STAR FLETCHER / WATERLOO</td>\n      <td>315 FLETCHER AVE</td>\n      <td>WATERLOO</td>\n      <td>50701</td>\n      <td>{'type': 'Point', 'coordinates': [-92.367142, ...</td>\n      <td>07</td>\n      <td>BLACK HAWK</td>\n      <td>...</td>\n      <td>5.25</td>\n      <td>24</td>\n      <td>126.00</td>\n      <td>9.00</td>\n      <td>2.37</td>\n      <td>145</td>\n      <td>18</td>\n      <td>240</td>\n      <td>35</td>\n      <td>176</td>\n    </tr>\n    <tr>\n      <th>1</th>\n      <td>INV-48782900001</td>\n      <td>2022-06-29T00:00:00.000</td>\n      <td>3390</td>\n      <td>OKOBOJI AVENUE LIQUOR</td>\n      <td>1610 OKOBOJI AVENUE</td>\n      <td>MILFORD</td>\n      <td>51351</td>\n      <td>{'type': 'Point', 'coordinates': [-95.149955, ...</td>\n      <td>30</td>\n      <td>DICKINSON</td>\n      <td>...</td>\n      <td>5.96</td>\n      <td>288</td>\n      <td>1716.48</td>\n      <td>288.00</td>\n      <td>76.08</td>\n      <td>37</td>\n      <td>37</td>\n      <td>419</td>\n      <td>3</td>\n      <td>1779</td>\n    </tr>\n    <tr>\n      <th>2</th>\n      <td>INV-48703200006</td>\n      <td>2022-06-27T00:00:00.000</td>\n      <td>4604</td>\n      <td>PIT STOP LIQUORS / NEWTON</td>\n      <td>1324, 1ST AVE E</td>\n      <td>NEWTON</td>\n      <td>50208</td>\n      <td>{'type': 'Point', 'coordinates': [-93.035653, ...</td>\n      <td>50</td>\n      <td>JASPER</td>\n      <td>...</td>\n      <td>7.50</td>\n      <td>24</td>\n      <td>162.00</td>\n      <td>9.00</td>\n      <td>2.37</td>\n      <td>903</td>\n      <td>11</td>\n      <td>131</td>\n      <td>66</td>\n      <td>1791</td>\n    </tr>\n    <tr>\n      <th>3</th>\n      <td>INV-48692600064</td>\n      <td>2022-06-27T00:00:00.000</td>\n      <td>2552</td>\n      <td>HY-VEE FOOD STORE #3 / CEDAR RAPIDS</td>\n      <td>20 WILSON AVENUE WEST</td>\n      <td>CEDAR RAPIDS</td>\n      <td>52404</td>\n      <td>{'type': 'Point', 'coordinates': [-91.658576, ...</td>\n      <td>57</td>\n      <td>LINN</td>\n      <td>...</td>\n      <td>20.99</td>\n      <td>6</td>\n      <td>116.64</td>\n      <td>10.50</td>\n      <td>2.77</td>\n      <td>793</td>\n      <td>18</td>\n      <td>264</td>\n      <td>45</td>\n      <td>287</td>\n    </tr>\n    <tr>\n      <th>4</th>\n      <td>INV-48679200008</td>\n      <td>2022-06-24T00:00:00.000</td>\n      <td>2523</td>\n      <td>HY-VEE FOOD STORE / CENTERVILLE</td>\n      <td>609 N 18TH</td>\n      <td>CENTERVILLE</td>\n      <td>52544</td>\n      <td>{'type': 'Point', 'coordinates': [-92.867967, ...</td>\n      <td>04</td>\n      <td>APPANOOSE</td>\n      <td>...</td>\n      <td>12.99</td>\n      <td>12</td>\n      <td>155.88</td>\n      <td>9.00</td>\n      <td>2.37</td>\n      <td>210</td>\n      <td>54</td>\n      <td>534</td>\n      <td>98</td>\n      <td>175</td>\n    </tr>\n    <tr>\n      <th>...</th>\n      <td>...</td>\n      <td>...</td>\n      <td>...</td>\n      <td>...</td>\n      <td>...</td>\n      <td>...</td>\n      <td>...</td>\n      <td>...</td>\n      <td>...</td>\n      <td>...</td>\n      <td>...</td>\n      <td>...</td>\n      <td>...</td>\n      <td>...</td>\n      <td>...</td>\n      <td>...</td>\n      <td>...</td>\n      <td>...</td>\n      <td>...</td>\n      <td>...</td>\n      <td>...</td>\n    </tr>\n    <tr>\n      <th>9995</th>\n      <td>INV-48826200019</td>\n      <td>2022-06-30T00:00:00.000</td>\n      <td>4511</td>\n      <td>SUPER QUICK / SE 30 DM</td>\n      <td>303 SE 30TH ST</td>\n      <td>DES MOINES</td>\n      <td>50317</td>\n      <td>{'type': 'Point', 'coordinates': [-93.558326, ...</td>\n      <td>77</td>\n      <td>POLK</td>\n      <td>...</td>\n      <td>25.74</td>\n      <td>1</td>\n      <td>25.74</td>\n      <td>0.05</td>\n      <td>0.01</td>\n      <td>87</td>\n      <td>29</td>\n      <td>342</td>\n      <td>64</td>\n      <td>1878</td>\n    </tr>\n    <tr>\n      <th>9996</th>\n      <td>INV-45020100027</td>\n      <td>2022-07-18T00:00:00.000</td>\n      <td>2635</td>\n      <td>HY-VEE #4 / DAVENPORT</td>\n      <td>4064 E 53RD ST</td>\n      <td>DAVENPORT</td>\n      <td>52807</td>\n      <td>{'type': 'Point', 'coordinates': [-90.513769, ...</td>\n      <td>NaN</td>\n      <td>SCOTT</td>\n      <td>...</td>\n      <td>8.31</td>\n      <td>2</td>\n      <td>16.62</td>\n      <td>0.10</td>\n      <td>0.02</td>\n      <td>227</td>\n      <td>56</td>\n      <td>83</td>\n      <td>67</td>\n      <td>1881</td>\n    </tr>\n    <tr>\n      <th>9997</th>\n      <td>INV-48759700016</td>\n      <td>2022-06-28T00:00:00.000</td>\n      <td>6040</td>\n      <td>HOMETOWN FOODS / TRAER</td>\n      <td>420 SECOND STREET</td>\n      <td>TRAER</td>\n      <td>50675</td>\n      <td>{'type': 'Point', 'coordinates': [-92.468086, ...</td>\n      <td>48</td>\n      <td>IOWA</td>\n      <td>...</td>\n      <td>10.38</td>\n      <td>6</td>\n      <td>62.28</td>\n      <td>10.50</td>\n      <td>2.77</td>\n      <td>116</td>\n      <td>18</td>\n      <td>245</td>\n      <td>47</td>\n      <td>1883</td>\n    </tr>\n    <tr>\n      <th>9998</th>\n      <td>INV-48816900206</td>\n      <td>2022-06-30T00:00:00.000</td>\n      <td>2572</td>\n      <td>HY-VEE FOOD STORE / CEDAR FALLS</td>\n      <td>6301 UNIVERSITY</td>\n      <td>CEDAR FALLS</td>\n      <td>50613</td>\n      <td>{'type': 'Point', 'coordinates': [-92.435236, ...</td>\n      <td>07</td>\n      <td>BLACK HAWK</td>\n      <td>...</td>\n      <td>1.35</td>\n      <td>48</td>\n      <td>64.80</td>\n      <td>4.80</td>\n      <td>1.26</td>\n      <td>511</td>\n      <td>18</td>\n      <td>244</td>\n      <td>35</td>\n      <td>176</td>\n    </tr>\n    <tr>\n      <th>9999</th>\n      <td>INV-45045300030</td>\n      <td>2022-07-19T00:00:00.000</td>\n      <td>2666</td>\n      <td>HY-VEE FOOD STORE #2 / STATE ANKENY</td>\n      <td>2510 SW STATE ST</td>\n      <td>ANKENY</td>\n      <td>50023</td>\n      <td>{'type': 'Point', 'coordinates': [-93.621928, ...</td>\n      <td>NaN</td>\n      <td>POLK</td>\n      <td>...</td>\n      <td>39.99</td>\n      <td>6</td>\n      <td>239.94</td>\n      <td>4.50</td>\n      <td>1.18</td>\n      <td>831</td>\n      <td>25</td>\n      <td>316</td>\n      <td>64</td>\n      <td>1878</td>\n    </tr>\n  </tbody>\n</table>\n<p>10000 rows × 29 columns</p>\n</div>"
     },
     "execution_count": 12,
     "metadata": {},
     "output_type": "execute_result"
    }
   ],
   "source": [
    "results_df.head(10000)"
   ],
   "metadata": {
    "collapsed": false,
    "ExecuteTime": {
     "end_time": "2023-11-14T08:07:26.955590607Z",
     "start_time": "2023-11-14T08:07:26.912163599Z"
    }
   },
   "id": "e739bf65b9bfaa59"
  },
  {
   "cell_type": "code",
   "execution_count": 8,
   "outputs": [
    {
     "data": {
      "text/plain": "        invoice_line_no                     date    store  \\\ncount           1000000                  1000000  1000000   \nunique          1000000                     1769     2410   \ntop     INV-48770300006  2016-06-06T00:00:00.000     2633   \nfreq                  1                    13767     8515   \n\n                                name          address        city zipcode  \\\ncount                        1000000           996043      996043  996043   \nunique                          2513             2460         462     495   \ntop     HY-VEE #3 / BDI / DES MOINES  3221 SE 14TH ST  DES MOINES   50010   \nfreq                            8515            11387       89140   23276   \n\n                                           store_location county_number  \\\ncount                                              893595        653344   \nunique                                               2528            99   \ntop     {'type': 'Point', 'coordinates': [-92.435236, ...            77   \nfreq                                                 6441        126355   \n\n        county  ... state_bottle_retail sale_bottles sale_dollars sale_liters  \\\ncount   970627  ...             1000000      1000000      1000000     1000000   \nunique      99  ...                2003          252        10415         516   \ntop       POLK  ...               12.38           12       162.00        9.00   \nfreq    189856  ...               21590       265519         9888      197297   \n\n       sale_gallons :@computed_region_3r5t_5243 :@computed_region_wnea_7qqw  \\\ncount       1000000                      893048                      893048   \nunique          594                         473                          54   \ntop            2.77                         196                          18   \nfreq         128945                       22563                      110897   \n\n       :@computed_region_i9mz_6gmt :@computed_region_uhgg_e8y2  \\\ncount                       893048                      893048   \nunique                         273                          99   \ntop                            264                          64   \nfreq                         47221                      155248   \n\n       :@computed_region_e7ym_nrbf  \ncount                       893595  \nunique                         105  \ntop                           1878  \nfreq                        156006  \n\n[4 rows x 29 columns]",
      "text/html": "<div>\n<style scoped>\n    .dataframe tbody tr th:only-of-type {\n        vertical-align: middle;\n    }\n\n    .dataframe tbody tr th {\n        vertical-align: top;\n    }\n\n    .dataframe thead th {\n        text-align: right;\n    }\n</style>\n<table border=\"1\" class=\"dataframe\">\n  <thead>\n    <tr style=\"text-align: right;\">\n      <th></th>\n      <th>invoice_line_no</th>\n      <th>date</th>\n      <th>store</th>\n      <th>name</th>\n      <th>address</th>\n      <th>city</th>\n      <th>zipcode</th>\n      <th>store_location</th>\n      <th>county_number</th>\n      <th>county</th>\n      <th>...</th>\n      <th>state_bottle_retail</th>\n      <th>sale_bottles</th>\n      <th>sale_dollars</th>\n      <th>sale_liters</th>\n      <th>sale_gallons</th>\n      <th>:@computed_region_3r5t_5243</th>\n      <th>:@computed_region_wnea_7qqw</th>\n      <th>:@computed_region_i9mz_6gmt</th>\n      <th>:@computed_region_uhgg_e8y2</th>\n      <th>:@computed_region_e7ym_nrbf</th>\n    </tr>\n  </thead>\n  <tbody>\n    <tr>\n      <th>count</th>\n      <td>1000000</td>\n      <td>1000000</td>\n      <td>1000000</td>\n      <td>1000000</td>\n      <td>996043</td>\n      <td>996043</td>\n      <td>996043</td>\n      <td>893595</td>\n      <td>653344</td>\n      <td>970627</td>\n      <td>...</td>\n      <td>1000000</td>\n      <td>1000000</td>\n      <td>1000000</td>\n      <td>1000000</td>\n      <td>1000000</td>\n      <td>893048</td>\n      <td>893048</td>\n      <td>893048</td>\n      <td>893048</td>\n      <td>893595</td>\n    </tr>\n    <tr>\n      <th>unique</th>\n      <td>1000000</td>\n      <td>1769</td>\n      <td>2410</td>\n      <td>2513</td>\n      <td>2460</td>\n      <td>462</td>\n      <td>495</td>\n      <td>2528</td>\n      <td>99</td>\n      <td>99</td>\n      <td>...</td>\n      <td>2003</td>\n      <td>252</td>\n      <td>10415</td>\n      <td>516</td>\n      <td>594</td>\n      <td>473</td>\n      <td>54</td>\n      <td>273</td>\n      <td>99</td>\n      <td>105</td>\n    </tr>\n    <tr>\n      <th>top</th>\n      <td>INV-48770300006</td>\n      <td>2016-06-06T00:00:00.000</td>\n      <td>2633</td>\n      <td>HY-VEE #3 / BDI / DES MOINES</td>\n      <td>3221 SE 14TH ST</td>\n      <td>DES MOINES</td>\n      <td>50010</td>\n      <td>{'type': 'Point', 'coordinates': [-92.435236, ...</td>\n      <td>77</td>\n      <td>POLK</td>\n      <td>...</td>\n      <td>12.38</td>\n      <td>12</td>\n      <td>162.00</td>\n      <td>9.00</td>\n      <td>2.77</td>\n      <td>196</td>\n      <td>18</td>\n      <td>264</td>\n      <td>64</td>\n      <td>1878</td>\n    </tr>\n    <tr>\n      <th>freq</th>\n      <td>1</td>\n      <td>13767</td>\n      <td>8515</td>\n      <td>8515</td>\n      <td>11387</td>\n      <td>89140</td>\n      <td>23276</td>\n      <td>6441</td>\n      <td>126355</td>\n      <td>189856</td>\n      <td>...</td>\n      <td>21590</td>\n      <td>265519</td>\n      <td>9888</td>\n      <td>197297</td>\n      <td>128945</td>\n      <td>22563</td>\n      <td>110897</td>\n      <td>47221</td>\n      <td>155248</td>\n      <td>156006</td>\n    </tr>\n  </tbody>\n</table>\n<p>4 rows × 29 columns</p>\n</div>"
     },
     "execution_count": 8,
     "metadata": {},
     "output_type": "execute_result"
    }
   ],
   "source": [
    "results_df.describe()"
   ],
   "metadata": {
    "collapsed": false,
    "ExecuteTime": {
     "end_time": "2023-11-13T23:14:37.430003236Z",
     "start_time": "2023-11-13T23:13:03.758790905Z"
    }
   },
   "id": "f6628f787f871777"
  },
  {
   "cell_type": "code",
   "execution_count": 13,
   "outputs": [],
   "source": [
    "results_df.to_csv(\"oneMilRecordsLiquor.csv\", index=False)"
   ],
   "metadata": {
    "collapsed": false,
    "ExecuteTime": {
     "end_time": "2023-11-14T08:13:25.216268505Z",
     "start_time": "2023-11-14T08:13:14.865367490Z"
    }
   },
   "id": "28b5b625a0682554"
  },
  {
   "cell_type": "code",
   "execution_count": null,
   "outputs": [],
   "source": [
    "ke"
   ],
   "metadata": {
    "collapsed": false
   },
   "id": "89ced6a8fe4696d7"
  }
 ],
 "metadata": {
  "kernelspec": {
   "display_name": "Python 3",
   "language": "python",
   "name": "python3"
  },
  "language_info": {
   "codemirror_mode": {
    "name": "ipython",
    "version": 2
   },
   "file_extension": ".py",
   "mimetype": "text/x-python",
   "name": "python",
   "nbconvert_exporter": "python",
   "pygments_lexer": "ipython2",
   "version": "2.7.6"
  }
 },
 "nbformat": 4,
 "nbformat_minor": 5
}
