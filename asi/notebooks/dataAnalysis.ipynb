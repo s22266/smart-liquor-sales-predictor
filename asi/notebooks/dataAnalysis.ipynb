{
 "cells": [
  {
   "cell_type": "code",
   "execution_count": 20,
   "id": "initial_id",
   "metadata": {
    "collapsed": true,
    "ExecuteTime": {
     "end_time": "2023-11-20T18:26:21.524080477Z",
     "start_time": "2023-11-20T18:26:17.142431932Z"
    }
   },
   "outputs": [
    {
     "data": {
      "text/plain": "\u001B[2;36m[11/20/23 19:26:17]\u001B[0m\u001B[2;36m \u001B[0m\u001B[34mINFO    \u001B[0m Loading data from \u001B[32m'data1'\u001B[0m \u001B[1m(\u001B[0mCSVDataSet\u001B[1m)\u001B[0m\u001B[33m...\u001B[0m                          \u001B]8;id=74269;file:///home/fpaprota/.local/lib/python3.10/site-packages/kedro/io/data_catalog.py\u001B\\\u001B[2mdata_catalog.py\u001B[0m\u001B]8;;\u001B\\\u001B[2m:\u001B[0m\u001B]8;id=252451;file:///home/fpaprota/.local/lib/python3.10/site-packages/kedro/io/data_catalog.py#502\u001B\\\u001B[2m502\u001B[0m\u001B]8;;\u001B\\\n",
      "text/html": "<pre style=\"white-space:pre;overflow-x:auto;line-height:normal;font-family:Menlo,'DejaVu Sans Mono',consolas,'Courier New',monospace\"><span style=\"color: #7fbfbf; text-decoration-color: #7fbfbf\">[11/20/23 19:26:17] </span><span style=\"color: #000080; text-decoration-color: #000080\">INFO    </span> Loading data from <span style=\"color: #008000; text-decoration-color: #008000\">'data1'</span> <span style=\"font-weight: bold\">(</span>CSVDataSet<span style=\"font-weight: bold\">)</span><span style=\"color: #808000; text-decoration-color: #808000\">...</span>                          <a href=\"file:///home/fpaprota/.local/lib/python3.10/site-packages/kedro/io/data_catalog.py\" target=\"_blank\"><span style=\"color: #7f7f7f; text-decoration-color: #7f7f7f\">data_catalog.py</span></a><span style=\"color: #7f7f7f; text-decoration-color: #7f7f7f\">:</span><a href=\"file:///home/fpaprota/.local/lib/python3.10/site-packages/kedro/io/data_catalog.py#502\" target=\"_blank\"><span style=\"color: #7f7f7f; text-decoration-color: #7f7f7f\">502</span></a>\n</pre>\n"
     },
     "metadata": {},
     "output_type": "display_data"
    }
   ],
   "source": [
    "from kedro.framework.session import KedroSession\n",
    "from kedro.framework.startup import bootstrap_project\n",
    "import pandas as pd\n",
    "\n",
    "# Ścieżka do twojego projektu Kedro\n",
    "project_path = '/home/fpaprota/Desktop/smart-liquor-sales-predictor/asi'\n",
    "\n",
    "# Bootstrapping the Kedro project\n",
    "bootstrap_project(project_path)\n",
    "\n",
    "df = pd.DataFrame()\n",
    "\n",
    "# Tworzenie sesji Kedro\n",
    "with KedroSession.create(\"asi\", project_path) as session:\n",
    "    context = session.load_context()\n",
    "\n",
    "    # Ładowanie danych z katalogu\n",
    "    df = context.catalog.load(\"data1\")"
   ]
  },
  {
   "cell_type": "code",
   "execution_count": 21,
   "outputs": [
    {
     "data": {
      "text/plain": "",
      "text/html": "<pre style=\"white-space:pre;overflow-x:auto;line-height:normal;font-family:Menlo,'DejaVu Sans Mono',consolas,'Courier New',monospace\"></pre>\n"
     },
     "metadata": {},
     "output_type": "display_data"
    },
    {
     "data": {
      "text/plain": "\n   invoice_line_no                     date  store  \\\n\u001B[1;36m0\u001B[0m  INV-\u001B[1;36m48770300006\u001B[0m  \u001B[1;36m2022\u001B[0m-\u001B[1;36m06\u001B[0m-29T\u001B[1;92m00:00:00\u001B[0m.\u001B[1;36m000\u001B[0m   \u001B[1;36m5900\u001B[0m   \n\u001B[1;36m1\u001B[0m  INV-\u001B[1;36m48782900001\u001B[0m  \u001B[1;36m2022\u001B[0m-\u001B[1;36m06\u001B[0m-29T\u001B[1;92m00:00:00\u001B[0m.\u001B[1;36m000\u001B[0m   \u001B[1;36m3390\u001B[0m   \n\u001B[1;36m2\u001B[0m  INV-\u001B[1;36m48703200006\u001B[0m  \u001B[1;36m2022\u001B[0m-\u001B[1;36m06\u001B[0m-27T\u001B[1;92m00:00:00\u001B[0m.\u001B[1;36m000\u001B[0m   \u001B[1;36m4604\u001B[0m   \n\u001B[1;36m3\u001B[0m  INV-\u001B[1;36m48692600064\u001B[0m  \u001B[1;36m2022\u001B[0m-\u001B[1;36m06\u001B[0m-27T\u001B[1;92m00:00:00\u001B[0m.\u001B[1;36m000\u001B[0m   \u001B[1;36m2552\u001B[0m   \n\u001B[1;36m4\u001B[0m  INV-\u001B[1;36m48679200008\u001B[0m  \u001B[1;36m2022\u001B[0m-\u001B[1;36m06\u001B[0m-24T\u001B[1;92m00:00:00\u001B[0m.\u001B[1;36m000\u001B[0m   \u001B[1;36m2523\u001B[0m   \n\n                                  name                address          city  \\\n\u001B[1;36m0\u001B[0m         NEW STAR FLETCHER \u001B[35m/\u001B[0m WATERLOO       \u001B[1;36m315\u001B[0m FLETCHER AVE      WATERLOO   \n\u001B[1;36m1\u001B[0m                OKOBOJI AVENUE LIQUOR    \u001B[1;36m1610\u001B[0m OKOBOJI AVENUE       MILFORD   \n\u001B[1;36m2\u001B[0m            PIT STOP LIQUORS \u001B[35m/\u001B[0m NEWTON        \u001B[1;36m1324\u001B[0m, 1ST AVE E        NEWTON   \n\u001B[1;36m3\u001B[0m  HY-VEE FOOD STORE #\u001B[1;36m3\u001B[0m \u001B[35m/\u001B[0m CEDAR RAPIDS  \u001B[1;36m20\u001B[0m WILSON AVENUE WEST  CEDAR RAPIDS   \n\u001B[1;36m4\u001B[0m      HY-VEE FOOD STORE \u001B[35m/\u001B[0m CENTERVILLE             \u001B[1;36m609\u001B[0m N 18TH   CENTERVILLE   \n\n  zipcode                                     store_location  county_number  \\\n\u001B[1;36m0\u001B[0m   \u001B[1;36m50701\u001B[0m  \u001B[1m{\u001B[0m\u001B[32m'type'\u001B[0m: \u001B[32m'Point'\u001B[0m, \u001B[32m'coordinates'\u001B[0m: \u001B[1m[\u001B[0m\u001B[1;36m-92.367142\u001B[0m, \u001B[33m...\u001B[0m            \u001B[1;36m7.0\u001B[0m   \n\u001B[1;36m1\u001B[0m   \u001B[1;36m51351\u001B[0m  \u001B[1m{\u001B[0m\u001B[32m'type'\u001B[0m: \u001B[32m'Point'\u001B[0m, \u001B[32m'coordinates'\u001B[0m: \u001B[1m[\u001B[0m\u001B[1;36m-95.149955\u001B[0m, \u001B[33m...\u001B[0m           \u001B[1;36m30.0\u001B[0m   \n\u001B[1;36m2\u001B[0m   \u001B[1;36m50208\u001B[0m  \u001B[1m{\u001B[0m\u001B[32m'type'\u001B[0m: \u001B[32m'Point'\u001B[0m, \u001B[32m'coordinates'\u001B[0m: \u001B[1m[\u001B[0m\u001B[1;36m-93.035653\u001B[0m, \u001B[33m...\u001B[0m           \u001B[1;36m50.0\u001B[0m   \n\u001B[1;36m3\u001B[0m   \u001B[1;36m52404\u001B[0m  \u001B[1m{\u001B[0m\u001B[32m'type'\u001B[0m: \u001B[32m'Point'\u001B[0m, \u001B[32m'coordinates'\u001B[0m: \u001B[1m[\u001B[0m\u001B[1;36m-91.658576\u001B[0m, \u001B[33m...\u001B[0m           \u001B[1;36m57.0\u001B[0m   \n\u001B[1;36m4\u001B[0m   \u001B[1;36m52544\u001B[0m  \u001B[1m{\u001B[0m\u001B[32m'type'\u001B[0m: \u001B[32m'Point'\u001B[0m, \u001B[32m'coordinates'\u001B[0m: \u001B[1m[\u001B[0m\u001B[1;36m-92.867967\u001B[0m, \u001B[33m...\u001B[0m            \u001B[1;36m4.0\u001B[0m   \n\n       county  \u001B[33m...\u001B[0m  state_bottle_retail sale_bottles  sale_dollars  \\\n\u001B[1;36m0\u001B[0m  BLACK HAWK  \u001B[33m...\u001B[0m                 \u001B[1;36m5.25\u001B[0m           \u001B[1;36m24\u001B[0m        \u001B[1;36m126.00\u001B[0m   \n\u001B[1;36m1\u001B[0m   DICKINSON  \u001B[33m...\u001B[0m                 \u001B[1;36m5.96\u001B[0m          \u001B[1;36m288\u001B[0m       \u001B[1;36m1716.48\u001B[0m   \n\u001B[1;36m2\u001B[0m      JASPER  \u001B[33m...\u001B[0m                 \u001B[1;36m7.50\u001B[0m           \u001B[1;36m24\u001B[0m        \u001B[1;36m162.00\u001B[0m   \n\u001B[1;36m3\u001B[0m        LINN  \u001B[33m...\u001B[0m                \u001B[1;36m20.99\u001B[0m            \u001B[1;36m6\u001B[0m        \u001B[1;36m116.64\u001B[0m   \n\u001B[1;36m4\u001B[0m   APPANOOSE  \u001B[33m...\u001B[0m                \u001B[1;36m12.99\u001B[0m           \u001B[1;36m12\u001B[0m        \u001B[1;36m155.88\u001B[0m   \n\n  sale_liters  sale_gallons :@computed_region_3r5t_5243  \\\n\u001B[1;36m0\u001B[0m         \u001B[1;36m9.0\u001B[0m          \u001B[1;36m2.37\u001B[0m                       \u001B[1;36m145.0\u001B[0m   \n\u001B[1;36m1\u001B[0m       \u001B[1;36m288.0\u001B[0m         \u001B[1;36m76.08\u001B[0m                        \u001B[1;36m37.0\u001B[0m   \n\u001B[1;36m2\u001B[0m         \u001B[1;36m9.0\u001B[0m          \u001B[1;36m2.37\u001B[0m                       \u001B[1;36m903.0\u001B[0m   \n\u001B[1;36m3\u001B[0m        \u001B[1;36m10.5\u001B[0m          \u001B[1;36m2.77\u001B[0m                       \u001B[1;36m793.0\u001B[0m   \n\u001B[1;36m4\u001B[0m         \u001B[1;36m9.0\u001B[0m          \u001B[1;36m2.37\u001B[0m                       \u001B[1;36m210.0\u001B[0m   \n\n   :@computed_region_wnea_7qqw  :@computed_region_i9mz_6gmt  \\\n\u001B[1;36m0\u001B[0m                         \u001B[1;36m18.0\u001B[0m                        \u001B[1;36m240.0\u001B[0m   \n\u001B[1;36m1\u001B[0m                         \u001B[1;36m37.0\u001B[0m                        \u001B[1;36m419.0\u001B[0m   \n\u001B[1;36m2\u001B[0m                         \u001B[1;36m11.0\u001B[0m                        \u001B[1;36m131.0\u001B[0m   \n\u001B[1;36m3\u001B[0m                         \u001B[1;36m18.0\u001B[0m                        \u001B[1;36m264.0\u001B[0m   \n\u001B[1;36m4\u001B[0m                         \u001B[1;36m54.0\u001B[0m                        \u001B[1;36m534.0\u001B[0m   \n\n   :@computed_region_uhgg_e8y2  :@computed_region_e7ym_nrbf  \n\u001B[1;36m0\u001B[0m                         \u001B[1;36m35.0\u001B[0m                        \u001B[1;36m176.0\u001B[0m  \n\u001B[1;36m1\u001B[0m                          \u001B[1;36m3.0\u001B[0m                       \u001B[1;36m1779.0\u001B[0m  \n\u001B[1;36m2\u001B[0m                         \u001B[1;36m66.0\u001B[0m                       \u001B[1;36m1791.0\u001B[0m  \n\u001B[1;36m3\u001B[0m                         \u001B[1;36m45.0\u001B[0m                        \u001B[1;36m287.0\u001B[0m  \n\u001B[1;36m4\u001B[0m                         \u001B[1;36m98.0\u001B[0m                        \u001B[1;36m175.0\u001B[0m  \n\n\u001B[1m[\u001B[0m\u001B[1;36m5\u001B[0m rows x \u001B[1;36m29\u001B[0m columns\u001B[1m]\u001B[0m",
      "text/html": "<div>\n<style scoped>\n    .dataframe tbody tr th:only-of-type {\n        vertical-align: middle;\n    }\n\n    .dataframe tbody tr th {\n        vertical-align: top;\n    }\n\n    .dataframe thead th {\n        text-align: right;\n    }\n</style>\n<table border=\"1\" class=\"dataframe\">\n  <thead>\n    <tr style=\"text-align: right;\">\n      <th></th>\n      <th>invoice_line_no</th>\n      <th>date</th>\n      <th>store</th>\n      <th>name</th>\n      <th>address</th>\n      <th>city</th>\n      <th>zipcode</th>\n      <th>store_location</th>\n      <th>county_number</th>\n      <th>county</th>\n      <th>...</th>\n      <th>state_bottle_retail</th>\n      <th>sale_bottles</th>\n      <th>sale_dollars</th>\n      <th>sale_liters</th>\n      <th>sale_gallons</th>\n      <th>:@computed_region_3r5t_5243</th>\n      <th>:@computed_region_wnea_7qqw</th>\n      <th>:@computed_region_i9mz_6gmt</th>\n      <th>:@computed_region_uhgg_e8y2</th>\n      <th>:@computed_region_e7ym_nrbf</th>\n    </tr>\n  </thead>\n  <tbody>\n    <tr>\n      <th>0</th>\n      <td>INV-48770300006</td>\n      <td>2022-06-29T00:00:00.000</td>\n      <td>5900</td>\n      <td>NEW STAR FLETCHER / WATERLOO</td>\n      <td>315 FLETCHER AVE</td>\n      <td>WATERLOO</td>\n      <td>50701</td>\n      <td>{'type': 'Point', 'coordinates': [-92.367142, ...</td>\n      <td>7.0</td>\n      <td>BLACK HAWK</td>\n      <td>...</td>\n      <td>5.25</td>\n      <td>24</td>\n      <td>126.00</td>\n      <td>9.0</td>\n      <td>2.37</td>\n      <td>145.0</td>\n      <td>18.0</td>\n      <td>240.0</td>\n      <td>35.0</td>\n      <td>176.0</td>\n    </tr>\n    <tr>\n      <th>1</th>\n      <td>INV-48782900001</td>\n      <td>2022-06-29T00:00:00.000</td>\n      <td>3390</td>\n      <td>OKOBOJI AVENUE LIQUOR</td>\n      <td>1610 OKOBOJI AVENUE</td>\n      <td>MILFORD</td>\n      <td>51351</td>\n      <td>{'type': 'Point', 'coordinates': [-95.149955, ...</td>\n      <td>30.0</td>\n      <td>DICKINSON</td>\n      <td>...</td>\n      <td>5.96</td>\n      <td>288</td>\n      <td>1716.48</td>\n      <td>288.0</td>\n      <td>76.08</td>\n      <td>37.0</td>\n      <td>37.0</td>\n      <td>419.0</td>\n      <td>3.0</td>\n      <td>1779.0</td>\n    </tr>\n    <tr>\n      <th>2</th>\n      <td>INV-48703200006</td>\n      <td>2022-06-27T00:00:00.000</td>\n      <td>4604</td>\n      <td>PIT STOP LIQUORS / NEWTON</td>\n      <td>1324, 1ST AVE E</td>\n      <td>NEWTON</td>\n      <td>50208</td>\n      <td>{'type': 'Point', 'coordinates': [-93.035653, ...</td>\n      <td>50.0</td>\n      <td>JASPER</td>\n      <td>...</td>\n      <td>7.50</td>\n      <td>24</td>\n      <td>162.00</td>\n      <td>9.0</td>\n      <td>2.37</td>\n      <td>903.0</td>\n      <td>11.0</td>\n      <td>131.0</td>\n      <td>66.0</td>\n      <td>1791.0</td>\n    </tr>\n    <tr>\n      <th>3</th>\n      <td>INV-48692600064</td>\n      <td>2022-06-27T00:00:00.000</td>\n      <td>2552</td>\n      <td>HY-VEE FOOD STORE #3 / CEDAR RAPIDS</td>\n      <td>20 WILSON AVENUE WEST</td>\n      <td>CEDAR RAPIDS</td>\n      <td>52404</td>\n      <td>{'type': 'Point', 'coordinates': [-91.658576, ...</td>\n      <td>57.0</td>\n      <td>LINN</td>\n      <td>...</td>\n      <td>20.99</td>\n      <td>6</td>\n      <td>116.64</td>\n      <td>10.5</td>\n      <td>2.77</td>\n      <td>793.0</td>\n      <td>18.0</td>\n      <td>264.0</td>\n      <td>45.0</td>\n      <td>287.0</td>\n    </tr>\n    <tr>\n      <th>4</th>\n      <td>INV-48679200008</td>\n      <td>2022-06-24T00:00:00.000</td>\n      <td>2523</td>\n      <td>HY-VEE FOOD STORE / CENTERVILLE</td>\n      <td>609 N 18TH</td>\n      <td>CENTERVILLE</td>\n      <td>52544</td>\n      <td>{'type': 'Point', 'coordinates': [-92.867967, ...</td>\n      <td>4.0</td>\n      <td>APPANOOSE</td>\n      <td>...</td>\n      <td>12.99</td>\n      <td>12</td>\n      <td>155.88</td>\n      <td>9.0</td>\n      <td>2.37</td>\n      <td>210.0</td>\n      <td>54.0</td>\n      <td>534.0</td>\n      <td>98.0</td>\n      <td>175.0</td>\n    </tr>\n  </tbody>\n</table>\n<p>5 rows × 29 columns</p>\n</div>"
     },
     "execution_count": 21,
     "metadata": {},
     "output_type": "execute_result"
    }
   ],
   "source": [
    "df.head()"
   ],
   "metadata": {
    "collapsed": false,
    "ExecuteTime": {
     "end_time": "2023-11-20T18:26:33.054454948Z",
     "start_time": "2023-11-20T18:26:33.003358655Z"
    }
   },
   "id": "f2012bc809df5ceb"
  },
  {
   "cell_type": "code",
   "execution_count": null,
   "outputs": [],
   "source": [],
   "metadata": {
    "collapsed": false
   },
   "id": "69e90a79730e2b32"
  }
 ],
 "metadata": {
  "kernelspec": {
   "display_name": "Python 3",
   "language": "python",
   "name": "python3"
  },
  "language_info": {
   "codemirror_mode": {
    "name": "ipython",
    "version": 2
   },
   "file_extension": ".py",
   "mimetype": "text/x-python",
   "name": "python",
   "nbconvert_exporter": "python",
   "pygments_lexer": "ipython2",
   "version": "2.7.6"
  }
 },
 "nbformat": 4,
 "nbformat_minor": 5
}
