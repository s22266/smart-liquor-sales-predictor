{
 "cells": [
  {
   "cell_type": "code",
   "execution_count": 27,
   "id": "initial_id",
   "metadata": {
    "collapsed": true,
    "ExecuteTime": {
     "end_time": "2023-12-29T21:14:29.210326884Z",
     "start_time": "2023-12-29T21:14:29.156480549Z"
    }
   },
   "outputs": [],
   "source": [
    "import pandas as pd"
   ]
  },
  {
   "cell_type": "code",
   "outputs": [],
   "source": [
    "df = pd.read_csv('../data/01_raw/iowa_dataset.csv')"
   ],
   "metadata": {
    "collapsed": false,
    "ExecuteTime": {
     "end_time": "2023-12-29T21:15:08.613745761Z",
     "start_time": "2023-12-29T21:14:29.174778668Z"
    }
   },
   "id": "6165c2c7d7ab5c39",
   "execution_count": 28
  },
  {
   "cell_type": "code",
   "outputs": [
    {
     "data": {
      "text/plain": "   invoice_line_no        date  store                                  name  \\\n0  INV-50346800002  2022-08-16   5359           FAREWAY STORES #168/ PEOSTA   \n1  INV-50288400002  2022-08-12   2524           HY-VEE FOOD STORE / DUBUQUE   \n2  INV-50389200010  2022-08-17   3705                         LIQUOR LOCKER   \n3  INV-50258200004  2022-08-11   5107      KUM & GO #4098 / WINDSOR HEIGHTS   \n4  INV-50378700007  2022-08-16   5203  KIMMES COON RAPIDS COUNTRY STORE #12   \n\n               address             city  zipcode   county   category  \\\n0      8400 NICC DRIVE           PEOSTA  52068.0  DUBUQUE  1062400.0   \n1        3500 DODGE ST          DUBUQUE  52001.0  DUBUQUE  1012200.0   \n2     507 1ST AVE #100      ROCK RAPIDS  51246.0     LYON  1012100.0   \n3  7229 UNIVERSITY AVE  WINDSOR HEIGHTS  50311.0     POLK  1012100.0   \n4     516, HIGHWAY 141      COON RAPIDS  50058.0  CARROLL  1701100.0   \n\n                    category_name  ...  pack bottle_volume_ml  \\\n0                      SPICED RUM  ...    12              750   \n1                 SCOTCH WHISKIES  ...    12             1000   \n2               CANADIAN WHISKIES  ...    12             1000   \n3               CANADIAN WHISKIES  ...     8               50   \n4  TEMPORARY & SPECIALTY PACKAGES  ...    12              750   \n\n   state_bottle_cost state_bottle_retail  sale_bottles  sale_dollars  \\\n0               6.00                9.00            12        108.00   \n1              28.24               42.36             6        254.16   \n2               6.64                9.96            12        119.52   \n3               8.50               12.75             1         12.75   \n4              17.49               26.24            12        314.88   \n\n   sale_liters  sale_gallons  \\\n0         9.00          2.37   \n1         6.00          1.58   \n2        12.00          3.17   \n3         0.05          0.01   \n4         9.00          2.37   \n\n                                      store_location  county_number  \n0                                                NaN            NaN  \n1                                                NaN            NaN  \n2                                                NaN            NaN  \n3                                                NaN            NaN  \n4  {'type': 'Point', 'coordinates': [-94.678386, ...            NaN  \n\n[5 rows x 24 columns]",
      "text/html": "<div>\n<style scoped>\n    .dataframe tbody tr th:only-of-type {\n        vertical-align: middle;\n    }\n\n    .dataframe tbody tr th {\n        vertical-align: top;\n    }\n\n    .dataframe thead th {\n        text-align: right;\n    }\n</style>\n<table border=\"1\" class=\"dataframe\">\n  <thead>\n    <tr style=\"text-align: right;\">\n      <th></th>\n      <th>invoice_line_no</th>\n      <th>date</th>\n      <th>store</th>\n      <th>name</th>\n      <th>address</th>\n      <th>city</th>\n      <th>zipcode</th>\n      <th>county</th>\n      <th>category</th>\n      <th>category_name</th>\n      <th>...</th>\n      <th>pack</th>\n      <th>bottle_volume_ml</th>\n      <th>state_bottle_cost</th>\n      <th>state_bottle_retail</th>\n      <th>sale_bottles</th>\n      <th>sale_dollars</th>\n      <th>sale_liters</th>\n      <th>sale_gallons</th>\n      <th>store_location</th>\n      <th>county_number</th>\n    </tr>\n  </thead>\n  <tbody>\n    <tr>\n      <th>0</th>\n      <td>INV-50346800002</td>\n      <td>2022-08-16</td>\n      <td>5359</td>\n      <td>FAREWAY STORES #168/ PEOSTA</td>\n      <td>8400 NICC DRIVE</td>\n      <td>PEOSTA</td>\n      <td>52068.0</td>\n      <td>DUBUQUE</td>\n      <td>1062400.0</td>\n      <td>SPICED RUM</td>\n      <td>...</td>\n      <td>12</td>\n      <td>750</td>\n      <td>6.00</td>\n      <td>9.00</td>\n      <td>12</td>\n      <td>108.00</td>\n      <td>9.00</td>\n      <td>2.37</td>\n      <td>NaN</td>\n      <td>NaN</td>\n    </tr>\n    <tr>\n      <th>1</th>\n      <td>INV-50288400002</td>\n      <td>2022-08-12</td>\n      <td>2524</td>\n      <td>HY-VEE FOOD STORE / DUBUQUE</td>\n      <td>3500 DODGE ST</td>\n      <td>DUBUQUE</td>\n      <td>52001.0</td>\n      <td>DUBUQUE</td>\n      <td>1012200.0</td>\n      <td>SCOTCH WHISKIES</td>\n      <td>...</td>\n      <td>12</td>\n      <td>1000</td>\n      <td>28.24</td>\n      <td>42.36</td>\n      <td>6</td>\n      <td>254.16</td>\n      <td>6.00</td>\n      <td>1.58</td>\n      <td>NaN</td>\n      <td>NaN</td>\n    </tr>\n    <tr>\n      <th>2</th>\n      <td>INV-50389200010</td>\n      <td>2022-08-17</td>\n      <td>3705</td>\n      <td>LIQUOR LOCKER</td>\n      <td>507 1ST AVE #100</td>\n      <td>ROCK RAPIDS</td>\n      <td>51246.0</td>\n      <td>LYON</td>\n      <td>1012100.0</td>\n      <td>CANADIAN WHISKIES</td>\n      <td>...</td>\n      <td>12</td>\n      <td>1000</td>\n      <td>6.64</td>\n      <td>9.96</td>\n      <td>12</td>\n      <td>119.52</td>\n      <td>12.00</td>\n      <td>3.17</td>\n      <td>NaN</td>\n      <td>NaN</td>\n    </tr>\n    <tr>\n      <th>3</th>\n      <td>INV-50258200004</td>\n      <td>2022-08-11</td>\n      <td>5107</td>\n      <td>KUM &amp; GO #4098 / WINDSOR HEIGHTS</td>\n      <td>7229 UNIVERSITY AVE</td>\n      <td>WINDSOR HEIGHTS</td>\n      <td>50311.0</td>\n      <td>POLK</td>\n      <td>1012100.0</td>\n      <td>CANADIAN WHISKIES</td>\n      <td>...</td>\n      <td>8</td>\n      <td>50</td>\n      <td>8.50</td>\n      <td>12.75</td>\n      <td>1</td>\n      <td>12.75</td>\n      <td>0.05</td>\n      <td>0.01</td>\n      <td>NaN</td>\n      <td>NaN</td>\n    </tr>\n    <tr>\n      <th>4</th>\n      <td>INV-50378700007</td>\n      <td>2022-08-16</td>\n      <td>5203</td>\n      <td>KIMMES COON RAPIDS COUNTRY STORE #12</td>\n      <td>516, HIGHWAY 141</td>\n      <td>COON RAPIDS</td>\n      <td>50058.0</td>\n      <td>CARROLL</td>\n      <td>1701100.0</td>\n      <td>TEMPORARY &amp; SPECIALTY PACKAGES</td>\n      <td>...</td>\n      <td>12</td>\n      <td>750</td>\n      <td>17.49</td>\n      <td>26.24</td>\n      <td>12</td>\n      <td>314.88</td>\n      <td>9.00</td>\n      <td>2.37</td>\n      <td>{'type': 'Point', 'coordinates': [-94.678386, ...</td>\n      <td>NaN</td>\n    </tr>\n  </tbody>\n</table>\n<p>5 rows × 24 columns</p>\n</div>"
     },
     "execution_count": 29,
     "metadata": {},
     "output_type": "execute_result"
    }
   ],
   "source": [
    "df.head()"
   ],
   "metadata": {
    "collapsed": false,
    "ExecuteTime": {
     "end_time": "2023-12-29T21:15:08.686188455Z",
     "start_time": "2023-12-29T21:15:08.656021832Z"
    }
   },
   "id": "cfc8a24af9a721b2",
   "execution_count": 29
  },
  {
   "cell_type": "code",
   "outputs": [],
   "source": [
    "data = df[['date', 'sale_dollars']]"
   ],
   "metadata": {
    "collapsed": false,
    "ExecuteTime": {
     "end_time": "2023-12-29T21:15:08.770847941Z",
     "start_time": "2023-12-29T21:15:08.665858889Z"
    }
   },
   "id": "ff9e048dbda0b4bd",
   "execution_count": 30
  },
  {
   "cell_type": "code",
   "outputs": [
    {
     "data": {
      "text/plain": "               date  sale_dollars\n0        2022-08-16        108.00\n1        2022-08-12        254.16\n2        2022-08-17        119.52\n3        2022-08-11         12.75\n4        2022-08-16        314.88\n...             ...           ...\n7801637  2020-01-30          6.16\n7801638  2020-01-31        233.52\n7801639  2020-01-31        119.28\n7801640  2020-01-29       2281.20\n7801641  2020-01-31        174.84\n\n[7801642 rows x 2 columns]",
      "text/html": "<div>\n<style scoped>\n    .dataframe tbody tr th:only-of-type {\n        vertical-align: middle;\n    }\n\n    .dataframe tbody tr th {\n        vertical-align: top;\n    }\n\n    .dataframe thead th {\n        text-align: right;\n    }\n</style>\n<table border=\"1\" class=\"dataframe\">\n  <thead>\n    <tr style=\"text-align: right;\">\n      <th></th>\n      <th>date</th>\n      <th>sale_dollars</th>\n    </tr>\n  </thead>\n  <tbody>\n    <tr>\n      <th>0</th>\n      <td>2022-08-16</td>\n      <td>108.00</td>\n    </tr>\n    <tr>\n      <th>1</th>\n      <td>2022-08-12</td>\n      <td>254.16</td>\n    </tr>\n    <tr>\n      <th>2</th>\n      <td>2022-08-17</td>\n      <td>119.52</td>\n    </tr>\n    <tr>\n      <th>3</th>\n      <td>2022-08-11</td>\n      <td>12.75</td>\n    </tr>\n    <tr>\n      <th>4</th>\n      <td>2022-08-16</td>\n      <td>314.88</td>\n    </tr>\n    <tr>\n      <th>...</th>\n      <td>...</td>\n      <td>...</td>\n    </tr>\n    <tr>\n      <th>7801637</th>\n      <td>2020-01-30</td>\n      <td>6.16</td>\n    </tr>\n    <tr>\n      <th>7801638</th>\n      <td>2020-01-31</td>\n      <td>233.52</td>\n    </tr>\n    <tr>\n      <th>7801639</th>\n      <td>2020-01-31</td>\n      <td>119.28</td>\n    </tr>\n    <tr>\n      <th>7801640</th>\n      <td>2020-01-29</td>\n      <td>2281.20</td>\n    </tr>\n    <tr>\n      <th>7801641</th>\n      <td>2020-01-31</td>\n      <td>174.84</td>\n    </tr>\n  </tbody>\n</table>\n<p>7801642 rows × 2 columns</p>\n</div>"
     },
     "execution_count": 31,
     "metadata": {},
     "output_type": "execute_result"
    }
   ],
   "source": [
    "data.dropna()"
   ],
   "metadata": {
    "collapsed": false,
    "ExecuteTime": {
     "end_time": "2023-12-29T21:15:09.136095131Z",
     "start_time": "2023-12-29T21:15:08.940645109Z"
    }
   },
   "id": "c6ccc8acb4b7cf0b",
   "execution_count": 31
  },
  {
   "cell_type": "code",
   "outputs": [],
   "source": [
    "df2 = data.copy()\n",
    "df2['date'] = pd.to_datetime(df2['date'], format='%Y-%m-%d', errors='coerce')"
   ],
   "metadata": {
    "collapsed": false,
    "ExecuteTime": {
     "end_time": "2023-12-29T21:15:09.966694435Z",
     "start_time": "2023-12-29T21:15:09.107661452Z"
    }
   },
   "id": "73c7058b6677b945",
   "execution_count": 32
  },
  {
   "cell_type": "code",
   "outputs": [
    {
     "data": {
      "text/plain": "        date  sale_dollars\n0 2022-08-16        108.00\n1 2022-08-12        254.16\n2 2022-08-17        119.52\n3 2022-08-11         12.75\n4 2022-08-16        314.88",
      "text/html": "<div>\n<style scoped>\n    .dataframe tbody tr th:only-of-type {\n        vertical-align: middle;\n    }\n\n    .dataframe tbody tr th {\n        vertical-align: top;\n    }\n\n    .dataframe thead th {\n        text-align: right;\n    }\n</style>\n<table border=\"1\" class=\"dataframe\">\n  <thead>\n    <tr style=\"text-align: right;\">\n      <th></th>\n      <th>date</th>\n      <th>sale_dollars</th>\n    </tr>\n  </thead>\n  <tbody>\n    <tr>\n      <th>0</th>\n      <td>2022-08-16</td>\n      <td>108.00</td>\n    </tr>\n    <tr>\n      <th>1</th>\n      <td>2022-08-12</td>\n      <td>254.16</td>\n    </tr>\n    <tr>\n      <th>2</th>\n      <td>2022-08-17</td>\n      <td>119.52</td>\n    </tr>\n    <tr>\n      <th>3</th>\n      <td>2022-08-11</td>\n      <td>12.75</td>\n    </tr>\n    <tr>\n      <th>4</th>\n      <td>2022-08-16</td>\n      <td>314.88</td>\n    </tr>\n  </tbody>\n</table>\n</div>"
     },
     "execution_count": 33,
     "metadata": {},
     "output_type": "execute_result"
    }
   ],
   "source": [
    "df2.head()"
   ],
   "metadata": {
    "collapsed": false,
    "ExecuteTime": {
     "end_time": "2023-12-29T21:15:09.993013843Z",
     "start_time": "2023-12-29T21:15:09.974761185Z"
    }
   },
   "id": "df4832ee305e8a26",
   "execution_count": 33
  },
  {
   "cell_type": "code",
   "outputs": [],
   "source": [
    "df2.set_index('date', inplace=True)"
   ],
   "metadata": {
    "collapsed": false,
    "ExecuteTime": {
     "end_time": "2023-12-29T21:15:09.994399333Z",
     "start_time": "2023-12-29T21:15:09.979122354Z"
    }
   },
   "id": "349da44f56683525",
   "execution_count": 34
  },
  {
   "cell_type": "code",
   "outputs": [],
   "source": [
    "df2 = df2[df2['sale_dollars'] > 0]"
   ],
   "metadata": {
    "collapsed": false,
    "ExecuteTime": {
     "end_time": "2023-12-29T21:15:10.121552095Z",
     "start_time": "2023-12-29T21:15:09.986381960Z"
    }
   },
   "id": "a3c477873bbcefd4",
   "execution_count": 35
  },
  {
   "cell_type": "code",
   "outputs": [
    {
     "ename": "KeyboardInterrupt",
     "evalue": "",
     "output_type": "error",
     "traceback": [
      "\u001B[0;31m---------------------------------------------------------------------------\u001B[0m",
      "\u001B[0;31mKeyboardInterrupt\u001B[0m                         Traceback (most recent call last)",
      "Cell \u001B[0;32mIn[36], line 1\u001B[0m\n\u001B[0;32m----> 1\u001B[0m dfSarimax \u001B[38;5;241m=\u001B[39m \u001B[43mdf2\u001B[49m\u001B[38;5;241;43m.\u001B[39;49m\u001B[43mresample\u001B[49m\u001B[43m(\u001B[49m\u001B[38;5;124;43m'\u001B[39;49m\u001B[38;5;124;43mW\u001B[39;49m\u001B[38;5;124;43m'\u001B[39;49m\u001B[43m)\u001B[49m\u001B[38;5;241m.\u001B[39mmean()\n",
      "File \u001B[0;32m~/.local/lib/python3.10/site-packages/pandas/core/generic.py:9435\u001B[0m, in \u001B[0;36mNDFrame.resample\u001B[0;34m(self, rule, axis, closed, label, convention, kind, on, level, origin, offset, group_keys)\u001B[0m\n\u001B[1;32m   9432\u001B[0m \u001B[38;5;28;01melse\u001B[39;00m:\n\u001B[1;32m   9433\u001B[0m     axis \u001B[38;5;241m=\u001B[39m \u001B[38;5;241m0\u001B[39m\n\u001B[0;32m-> 9435\u001B[0m \u001B[38;5;28;01mreturn\u001B[39;00m \u001B[43mget_resampler\u001B[49m\u001B[43m(\u001B[49m\n\u001B[1;32m   9436\u001B[0m \u001B[43m    \u001B[49m\u001B[43mcast\u001B[49m\u001B[43m(\u001B[49m\u001B[38;5;124;43m\"\u001B[39;49m\u001B[38;5;124;43mSeries | DataFrame\u001B[39;49m\u001B[38;5;124;43m\"\u001B[39;49m\u001B[43m,\u001B[49m\u001B[43m \u001B[49m\u001B[38;5;28;43mself\u001B[39;49m\u001B[43m)\u001B[49m\u001B[43m,\u001B[49m\n\u001B[1;32m   9437\u001B[0m \u001B[43m    \u001B[49m\u001B[43mfreq\u001B[49m\u001B[38;5;241;43m=\u001B[39;49m\u001B[43mrule\u001B[49m\u001B[43m,\u001B[49m\n\u001B[1;32m   9438\u001B[0m \u001B[43m    \u001B[49m\u001B[43mlabel\u001B[49m\u001B[38;5;241;43m=\u001B[39;49m\u001B[43mlabel\u001B[49m\u001B[43m,\u001B[49m\n\u001B[1;32m   9439\u001B[0m \u001B[43m    \u001B[49m\u001B[43mclosed\u001B[49m\u001B[38;5;241;43m=\u001B[39;49m\u001B[43mclosed\u001B[49m\u001B[43m,\u001B[49m\n\u001B[1;32m   9440\u001B[0m \u001B[43m    \u001B[49m\u001B[43maxis\u001B[49m\u001B[38;5;241;43m=\u001B[39;49m\u001B[43maxis\u001B[49m\u001B[43m,\u001B[49m\n\u001B[1;32m   9441\u001B[0m \u001B[43m    \u001B[49m\u001B[43mkind\u001B[49m\u001B[38;5;241;43m=\u001B[39;49m\u001B[43mkind\u001B[49m\u001B[43m,\u001B[49m\n\u001B[1;32m   9442\u001B[0m \u001B[43m    \u001B[49m\u001B[43mconvention\u001B[49m\u001B[38;5;241;43m=\u001B[39;49m\u001B[43mconvention\u001B[49m\u001B[43m,\u001B[49m\n\u001B[1;32m   9443\u001B[0m \u001B[43m    \u001B[49m\u001B[43mkey\u001B[49m\u001B[38;5;241;43m=\u001B[39;49m\u001B[43mon\u001B[49m\u001B[43m,\u001B[49m\n\u001B[1;32m   9444\u001B[0m \u001B[43m    \u001B[49m\u001B[43mlevel\u001B[49m\u001B[38;5;241;43m=\u001B[39;49m\u001B[43mlevel\u001B[49m\u001B[43m,\u001B[49m\n\u001B[1;32m   9445\u001B[0m \u001B[43m    \u001B[49m\u001B[43morigin\u001B[49m\u001B[38;5;241;43m=\u001B[39;49m\u001B[43morigin\u001B[49m\u001B[43m,\u001B[49m\n\u001B[1;32m   9446\u001B[0m \u001B[43m    \u001B[49m\u001B[43moffset\u001B[49m\u001B[38;5;241;43m=\u001B[39;49m\u001B[43moffset\u001B[49m\u001B[43m,\u001B[49m\n\u001B[1;32m   9447\u001B[0m \u001B[43m    \u001B[49m\u001B[43mgroup_keys\u001B[49m\u001B[38;5;241;43m=\u001B[39;49m\u001B[43mgroup_keys\u001B[49m\u001B[43m,\u001B[49m\n\u001B[1;32m   9448\u001B[0m \u001B[43m\u001B[49m\u001B[43m)\u001B[49m\n",
      "File \u001B[0;32m~/.local/lib/python3.10/site-packages/pandas/core/resample.py:1970\u001B[0m, in \u001B[0;36mget_resampler\u001B[0;34m(obj, kind, **kwds)\u001B[0m\n\u001B[1;32m   1966\u001B[0m \u001B[38;5;250m\u001B[39m\u001B[38;5;124;03m\"\"\"\u001B[39;00m\n\u001B[1;32m   1967\u001B[0m \u001B[38;5;124;03mCreate a TimeGrouper and return our resampler.\u001B[39;00m\n\u001B[1;32m   1968\u001B[0m \u001B[38;5;124;03m\"\"\"\u001B[39;00m\n\u001B[1;32m   1969\u001B[0m tg \u001B[38;5;241m=\u001B[39m TimeGrouper(\u001B[38;5;241m*\u001B[39m\u001B[38;5;241m*\u001B[39mkwds)\n\u001B[0;32m-> 1970\u001B[0m \u001B[38;5;28;01mreturn\u001B[39;00m \u001B[43mtg\u001B[49m\u001B[38;5;241;43m.\u001B[39;49m\u001B[43m_get_resampler\u001B[49m\u001B[43m(\u001B[49m\u001B[43mobj\u001B[49m\u001B[43m,\u001B[49m\u001B[43m \u001B[49m\u001B[43mkind\u001B[49m\u001B[38;5;241;43m=\u001B[39;49m\u001B[43mkind\u001B[49m\u001B[43m)\u001B[49m\n",
      "File \u001B[0;32m~/.local/lib/python3.10/site-packages/pandas/core/resample.py:2134\u001B[0m, in \u001B[0;36mTimeGrouper._get_resampler\u001B[0;34m(self, obj, kind)\u001B[0m\n\u001B[1;32m   2131\u001B[0m _, ax, indexer \u001B[38;5;241m=\u001B[39m \u001B[38;5;28mself\u001B[39m\u001B[38;5;241m.\u001B[39m_set_grouper(obj, gpr_index\u001B[38;5;241m=\u001B[39m\u001B[38;5;28;01mNone\u001B[39;00m)\n\u001B[1;32m   2133\u001B[0m \u001B[38;5;28;01mif\u001B[39;00m \u001B[38;5;28misinstance\u001B[39m(ax, DatetimeIndex):\n\u001B[0;32m-> 2134\u001B[0m     \u001B[38;5;28;01mreturn\u001B[39;00m \u001B[43mDatetimeIndexResampler\u001B[49m\u001B[43m(\u001B[49m\n\u001B[1;32m   2135\u001B[0m \u001B[43m        \u001B[49m\u001B[43mobj\u001B[49m\u001B[43m,\u001B[49m\n\u001B[1;32m   2136\u001B[0m \u001B[43m        \u001B[49m\u001B[43mtimegrouper\u001B[49m\u001B[38;5;241;43m=\u001B[39;49m\u001B[38;5;28;43mself\u001B[39;49m\u001B[43m,\u001B[49m\n\u001B[1;32m   2137\u001B[0m \u001B[43m        \u001B[49m\u001B[43mkind\u001B[49m\u001B[38;5;241;43m=\u001B[39;49m\u001B[43mkind\u001B[49m\u001B[43m,\u001B[49m\n\u001B[1;32m   2138\u001B[0m \u001B[43m        \u001B[49m\u001B[43maxis\u001B[49m\u001B[38;5;241;43m=\u001B[39;49m\u001B[38;5;28;43mself\u001B[39;49m\u001B[38;5;241;43m.\u001B[39;49m\u001B[43maxis\u001B[49m\u001B[43m,\u001B[49m\n\u001B[1;32m   2139\u001B[0m \u001B[43m        \u001B[49m\u001B[43mgroup_keys\u001B[49m\u001B[38;5;241;43m=\u001B[39;49m\u001B[38;5;28;43mself\u001B[39;49m\u001B[38;5;241;43m.\u001B[39;49m\u001B[43mgroup_keys\u001B[49m\u001B[43m,\u001B[49m\n\u001B[1;32m   2140\u001B[0m \u001B[43m        \u001B[49m\u001B[43mgpr_index\u001B[49m\u001B[38;5;241;43m=\u001B[39;49m\u001B[43max\u001B[49m\u001B[43m,\u001B[49m\n\u001B[1;32m   2141\u001B[0m \u001B[43m    \u001B[49m\u001B[43m)\u001B[49m\n\u001B[1;32m   2142\u001B[0m \u001B[38;5;28;01melif\u001B[39;00m \u001B[38;5;28misinstance\u001B[39m(ax, PeriodIndex) \u001B[38;5;129;01mor\u001B[39;00m kind \u001B[38;5;241m==\u001B[39m \u001B[38;5;124m\"\u001B[39m\u001B[38;5;124mperiod\u001B[39m\u001B[38;5;124m\"\u001B[39m:\n\u001B[1;32m   2143\u001B[0m     \u001B[38;5;28;01mreturn\u001B[39;00m PeriodIndexResampler(\n\u001B[1;32m   2144\u001B[0m         obj,\n\u001B[1;32m   2145\u001B[0m         timegrouper\u001B[38;5;241m=\u001B[39m\u001B[38;5;28mself\u001B[39m,\n\u001B[0;32m   (...)\u001B[0m\n\u001B[1;32m   2149\u001B[0m         gpr_index\u001B[38;5;241m=\u001B[39max,\n\u001B[1;32m   2150\u001B[0m     )\n",
      "File \u001B[0;32m~/.local/lib/python3.10/site-packages/pandas/core/resample.py:175\u001B[0m, in \u001B[0;36mResampler.__init__\u001B[0;34m(self, obj, timegrouper, axis, kind, gpr_index, group_keys, selection)\u001B[0m\n\u001B[1;32m    172\u001B[0m \u001B[38;5;28mself\u001B[39m\u001B[38;5;241m.\u001B[39mgroup_keys \u001B[38;5;241m=\u001B[39m group_keys\n\u001B[1;32m    173\u001B[0m \u001B[38;5;28mself\u001B[39m\u001B[38;5;241m.\u001B[39mas_index \u001B[38;5;241m=\u001B[39m \u001B[38;5;28;01mTrue\u001B[39;00m\n\u001B[0;32m--> 175\u001B[0m \u001B[38;5;28mself\u001B[39m\u001B[38;5;241m.\u001B[39mobj, \u001B[38;5;28mself\u001B[39m\u001B[38;5;241m.\u001B[39max, \u001B[38;5;28mself\u001B[39m\u001B[38;5;241m.\u001B[39m_indexer \u001B[38;5;241m=\u001B[39m \u001B[38;5;28;43mself\u001B[39;49m\u001B[38;5;241;43m.\u001B[39;49m\u001B[43m_timegrouper\u001B[49m\u001B[38;5;241;43m.\u001B[39;49m\u001B[43m_set_grouper\u001B[49m\u001B[43m(\u001B[49m\n\u001B[1;32m    176\u001B[0m \u001B[43m    \u001B[49m\u001B[38;5;28;43mself\u001B[39;49m\u001B[38;5;241;43m.\u001B[39;49m\u001B[43m_convert_obj\u001B[49m\u001B[43m(\u001B[49m\u001B[43mobj\u001B[49m\u001B[43m)\u001B[49m\u001B[43m,\u001B[49m\u001B[43m \u001B[49m\u001B[43msort\u001B[49m\u001B[38;5;241;43m=\u001B[39;49m\u001B[38;5;28;43;01mTrue\u001B[39;49;00m\u001B[43m,\u001B[49m\u001B[43m \u001B[49m\u001B[43mgpr_index\u001B[49m\u001B[38;5;241;43m=\u001B[39;49m\u001B[43mgpr_index\u001B[49m\n\u001B[1;32m    177\u001B[0m \u001B[43m\u001B[49m\u001B[43m)\u001B[49m\n\u001B[1;32m    178\u001B[0m \u001B[38;5;28mself\u001B[39m\u001B[38;5;241m.\u001B[39mbinner, \u001B[38;5;28mself\u001B[39m\u001B[38;5;241m.\u001B[39mgrouper \u001B[38;5;241m=\u001B[39m \u001B[38;5;28mself\u001B[39m\u001B[38;5;241m.\u001B[39m_get_binner()\n\u001B[1;32m    179\u001B[0m \u001B[38;5;28mself\u001B[39m\u001B[38;5;241m.\u001B[39m_selection \u001B[38;5;241m=\u001B[39m selection\n",
      "File \u001B[0;32m~/.local/lib/python3.10/site-packages/pandas/core/groupby/grouper.py:408\u001B[0m, in \u001B[0;36mGrouper._set_grouper\u001B[0;34m(self, obj, sort, gpr_index)\u001B[0m\n\u001B[1;32m    404\u001B[0m     indexer \u001B[38;5;241m=\u001B[39m \u001B[38;5;28mself\u001B[39m\u001B[38;5;241m.\u001B[39m_indexer_deprecated \u001B[38;5;241m=\u001B[39m ax\u001B[38;5;241m.\u001B[39marray\u001B[38;5;241m.\u001B[39margsort(\n\u001B[1;32m    405\u001B[0m         kind\u001B[38;5;241m=\u001B[39m\u001B[38;5;124m\"\u001B[39m\u001B[38;5;124mmergesort\u001B[39m\u001B[38;5;124m\"\u001B[39m, na_position\u001B[38;5;241m=\u001B[39m\u001B[38;5;124m\"\u001B[39m\u001B[38;5;124mfirst\u001B[39m\u001B[38;5;124m\"\u001B[39m\n\u001B[1;32m    406\u001B[0m     )\n\u001B[1;32m    407\u001B[0m     ax \u001B[38;5;241m=\u001B[39m ax\u001B[38;5;241m.\u001B[39mtake(indexer)\n\u001B[0;32m--> 408\u001B[0m     obj \u001B[38;5;241m=\u001B[39m \u001B[43mobj\u001B[49m\u001B[38;5;241;43m.\u001B[39;49m\u001B[43mtake\u001B[49m\u001B[43m(\u001B[49m\u001B[43mindexer\u001B[49m\u001B[43m,\u001B[49m\u001B[43m \u001B[49m\u001B[43maxis\u001B[49m\u001B[38;5;241;43m=\u001B[39;49m\u001B[38;5;28;43mself\u001B[39;49m\u001B[38;5;241;43m.\u001B[39;49m\u001B[43maxis\u001B[49m\u001B[43m)\u001B[49m\n\u001B[1;32m    410\u001B[0m \u001B[38;5;66;03m# error: Incompatible types in assignment (expression has type\u001B[39;00m\n\u001B[1;32m    411\u001B[0m \u001B[38;5;66;03m# \"NDFrameT\", variable has type \"None\")\u001B[39;00m\n\u001B[1;32m    412\u001B[0m \u001B[38;5;28mself\u001B[39m\u001B[38;5;241m.\u001B[39m_obj_deprecated \u001B[38;5;241m=\u001B[39m obj  \u001B[38;5;66;03m# type: ignore[assignment]\u001B[39;00m\n",
      "File \u001B[0;32m~/.local/lib/python3.10/site-packages/pandas/core/generic.py:4068\u001B[0m, in \u001B[0;36mNDFrame.take\u001B[0;34m(self, indices, axis, **kwargs)\u001B[0m\n\u001B[1;32m   4063\u001B[0m     \u001B[38;5;66;03m# We can get here with a slice via DataFrame.__getitem__\u001B[39;00m\n\u001B[1;32m   4064\u001B[0m     indices \u001B[38;5;241m=\u001B[39m np\u001B[38;5;241m.\u001B[39marange(\n\u001B[1;32m   4065\u001B[0m         indices\u001B[38;5;241m.\u001B[39mstart, indices\u001B[38;5;241m.\u001B[39mstop, indices\u001B[38;5;241m.\u001B[39mstep, dtype\u001B[38;5;241m=\u001B[39mnp\u001B[38;5;241m.\u001B[39mintp\n\u001B[1;32m   4066\u001B[0m     )\n\u001B[0;32m-> 4068\u001B[0m new_data \u001B[38;5;241m=\u001B[39m \u001B[38;5;28;43mself\u001B[39;49m\u001B[38;5;241;43m.\u001B[39;49m\u001B[43m_mgr\u001B[49m\u001B[38;5;241;43m.\u001B[39;49m\u001B[43mtake\u001B[49m\u001B[43m(\u001B[49m\n\u001B[1;32m   4069\u001B[0m \u001B[43m    \u001B[49m\u001B[43mindices\u001B[49m\u001B[43m,\u001B[49m\n\u001B[1;32m   4070\u001B[0m \u001B[43m    \u001B[49m\u001B[43maxis\u001B[49m\u001B[38;5;241;43m=\u001B[39;49m\u001B[38;5;28;43mself\u001B[39;49m\u001B[38;5;241;43m.\u001B[39;49m\u001B[43m_get_block_manager_axis\u001B[49m\u001B[43m(\u001B[49m\u001B[43maxis\u001B[49m\u001B[43m)\u001B[49m\u001B[43m,\u001B[49m\n\u001B[1;32m   4071\u001B[0m \u001B[43m    \u001B[49m\u001B[43mverify\u001B[49m\u001B[38;5;241;43m=\u001B[39;49m\u001B[38;5;28;43;01mTrue\u001B[39;49;00m\u001B[43m,\u001B[49m\n\u001B[1;32m   4072\u001B[0m \u001B[43m\u001B[49m\u001B[43m)\u001B[49m\n\u001B[1;32m   4073\u001B[0m \u001B[38;5;28;01mreturn\u001B[39;00m \u001B[38;5;28mself\u001B[39m\u001B[38;5;241m.\u001B[39m_constructor_from_mgr(new_data, axes\u001B[38;5;241m=\u001B[39mnew_data\u001B[38;5;241m.\u001B[39maxes)\u001B[38;5;241m.\u001B[39m__finalize__(\n\u001B[1;32m   4074\u001B[0m     \u001B[38;5;28mself\u001B[39m, method\u001B[38;5;241m=\u001B[39m\u001B[38;5;124m\"\u001B[39m\u001B[38;5;124mtake\u001B[39m\u001B[38;5;124m\"\u001B[39m\n\u001B[1;32m   4075\u001B[0m )\n",
      "File \u001B[0;32m~/.local/lib/python3.10/site-packages/pandas/core/internals/managers.py:874\u001B[0m, in \u001B[0;36mBaseBlockManager.take\u001B[0;34m(self, indexer, axis, verify)\u001B[0m\n\u001B[1;32m    871\u001B[0m \u001B[38;5;66;03m# Caller is responsible for ensuring indexer annotation is accurate\u001B[39;00m\n\u001B[1;32m    873\u001B[0m n \u001B[38;5;241m=\u001B[39m \u001B[38;5;28mself\u001B[39m\u001B[38;5;241m.\u001B[39mshape[axis]\n\u001B[0;32m--> 874\u001B[0m indexer \u001B[38;5;241m=\u001B[39m \u001B[43mmaybe_convert_indices\u001B[49m\u001B[43m(\u001B[49m\u001B[43mindexer\u001B[49m\u001B[43m,\u001B[49m\u001B[43m \u001B[49m\u001B[43mn\u001B[49m\u001B[43m,\u001B[49m\u001B[43m \u001B[49m\u001B[43mverify\u001B[49m\u001B[38;5;241;43m=\u001B[39;49m\u001B[43mverify\u001B[49m\u001B[43m)\u001B[49m\n\u001B[1;32m    876\u001B[0m new_labels \u001B[38;5;241m=\u001B[39m \u001B[38;5;28mself\u001B[39m\u001B[38;5;241m.\u001B[39maxes[axis]\u001B[38;5;241m.\u001B[39mtake(indexer)\n\u001B[1;32m    877\u001B[0m \u001B[38;5;28;01mreturn\u001B[39;00m \u001B[38;5;28mself\u001B[39m\u001B[38;5;241m.\u001B[39mreindex_indexer(\n\u001B[1;32m    878\u001B[0m     new_axis\u001B[38;5;241m=\u001B[39mnew_labels,\n\u001B[1;32m    879\u001B[0m     indexer\u001B[38;5;241m=\u001B[39mindexer,\n\u001B[0;32m   (...)\u001B[0m\n\u001B[1;32m    882\u001B[0m     copy\u001B[38;5;241m=\u001B[39m\u001B[38;5;28;01mNone\u001B[39;00m,\n\u001B[1;32m    883\u001B[0m )\n",
      "File \u001B[0;32m~/.local/lib/python3.10/site-packages/pandas/core/indexers/utils.py:275\u001B[0m, in \u001B[0;36mmaybe_convert_indices\u001B[0;34m(indices, n, verify)\u001B[0m\n\u001B[1;32m    272\u001B[0m         \u001B[38;5;28;01mreturn\u001B[39;00m np\u001B[38;5;241m.\u001B[39mempty(\u001B[38;5;241m0\u001B[39m, dtype\u001B[38;5;241m=\u001B[39mnp\u001B[38;5;241m.\u001B[39mintp)\n\u001B[1;32m    274\u001B[0m mask \u001B[38;5;241m=\u001B[39m indices \u001B[38;5;241m<\u001B[39m \u001B[38;5;241m0\u001B[39m\n\u001B[0;32m--> 275\u001B[0m \u001B[38;5;28;01mif\u001B[39;00m \u001B[43mmask\u001B[49m\u001B[38;5;241;43m.\u001B[39;49m\u001B[43many\u001B[49m\u001B[43m(\u001B[49m\u001B[43m)\u001B[49m:\n\u001B[1;32m    276\u001B[0m     indices \u001B[38;5;241m=\u001B[39m indices\u001B[38;5;241m.\u001B[39mcopy()\n\u001B[1;32m    277\u001B[0m     indices[mask] \u001B[38;5;241m+\u001B[39m\u001B[38;5;241m=\u001B[39m n\n",
      "File \u001B[0;32m~/.local/lib/python3.10/site-packages/numpy/core/_methods.py:55\u001B[0m, in \u001B[0;36m_any\u001B[0;34m(a, axis, dtype, out, keepdims, where)\u001B[0m\n\u001B[1;32m     51\u001B[0m \u001B[38;5;28;01mdef\u001B[39;00m \u001B[38;5;21m_prod\u001B[39m(a, axis\u001B[38;5;241m=\u001B[39m\u001B[38;5;28;01mNone\u001B[39;00m, dtype\u001B[38;5;241m=\u001B[39m\u001B[38;5;28;01mNone\u001B[39;00m, out\u001B[38;5;241m=\u001B[39m\u001B[38;5;28;01mNone\u001B[39;00m, keepdims\u001B[38;5;241m=\u001B[39m\u001B[38;5;28;01mFalse\u001B[39;00m,\n\u001B[1;32m     52\u001B[0m           initial\u001B[38;5;241m=\u001B[39m_NoValue, where\u001B[38;5;241m=\u001B[39m\u001B[38;5;28;01mTrue\u001B[39;00m):\n\u001B[1;32m     53\u001B[0m     \u001B[38;5;28;01mreturn\u001B[39;00m umr_prod(a, axis, dtype, out, keepdims, initial, where)\n\u001B[0;32m---> 55\u001B[0m \u001B[38;5;28;01mdef\u001B[39;00m \u001B[38;5;21m_any\u001B[39m(a, axis\u001B[38;5;241m=\u001B[39m\u001B[38;5;28;01mNone\u001B[39;00m, dtype\u001B[38;5;241m=\u001B[39m\u001B[38;5;28;01mNone\u001B[39;00m, out\u001B[38;5;241m=\u001B[39m\u001B[38;5;28;01mNone\u001B[39;00m, keepdims\u001B[38;5;241m=\u001B[39m\u001B[38;5;28;01mFalse\u001B[39;00m, \u001B[38;5;241m*\u001B[39m, where\u001B[38;5;241m=\u001B[39m\u001B[38;5;28;01mTrue\u001B[39;00m):\n\u001B[1;32m     56\u001B[0m     \u001B[38;5;66;03m# Parsing keyword arguments is currently fairly slow, so avoid it for now\u001B[39;00m\n\u001B[1;32m     57\u001B[0m     \u001B[38;5;28;01mif\u001B[39;00m where \u001B[38;5;129;01mis\u001B[39;00m \u001B[38;5;28;01mTrue\u001B[39;00m:\n\u001B[1;32m     58\u001B[0m         \u001B[38;5;28;01mreturn\u001B[39;00m umr_any(a, axis, dtype, out, keepdims)\n",
      "\u001B[0;31mKeyboardInterrupt\u001B[0m: "
     ]
    }
   ],
   "source": [
    "dfSarimax = df2.resample('W').mean()"
   ],
   "metadata": {
    "collapsed": false,
    "ExecuteTime": {
     "end_time": "2023-12-29T21:15:12.009599631Z",
     "start_time": "2023-12-29T21:15:10.114995988Z"
    }
   },
   "id": "d6fd493ea1075e82",
   "execution_count": 36
  },
  {
   "cell_type": "code",
   "outputs": [],
   "source": [
    "# plot all the components after decomposition:\n",
    "from statsmodels.tsa.seasonal import seasonal_decompose\n",
    "import matplotlib.pyplot as plt\n",
    "plt.rc('figure',figsize=(14,8))\n",
    "plt.rc('font',size=15)\n",
    "\n",
    "result = seasonal_decompose(dfSarimax['sale_dollars'],model='multiplicative')\n",
    "fig = result.plot()"
   ],
   "metadata": {
    "collapsed": false,
    "ExecuteTime": {
     "start_time": "2023-12-29T21:15:12.007084546Z"
    }
   },
   "id": "bba4274947bb8edb",
   "execution_count": null
  },
  {
   "cell_type": "code",
   "outputs": [],
   "source": [
    "rolling_mean = data.rolling(window = 12).mean()\n",
    "dfSarimax['rolling_mean_diff'] = rolling_mean - rolling_mean.shift()\n",
    "ax1 = plt.subplot()\n",
    "dfSarimax['rolling_mean_diff'].plot(title='after rolling mean & differencing')\n",
    "ax2 = plt.subplot()\n",
    "dfSarimax.plot(title='original')"
   ],
   "metadata": {
    "collapsed": false,
    "ExecuteTime": {
     "start_time": "2023-12-29T21:15:12.011298493Z"
    }
   },
   "id": "25222c8ca08302c2",
   "execution_count": null
  },
  {
   "cell_type": "code",
   "outputs": [],
   "source": [],
   "metadata": {
    "collapsed": false,
    "ExecuteTime": {
     "start_time": "2023-12-29T21:15:12.013460884Z"
    }
   },
   "id": "e41f2998d415a00c"
  }
 ],
 "metadata": {
  "kernelspec": {
   "display_name": "Python 3",
   "language": "python",
   "name": "python3"
  },
  "language_info": {
   "codemirror_mode": {
    "name": "ipython",
    "version": 2
   },
   "file_extension": ".py",
   "mimetype": "text/x-python",
   "name": "python",
   "nbconvert_exporter": "python",
   "pygments_lexer": "ipython2",
   "version": "2.7.6"
  }
 },
 "nbformat": 4,
 "nbformat_minor": 5
}
