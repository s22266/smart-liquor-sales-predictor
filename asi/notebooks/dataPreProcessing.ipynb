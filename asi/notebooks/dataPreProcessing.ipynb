{
 "cells": [
  {
   "cell_type": "code",
   "execution_count": 2,
   "id": "initial_id",
   "metadata": {
    "collapsed": true,
    "ExecuteTime": {
     "end_time": "2023-12-04T22:02:43.440760287Z",
     "start_time": "2023-12-04T22:02:18.124163567Z"
    }
   },
   "outputs": [],
   "source": [
    "import kedro.framework.cli.utils\n",
    "import pandas as pd\n",
    "import os\n",
    "df = pd.read_csv('../data/01_raw/iowa_dataset.csv')"
   ]
  },
  {
   "cell_type": "code",
   "execution_count": 19,
   "id": "6867f5b4f9b26350",
   "metadata": {
    "collapsed": false,
    "ExecuteTime": {
     "end_time": "2023-12-04T22:33:20.938202420Z",
     "start_time": "2023-12-04T22:33:20.894216342Z"
    }
   },
   "outputs": [
    {
     "data": {
      "text/plain": "",
      "text/html": "<pre style=\"white-space:pre;overflow-x:auto;line-height:normal;font-family:Menlo,'DejaVu Sans Mono',consolas,'Courier New',monospace\"></pre>\n"
     },
     "metadata": {},
     "output_type": "display_data"
    },
    {
     "data": {
      "text/plain": "\n   invoice_line_no        date  store                                  name  \\\n\u001B[1;36m0\u001B[0m  INV-\u001B[1;36m50346800002\u001B[0m  \u001B[1;36m2022\u001B[0m-\u001B[1;36m08\u001B[0m-\u001B[1;36m16\u001B[0m   \u001B[1;36m5359\u001B[0m           FAREWAY STORES #\u001B[1;36m168\u001B[0m/ PEOSTA   \n\u001B[1;36m1\u001B[0m  INV-\u001B[1;36m50288400002\u001B[0m  \u001B[1;36m2022\u001B[0m-\u001B[1;36m08\u001B[0m-\u001B[1;36m12\u001B[0m   \u001B[1;36m2524\u001B[0m           HY-VEE FOOD STORE \u001B[35m/\u001B[0m DUBUQUE   \n\u001B[1;36m2\u001B[0m  INV-\u001B[1;36m50389200010\u001B[0m  \u001B[1;36m2022\u001B[0m-\u001B[1;36m08\u001B[0m-\u001B[1;36m17\u001B[0m   \u001B[1;36m3705\u001B[0m                         LIQUOR LOCKER   \n\u001B[1;36m3\u001B[0m  INV-\u001B[1;36m50258200004\u001B[0m  \u001B[1;36m2022\u001B[0m-\u001B[1;36m08\u001B[0m-\u001B[1;36m11\u001B[0m   \u001B[1;36m5107\u001B[0m      KUM & GO #\u001B[1;36m4098\u001B[0m \u001B[35m/\u001B[0m WINDSOR HEIGHTS   \n\u001B[1;36m4\u001B[0m  INV-\u001B[1;36m50378700007\u001B[0m  \u001B[1;36m2022\u001B[0m-\u001B[1;36m08\u001B[0m-\u001B[1;36m16\u001B[0m   \u001B[1;36m5203\u001B[0m  KIMMES COON RAPIDS COUNTRY STORE #\u001B[1;36m12\u001B[0m   \n\n               address             city  zipcode   county   category  \\\n\u001B[1;36m0\u001B[0m      \u001B[1;36m8400\u001B[0m NICC DRIVE           PEOSTA  \u001B[1;36m52068.0\u001B[0m  DUBUQUE  \u001B[1;36m1062400.0\u001B[0m   \n\u001B[1;36m1\u001B[0m        \u001B[1;36m3500\u001B[0m DODGE ST          DUBUQUE  \u001B[1;36m52001.0\u001B[0m  DUBUQUE  \u001B[1;36m1012200.0\u001B[0m   \n\u001B[1;36m2\u001B[0m     \u001B[1;36m507\u001B[0m 1ST AVE #\u001B[1;36m100\u001B[0m      ROCK RAPIDS  \u001B[1;36m51246.0\u001B[0m     LYON  \u001B[1;36m1012100.0\u001B[0m   \n\u001B[1;36m3\u001B[0m  \u001B[1;36m7229\u001B[0m UNIVERSITY AVE  WINDSOR HEIGHTS  \u001B[1;36m50311.0\u001B[0m     POLK  \u001B[1;36m1012100.0\u001B[0m   \n\u001B[1;36m4\u001B[0m     \u001B[1;36m516\u001B[0m, HIGHWAY \u001B[1;36m141\u001B[0m      COON RAPIDS  \u001B[1;36m50058.0\u001B[0m  CARROLL  \u001B[1;36m1701100.0\u001B[0m   \n\n                    category_name  \u001B[33m...\u001B[0m  pack bottle_volume_ml  \\\n\u001B[1;36m0\u001B[0m                      SPICED RUM  \u001B[33m...\u001B[0m    \u001B[1;36m12\u001B[0m              \u001B[1;36m750\u001B[0m   \n\u001B[1;36m1\u001B[0m                 SCOTCH WHISKIES  \u001B[33m...\u001B[0m    \u001B[1;36m12\u001B[0m             \u001B[1;36m1000\u001B[0m   \n\u001B[1;36m2\u001B[0m               CANADIAN WHISKIES  \u001B[33m...\u001B[0m    \u001B[1;36m12\u001B[0m             \u001B[1;36m1000\u001B[0m   \n\u001B[1;36m3\u001B[0m               CANADIAN WHISKIES  \u001B[33m...\u001B[0m     \u001B[1;36m8\u001B[0m               \u001B[1;36m50\u001B[0m   \n\u001B[1;36m4\u001B[0m  TEMPORARY & SPECIALTY PACKAGES  \u001B[33m...\u001B[0m    \u001B[1;36m12\u001B[0m              \u001B[1;36m750\u001B[0m   \n\n   state_bottle_cost state_bottle_retail  sale_bottles  sale_dollars  \\\n\u001B[1;36m0\u001B[0m               \u001B[1;36m6.00\u001B[0m                \u001B[1;36m9.00\u001B[0m            \u001B[1;36m12\u001B[0m        \u001B[1;36m108.00\u001B[0m   \n\u001B[1;36m1\u001B[0m              \u001B[1;36m28.24\u001B[0m               \u001B[1;36m42.36\u001B[0m             \u001B[1;36m6\u001B[0m        \u001B[1;36m254.16\u001B[0m   \n\u001B[1;36m2\u001B[0m               \u001B[1;36m6.64\u001B[0m                \u001B[1;36m9.96\u001B[0m            \u001B[1;36m12\u001B[0m        \u001B[1;36m119.52\u001B[0m   \n\u001B[1;36m3\u001B[0m               \u001B[1;36m8.50\u001B[0m               \u001B[1;36m12.75\u001B[0m             \u001B[1;36m1\u001B[0m         \u001B[1;36m12.75\u001B[0m   \n\u001B[1;36m4\u001B[0m              \u001B[1;36m17.49\u001B[0m               \u001B[1;36m26.24\u001B[0m            \u001B[1;36m12\u001B[0m        \u001B[1;36m314.88\u001B[0m   \n\n   sale_liters  sale_gallons  \\\n\u001B[1;36m0\u001B[0m         \u001B[1;36m9.00\u001B[0m          \u001B[1;36m2.37\u001B[0m   \n\u001B[1;36m1\u001B[0m         \u001B[1;36m6.00\u001B[0m          \u001B[1;36m1.58\u001B[0m   \n\u001B[1;36m2\u001B[0m        \u001B[1;36m12.00\u001B[0m          \u001B[1;36m3.17\u001B[0m   \n\u001B[1;36m3\u001B[0m         \u001B[1;36m0.05\u001B[0m          \u001B[1;36m0.01\u001B[0m   \n\u001B[1;36m4\u001B[0m         \u001B[1;36m9.00\u001B[0m          \u001B[1;36m2.37\u001B[0m   \n\n                                      store_location  county_number  \n\u001B[1;36m0\u001B[0m                                                NaN            NaN  \n\u001B[1;36m1\u001B[0m                                                NaN            NaN  \n\u001B[1;36m2\u001B[0m                                                NaN            NaN  \n\u001B[1;36m3\u001B[0m                                                NaN            NaN  \n\u001B[1;36m4\u001B[0m  \u001B[1m{\u001B[0m\u001B[32m'type'\u001B[0m: \u001B[32m'Point'\u001B[0m, \u001B[32m'coordinates'\u001B[0m: \u001B[1m[\u001B[0m\u001B[1;36m-94.678386\u001B[0m, \u001B[33m...\u001B[0m            NaN  \n\n\u001B[1m[\u001B[0m\u001B[1;36m5\u001B[0m rows x \u001B[1;36m24\u001B[0m columns\u001B[1m]\u001B[0m",
      "text/html": "<div>\n<style scoped>\n    .dataframe tbody tr th:only-of-type {\n        vertical-align: middle;\n    }\n\n    .dataframe tbody tr th {\n        vertical-align: top;\n    }\n\n    .dataframe thead th {\n        text-align: right;\n    }\n</style>\n<table border=\"1\" class=\"dataframe\">\n  <thead>\n    <tr style=\"text-align: right;\">\n      <th></th>\n      <th>invoice_line_no</th>\n      <th>date</th>\n      <th>store</th>\n      <th>name</th>\n      <th>address</th>\n      <th>city</th>\n      <th>zipcode</th>\n      <th>county</th>\n      <th>category</th>\n      <th>category_name</th>\n      <th>...</th>\n      <th>pack</th>\n      <th>bottle_volume_ml</th>\n      <th>state_bottle_cost</th>\n      <th>state_bottle_retail</th>\n      <th>sale_bottles</th>\n      <th>sale_dollars</th>\n      <th>sale_liters</th>\n      <th>sale_gallons</th>\n      <th>store_location</th>\n      <th>county_number</th>\n    </tr>\n  </thead>\n  <tbody>\n    <tr>\n      <th>0</th>\n      <td>INV-50346800002</td>\n      <td>2022-08-16</td>\n      <td>5359</td>\n      <td>FAREWAY STORES #168/ PEOSTA</td>\n      <td>8400 NICC DRIVE</td>\n      <td>PEOSTA</td>\n      <td>52068.0</td>\n      <td>DUBUQUE</td>\n      <td>1062400.0</td>\n      <td>SPICED RUM</td>\n      <td>...</td>\n      <td>12</td>\n      <td>750</td>\n      <td>6.00</td>\n      <td>9.00</td>\n      <td>12</td>\n      <td>108.00</td>\n      <td>9.00</td>\n      <td>2.37</td>\n      <td>NaN</td>\n      <td>NaN</td>\n    </tr>\n    <tr>\n      <th>1</th>\n      <td>INV-50288400002</td>\n      <td>2022-08-12</td>\n      <td>2524</td>\n      <td>HY-VEE FOOD STORE / DUBUQUE</td>\n      <td>3500 DODGE ST</td>\n      <td>DUBUQUE</td>\n      <td>52001.0</td>\n      <td>DUBUQUE</td>\n      <td>1012200.0</td>\n      <td>SCOTCH WHISKIES</td>\n      <td>...</td>\n      <td>12</td>\n      <td>1000</td>\n      <td>28.24</td>\n      <td>42.36</td>\n      <td>6</td>\n      <td>254.16</td>\n      <td>6.00</td>\n      <td>1.58</td>\n      <td>NaN</td>\n      <td>NaN</td>\n    </tr>\n    <tr>\n      <th>2</th>\n      <td>INV-50389200010</td>\n      <td>2022-08-17</td>\n      <td>3705</td>\n      <td>LIQUOR LOCKER</td>\n      <td>507 1ST AVE #100</td>\n      <td>ROCK RAPIDS</td>\n      <td>51246.0</td>\n      <td>LYON</td>\n      <td>1012100.0</td>\n      <td>CANADIAN WHISKIES</td>\n      <td>...</td>\n      <td>12</td>\n      <td>1000</td>\n      <td>6.64</td>\n      <td>9.96</td>\n      <td>12</td>\n      <td>119.52</td>\n      <td>12.00</td>\n      <td>3.17</td>\n      <td>NaN</td>\n      <td>NaN</td>\n    </tr>\n    <tr>\n      <th>3</th>\n      <td>INV-50258200004</td>\n      <td>2022-08-11</td>\n      <td>5107</td>\n      <td>KUM &amp; GO #4098 / WINDSOR HEIGHTS</td>\n      <td>7229 UNIVERSITY AVE</td>\n      <td>WINDSOR HEIGHTS</td>\n      <td>50311.0</td>\n      <td>POLK</td>\n      <td>1012100.0</td>\n      <td>CANADIAN WHISKIES</td>\n      <td>...</td>\n      <td>8</td>\n      <td>50</td>\n      <td>8.50</td>\n      <td>12.75</td>\n      <td>1</td>\n      <td>12.75</td>\n      <td>0.05</td>\n      <td>0.01</td>\n      <td>NaN</td>\n      <td>NaN</td>\n    </tr>\n    <tr>\n      <th>4</th>\n      <td>INV-50378700007</td>\n      <td>2022-08-16</td>\n      <td>5203</td>\n      <td>KIMMES COON RAPIDS COUNTRY STORE #12</td>\n      <td>516, HIGHWAY 141</td>\n      <td>COON RAPIDS</td>\n      <td>50058.0</td>\n      <td>CARROLL</td>\n      <td>1701100.0</td>\n      <td>TEMPORARY &amp; SPECIALTY PACKAGES</td>\n      <td>...</td>\n      <td>12</td>\n      <td>750</td>\n      <td>17.49</td>\n      <td>26.24</td>\n      <td>12</td>\n      <td>314.88</td>\n      <td>9.00</td>\n      <td>2.37</td>\n      <td>{'type': 'Point', 'coordinates': [-94.678386, ...</td>\n      <td>NaN</td>\n    </tr>\n  </tbody>\n</table>\n<p>5 rows × 24 columns</p>\n</div>"
     },
     "execution_count": 19,
     "metadata": {},
     "output_type": "execute_result"
    }
   ],
   "source": [
    "df.head()"
   ]
  },
  {
   "cell_type": "code",
   "execution_count": 20,
   "outputs": [
    {
     "name": "stdout",
     "output_type": "stream",
     "text": [
      "<class 'pandas.core.frame.DataFrame'>\n",
      "RangeIndex: 7801642 entries, 0 to 7801641\n",
      "Data columns (total 24 columns):\n",
      " #   Column               Dtype  \n",
      "---  ------               -----  \n",
      " 0   invoice_line_no      object \n",
      " 1   date                 object \n",
      " 2   store                int64  \n",
      " 3   name                 object \n",
      " 4   address              object \n",
      " 5   city                 object \n",
      " 6   zipcode              float64\n",
      " 7   county               object \n",
      " 8   category             float64\n",
      " 9   category_name        object \n",
      " 10  vendor_no            float64\n",
      " 11  vendor_name          object \n",
      " 12  itemno               int64  \n",
      " 13  im_desc              object \n",
      " 14  pack                 int64  \n",
      " 15  bottle_volume_ml     int64  \n",
      " 16  state_bottle_cost    float64\n",
      " 17  state_bottle_retail  float64\n",
      " 18  sale_bottles         int64  \n",
      " 19  sale_dollars         float64\n",
      " 20  sale_liters          float64\n",
      " 21  sale_gallons         float64\n",
      " 22  store_location       object \n",
      " 23  county_number        float64\n",
      "dtypes: float64(9), int64(5), object(10)\n",
      "memory usage: 1.4+ GB\n"
     ]
    }
   ],
   "source": [
    "df.info()"
   ],
   "metadata": {
    "collapsed": false,
    "ExecuteTime": {
     "end_time": "2023-12-04T22:33:28.718845543Z",
     "start_time": "2023-12-04T22:33:28.697390898Z"
    }
   },
   "id": "8b1e6b31500be553"
  },
  {
   "cell_type": "code",
   "execution_count": 21,
   "outputs": [
    {
     "data": {
      "text/plain": "",
      "text/html": "<pre style=\"white-space:pre;overflow-x:auto;line-height:normal;font-family:Menlo,'DejaVu Sans Mono',consolas,'Courier New',monospace\"></pre>\n"
     },
     "metadata": {},
     "output_type": "display_data"
    },
    {
     "data": {
      "text/plain": "\n              store       zipcode      category     vendor_no        itemno  \\\ncount  \u001B[1;36m7.801642e+06\u001B[0m  \u001B[1;36m7.799499e+06\u001B[0m  \u001B[1;36m7.800960e+06\u001B[0m  \u001B[1;36m7.801638e+06\u001B[0m  \u001B[1;36m7.801642e+06\u001B[0m   \nmean   \u001B[1;36m4.142670e+03\u001B[0m  \u001B[1;36m5.124749e+04\u001B[0m  \u001B[1;36m1.057130e+06\u001B[0m  \u001B[1;36m2.879021e+02\u001B[0m  \u001B[1;36m5.430420e+04\u001B[0m   \nstd    \u001B[1;36m1.308549e+03\u001B[0m  \u001B[1;36m9.922399e+02\u001B[0m  \u001B[1;36m1.071005e+05\u001B[0m  \u001B[1;36m1.457341e+02\u001B[0m  \u001B[1;36m9.100524e+04\u001B[0m   \nmin    \u001B[1;36m2.106000e+03\u001B[0m  \u001B[1;36m5.000200e+04\u001B[0m  \u001B[1;36m1.011000e+06\u001B[0m  \u001B[1;36m3.300000e+01\u001B[0m  \u001B[1;36m1.590000e+02\u001B[0m   \n\u001B[1;36m25\u001B[0m%    \u001B[1;36m2.643000e+03\u001B[0m  \u001B[1;36m5.031400e+04\u001B[0m  \u001B[1;36m1.012200e+06\u001B[0m  \u001B[1;36m2.050000e+02\u001B[0m  \u001B[1;36m2.710200e+04\u001B[0m   \n\u001B[1;36m50\u001B[0m%    \u001B[1;36m4.180000e+03\u001B[0m  \u001B[1;36m5.104000e+04\u001B[0m  \u001B[1;36m1.031200e+06\u001B[0m  \u001B[1;36m2.600000e+02\u001B[0m  \u001B[1;36m3.982500e+04\u001B[0m   \n\u001B[1;36m75\u001B[0m%    \u001B[1;36m5.240000e+03\u001B[0m  \u001B[1;36m5.230200e+04\u001B[0m  \u001B[1;36m1.071000e+06\u001B[0m  \u001B[1;36m4.200000e+02\u001B[0m  \u001B[1;36m6.520400e+04\u001B[0m   \nmax    \u001B[1;36m1.010600e+04\u001B[0m  \u001B[1;36m5.722200e+04\u001B[0m  \u001B[1;36m1.901200e+06\u001B[0m  \u001B[1;36m9.780000e+02\u001B[0m  \u001B[1;36m9.999950e+05\u001B[0m   \n\n               pack  bottle_volume_ml  state_bottle_cost  state_bottle_retail  \\\ncount  \u001B[1;36m7.801642e+06\u001B[0m      \u001B[1;36m7.801642e+06\u001B[0m       \u001B[1;36m7.801642e+06\u001B[0m         \u001B[1;36m7.801642e+06\u001B[0m   \nmean   \u001B[1;36m1.197103e+01\u001B[0m      \u001B[1;36m8.231553e+02\u001B[0m       \u001B[1;36m1.145097e+01\u001B[0m         \u001B[1;36m1.717811e+01\u001B[0m   \nstd    \u001B[1;36m7.929128e+00\u001B[0m      \u001B[1;36m5.265064e+02\u001B[0m       \u001B[1;36m1.353391e+01\u001B[0m         \u001B[1;36m2.030000e+01\u001B[0m   \nmin    \u001B[1;36m1.000000e+00\u001B[0m      \u001B[1;36m2.000000e+01\u001B[0m       \u001B[1;36m3.300000e-01\u001B[0m         \u001B[1;36m5.000000e-01\u001B[0m   \n\u001B[1;36m25\u001B[0m%    \u001B[1;36m6.000000e+00\u001B[0m      \u001B[1;36m3.750000e+02\u001B[0m       \u001B[1;36m6.000000e+00\u001B[0m         \u001B[1;36m9.000000e+00\u001B[0m   \n\u001B[1;36m50\u001B[0m%    \u001B[1;36m1.200000e+01\u001B[0m      \u001B[1;36m7.500000e+02\u001B[0m       \u001B[1;36m9.000000e+00\u001B[0m         \u001B[1;36m1.350000e+01\u001B[0m   \n\u001B[1;36m75\u001B[0m%    \u001B[1;36m1.200000e+01\u001B[0m      \u001B[1;36m1.000000e+03\u001B[0m       \u001B[1;36m1.400000e+01\u001B[0m         \u001B[1;36m2.100000e+01\u001B[0m   \nmax    \u001B[1;36m1.200000e+02\u001B[0m      \u001B[1;36m6.000000e+03\u001B[0m       \u001B[1;36m1.843600e+04\u001B[0m         \u001B[1;36m2.765400e+04\u001B[0m   \n\n       sale_bottles  sale_dollars   sale_liters  sale_gallons  county_number  \ncount  \u001B[1;36m7.801642e+06\u001B[0m  \u001B[1;36m7.801642e+06\u001B[0m  \u001B[1;36m7.801642e+06\u001B[0m  \u001B[1;36m7.801642e+06\u001B[0m   \u001B[1;36m6.554266e+06\u001B[0m  \nmean   \u001B[1;36m1.172533e+01\u001B[0m  \u001B[1;36m1.606799e+02\u001B[0m  \u001B[1;36m9.297161e+00\u001B[0m  \u001B[1;36m2.450426e+00\u001B[0m   \u001B[1;36m5.726752e+01\u001B[0m  \nstd    \u001B[1;36m3.467162e+01\u001B[0m  \u001B[1;36m5.701766e+02\u001B[0m  \u001B[1;36m4.082052e+01\u001B[0m  \u001B[1;36m1.078384e+01\u001B[0m   \u001B[1;36m2.727206e+01\u001B[0m  \nmin   \u001B[1;36m-3.600000e+02\u001B[0m \u001B[1;36m-9.720000e+03\u001B[0m \u001B[1;36m-6.300000e+02\u001B[0m \u001B[1;36m-1.664200e+02\u001B[0m   \u001B[1;36m1.000000e+00\u001B[0m  \n\u001B[1;36m25\u001B[0m%    \u001B[1;36m3.000000e+00\u001B[0m  \u001B[1;36m4.200000e+01\u001B[0m  \u001B[1;36m1.500000e+00\u001B[0m  \u001B[1;36m3.900000e-01\u001B[0m   \u001B[1;36m3.100000e+01\u001B[0m  \n\u001B[1;36m50\u001B[0m%    \u001B[1;36m6.000000e+00\u001B[0m  \u001B[1;36m8.700000e+01\u001B[0m  \u001B[1;36m4.500000e+00\u001B[0m  \u001B[1;36m1.180000e+00\u001B[0m   \u001B[1;36m6.200000e+01\u001B[0m  \n\u001B[1;36m75\u001B[0m%    \u001B[1;36m1.200000e+01\u001B[0m  \u001B[1;36m1.630800e+02\u001B[0m  \u001B[1;36m1.050000e+01\u001B[0m  \u001B[1;36m2.770000e+00\u001B[0m   \u001B[1;36m7.700000e+01\u001B[0m  \nmax    \u001B[1;36m1.320000e+04\u001B[0m  \u001B[1;36m2.509320e+05\u001B[0m  \u001B[1;36m1.320000e+04\u001B[0m  \u001B[1;36m3.487070e+03\u001B[0m   \u001B[1;36m9.900000e+01\u001B[0m  ",
      "text/html": "<div>\n<style scoped>\n    .dataframe tbody tr th:only-of-type {\n        vertical-align: middle;\n    }\n\n    .dataframe tbody tr th {\n        vertical-align: top;\n    }\n\n    .dataframe thead th {\n        text-align: right;\n    }\n</style>\n<table border=\"1\" class=\"dataframe\">\n  <thead>\n    <tr style=\"text-align: right;\">\n      <th></th>\n      <th>store</th>\n      <th>zipcode</th>\n      <th>category</th>\n      <th>vendor_no</th>\n      <th>itemno</th>\n      <th>pack</th>\n      <th>bottle_volume_ml</th>\n      <th>state_bottle_cost</th>\n      <th>state_bottle_retail</th>\n      <th>sale_bottles</th>\n      <th>sale_dollars</th>\n      <th>sale_liters</th>\n      <th>sale_gallons</th>\n      <th>county_number</th>\n    </tr>\n  </thead>\n  <tbody>\n    <tr>\n      <th>count</th>\n      <td>7.801642e+06</td>\n      <td>7.799499e+06</td>\n      <td>7.800960e+06</td>\n      <td>7.801638e+06</td>\n      <td>7.801642e+06</td>\n      <td>7.801642e+06</td>\n      <td>7.801642e+06</td>\n      <td>7.801642e+06</td>\n      <td>7.801642e+06</td>\n      <td>7.801642e+06</td>\n      <td>7.801642e+06</td>\n      <td>7.801642e+06</td>\n      <td>7.801642e+06</td>\n      <td>6.554266e+06</td>\n    </tr>\n    <tr>\n      <th>mean</th>\n      <td>4.142670e+03</td>\n      <td>5.124749e+04</td>\n      <td>1.057130e+06</td>\n      <td>2.879021e+02</td>\n      <td>5.430420e+04</td>\n      <td>1.197103e+01</td>\n      <td>8.231553e+02</td>\n      <td>1.145097e+01</td>\n      <td>1.717811e+01</td>\n      <td>1.172533e+01</td>\n      <td>1.606799e+02</td>\n      <td>9.297161e+00</td>\n      <td>2.450426e+00</td>\n      <td>5.726752e+01</td>\n    </tr>\n    <tr>\n      <th>std</th>\n      <td>1.308549e+03</td>\n      <td>9.922399e+02</td>\n      <td>1.071005e+05</td>\n      <td>1.457341e+02</td>\n      <td>9.100524e+04</td>\n      <td>7.929128e+00</td>\n      <td>5.265064e+02</td>\n      <td>1.353391e+01</td>\n      <td>2.030000e+01</td>\n      <td>3.467162e+01</td>\n      <td>5.701766e+02</td>\n      <td>4.082052e+01</td>\n      <td>1.078384e+01</td>\n      <td>2.727206e+01</td>\n    </tr>\n    <tr>\n      <th>min</th>\n      <td>2.106000e+03</td>\n      <td>5.000200e+04</td>\n      <td>1.011000e+06</td>\n      <td>3.300000e+01</td>\n      <td>1.590000e+02</td>\n      <td>1.000000e+00</td>\n      <td>2.000000e+01</td>\n      <td>3.300000e-01</td>\n      <td>5.000000e-01</td>\n      <td>-3.600000e+02</td>\n      <td>-9.720000e+03</td>\n      <td>-6.300000e+02</td>\n      <td>-1.664200e+02</td>\n      <td>1.000000e+00</td>\n    </tr>\n    <tr>\n      <th>25%</th>\n      <td>2.643000e+03</td>\n      <td>5.031400e+04</td>\n      <td>1.012200e+06</td>\n      <td>2.050000e+02</td>\n      <td>2.710200e+04</td>\n      <td>6.000000e+00</td>\n      <td>3.750000e+02</td>\n      <td>6.000000e+00</td>\n      <td>9.000000e+00</td>\n      <td>3.000000e+00</td>\n      <td>4.200000e+01</td>\n      <td>1.500000e+00</td>\n      <td>3.900000e-01</td>\n      <td>3.100000e+01</td>\n    </tr>\n    <tr>\n      <th>50%</th>\n      <td>4.180000e+03</td>\n      <td>5.104000e+04</td>\n      <td>1.031200e+06</td>\n      <td>2.600000e+02</td>\n      <td>3.982500e+04</td>\n      <td>1.200000e+01</td>\n      <td>7.500000e+02</td>\n      <td>9.000000e+00</td>\n      <td>1.350000e+01</td>\n      <td>6.000000e+00</td>\n      <td>8.700000e+01</td>\n      <td>4.500000e+00</td>\n      <td>1.180000e+00</td>\n      <td>6.200000e+01</td>\n    </tr>\n    <tr>\n      <th>75%</th>\n      <td>5.240000e+03</td>\n      <td>5.230200e+04</td>\n      <td>1.071000e+06</td>\n      <td>4.200000e+02</td>\n      <td>6.520400e+04</td>\n      <td>1.200000e+01</td>\n      <td>1.000000e+03</td>\n      <td>1.400000e+01</td>\n      <td>2.100000e+01</td>\n      <td>1.200000e+01</td>\n      <td>1.630800e+02</td>\n      <td>1.050000e+01</td>\n      <td>2.770000e+00</td>\n      <td>7.700000e+01</td>\n    </tr>\n    <tr>\n      <th>max</th>\n      <td>1.010600e+04</td>\n      <td>5.722200e+04</td>\n      <td>1.901200e+06</td>\n      <td>9.780000e+02</td>\n      <td>9.999950e+05</td>\n      <td>1.200000e+02</td>\n      <td>6.000000e+03</td>\n      <td>1.843600e+04</td>\n      <td>2.765400e+04</td>\n      <td>1.320000e+04</td>\n      <td>2.509320e+05</td>\n      <td>1.320000e+04</td>\n      <td>3.487070e+03</td>\n      <td>9.900000e+01</td>\n    </tr>\n  </tbody>\n</table>\n</div>"
     },
     "execution_count": 21,
     "metadata": {},
     "output_type": "execute_result"
    }
   ],
   "source": [
    "df.describe()"
   ],
   "metadata": {
    "collapsed": false,
    "ExecuteTime": {
     "end_time": "2023-12-04T22:33:40.204717137Z",
     "start_time": "2023-12-04T22:33:37.156844019Z"
    }
   },
   "id": "91ff5fef3c5d1676"
  },
  {
   "cell_type": "code",
   "execution_count": 22,
   "id": "6ca2a70488a46ed0",
   "metadata": {
    "collapsed": false,
    "ExecuteTime": {
     "end_time": "2023-12-04T22:34:30.014368354Z",
     "start_time": "2023-12-04T22:34:28.304801627Z"
    }
   },
   "outputs": [
    {
     "name": "stdout",
     "output_type": "stream",
     "text": [
      "invoice_line_no              0\n",
      "date                         0\n",
      "store                        0\n",
      "name                         0\n",
      "address                   2121\n",
      "city                      2121\n",
      "zipcode                   2143\n",
      "county                    2121\n",
      "category                   682\n",
      "category_name              682\n",
      "vendor_no                    4\n",
      "vendor_name                  4\n",
      "itemno                       0\n",
      "im_desc                      0\n",
      "pack                         0\n",
      "bottle_volume_ml             0\n",
      "state_bottle_cost            0\n",
      "state_bottle_retail          0\n",
      "sale_bottles                 0\n",
      "sale_dollars                 0\n",
      "sale_liters                  0\n",
      "sale_gallons                 0\n",
      "store_location          764914\n",
      "county_number          1247376\n",
      "dtype: int64\n"
     ]
    }
   ],
   "source": [
    "missing_data = df.isnull().sum()\n",
    "print(missing_data)"
   ]
  },
  {
   "cell_type": "code",
   "execution_count": 23,
   "id": "85ce17ed3990dd6e",
   "metadata": {
    "collapsed": false,
    "ExecuteTime": {
     "end_time": "2023-12-04T22:34:36.500191034Z",
     "start_time": "2023-12-04T22:34:34.789092346Z"
    }
   },
   "outputs": [
    {
     "name": "stdout",
     "output_type": "stream",
     "text": [
      "invoice_line_no         0.000000\n",
      "date                    0.000000\n",
      "store                   0.000000\n",
      "name                    0.000000\n",
      "address                 0.027187\n",
      "city                    0.027187\n",
      "zipcode                 0.027469\n",
      "county                  0.027187\n",
      "category                0.008742\n",
      "category_name           0.008742\n",
      "vendor_no               0.000051\n",
      "vendor_name             0.000051\n",
      "itemno                  0.000000\n",
      "im_desc                 0.000000\n",
      "pack                    0.000000\n",
      "bottle_volume_ml        0.000000\n",
      "state_bottle_cost       0.000000\n",
      "state_bottle_retail     0.000000\n",
      "sale_bottles            0.000000\n",
      "sale_dollars            0.000000\n",
      "sale_liters             0.000000\n",
      "sale_gallons            0.000000\n",
      "store_location          9.804526\n",
      "county_number          15.988634\n",
      "dtype: float64\n"
     ]
    }
   ],
   "source": [
    "percent_missing = df.isnull().mean() * 100\n",
    "print(percent_missing)"
   ]
  },
  {
   "cell_type": "code",
   "execution_count": 9,
   "id": "1f6445a9cdcca624",
   "metadata": {
    "collapsed": false,
    "ExecuteTime": {
     "end_time": "2023-12-04T22:18:05.099408058Z",
     "start_time": "2023-12-04T22:18:05.061368954Z"
    }
   },
   "outputs": [
    {
     "data": {
      "text/plain": "",
      "text/html": "<pre style=\"white-space:pre;overflow-x:auto;line-height:normal;font-family:Menlo,'DejaVu Sans Mono',consolas,'Courier New',monospace\"></pre>\n"
     },
     "metadata": {},
     "output_type": "display_data"
    },
    {
     "data": {
      "text/plain": "\n                     total_missing  percent_missing\ncounty_number              \u001B[1;36m1247376\u001B[0m        \u001B[1;36m15.988634\u001B[0m\nstore_location              \u001B[1;36m764914\u001B[0m         \u001B[1;36m9.804526\u001B[0m\nzipcode                       \u001B[1;36m2143\u001B[0m         \u001B[1;36m0.027469\u001B[0m\naddress                       \u001B[1;36m2121\u001B[0m         \u001B[1;36m0.027187\u001B[0m\ncity                          \u001B[1;36m2121\u001B[0m         \u001B[1;36m0.027187\u001B[0m\ncounty                        \u001B[1;36m2121\u001B[0m         \u001B[1;36m0.027187\u001B[0m\ncategory                       \u001B[1;36m682\u001B[0m         \u001B[1;36m0.008742\u001B[0m\ncategory_name                  \u001B[1;36m682\u001B[0m         \u001B[1;36m0.008742\u001B[0m\nvendor_no                        \u001B[1;36m4\u001B[0m         \u001B[1;36m0.000051\u001B[0m\nvendor_name                      \u001B[1;36m4\u001B[0m         \u001B[1;36m0.000051\u001B[0m\nstate_bottle_cost                \u001B[1;36m0\u001B[0m         \u001B[1;36m0.000000\u001B[0m\nsale_gallons                     \u001B[1;36m0\u001B[0m         \u001B[1;36m0.000000\u001B[0m\nsale_liters                      \u001B[1;36m0\u001B[0m         \u001B[1;36m0.000000\u001B[0m\nsale_dollars                     \u001B[1;36m0\u001B[0m         \u001B[1;36m0.000000\u001B[0m\nsale_bottles                     \u001B[1;36m0\u001B[0m         \u001B[1;36m0.000000\u001B[0m\nstate_bottle_retail              \u001B[1;36m0\u001B[0m         \u001B[1;36m0.000000\u001B[0m\ninvoice_line_no                  \u001B[1;36m0\u001B[0m         \u001B[1;36m0.000000\u001B[0m\nbottle_volume_ml                 \u001B[1;36m0\u001B[0m         \u001B[1;36m0.000000\u001B[0m\npack                             \u001B[1;36m0\u001B[0m         \u001B[1;36m0.000000\u001B[0m\nim_desc                          \u001B[1;36m0\u001B[0m         \u001B[1;36m0.000000\u001B[0m\ndate                             \u001B[1;36m0\u001B[0m         \u001B[1;36m0.000000\u001B[0m\nname                             \u001B[1;36m0\u001B[0m         \u001B[1;36m0.000000\u001B[0m\nstore                            \u001B[1;36m0\u001B[0m         \u001B[1;36m0.000000\u001B[0m\nitemno                           \u001B[1;36m0\u001B[0m         \u001B[1;36m0.000000\u001B[0m",
      "text/html": "<div>\n<style scoped>\n    .dataframe tbody tr th:only-of-type {\n        vertical-align: middle;\n    }\n\n    .dataframe tbody tr th {\n        vertical-align: top;\n    }\n\n    .dataframe thead th {\n        text-align: right;\n    }\n</style>\n<table border=\"1\" class=\"dataframe\">\n  <thead>\n    <tr style=\"text-align: right;\">\n      <th></th>\n      <th>total_missing</th>\n      <th>percent_missing</th>\n    </tr>\n  </thead>\n  <tbody>\n    <tr>\n      <th>county_number</th>\n      <td>1247376</td>\n      <td>15.988634</td>\n    </tr>\n    <tr>\n      <th>store_location</th>\n      <td>764914</td>\n      <td>9.804526</td>\n    </tr>\n    <tr>\n      <th>zipcode</th>\n      <td>2143</td>\n      <td>0.027469</td>\n    </tr>\n    <tr>\n      <th>address</th>\n      <td>2121</td>\n      <td>0.027187</td>\n    </tr>\n    <tr>\n      <th>city</th>\n      <td>2121</td>\n      <td>0.027187</td>\n    </tr>\n    <tr>\n      <th>county</th>\n      <td>2121</td>\n      <td>0.027187</td>\n    </tr>\n    <tr>\n      <th>category</th>\n      <td>682</td>\n      <td>0.008742</td>\n    </tr>\n    <tr>\n      <th>category_name</th>\n      <td>682</td>\n      <td>0.008742</td>\n    </tr>\n    <tr>\n      <th>vendor_no</th>\n      <td>4</td>\n      <td>0.000051</td>\n    </tr>\n    <tr>\n      <th>vendor_name</th>\n      <td>4</td>\n      <td>0.000051</td>\n    </tr>\n    <tr>\n      <th>state_bottle_cost</th>\n      <td>0</td>\n      <td>0.000000</td>\n    </tr>\n    <tr>\n      <th>sale_gallons</th>\n      <td>0</td>\n      <td>0.000000</td>\n    </tr>\n    <tr>\n      <th>sale_liters</th>\n      <td>0</td>\n      <td>0.000000</td>\n    </tr>\n    <tr>\n      <th>sale_dollars</th>\n      <td>0</td>\n      <td>0.000000</td>\n    </tr>\n    <tr>\n      <th>sale_bottles</th>\n      <td>0</td>\n      <td>0.000000</td>\n    </tr>\n    <tr>\n      <th>state_bottle_retail</th>\n      <td>0</td>\n      <td>0.000000</td>\n    </tr>\n    <tr>\n      <th>invoice_line_no</th>\n      <td>0</td>\n      <td>0.000000</td>\n    </tr>\n    <tr>\n      <th>bottle_volume_ml</th>\n      <td>0</td>\n      <td>0.000000</td>\n    </tr>\n    <tr>\n      <th>pack</th>\n      <td>0</td>\n      <td>0.000000</td>\n    </tr>\n    <tr>\n      <th>im_desc</th>\n      <td>0</td>\n      <td>0.000000</td>\n    </tr>\n    <tr>\n      <th>date</th>\n      <td>0</td>\n      <td>0.000000</td>\n    </tr>\n    <tr>\n      <th>name</th>\n      <td>0</td>\n      <td>0.000000</td>\n    </tr>\n    <tr>\n      <th>store</th>\n      <td>0</td>\n      <td>0.000000</td>\n    </tr>\n    <tr>\n      <th>itemno</th>\n      <td>0</td>\n      <td>0.000000</td>\n    </tr>\n  </tbody>\n</table>\n</div>"
     },
     "execution_count": 9,
     "metadata": {},
     "output_type": "execute_result"
    }
   ],
   "source": [
    "missing_data_df = pd.DataFrame({'total_missing': missing_data, 'percent_missing': percent_missing})\n",
    "missing_data_df.sort_values(by='percent_missing', ascending=False)"
   ]
  },
  {
   "cell_type": "code",
   "execution_count": 43,
   "id": "5d605c94bdb036da",
   "metadata": {
    "collapsed": false,
    "ExecuteTime": {
     "end_time": "2023-12-04T22:58:57.929444663Z",
     "start_time": "2023-12-04T22:58:57.136705462Z"
    }
   },
   "outputs": [],
   "source": [
    "#Removing county_number\n",
    "df2 = df.drop('county_number', axis=1)"
   ]
  },
  {
   "cell_type": "code",
   "execution_count": 44,
   "id": "c9e62f0b342a7160",
   "metadata": {
    "collapsed": false,
    "ExecuteTime": {
     "end_time": "2023-12-04T22:59:15.198925992Z",
     "start_time": "2023-12-04T22:59:12.744326869Z"
    }
   },
   "outputs": [],
   "source": [
    "df3 = df2.dropna(subset=['zipcode', 'address', 'city', 'county', 'category', 'category_name', 'vendor_no', 'vendor_name'])"
   ]
  },
  {
   "cell_type": "code",
   "execution_count": 37,
   "id": "413b7cc22e8b62af",
   "metadata": {
    "collapsed": false,
    "ExecuteTime": {
     "end_time": "2023-12-04T22:54:03.366772591Z",
     "start_time": "2023-12-04T22:54:03.251270321Z"
    }
   },
   "outputs": [
    {
     "data": {
      "text/plain": "",
      "text/html": "<pre style=\"white-space:pre;overflow-x:auto;line-height:normal;font-family:Menlo,'DejaVu Sans Mono',consolas,'Courier New',monospace\"></pre>\n"
     },
     "metadata": {},
     "output_type": "display_data"
    },
    {
     "data": {
      "text/plain": "\ninvoice_line_no             \u001B[1;36m0\u001B[0m\ndate                        \u001B[1;36m0\u001B[0m\nstore                       \u001B[1;36m0\u001B[0m\nname                        \u001B[1;36m0\u001B[0m\naddress                     \u001B[1;36m0\u001B[0m\ncity                        \u001B[1;36m0\u001B[0m\nzipcode                     \u001B[1;36m0\u001B[0m\ncounty                      \u001B[1;36m0\u001B[0m\ncategory                    \u001B[1;36m0\u001B[0m\ncategory_name               \u001B[1;36m0\u001B[0m\nvendor_no                   \u001B[1;36m0\u001B[0m\nvendor_name                 \u001B[1;36m0\u001B[0m\nitemno                      \u001B[1;36m0\u001B[0m\nim_desc                     \u001B[1;36m0\u001B[0m\npack                        \u001B[1;36m0\u001B[0m\nbottle_volume_ml            \u001B[1;36m0\u001B[0m\nstate_bottle_cost           \u001B[1;36m0\u001B[0m\nstate_bottle_retail         \u001B[1;36m0\u001B[0m\nsale_bottles                \u001B[1;36m0\u001B[0m\nsale_dollars                \u001B[1;36m0\u001B[0m\nsale_liters                 \u001B[1;36m0\u001B[0m\nsale_gallons                \u001B[1;36m0\u001B[0m\nstore_location         \u001B[1;36m762757\u001B[0m\ndtype: int64"
     },
     "execution_count": 37,
     "metadata": {},
     "output_type": "execute_result"
    }
   ],
   "source": [
    "df3.isnull().sum()"
   ]
  },
  {
   "cell_type": "code",
   "execution_count": 38,
   "outputs": [
    {
     "data": {
      "text/plain": "",
      "text/html": "<pre style=\"white-space:pre;overflow-x:auto;line-height:normal;font-family:Menlo,'DejaVu Sans Mono',consolas,'Courier New',monospace\"></pre>\n"
     },
     "metadata": {},
     "output_type": "display_data"
    },
    {
     "data": {
      "text/plain": "\n\u001B[1;35mIndex\u001B[0m\u001B[1m(\u001B[0m\u001B[1m[\u001B[0m\u001B[32m'invoice_line_no'\u001B[0m, \u001B[32m'date'\u001B[0m, \u001B[32m'store'\u001B[0m, \u001B[32m'name'\u001B[0m, \u001B[32m'address'\u001B[0m, \u001B[32m'city'\u001B[0m,\n       \u001B[32m'zipcode'\u001B[0m, \u001B[32m'county'\u001B[0m, \u001B[32m'category'\u001B[0m, \u001B[32m'category_name'\u001B[0m, \u001B[32m'vendor_no'\u001B[0m,\n       \u001B[32m'vendor_name'\u001B[0m, \u001B[32m'itemno'\u001B[0m, \u001B[32m'im_desc'\u001B[0m, \u001B[32m'pack'\u001B[0m, \u001B[32m'bottle_volume_ml'\u001B[0m,\n       \u001B[32m'state_bottle_cost'\u001B[0m, \u001B[32m'state_bottle_retail'\u001B[0m, \u001B[32m'sale_bottles'\u001B[0m,\n       \u001B[32m'sale_dollars'\u001B[0m, \u001B[32m'sale_liters'\u001B[0m, \u001B[32m'sale_gallons'\u001B[0m, \u001B[32m'store_location'\u001B[0m\u001B[1m]\u001B[0m,\n      \u001B[33mdtype\u001B[0m=\u001B[32m'object'\u001B[0m\u001B[1m)\u001B[0m"
     },
     "execution_count": 38,
     "metadata": {},
     "output_type": "execute_result"
    }
   ],
   "source": [
    "df3.columns"
   ],
   "metadata": {
    "collapsed": false,
    "ExecuteTime": {
     "end_time": "2023-12-04T22:54:14.148852612Z",
     "start_time": "2023-12-04T22:54:14.142180440Z"
    }
   },
   "id": "20837dc1730bd530"
  },
  {
   "cell_type": "code",
   "execution_count": 39,
   "id": "66698ea0c9eda2a6",
   "metadata": {
    "collapsed": false,
    "ExecuteTime": {
     "end_time": "2023-12-04T22:54:24.728442998Z",
     "start_time": "2023-12-04T22:54:24.722042358Z"
    }
   },
   "outputs": [
    {
     "name": "stdout",
     "output_type": "stream",
     "text": [
      "invoice_line_no         object\n",
      "date                    object\n",
      "store                    int64\n",
      "name                    object\n",
      "address                 object\n",
      "city                    object\n",
      "zipcode                float64\n",
      "county                  object\n",
      "category               float64\n",
      "category_name           object\n",
      "vendor_no              float64\n",
      "vendor_name             object\n",
      "itemno                   int64\n",
      "im_desc                 object\n",
      "pack                     int64\n",
      "bottle_volume_ml         int64\n",
      "state_bottle_cost      float64\n",
      "state_bottle_retail    float64\n",
      "sale_bottles             int64\n",
      "sale_dollars           float64\n",
      "sale_liters            float64\n",
      "sale_gallons           float64\n",
      "store_location          object\n",
      "dtype: object\n"
     ]
    }
   ],
   "source": [
    "#Checking datatypes for each column\n",
    "data_types = df3.dtypes\n",
    "print(data_types)"
   ]
  },
  {
   "cell_type": "code",
   "execution_count": 45,
   "outputs": [],
   "source": [
    "# Modyfing date columnn\n",
    "df3_copy = df3.copy()\n",
    "df3_copy['date'] = pd.to_datetime(df3_copy['date'])\n",
    "df3_copy['year'] = df3_copy['date'].dt.year\n",
    "df3_copy['month'] = df3_copy['date'].dt.month\n",
    "df3_copy['day'] = df3_copy['date'].dt.day\n",
    "df3 = df3_copy\n",
    "df3.drop('date', axis=1, inplace=True)"
   ],
   "metadata": {
    "collapsed": false,
    "ExecuteTime": {
     "end_time": "2023-12-04T22:59:33.543800961Z",
     "start_time": "2023-12-04T22:59:30.928497151Z"
    }
   },
   "id": "512c87a9f8479c63"
  },
  {
   "cell_type": "code",
   "execution_count": 50,
   "outputs": [
    {
     "data": {
      "text/plain": "",
      "text/html": "<pre style=\"white-space:pre;overflow-x:auto;line-height:normal;font-family:Menlo,'DejaVu Sans Mono',consolas,'Courier New',monospace\"></pre>\n"
     },
     "metadata": {},
     "output_type": "display_data"
    },
    {
     "data": {
      "text/plain": "\n\u001B[1;35mIndex\u001B[0m\u001B[1m(\u001B[0m\u001B[1m[\u001B[0m\u001B[32m'invoice_line_no'\u001B[0m, \u001B[32m'store'\u001B[0m, \u001B[32m'name'\u001B[0m, \u001B[32m'address'\u001B[0m, \u001B[32m'city'\u001B[0m, \u001B[32m'zipcode'\u001B[0m,\n       \u001B[32m'county'\u001B[0m, \u001B[32m'category'\u001B[0m, \u001B[32m'category_name'\u001B[0m, \u001B[32m'vendor_no'\u001B[0m, \u001B[32m'vendor_name'\u001B[0m,\n       \u001B[32m'itemno'\u001B[0m, \u001B[32m'im_desc'\u001B[0m, \u001B[32m'pack'\u001B[0m, \u001B[32m'bottle_volume_ml'\u001B[0m, \u001B[32m'state_bottle_cost'\u001B[0m,\n       \u001B[32m'state_bottle_retail'\u001B[0m, \u001B[32m'sale_bottles'\u001B[0m, \u001B[32m'sale_dollars'\u001B[0m, \u001B[32m'sale_liters'\u001B[0m,\n       \u001B[32m'sale_gallons'\u001B[0m, \u001B[32m'store_location'\u001B[0m, \u001B[32m'year'\u001B[0m, \u001B[32m'month'\u001B[0m, \u001B[32m'day'\u001B[0m\u001B[1m]\u001B[0m,\n      \u001B[33mdtype\u001B[0m=\u001B[32m'object'\u001B[0m\u001B[1m)\u001B[0m"
     },
     "execution_count": 50,
     "metadata": {},
     "output_type": "execute_result"
    }
   ],
   "source": [
    "df3.columns"
   ],
   "metadata": {
    "collapsed": false,
    "ExecuteTime": {
     "end_time": "2023-12-04T23:04:22.479020138Z",
     "start_time": "2023-12-04T23:04:22.472516614Z"
    }
   },
   "id": "7ffc226af9366443"
  },
  {
   "cell_type": "code",
   "execution_count": 52,
   "outputs": [
    {
     "name": "stdout",
     "output_type": "stream",
     "text": [
      "invoice_line_no         object\n",
      "store                    int64\n",
      "name                    object\n",
      "address                 object\n",
      "city                    object\n",
      "zipcode                float64\n",
      "county                  object\n",
      "category               float64\n",
      "category_name           object\n",
      "vendor_no              float64\n",
      "vendor_name             object\n",
      "itemno                   int64\n",
      "im_desc                 object\n",
      "pack                     int64\n",
      "bottle_volume_ml         int64\n",
      "state_bottle_cost      float64\n",
      "state_bottle_retail    float64\n",
      "sale_bottles             int64\n",
      "sale_dollars           float64\n",
      "sale_liters            float64\n",
      "sale_gallons           float64\n",
      "store_location          object\n",
      "year                     int32\n",
      "month                    int32\n",
      "day                      int32\n",
      "dtype: object\n"
     ]
    }
   ],
   "source": [
    "print(df3.dtypes)"
   ],
   "metadata": {
    "collapsed": false,
    "ExecuteTime": {
     "end_time": "2023-12-04T23:05:04.488613829Z",
     "start_time": "2023-12-04T23:05:04.483017552Z"
    }
   },
   "id": "d90bce5b3ca82916"
  },
  {
   "cell_type": "code",
   "execution_count": 53,
   "outputs": [
    {
     "data": {
      "text/plain": "",
      "text/html": "<pre style=\"white-space:pre;overflow-x:auto;line-height:normal;font-family:Menlo,'DejaVu Sans Mono',consolas,'Courier New',monospace\"></pre>\n"
     },
     "metadata": {},
     "output_type": "display_data"
    },
    {
     "data": {
      "text/plain": "\n   invoice_line_no  store                                  name  \\\n\u001B[1;36m0\u001B[0m  INV-\u001B[1;36m50346800002\u001B[0m   \u001B[1;36m5359\u001B[0m           FAREWAY STORES #\u001B[1;36m168\u001B[0m/ PEOSTA   \n\u001B[1;36m1\u001B[0m  INV-\u001B[1;36m50288400002\u001B[0m   \u001B[1;36m2524\u001B[0m           HY-VEE FOOD STORE \u001B[35m/\u001B[0m DUBUQUE   \n\u001B[1;36m2\u001B[0m  INV-\u001B[1;36m50389200010\u001B[0m   \u001B[1;36m3705\u001B[0m                         LIQUOR LOCKER   \n\u001B[1;36m3\u001B[0m  INV-\u001B[1;36m50258200004\u001B[0m   \u001B[1;36m5107\u001B[0m      KUM & GO #\u001B[1;36m4098\u001B[0m \u001B[35m/\u001B[0m WINDSOR HEIGHTS   \n\u001B[1;36m4\u001B[0m  INV-\u001B[1;36m50378700007\u001B[0m   \u001B[1;36m5203\u001B[0m  KIMMES COON RAPIDS COUNTRY STORE #\u001B[1;36m12\u001B[0m   \n\n               address             city  zipcode   county   category  \\\n\u001B[1;36m0\u001B[0m      \u001B[1;36m8400\u001B[0m NICC DRIVE           PEOSTA  \u001B[1;36m52068.0\u001B[0m  DUBUQUE  \u001B[1;36m1062400.0\u001B[0m   \n\u001B[1;36m1\u001B[0m        \u001B[1;36m3500\u001B[0m DODGE ST          DUBUQUE  \u001B[1;36m52001.0\u001B[0m  DUBUQUE  \u001B[1;36m1012200.0\u001B[0m   \n\u001B[1;36m2\u001B[0m     \u001B[1;36m507\u001B[0m 1ST AVE #\u001B[1;36m100\u001B[0m      ROCK RAPIDS  \u001B[1;36m51246.0\u001B[0m     LYON  \u001B[1;36m1012100.0\u001B[0m   \n\u001B[1;36m3\u001B[0m  \u001B[1;36m7229\u001B[0m UNIVERSITY AVE  WINDSOR HEIGHTS  \u001B[1;36m50311.0\u001B[0m     POLK  \u001B[1;36m1012100.0\u001B[0m   \n\u001B[1;36m4\u001B[0m     \u001B[1;36m516\u001B[0m, HIGHWAY \u001B[1;36m141\u001B[0m      COON RAPIDS  \u001B[1;36m50058.0\u001B[0m  CARROLL  \u001B[1;36m1701100.0\u001B[0m   \n\n                    category_name  vendor_no  \u001B[33m...\u001B[0m state_bottle_cost  \\\n\u001B[1;36m0\u001B[0m                      SPICED RUM      \u001B[1;36m259.0\u001B[0m  \u001B[33m...\u001B[0m              \u001B[1;36m6.00\u001B[0m   \n\u001B[1;36m1\u001B[0m                 SCOTCH WHISKIES      \u001B[1;36m260.0\u001B[0m  \u001B[33m...\u001B[0m             \u001B[1;36m28.24\u001B[0m   \n\u001B[1;36m2\u001B[0m               CANADIAN WHISKIES      \u001B[1;36m772.0\u001B[0m  \u001B[33m...\u001B[0m              \u001B[1;36m6.64\u001B[0m   \n\u001B[1;36m3\u001B[0m               CANADIAN WHISKIES      \u001B[1;36m259.0\u001B[0m  \u001B[33m...\u001B[0m              \u001B[1;36m8.50\u001B[0m   \n\u001B[1;36m4\u001B[0m  TEMPORARY & SPECIALTY PACKAGES      \u001B[1;36m260.0\u001B[0m  \u001B[33m...\u001B[0m             \u001B[1;36m17.49\u001B[0m   \n\n   state_bottle_retail sale_bottles  sale_dollars  sale_liters  sale_gallons  \\\n\u001B[1;36m0\u001B[0m                 \u001B[1;36m9.00\u001B[0m           \u001B[1;36m12\u001B[0m        \u001B[1;36m108.00\u001B[0m         \u001B[1;36m9.00\u001B[0m          \u001B[1;36m2.37\u001B[0m   \n\u001B[1;36m1\u001B[0m                \u001B[1;36m42.36\u001B[0m            \u001B[1;36m6\u001B[0m        \u001B[1;36m254.16\u001B[0m         \u001B[1;36m6.00\u001B[0m          \u001B[1;36m1.58\u001B[0m   \n\u001B[1;36m2\u001B[0m                 \u001B[1;36m9.96\u001B[0m           \u001B[1;36m12\u001B[0m        \u001B[1;36m119.52\u001B[0m        \u001B[1;36m12.00\u001B[0m          \u001B[1;36m3.17\u001B[0m   \n\u001B[1;36m3\u001B[0m                \u001B[1;36m12.75\u001B[0m            \u001B[1;36m1\u001B[0m         \u001B[1;36m12.75\u001B[0m         \u001B[1;36m0.05\u001B[0m          \u001B[1;36m0.01\u001B[0m   \n\u001B[1;36m4\u001B[0m                \u001B[1;36m26.24\u001B[0m           \u001B[1;36m12\u001B[0m        \u001B[1;36m314.88\u001B[0m         \u001B[1;36m9.00\u001B[0m          \u001B[1;36m2.37\u001B[0m   \n\n                                      store_location  year  month  day  \n\u001B[1;36m0\u001B[0m                                                NaN  \u001B[1;36m2022\u001B[0m      \u001B[1;36m8\u001B[0m   \u001B[1;36m16\u001B[0m  \n\u001B[1;36m1\u001B[0m                                                NaN  \u001B[1;36m2022\u001B[0m      \u001B[1;36m8\u001B[0m   \u001B[1;36m12\u001B[0m  \n\u001B[1;36m2\u001B[0m                                                NaN  \u001B[1;36m2022\u001B[0m      \u001B[1;36m8\u001B[0m   \u001B[1;36m17\u001B[0m  \n\u001B[1;36m3\u001B[0m                                                NaN  \u001B[1;36m2022\u001B[0m      \u001B[1;36m8\u001B[0m   \u001B[1;36m11\u001B[0m  \n\u001B[1;36m4\u001B[0m  \u001B[1m{\u001B[0m\u001B[32m'type'\u001B[0m: \u001B[32m'Point'\u001B[0m, \u001B[32m'coordinates'\u001B[0m: \u001B[1m[\u001B[0m\u001B[1;36m-94.678386\u001B[0m, \u001B[33m...\u001B[0m  \u001B[1;36m2022\u001B[0m      \u001B[1;36m8\u001B[0m   \u001B[1;36m16\u001B[0m  \n\n\u001B[1m[\u001B[0m\u001B[1;36m5\u001B[0m rows x \u001B[1;36m25\u001B[0m columns\u001B[1m]\u001B[0m",
      "text/html": "<div>\n<style scoped>\n    .dataframe tbody tr th:only-of-type {\n        vertical-align: middle;\n    }\n\n    .dataframe tbody tr th {\n        vertical-align: top;\n    }\n\n    .dataframe thead th {\n        text-align: right;\n    }\n</style>\n<table border=\"1\" class=\"dataframe\">\n  <thead>\n    <tr style=\"text-align: right;\">\n      <th></th>\n      <th>invoice_line_no</th>\n      <th>store</th>\n      <th>name</th>\n      <th>address</th>\n      <th>city</th>\n      <th>zipcode</th>\n      <th>county</th>\n      <th>category</th>\n      <th>category_name</th>\n      <th>vendor_no</th>\n      <th>...</th>\n      <th>state_bottle_cost</th>\n      <th>state_bottle_retail</th>\n      <th>sale_bottles</th>\n      <th>sale_dollars</th>\n      <th>sale_liters</th>\n      <th>sale_gallons</th>\n      <th>store_location</th>\n      <th>year</th>\n      <th>month</th>\n      <th>day</th>\n    </tr>\n  </thead>\n  <tbody>\n    <tr>\n      <th>0</th>\n      <td>INV-50346800002</td>\n      <td>5359</td>\n      <td>FAREWAY STORES #168/ PEOSTA</td>\n      <td>8400 NICC DRIVE</td>\n      <td>PEOSTA</td>\n      <td>52068.0</td>\n      <td>DUBUQUE</td>\n      <td>1062400.0</td>\n      <td>SPICED RUM</td>\n      <td>259.0</td>\n      <td>...</td>\n      <td>6.00</td>\n      <td>9.00</td>\n      <td>12</td>\n      <td>108.00</td>\n      <td>9.00</td>\n      <td>2.37</td>\n      <td>NaN</td>\n      <td>2022</td>\n      <td>8</td>\n      <td>16</td>\n    </tr>\n    <tr>\n      <th>1</th>\n      <td>INV-50288400002</td>\n      <td>2524</td>\n      <td>HY-VEE FOOD STORE / DUBUQUE</td>\n      <td>3500 DODGE ST</td>\n      <td>DUBUQUE</td>\n      <td>52001.0</td>\n      <td>DUBUQUE</td>\n      <td>1012200.0</td>\n      <td>SCOTCH WHISKIES</td>\n      <td>260.0</td>\n      <td>...</td>\n      <td>28.24</td>\n      <td>42.36</td>\n      <td>6</td>\n      <td>254.16</td>\n      <td>6.00</td>\n      <td>1.58</td>\n      <td>NaN</td>\n      <td>2022</td>\n      <td>8</td>\n      <td>12</td>\n    </tr>\n    <tr>\n      <th>2</th>\n      <td>INV-50389200010</td>\n      <td>3705</td>\n      <td>LIQUOR LOCKER</td>\n      <td>507 1ST AVE #100</td>\n      <td>ROCK RAPIDS</td>\n      <td>51246.0</td>\n      <td>LYON</td>\n      <td>1012100.0</td>\n      <td>CANADIAN WHISKIES</td>\n      <td>772.0</td>\n      <td>...</td>\n      <td>6.64</td>\n      <td>9.96</td>\n      <td>12</td>\n      <td>119.52</td>\n      <td>12.00</td>\n      <td>3.17</td>\n      <td>NaN</td>\n      <td>2022</td>\n      <td>8</td>\n      <td>17</td>\n    </tr>\n    <tr>\n      <th>3</th>\n      <td>INV-50258200004</td>\n      <td>5107</td>\n      <td>KUM &amp; GO #4098 / WINDSOR HEIGHTS</td>\n      <td>7229 UNIVERSITY AVE</td>\n      <td>WINDSOR HEIGHTS</td>\n      <td>50311.0</td>\n      <td>POLK</td>\n      <td>1012100.0</td>\n      <td>CANADIAN WHISKIES</td>\n      <td>259.0</td>\n      <td>...</td>\n      <td>8.50</td>\n      <td>12.75</td>\n      <td>1</td>\n      <td>12.75</td>\n      <td>0.05</td>\n      <td>0.01</td>\n      <td>NaN</td>\n      <td>2022</td>\n      <td>8</td>\n      <td>11</td>\n    </tr>\n    <tr>\n      <th>4</th>\n      <td>INV-50378700007</td>\n      <td>5203</td>\n      <td>KIMMES COON RAPIDS COUNTRY STORE #12</td>\n      <td>516, HIGHWAY 141</td>\n      <td>COON RAPIDS</td>\n      <td>50058.0</td>\n      <td>CARROLL</td>\n      <td>1701100.0</td>\n      <td>TEMPORARY &amp; SPECIALTY PACKAGES</td>\n      <td>260.0</td>\n      <td>...</td>\n      <td>17.49</td>\n      <td>26.24</td>\n      <td>12</td>\n      <td>314.88</td>\n      <td>9.00</td>\n      <td>2.37</td>\n      <td>{'type': 'Point', 'coordinates': [-94.678386, ...</td>\n      <td>2022</td>\n      <td>8</td>\n      <td>16</td>\n    </tr>\n  </tbody>\n</table>\n<p>5 rows × 25 columns</p>\n</div>"
     },
     "execution_count": 53,
     "metadata": {},
     "output_type": "execute_result"
    }
   ],
   "source": [
    "df3.head()"
   ],
   "metadata": {
    "collapsed": false,
    "ExecuteTime": {
     "end_time": "2023-12-04T23:05:29.971332996Z",
     "start_time": "2023-12-04T23:05:29.925342568Z"
    }
   },
   "id": "8b8927451c80fc57"
  },
  {
   "cell_type": "code",
   "execution_count": 54,
   "id": "d9cf6dccf97495be",
   "metadata": {
    "collapsed": false,
    "ExecuteTime": {
     "end_time": "2023-12-04T23:05:41.369765974Z",
     "start_time": "2023-12-04T23:05:41.196031395Z"
    }
   },
   "outputs": [],
   "source": [
    "# Displaying rows with null values in 'store_location'\n",
    "null_store_location = df3[df3['store_location'].isnull()]"
   ]
  },
  {
   "cell_type": "code",
   "execution_count": 55,
   "id": "c87f26666149aeda",
   "metadata": {
    "collapsed": false,
    "ExecuteTime": {
     "end_time": "2023-12-04T23:05:41.407697028Z",
     "start_time": "2023-12-04T23:05:41.381386903Z"
    }
   },
   "outputs": [
    {
     "data": {
      "text/plain": "",
      "text/html": "<pre style=\"white-space:pre;overflow-x:auto;line-height:normal;font-family:Menlo,'DejaVu Sans Mono',consolas,'Courier New',monospace\"></pre>\n"
     },
     "metadata": {},
     "output_type": "display_data"
    },
    {
     "data": {
      "text/plain": "\n   invoice_line_no  store                              name  \\\n\u001B[1;36m0\u001B[0m  INV-\u001B[1;36m50346800002\u001B[0m   \u001B[1;36m5359\u001B[0m       FAREWAY STORES #\u001B[1;36m168\u001B[0m/ PEOSTA   \n\u001B[1;36m1\u001B[0m  INV-\u001B[1;36m50288400002\u001B[0m   \u001B[1;36m2524\u001B[0m       HY-VEE FOOD STORE \u001B[35m/\u001B[0m DUBUQUE   \n\u001B[1;36m2\u001B[0m  INV-\u001B[1;36m50389200010\u001B[0m   \u001B[1;36m3705\u001B[0m                     LIQUOR LOCKER   \n\u001B[1;36m3\u001B[0m  INV-\u001B[1;36m50258200004\u001B[0m   \u001B[1;36m5107\u001B[0m  KUM & GO #\u001B[1;36m4098\u001B[0m \u001B[35m/\u001B[0m WINDSOR HEIGHTS   \n\u001B[1;36m9\u001B[0m  INV-\u001B[1;36m50298300021\u001B[0m   \u001B[1;36m4169\u001B[0m           SUPER QUICK \u001B[1;36m2\u001B[0m \u001B[35m/\u001B[0m HUBBELL   \n\n               address             city  zipcode   county   category  \\\n\u001B[1;36m0\u001B[0m      \u001B[1;36m8400\u001B[0m NICC DRIVE           PEOSTA  \u001B[1;36m52068.0\u001B[0m  DUBUQUE  \u001B[1;36m1062400.0\u001B[0m   \n\u001B[1;36m1\u001B[0m        \u001B[1;36m3500\u001B[0m DODGE ST          DUBUQUE  \u001B[1;36m52001.0\u001B[0m  DUBUQUE  \u001B[1;36m1012200.0\u001B[0m   \n\u001B[1;36m2\u001B[0m     \u001B[1;36m507\u001B[0m 1ST AVE #\u001B[1;36m100\u001B[0m      ROCK RAPIDS  \u001B[1;36m51246.0\u001B[0m     LYON  \u001B[1;36m1012100.0\u001B[0m   \n\u001B[1;36m3\u001B[0m  \u001B[1;36m7229\u001B[0m UNIVERSITY AVE  WINDSOR HEIGHTS  \u001B[1;36m50311.0\u001B[0m     POLK  \u001B[1;36m1012100.0\u001B[0m   \n\u001B[1;36m9\u001B[0m     \u001B[1;36m1824\u001B[0m HUBBELL AVE       DES MOINES  \u001B[1;36m50317.0\u001B[0m     POLK  \u001B[1;36m1022200.0\u001B[0m   \n\n        category_name  vendor_no  \u001B[33m...\u001B[0m state_bottle_cost  state_bottle_retail  \\\n\u001B[1;36m0\u001B[0m          SPICED RUM      \u001B[1;36m259.0\u001B[0m  \u001B[33m...\u001B[0m              \u001B[1;36m6.00\u001B[0m                 \u001B[1;36m9.00\u001B[0m   \n\u001B[1;36m1\u001B[0m     SCOTCH WHISKIES      \u001B[1;36m260.0\u001B[0m  \u001B[33m...\u001B[0m             \u001B[1;36m28.24\u001B[0m                \u001B[1;36m42.36\u001B[0m   \n\u001B[1;36m2\u001B[0m   CANADIAN WHISKIES      \u001B[1;36m772.0\u001B[0m  \u001B[33m...\u001B[0m              \u001B[1;36m6.64\u001B[0m                 \u001B[1;36m9.96\u001B[0m   \n\u001B[1;36m3\u001B[0m   CANADIAN WHISKIES      \u001B[1;36m259.0\u001B[0m  \u001B[33m...\u001B[0m              \u001B[1;36m8.50\u001B[0m                \u001B[1;36m12.75\u001B[0m   \n\u001B[1;36m9\u001B[0m  \u001B[1;36m100\u001B[0m% AGAVE TEQUILA      \u001B[1;36m395.0\u001B[0m  \u001B[33m...\u001B[0m             \u001B[1;36m22.41\u001B[0m                \u001B[1;36m33.62\u001B[0m   \n\n  sale_bottles  sale_dollars  sale_liters  sale_gallons  store_location  year  \\\n\u001B[1;36m0\u001B[0m           \u001B[1;36m12\u001B[0m        \u001B[1;36m108.00\u001B[0m         \u001B[1;36m9.00\u001B[0m          \u001B[1;36m2.37\u001B[0m             NaN  \u001B[1;36m2022\u001B[0m   \n\u001B[1;36m1\u001B[0m            \u001B[1;36m6\u001B[0m        \u001B[1;36m254.16\u001B[0m         \u001B[1;36m6.00\u001B[0m          \u001B[1;36m1.58\u001B[0m             NaN  \u001B[1;36m2022\u001B[0m   \n\u001B[1;36m2\u001B[0m           \u001B[1;36m12\u001B[0m        \u001B[1;36m119.52\u001B[0m        \u001B[1;36m12.00\u001B[0m          \u001B[1;36m3.17\u001B[0m             NaN  \u001B[1;36m2022\u001B[0m   \n\u001B[1;36m3\u001B[0m            \u001B[1;36m1\u001B[0m         \u001B[1;36m12.75\u001B[0m         \u001B[1;36m0.05\u001B[0m          \u001B[1;36m0.01\u001B[0m             NaN  \u001B[1;36m2022\u001B[0m   \n\u001B[1;36m9\u001B[0m            \u001B[1;36m3\u001B[0m        \u001B[1;36m100.86\u001B[0m         \u001B[1;36m2.25\u001B[0m          \u001B[1;36m0.59\u001B[0m             NaN  \u001B[1;36m2022\u001B[0m   \n\n   month  day  \n\u001B[1;36m0\u001B[0m      \u001B[1;36m8\u001B[0m   \u001B[1;36m16\u001B[0m  \n\u001B[1;36m1\u001B[0m      \u001B[1;36m8\u001B[0m   \u001B[1;36m12\u001B[0m  \n\u001B[1;36m2\u001B[0m      \u001B[1;36m8\u001B[0m   \u001B[1;36m17\u001B[0m  \n\u001B[1;36m3\u001B[0m      \u001B[1;36m8\u001B[0m   \u001B[1;36m11\u001B[0m  \n\u001B[1;36m9\u001B[0m      \u001B[1;36m8\u001B[0m   \u001B[1;36m12\u001B[0m  \n\n\u001B[1m[\u001B[0m\u001B[1;36m5\u001B[0m rows x \u001B[1;36m25\u001B[0m columns\u001B[1m]\u001B[0m",
      "text/html": "<div>\n<style scoped>\n    .dataframe tbody tr th:only-of-type {\n        vertical-align: middle;\n    }\n\n    .dataframe tbody tr th {\n        vertical-align: top;\n    }\n\n    .dataframe thead th {\n        text-align: right;\n    }\n</style>\n<table border=\"1\" class=\"dataframe\">\n  <thead>\n    <tr style=\"text-align: right;\">\n      <th></th>\n      <th>invoice_line_no</th>\n      <th>store</th>\n      <th>name</th>\n      <th>address</th>\n      <th>city</th>\n      <th>zipcode</th>\n      <th>county</th>\n      <th>category</th>\n      <th>category_name</th>\n      <th>vendor_no</th>\n      <th>...</th>\n      <th>state_bottle_cost</th>\n      <th>state_bottle_retail</th>\n      <th>sale_bottles</th>\n      <th>sale_dollars</th>\n      <th>sale_liters</th>\n      <th>sale_gallons</th>\n      <th>store_location</th>\n      <th>year</th>\n      <th>month</th>\n      <th>day</th>\n    </tr>\n  </thead>\n  <tbody>\n    <tr>\n      <th>0</th>\n      <td>INV-50346800002</td>\n      <td>5359</td>\n      <td>FAREWAY STORES #168/ PEOSTA</td>\n      <td>8400 NICC DRIVE</td>\n      <td>PEOSTA</td>\n      <td>52068.0</td>\n      <td>DUBUQUE</td>\n      <td>1062400.0</td>\n      <td>SPICED RUM</td>\n      <td>259.0</td>\n      <td>...</td>\n      <td>6.00</td>\n      <td>9.00</td>\n      <td>12</td>\n      <td>108.00</td>\n      <td>9.00</td>\n      <td>2.37</td>\n      <td>NaN</td>\n      <td>2022</td>\n      <td>8</td>\n      <td>16</td>\n    </tr>\n    <tr>\n      <th>1</th>\n      <td>INV-50288400002</td>\n      <td>2524</td>\n      <td>HY-VEE FOOD STORE / DUBUQUE</td>\n      <td>3500 DODGE ST</td>\n      <td>DUBUQUE</td>\n      <td>52001.0</td>\n      <td>DUBUQUE</td>\n      <td>1012200.0</td>\n      <td>SCOTCH WHISKIES</td>\n      <td>260.0</td>\n      <td>...</td>\n      <td>28.24</td>\n      <td>42.36</td>\n      <td>6</td>\n      <td>254.16</td>\n      <td>6.00</td>\n      <td>1.58</td>\n      <td>NaN</td>\n      <td>2022</td>\n      <td>8</td>\n      <td>12</td>\n    </tr>\n    <tr>\n      <th>2</th>\n      <td>INV-50389200010</td>\n      <td>3705</td>\n      <td>LIQUOR LOCKER</td>\n      <td>507 1ST AVE #100</td>\n      <td>ROCK RAPIDS</td>\n      <td>51246.0</td>\n      <td>LYON</td>\n      <td>1012100.0</td>\n      <td>CANADIAN WHISKIES</td>\n      <td>772.0</td>\n      <td>...</td>\n      <td>6.64</td>\n      <td>9.96</td>\n      <td>12</td>\n      <td>119.52</td>\n      <td>12.00</td>\n      <td>3.17</td>\n      <td>NaN</td>\n      <td>2022</td>\n      <td>8</td>\n      <td>17</td>\n    </tr>\n    <tr>\n      <th>3</th>\n      <td>INV-50258200004</td>\n      <td>5107</td>\n      <td>KUM &amp; GO #4098 / WINDSOR HEIGHTS</td>\n      <td>7229 UNIVERSITY AVE</td>\n      <td>WINDSOR HEIGHTS</td>\n      <td>50311.0</td>\n      <td>POLK</td>\n      <td>1012100.0</td>\n      <td>CANADIAN WHISKIES</td>\n      <td>259.0</td>\n      <td>...</td>\n      <td>8.50</td>\n      <td>12.75</td>\n      <td>1</td>\n      <td>12.75</td>\n      <td>0.05</td>\n      <td>0.01</td>\n      <td>NaN</td>\n      <td>2022</td>\n      <td>8</td>\n      <td>11</td>\n    </tr>\n    <tr>\n      <th>9</th>\n      <td>INV-50298300021</td>\n      <td>4169</td>\n      <td>SUPER QUICK 2 / HUBBELL</td>\n      <td>1824 HUBBELL AVE</td>\n      <td>DES MOINES</td>\n      <td>50317.0</td>\n      <td>POLK</td>\n      <td>1022200.0</td>\n      <td>100% AGAVE TEQUILA</td>\n      <td>395.0</td>\n      <td>...</td>\n      <td>22.41</td>\n      <td>33.62</td>\n      <td>3</td>\n      <td>100.86</td>\n      <td>2.25</td>\n      <td>0.59</td>\n      <td>NaN</td>\n      <td>2022</td>\n      <td>8</td>\n      <td>12</td>\n    </tr>\n  </tbody>\n</table>\n<p>5 rows × 25 columns</p>\n</div>"
     },
     "execution_count": 55,
     "metadata": {},
     "output_type": "execute_result"
    }
   ],
   "source": [
    "# Displaying the first few rows of these subsets\n",
    "null_store_location.head()"
   ]
  },
  {
   "cell_type": "code",
   "execution_count": 56,
   "outputs": [
    {
     "data": {
      "text/plain": "",
      "text/html": "<pre style=\"white-space:pre;overflow-x:auto;line-height:normal;font-family:Menlo,'DejaVu Sans Mono',consolas,'Courier New',monospace\"></pre>\n"
     },
     "metadata": {},
     "output_type": "display_data"
    },
    {
     "data": {
      "text/plain": "\u001B[1;36m762757\u001B[0m"
     },
     "execution_count": 56,
     "metadata": {},
     "output_type": "execute_result"
    }
   ],
   "source": [
    "df3['store_location'].isnull().sum()"
   ],
   "metadata": {
    "collapsed": false,
    "ExecuteTime": {
     "end_time": "2023-12-04T23:05:53.115148653Z",
     "start_time": "2023-12-04T23:05:53.098662333Z"
    }
   },
   "id": "ea6ab7c7bb56bd24"
  },
  {
   "cell_type": "code",
   "execution_count": 57,
   "id": "e85f094eb8d782a6",
   "metadata": {
    "collapsed": false,
    "ExecuteTime": {
     "end_time": "2023-12-04T23:05:53.349490260Z",
     "start_time": "2023-12-04T23:05:53.110313890Z"
    }
   },
   "outputs": [],
   "source": [
    "#Fullfilling missing values from store_location based on store_id ['store']\n",
    "df4 = pd.DataFrame(df3)"
   ]
  },
  {
   "cell_type": "code",
   "execution_count": null,
   "id": "73383d59ee0ec12",
   "metadata": {
    "collapsed": false,
    "is_executing": true,
    "ExecuteTime": {
     "start_time": "2023-12-04T23:06:55.638124129Z"
    }
   },
   "outputs": [],
   "source": [
    "# Step 1: Creating a mapping between 'store' and the most common 'store_location' for that store\n",
    "store_to_location = df4.dropna(subset=['store_location']).groupby('store')['store_location'].agg(lambda x: x.value_counts().index[0]).to_dict()\n",
    "\n",
    "# Step 2: Using this mapping to fill missing 'store_location' values\n",
    "df4['store_location'] = df4.apply(lambda row: store_to_location.get(row['store'], row['store_location']) if pd.isnull(row['store_location']) else row['store_location'], axis=1)"
   ]
  },
  {
   "cell_type": "code",
   "execution_count": null,
   "outputs": [],
   "source": [
    "df4['store_location'].isnull().sum()"
   ],
   "metadata": {
    "collapsed": false,
    "is_executing": true
   },
   "id": "c1c1cf4c30380d7b"
  },
  {
   "cell_type": "code",
   "execution_count": null,
   "id": "491bdfaf0ce94b5a",
   "metadata": {
    "collapsed": false,
    "ExecuteTime": {
     "start_time": "2023-12-04T21:48:23.111345907Z"
    }
   },
   "outputs": [],
   "source": [
    "#Still too many records to avoid !\n",
    "# Splitting store_location\n",
    "import json\n",
    "\n",
    "def process_store_location(location_str):\n",
    "    try:\n",
    "        location_dict = json.loads(location_str.replace(\"'\", \"\\\"\"))\n",
    "        return location_dict['coordinates'][0], location_dict['coordinates'][1]\n",
    "    except (json.JSONDecodeError, KeyError, AttributeError):\n",
    "        return None, None\n",
    "\n",
    "# Creating columns longitude and latitude from store_location\n",
    "df4['longitude'], df4['latitude'] = zip(*df4['store_location'].apply(process_store_location))"
   ]
  },
  {
   "cell_type": "code",
   "execution_count": null,
   "outputs": [],
   "source": [
    "# Filtruj DataFrame, aby znaleźć rekordy, gdzie 'store_location' jest pusty\n",
    "filtered_df = df4[df4['store_location'].isna()]\n",
    "\n",
    "# Znajdź unikalne wartości w kolumnie 'address' w przefiltrowanym DataFrame\n",
    "unique_addresses_count = filtered_df['address'].nunique()\n",
    "\n",
    "# Wypisz liczbę unikalnych adresów\n",
    "print(f\"Liczba unikalnych adresów z pustym 'store_location': {unique_addresses_count}\")"
   ],
   "metadata": {
    "collapsed": false,
    "ExecuteTime": {
     "start_time": "2023-12-04T21:48:23.111527038Z"
    }
   },
   "id": "3cc483b6eb526685"
  },
  {
   "cell_type": "code",
   "execution_count": null,
   "outputs": [],
   "source": [
    "from geopy.extra.rate_limiter import RateLimiter\n",
    "from geopy.geocoders import Nominatim\n",
    "import time\n",
    "\n",
    "# Inicjalizacja geokodera z Nominatim\n",
    "geolocator = Nominatim(user_agent=\"my_geocoding_app\", timeout=10)\n",
    "geocode = RateLimiter(geolocator.geocode, min_delay_seconds=1)\n",
    "\n",
    "# Słownik do przechowywania już znalezionych współrzędnych\n",
    "found_coordinates = {}\n",
    "count = 0\n",
    "\n",
    "def geocode_and_fill_coordinates(row):\n",
    "    global count\n",
    "    \n",
    "    time.sleep(3)  # Opóźnienie między zapytaniami\n",
    "    address = row['address']\n",
    "    city = row['city']\n",
    "    \n",
    "    if pd.notnull(address) and pd.notnull(city):\n",
    "        # Sprawdź, czy adres już został przetworzony\n",
    "        if (address, city) in found_coordinates:\n",
    "            return found_coordinates[(address, city)]\n",
    "\n",
    "        try:\n",
    "            # Wykonanie geokodowania\n",
    "            location = geocode(f\"{address}, {city}\")\n",
    "\n",
    "            if location:\n",
    "                lat, lon = location.latitude, location.longitude\n",
    "                # Zapisz znalezione współrzędne w słowniku\n",
    "                found_coordinates[(address, city)] = (lat, lon)\n",
    "                count += 1\n",
    "                print(f\"count: {count}, Uzupełniono dane geograficzne dla adresu: {address}, miasta: {city}\")\n",
    "                return lat, lon\n",
    "        except Exception as e:\n",
    "            print(f\"Błąd podczas wykonywania geokodowania: {e}\")\n",
    "\n",
    "    return None, None\n",
    "\n",
    "#Znajdź unikalne wartości w kolumnie 'address' w przefiltrowanym DataFrame\n",
    "unique_addresses = filtered_df['address'].unique()\n",
    "unique_addresses"
   ],
   "metadata": {
    "collapsed": false,
    "ExecuteTime": {
     "start_time": "2023-12-04T21:48:23.111683382Z"
    }
   },
   "id": "7f504026e25c699a"
  },
  {
   "cell_type": "code",
   "execution_count": null,
   "outputs": [],
   "source": [
    "# Iteracja tylko przez unikalne adresy\n",
    "for address in unique_addresses:\n",
    "    temp_df = filtered_df[filtered_df['address'] == address]\n",
    "    geocode_and_fill_coordinates(temp_df.iloc[0])"
   ],
   "metadata": {
    "collapsed": false,
    "ExecuteTime": {
     "start_time": "2023-12-04T21:48:23.111863992Z"
    }
   },
   "id": "b3574328f7ebd740"
  },
  {
   "cell_type": "code",
   "execution_count": null,
   "outputs": [],
   "source": [
    "# Uaktualnij kolumny 'latitude' i 'longitude' korzystając ze słownika 'found_coordinates'\n",
    "for index, row in df4.iterrows():\n",
    "    if (row['address'], row['city']) in found_coordinates:\n",
    "        lat, lon = found_coordinates[(row['address'], row['city'])]\n",
    "        df4.at[index, 'latitude'] = lat\n",
    "        df4.at[index, 'longitude'] = lon"
   ],
   "metadata": {
    "collapsed": false,
    "ExecuteTime": {
     "start_time": "2023-12-04T21:48:23.153457417Z"
    }
   },
   "id": "c5ba85cfb477da9b"
  },
  {
   "cell_type": "code",
   "execution_count": null,
   "id": "2bdde6880004527f",
   "metadata": {
    "collapsed": false,
    "ExecuteTime": {
     "start_time": "2023-12-04T21:48:23.154516381Z"
    }
   },
   "outputs": [],
   "source": [
    "# df4.drop(columns=[':@computed_region_3r5t_5243', ':@computed_region_wnea_7qqw', ':@computed_region_i9mz_6gmt', ':@computed_region_uhgg_e8y2', ':@computed_region_e7ym_nrbf'], inplace=True)"
   ]
  },
  {
   "cell_type": "code",
   "execution_count": null,
   "outputs": [],
   "source": [
    "found_coordinates"
   ],
   "metadata": {
    "collapsed": false,
    "ExecuteTime": {
     "start_time": "2023-12-04T21:48:23.155123273Z"
    }
   },
   "id": "2169e68ca61a9fbd"
  },
  {
   "cell_type": "code",
   "execution_count": null,
   "outputs": [],
   "source": [
    "null_latitude = df4['latitude'].isnull().sum()\n",
    "null_longitude = df4['longitude'].isnull().sum()\n",
    "\n",
    "print(f\"Liczba null w kolumnie 'latitude': {null_latitude}\")\n",
    "print(f\"Liczba null w kolumnie 'longitude': {null_longitude}\")\n"
   ],
   "metadata": {
    "collapsed": false,
    "ExecuteTime": {
     "start_time": "2023-12-04T21:48:23.155307029Z"
    }
   },
   "id": "b444fca8f00b6979"
  },
  {
   "cell_type": "code",
   "execution_count": null,
   "outputs": [],
   "source": [
    "df5 = df4.dropna(subset=['latitude', 'longitude'])"
   ],
   "metadata": {
    "collapsed": false,
    "ExecuteTime": {
     "start_time": "2023-12-04T21:48:23.155446221Z"
    }
   },
   "id": "86ebb24c3a4b780a"
  },
  {
   "cell_type": "code",
   "execution_count": null,
   "outputs": [],
   "source": [
    "df6 = df5.drop('store_location', axis=1)"
   ],
   "metadata": {
    "collapsed": false,
    "ExecuteTime": {
     "start_time": "2023-12-04T21:48:23.155586175Z"
    }
   },
   "id": "c6dafca23ff7b6aa"
  },
  {
   "cell_type": "code",
   "execution_count": null,
   "outputs": [],
   "source": [
    "df6.isnull().sum().sum()"
   ],
   "metadata": {
    "collapsed": false,
    "ExecuteTime": {
     "start_time": "2023-12-04T21:48:23.155760052Z"
    }
   },
   "id": "75cc76a86d556dce"
  },
  {
   "cell_type": "code",
   "execution_count": null,
   "id": "2e9d3cc6d10a8bc2",
   "metadata": {
    "collapsed": false,
    "ExecuteTime": {
     "start_time": "2023-12-04T21:48:23.155937917Z"
    }
   },
   "outputs": [],
   "source": [
    "finalDf = pd.DataFrame(df6)"
   ]
  },
  {
   "cell_type": "code",
   "execution_count": null,
   "id": "4864dbcbeb2077a6",
   "metadata": {
    "collapsed": false,
    "ExecuteTime": {
     "start_time": "2023-12-04T21:48:23.156110482Z"
    }
   },
   "outputs": [],
   "source": [
    "finalDf.head()"
   ]
  },
  {
   "cell_type": "code",
   "execution_count": null,
   "id": "edd9562764157360",
   "metadata": {
    "collapsed": false,
    "ExecuteTime": {
     "start_time": "2023-12-04T21:48:23.156333331Z"
    }
   },
   "outputs": [],
   "source": [
    "finalDf.columns"
   ]
  },
  {
   "cell_type": "code",
   "execution_count": null,
   "outputs": [],
   "source": [
    "print(finalDf.shape[0], finalDf.shape[1])"
   ],
   "metadata": {
    "collapsed": false,
    "ExecuteTime": {
     "start_time": "2023-12-04T21:48:23.197251995Z"
    }
   },
   "id": "a257837b0c5fcbee"
  },
  {
   "cell_type": "code",
   "execution_count": null,
   "outputs": [],
   "source": [
    "finalDf.to_csv('rawDataWithlocationFullfilled.csv', index=False)"
   ],
   "metadata": {
    "collapsed": false,
    "ExecuteTime": {
     "start_time": "2023-12-04T21:48:23.197755513Z"
    }
   },
   "id": "79b2bda27a2f61eb"
  }
 ],
 "metadata": {
  "kernelspec": {
   "display_name": "Python 3",
   "language": "python",
   "name": "python3"
  },
  "language_info": {
   "codemirror_mode": {
    "name": "ipython",
    "version": 3
   },
   "file_extension": ".py",
   "mimetype": "text/x-python",
   "name": "python",
   "nbconvert_exporter": "python",
   "pygments_lexer": "ipython3",
   "version": "3.7.16"
  }
 },
 "nbformat": 4,
 "nbformat_minor": 5
}
