{
 "cells": [
  {
   "cell_type": "code",
   "execution_count": 82,
   "id": "initial_id",
   "metadata": {
    "collapsed": true,
    "ExecuteTime": {
     "end_time": "2023-11-26T21:09:19.743921851Z",
     "start_time": "2023-11-26T21:09:15.956303605Z"
    }
   },
   "outputs": [
    {
     "data": {
      "text/plain": "\u001B[2;36m[11/26/23 22:09:19]\u001B[0m\u001B[2;36m \u001B[0m\u001B[31mWARNING \u001B[0m \u001B[35m/tmp/ipykernel_125863/\u001B[0m\u001B[95m2188064087.py\u001B[0m:\u001B[1;36m4\u001B[0m: DtypeWarning: Columns \u001B[1m(\u001B[0m\u001B[1;36m6\u001B[0m\u001B[1m)\u001B[0m have  \u001B]8;id=239784;file:///usr/lib/python3.10/warnings.py\u001B\\\u001B[2mwarnings.py\u001B[0m\u001B]8;;\u001B\\\u001B[2m:\u001B[0m\u001B]8;id=903277;file:///usr/lib/python3.10/warnings.py#109\u001B\\\u001B[2m109\u001B[0m\u001B]8;;\u001B\\\n\u001B[2;36m                    \u001B[0m         mixed types. Specify dtype option on import or set \u001B[33mlow_memory\u001B[0m=\u001B[3;91mFalse\u001B[0m.   \u001B[2m               \u001B[0m\n\u001B[2;36m                    \u001B[0m           df = \u001B[1;35mpd.read_csv\u001B[0m\u001B[1m(\u001B[0m\u001B[32m'../data/01_raw/iowa_liquor_sales_subset.csv'\u001B[0m\u001B[1m)\u001B[0m      \u001B[2m               \u001B[0m\n\u001B[2;36m                    \u001B[0m                                                                                \u001B[2m               \u001B[0m\n",
      "text/html": "<pre style=\"white-space:pre;overflow-x:auto;line-height:normal;font-family:Menlo,'DejaVu Sans Mono',consolas,'Courier New',monospace\"><span style=\"color: #7fbfbf; text-decoration-color: #7fbfbf\">[11/26/23 22:09:19] </span><span style=\"color: #800000; text-decoration-color: #800000\">WARNING </span> <span style=\"color: #800080; text-decoration-color: #800080\">/tmp/ipykernel_125863/</span><span style=\"color: #ff00ff; text-decoration-color: #ff00ff\">2188064087.py</span>:<span style=\"color: #008080; text-decoration-color: #008080; font-weight: bold\">4</span>: DtypeWarning: Columns <span style=\"font-weight: bold\">(</span><span style=\"color: #008080; text-decoration-color: #008080; font-weight: bold\">6</span><span style=\"font-weight: bold\">)</span> have  <a href=\"file:///usr/lib/python3.10/warnings.py\" target=\"_blank\"><span style=\"color: #7f7f7f; text-decoration-color: #7f7f7f\">warnings.py</span></a><span style=\"color: #7f7f7f; text-decoration-color: #7f7f7f\">:</span><a href=\"file:///usr/lib/python3.10/warnings.py#109\" target=\"_blank\"><span style=\"color: #7f7f7f; text-decoration-color: #7f7f7f\">109</span></a>\n<span style=\"color: #7fbfbf; text-decoration-color: #7fbfbf\">                    </span>         mixed types. Specify dtype option on import or set <span style=\"color: #808000; text-decoration-color: #808000\">low_memory</span>=<span style=\"color: #ff0000; text-decoration-color: #ff0000; font-style: italic\">False</span>.   <span style=\"color: #7f7f7f; text-decoration-color: #7f7f7f\">               </span>\n<span style=\"color: #7fbfbf; text-decoration-color: #7fbfbf\">                    </span>           df = <span style=\"color: #800080; text-decoration-color: #800080; font-weight: bold\">pd.read_csv</span><span style=\"font-weight: bold\">(</span><span style=\"color: #008000; text-decoration-color: #008000\">'../data/01_raw/iowa_liquor_sales_subset.csv'</span><span style=\"font-weight: bold\">)</span>      <span style=\"color: #7f7f7f; text-decoration-color: #7f7f7f\">               </span>\n<span style=\"color: #7fbfbf; text-decoration-color: #7fbfbf\">                    </span>                                                                                <span style=\"color: #7f7f7f; text-decoration-color: #7f7f7f\">               </span>\n</pre>\n"
     },
     "metadata": {},
     "output_type": "display_data"
    }
   ],
   "source": [
    "import kedro.framework.cli.utils\n",
    "import pandas as pd\n",
    "import os\n",
    "df = pd.read_csv('../data/01_raw/iowa_liquor_sales_subset.csv')"
   ]
  },
  {
   "cell_type": "code",
   "execution_count": 83,
   "id": "6867f5b4f9b26350",
   "metadata": {
    "collapsed": false,
    "ExecuteTime": {
     "end_time": "2023-11-26T21:09:19.769489001Z",
     "start_time": "2023-11-26T21:09:19.756764408Z"
    }
   },
   "outputs": [
    {
     "data": {
      "text/plain": "",
      "text/html": "<pre style=\"white-space:pre;overflow-x:auto;line-height:normal;font-family:Menlo,'DejaVu Sans Mono',consolas,'Courier New',monospace\"></pre>\n"
     },
     "metadata": {},
     "output_type": "display_data"
    },
    {
     "data": {
      "text/plain": "\n   invoice_line_no                     date  store  \\\n\u001B[1;36m0\u001B[0m  INV-\u001B[1;36m48770300006\u001B[0m  \u001B[1;36m2022\u001B[0m-\u001B[1;36m06\u001B[0m-29T\u001B[1;92m00:00:00\u001B[0m.\u001B[1;36m000\u001B[0m   \u001B[1;36m5900\u001B[0m   \n\u001B[1;36m1\u001B[0m  INV-\u001B[1;36m48782900001\u001B[0m  \u001B[1;36m2022\u001B[0m-\u001B[1;36m06\u001B[0m-29T\u001B[1;92m00:00:00\u001B[0m.\u001B[1;36m000\u001B[0m   \u001B[1;36m3390\u001B[0m   \n\u001B[1;36m2\u001B[0m  INV-\u001B[1;36m48703200006\u001B[0m  \u001B[1;36m2022\u001B[0m-\u001B[1;36m06\u001B[0m-27T\u001B[1;92m00:00:00\u001B[0m.\u001B[1;36m000\u001B[0m   \u001B[1;36m4604\u001B[0m   \n\u001B[1;36m3\u001B[0m  INV-\u001B[1;36m48692600064\u001B[0m  \u001B[1;36m2022\u001B[0m-\u001B[1;36m06\u001B[0m-27T\u001B[1;92m00:00:00\u001B[0m.\u001B[1;36m000\u001B[0m   \u001B[1;36m2552\u001B[0m   \n\u001B[1;36m4\u001B[0m  INV-\u001B[1;36m48679200008\u001B[0m  \u001B[1;36m2022\u001B[0m-\u001B[1;36m06\u001B[0m-24T\u001B[1;92m00:00:00\u001B[0m.\u001B[1;36m000\u001B[0m   \u001B[1;36m2523\u001B[0m   \n\n                                  name                address          city  \\\n\u001B[1;36m0\u001B[0m         NEW STAR FLETCHER \u001B[35m/\u001B[0m WATERLOO       \u001B[1;36m315\u001B[0m FLETCHER AVE      WATERLOO   \n\u001B[1;36m1\u001B[0m                OKOBOJI AVENUE LIQUOR    \u001B[1;36m1610\u001B[0m OKOBOJI AVENUE       MILFORD   \n\u001B[1;36m2\u001B[0m            PIT STOP LIQUORS \u001B[35m/\u001B[0m NEWTON        \u001B[1;36m1324\u001B[0m, 1ST AVE E        NEWTON   \n\u001B[1;36m3\u001B[0m  HY-VEE FOOD STORE #\u001B[1;36m3\u001B[0m \u001B[35m/\u001B[0m CEDAR RAPIDS  \u001B[1;36m20\u001B[0m WILSON AVENUE WEST  CEDAR RAPIDS   \n\u001B[1;36m4\u001B[0m      HY-VEE FOOD STORE \u001B[35m/\u001B[0m CENTERVILLE             \u001B[1;36m609\u001B[0m N 18TH   CENTERVILLE   \n\n   zipcode                                     store_location  county_number  \\\n\u001B[1;36m0\u001B[0m  \u001B[1;36m50701.0\u001B[0m  \u001B[1m{\u001B[0m\u001B[32m'type'\u001B[0m: \u001B[32m'Point'\u001B[0m, \u001B[32m'coordinates'\u001B[0m: \u001B[1m[\u001B[0m\u001B[1;36m-92.367142\u001B[0m, \u001B[33m...\u001B[0m            \u001B[1;36m7.0\u001B[0m   \n\u001B[1;36m1\u001B[0m  \u001B[1;36m51351.0\u001B[0m  \u001B[1m{\u001B[0m\u001B[32m'type'\u001B[0m: \u001B[32m'Point'\u001B[0m, \u001B[32m'coordinates'\u001B[0m: \u001B[1m[\u001B[0m\u001B[1;36m-95.149955\u001B[0m, \u001B[33m...\u001B[0m           \u001B[1;36m30.0\u001B[0m   \n\u001B[1;36m2\u001B[0m  \u001B[1;36m50208.0\u001B[0m  \u001B[1m{\u001B[0m\u001B[32m'type'\u001B[0m: \u001B[32m'Point'\u001B[0m, \u001B[32m'coordinates'\u001B[0m: \u001B[1m[\u001B[0m\u001B[1;36m-93.035653\u001B[0m, \u001B[33m...\u001B[0m           \u001B[1;36m50.0\u001B[0m   \n\u001B[1;36m3\u001B[0m  \u001B[1;36m52404.0\u001B[0m  \u001B[1m{\u001B[0m\u001B[32m'type'\u001B[0m: \u001B[32m'Point'\u001B[0m, \u001B[32m'coordinates'\u001B[0m: \u001B[1m[\u001B[0m\u001B[1;36m-91.658576\u001B[0m, \u001B[33m...\u001B[0m           \u001B[1;36m57.0\u001B[0m   \n\u001B[1;36m4\u001B[0m  \u001B[1;36m52544.0\u001B[0m  \u001B[1m{\u001B[0m\u001B[32m'type'\u001B[0m: \u001B[32m'Point'\u001B[0m, \u001B[32m'coordinates'\u001B[0m: \u001B[1m[\u001B[0m\u001B[1;36m-92.867967\u001B[0m, \u001B[33m...\u001B[0m            \u001B[1;36m4.0\u001B[0m   \n\n       county  \u001B[33m...\u001B[0m  state_bottle_retail sale_bottles  sale_dollars  \\\n\u001B[1;36m0\u001B[0m  BLACK HAWK  \u001B[33m...\u001B[0m                 \u001B[1;36m5.25\u001B[0m           \u001B[1;36m24\u001B[0m        \u001B[1;36m126.00\u001B[0m   \n\u001B[1;36m1\u001B[0m   DICKINSON  \u001B[33m...\u001B[0m                 \u001B[1;36m5.96\u001B[0m          \u001B[1;36m288\u001B[0m       \u001B[1;36m1716.48\u001B[0m   \n\u001B[1;36m2\u001B[0m      JASPER  \u001B[33m...\u001B[0m                 \u001B[1;36m7.50\u001B[0m           \u001B[1;36m24\u001B[0m        \u001B[1;36m162.00\u001B[0m   \n\u001B[1;36m3\u001B[0m        LINN  \u001B[33m...\u001B[0m                \u001B[1;36m20.99\u001B[0m            \u001B[1;36m6\u001B[0m        \u001B[1;36m116.64\u001B[0m   \n\u001B[1;36m4\u001B[0m   APPANOOSE  \u001B[33m...\u001B[0m                \u001B[1;36m12.99\u001B[0m           \u001B[1;36m12\u001B[0m        \u001B[1;36m155.88\u001B[0m   \n\n  sale_liters  sale_gallons :@computed_region_3r5t_5243  \\\n\u001B[1;36m0\u001B[0m         \u001B[1;36m9.0\u001B[0m          \u001B[1;36m2.37\u001B[0m                       \u001B[1;36m145.0\u001B[0m   \n\u001B[1;36m1\u001B[0m       \u001B[1;36m288.0\u001B[0m         \u001B[1;36m76.08\u001B[0m                        \u001B[1;36m37.0\u001B[0m   \n\u001B[1;36m2\u001B[0m         \u001B[1;36m9.0\u001B[0m          \u001B[1;36m2.37\u001B[0m                       \u001B[1;36m903.0\u001B[0m   \n\u001B[1;36m3\u001B[0m        \u001B[1;36m10.5\u001B[0m          \u001B[1;36m2.77\u001B[0m                       \u001B[1;36m793.0\u001B[0m   \n\u001B[1;36m4\u001B[0m         \u001B[1;36m9.0\u001B[0m          \u001B[1;36m2.37\u001B[0m                       \u001B[1;36m210.0\u001B[0m   \n\n   :@computed_region_wnea_7qqw  :@computed_region_i9mz_6gmt  \\\n\u001B[1;36m0\u001B[0m                         \u001B[1;36m18.0\u001B[0m                        \u001B[1;36m240.0\u001B[0m   \n\u001B[1;36m1\u001B[0m                         \u001B[1;36m37.0\u001B[0m                        \u001B[1;36m419.0\u001B[0m   \n\u001B[1;36m2\u001B[0m                         \u001B[1;36m11.0\u001B[0m                        \u001B[1;36m131.0\u001B[0m   \n\u001B[1;36m3\u001B[0m                         \u001B[1;36m18.0\u001B[0m                        \u001B[1;36m264.0\u001B[0m   \n\u001B[1;36m4\u001B[0m                         \u001B[1;36m54.0\u001B[0m                        \u001B[1;36m534.0\u001B[0m   \n\n   :@computed_region_uhgg_e8y2  :@computed_region_e7ym_nrbf  \n\u001B[1;36m0\u001B[0m                         \u001B[1;36m35.0\u001B[0m                        \u001B[1;36m176.0\u001B[0m  \n\u001B[1;36m1\u001B[0m                          \u001B[1;36m3.0\u001B[0m                       \u001B[1;36m1779.0\u001B[0m  \n\u001B[1;36m2\u001B[0m                         \u001B[1;36m66.0\u001B[0m                       \u001B[1;36m1791.0\u001B[0m  \n\u001B[1;36m3\u001B[0m                         \u001B[1;36m45.0\u001B[0m                        \u001B[1;36m287.0\u001B[0m  \n\u001B[1;36m4\u001B[0m                         \u001B[1;36m98.0\u001B[0m                        \u001B[1;36m175.0\u001B[0m  \n\n\u001B[1m[\u001B[0m\u001B[1;36m5\u001B[0m rows x \u001B[1;36m29\u001B[0m columns\u001B[1m]\u001B[0m",
      "text/html": "<div>\n<style scoped>\n    .dataframe tbody tr th:only-of-type {\n        vertical-align: middle;\n    }\n\n    .dataframe tbody tr th {\n        vertical-align: top;\n    }\n\n    .dataframe thead th {\n        text-align: right;\n    }\n</style>\n<table border=\"1\" class=\"dataframe\">\n  <thead>\n    <tr style=\"text-align: right;\">\n      <th></th>\n      <th>invoice_line_no</th>\n      <th>date</th>\n      <th>store</th>\n      <th>name</th>\n      <th>address</th>\n      <th>city</th>\n      <th>zipcode</th>\n      <th>store_location</th>\n      <th>county_number</th>\n      <th>county</th>\n      <th>...</th>\n      <th>state_bottle_retail</th>\n      <th>sale_bottles</th>\n      <th>sale_dollars</th>\n      <th>sale_liters</th>\n      <th>sale_gallons</th>\n      <th>:@computed_region_3r5t_5243</th>\n      <th>:@computed_region_wnea_7qqw</th>\n      <th>:@computed_region_i9mz_6gmt</th>\n      <th>:@computed_region_uhgg_e8y2</th>\n      <th>:@computed_region_e7ym_nrbf</th>\n    </tr>\n  </thead>\n  <tbody>\n    <tr>\n      <th>0</th>\n      <td>INV-48770300006</td>\n      <td>2022-06-29T00:00:00.000</td>\n      <td>5900</td>\n      <td>NEW STAR FLETCHER / WATERLOO</td>\n      <td>315 FLETCHER AVE</td>\n      <td>WATERLOO</td>\n      <td>50701.0</td>\n      <td>{'type': 'Point', 'coordinates': [-92.367142, ...</td>\n      <td>7.0</td>\n      <td>BLACK HAWK</td>\n      <td>...</td>\n      <td>5.25</td>\n      <td>24</td>\n      <td>126.00</td>\n      <td>9.0</td>\n      <td>2.37</td>\n      <td>145.0</td>\n      <td>18.0</td>\n      <td>240.0</td>\n      <td>35.0</td>\n      <td>176.0</td>\n    </tr>\n    <tr>\n      <th>1</th>\n      <td>INV-48782900001</td>\n      <td>2022-06-29T00:00:00.000</td>\n      <td>3390</td>\n      <td>OKOBOJI AVENUE LIQUOR</td>\n      <td>1610 OKOBOJI AVENUE</td>\n      <td>MILFORD</td>\n      <td>51351.0</td>\n      <td>{'type': 'Point', 'coordinates': [-95.149955, ...</td>\n      <td>30.0</td>\n      <td>DICKINSON</td>\n      <td>...</td>\n      <td>5.96</td>\n      <td>288</td>\n      <td>1716.48</td>\n      <td>288.0</td>\n      <td>76.08</td>\n      <td>37.0</td>\n      <td>37.0</td>\n      <td>419.0</td>\n      <td>3.0</td>\n      <td>1779.0</td>\n    </tr>\n    <tr>\n      <th>2</th>\n      <td>INV-48703200006</td>\n      <td>2022-06-27T00:00:00.000</td>\n      <td>4604</td>\n      <td>PIT STOP LIQUORS / NEWTON</td>\n      <td>1324, 1ST AVE E</td>\n      <td>NEWTON</td>\n      <td>50208.0</td>\n      <td>{'type': 'Point', 'coordinates': [-93.035653, ...</td>\n      <td>50.0</td>\n      <td>JASPER</td>\n      <td>...</td>\n      <td>7.50</td>\n      <td>24</td>\n      <td>162.00</td>\n      <td>9.0</td>\n      <td>2.37</td>\n      <td>903.0</td>\n      <td>11.0</td>\n      <td>131.0</td>\n      <td>66.0</td>\n      <td>1791.0</td>\n    </tr>\n    <tr>\n      <th>3</th>\n      <td>INV-48692600064</td>\n      <td>2022-06-27T00:00:00.000</td>\n      <td>2552</td>\n      <td>HY-VEE FOOD STORE #3 / CEDAR RAPIDS</td>\n      <td>20 WILSON AVENUE WEST</td>\n      <td>CEDAR RAPIDS</td>\n      <td>52404.0</td>\n      <td>{'type': 'Point', 'coordinates': [-91.658576, ...</td>\n      <td>57.0</td>\n      <td>LINN</td>\n      <td>...</td>\n      <td>20.99</td>\n      <td>6</td>\n      <td>116.64</td>\n      <td>10.5</td>\n      <td>2.77</td>\n      <td>793.0</td>\n      <td>18.0</td>\n      <td>264.0</td>\n      <td>45.0</td>\n      <td>287.0</td>\n    </tr>\n    <tr>\n      <th>4</th>\n      <td>INV-48679200008</td>\n      <td>2022-06-24T00:00:00.000</td>\n      <td>2523</td>\n      <td>HY-VEE FOOD STORE / CENTERVILLE</td>\n      <td>609 N 18TH</td>\n      <td>CENTERVILLE</td>\n      <td>52544.0</td>\n      <td>{'type': 'Point', 'coordinates': [-92.867967, ...</td>\n      <td>4.0</td>\n      <td>APPANOOSE</td>\n      <td>...</td>\n      <td>12.99</td>\n      <td>12</td>\n      <td>155.88</td>\n      <td>9.0</td>\n      <td>2.37</td>\n      <td>210.0</td>\n      <td>54.0</td>\n      <td>534.0</td>\n      <td>98.0</td>\n      <td>175.0</td>\n    </tr>\n  </tbody>\n</table>\n<p>5 rows × 29 columns</p>\n</div>"
     },
     "execution_count": 83,
     "metadata": {},
     "output_type": "execute_result"
    }
   ],
   "source": [
    "df.head()"
   ]
  },
  {
   "cell_type": "code",
   "execution_count": 84,
   "id": "6ca2a70488a46ed0",
   "metadata": {
    "collapsed": false,
    "ExecuteTime": {
     "end_time": "2023-11-26T21:09:20.027583180Z",
     "start_time": "2023-11-26T21:09:19.767699438Z"
    }
   },
   "outputs": [],
   "source": [
    "missing_data = df.isnull().sum()"
   ]
  },
  {
   "cell_type": "code",
   "execution_count": 85,
   "id": "727789989f5b1ea9",
   "metadata": {
    "collapsed": false,
    "ExecuteTime": {
     "end_time": "2023-11-26T21:09:20.032317214Z",
     "start_time": "2023-11-26T21:09:20.028554054Z"
    }
   },
   "outputs": [
    {
     "name": "stdout",
     "output_type": "stream",
     "text": [
      "invoice_line_no                     0\n",
      "date                                0\n",
      "store                               0\n",
      "name                                0\n",
      "address                          3957\n",
      "city                             3957\n",
      "zipcode                          3957\n",
      "store_location                 106405\n",
      "county_number                  346656\n",
      "county                          29373\n",
      "category                           56\n",
      "category_name                     460\n",
      "vendor_no                           0\n",
      "vendor_name                         0\n",
      "itemno                              0\n",
      "im_desc                             0\n",
      "pack                                0\n",
      "bottle_volume_ml                    0\n",
      "state_bottle_cost                   0\n",
      "state_bottle_retail                 0\n",
      "sale_bottles                        0\n",
      "sale_dollars                        0\n",
      "sale_liters                         0\n",
      "sale_gallons                        0\n",
      ":@computed_region_3r5t_5243    106952\n",
      ":@computed_region_wnea_7qqw    106952\n",
      ":@computed_region_i9mz_6gmt    106952\n",
      ":@computed_region_uhgg_e8y2    106952\n",
      ":@computed_region_e7ym_nrbf    106405\n",
      "dtype: int64\n"
     ]
    }
   ],
   "source": [
    "print(missing_data)"
   ]
  },
  {
   "cell_type": "code",
   "execution_count": 86,
   "id": "85ce17ed3990dd6e",
   "metadata": {
    "collapsed": false,
    "ExecuteTime": {
     "end_time": "2023-11-26T21:09:20.292762834Z",
     "start_time": "2023-11-26T21:09:20.034091970Z"
    }
   },
   "outputs": [],
   "source": [
    "percent_missing = df.isnull().mean() * 100"
   ]
  },
  {
   "cell_type": "code",
   "execution_count": 87,
   "id": "7a8204b958c38be7",
   "metadata": {
    "collapsed": false,
    "ExecuteTime": {
     "end_time": "2023-11-26T21:09:20.318009339Z",
     "start_time": "2023-11-26T21:09:20.296879604Z"
    }
   },
   "outputs": [
    {
     "name": "stdout",
     "output_type": "stream",
     "text": [
      "invoice_line_no                 0.0000\n",
      "date                            0.0000\n",
      "store                           0.0000\n",
      "name                            0.0000\n",
      "address                         0.3957\n",
      "city                            0.3957\n",
      "zipcode                         0.3957\n",
      "store_location                 10.6405\n",
      "county_number                  34.6656\n",
      "county                          2.9373\n",
      "category                        0.0056\n",
      "category_name                   0.0460\n",
      "vendor_no                       0.0000\n",
      "vendor_name                     0.0000\n",
      "itemno                          0.0000\n",
      "im_desc                         0.0000\n",
      "pack                            0.0000\n",
      "bottle_volume_ml                0.0000\n",
      "state_bottle_cost               0.0000\n",
      "state_bottle_retail             0.0000\n",
      "sale_bottles                    0.0000\n",
      "sale_dollars                    0.0000\n",
      "sale_liters                     0.0000\n",
      "sale_gallons                    0.0000\n",
      ":@computed_region_3r5t_5243    10.6952\n",
      ":@computed_region_wnea_7qqw    10.6952\n",
      ":@computed_region_i9mz_6gmt    10.6952\n",
      ":@computed_region_uhgg_e8y2    10.6952\n",
      ":@computed_region_e7ym_nrbf    10.6405\n",
      "dtype: float64\n"
     ]
    }
   ],
   "source": [
    "print(percent_missing)"
   ]
  },
  {
   "cell_type": "code",
   "execution_count": 88,
   "id": "1f6445a9cdcca624",
   "metadata": {
    "collapsed": false,
    "ExecuteTime": {
     "end_time": "2023-11-26T21:09:20.409761331Z",
     "start_time": "2023-11-26T21:09:20.301663645Z"
    }
   },
   "outputs": [
    {
     "data": {
      "text/plain": "",
      "text/html": "<pre style=\"white-space:pre;overflow-x:auto;line-height:normal;font-family:Menlo,'DejaVu Sans Mono',consolas,'Courier New',monospace\"></pre>\n"
     },
     "metadata": {},
     "output_type": "display_data"
    },
    {
     "data": {
      "text/plain": "\n                             total_missing  percent_missing\ncounty_number                       \u001B[1;36m346656\u001B[0m          \u001B[1;36m34.6656\u001B[0m\n:@computed_region_uhgg_e8y2         \u001B[1;36m106952\u001B[0m          \u001B[1;36m10.6952\u001B[0m\n:@computed_region_i9mz_6gmt         \u001B[1;36m106952\u001B[0m          \u001B[1;36m10.6952\u001B[0m\n:@computed_region_3r5t_5243         \u001B[1;36m106952\u001B[0m          \u001B[1;36m10.6952\u001B[0m\n:@computed_region_wnea_7qqw         \u001B[1;36m106952\u001B[0m          \u001B[1;36m10.6952\u001B[0m\n:@computed_region_e7ym_nrbf         \u001B[1;36m106405\u001B[0m          \u001B[1;36m10.6405\u001B[0m\nstore_location                      \u001B[1;36m106405\u001B[0m          \u001B[1;36m10.6405\u001B[0m\ncounty                               \u001B[1;36m29373\u001B[0m           \u001B[1;36m2.9373\u001B[0m\nzipcode                               \u001B[1;36m3957\u001B[0m           \u001B[1;36m0.3957\u001B[0m\ncity                                  \u001B[1;36m3957\u001B[0m           \u001B[1;36m0.3957\u001B[0m\naddress                               \u001B[1;36m3957\u001B[0m           \u001B[1;36m0.3957\u001B[0m\ncategory_name                          \u001B[1;36m460\u001B[0m           \u001B[1;36m0.0460\u001B[0m\ncategory                                \u001B[1;36m56\u001B[0m           \u001B[1;36m0.0056\u001B[0m\nstate_bottle_retail                      \u001B[1;36m0\u001B[0m           \u001B[1;36m0.0000\u001B[0m\nsale_gallons                             \u001B[1;36m0\u001B[0m           \u001B[1;36m0.0000\u001B[0m\nsale_liters                              \u001B[1;36m0\u001B[0m           \u001B[1;36m0.0000\u001B[0m\nsale_dollars                             \u001B[1;36m0\u001B[0m           \u001B[1;36m0.0000\u001B[0m\nsale_bottles                             \u001B[1;36m0\u001B[0m           \u001B[1;36m0.0000\u001B[0m\ninvoice_line_no                          \u001B[1;36m0\u001B[0m           \u001B[1;36m0.0000\u001B[0m\nstate_bottle_cost                        \u001B[1;36m0\u001B[0m           \u001B[1;36m0.0000\u001B[0m\nbottle_volume_ml                         \u001B[1;36m0\u001B[0m           \u001B[1;36m0.0000\u001B[0m\npack                                     \u001B[1;36m0\u001B[0m           \u001B[1;36m0.0000\u001B[0m\nim_desc                                  \u001B[1;36m0\u001B[0m           \u001B[1;36m0.0000\u001B[0m\ndate                                     \u001B[1;36m0\u001B[0m           \u001B[1;36m0.0000\u001B[0m\nvendor_name                              \u001B[1;36m0\u001B[0m           \u001B[1;36m0.0000\u001B[0m\nvendor_no                                \u001B[1;36m0\u001B[0m           \u001B[1;36m0.0000\u001B[0m\nname                                     \u001B[1;36m0\u001B[0m           \u001B[1;36m0.0000\u001B[0m\nstore                                    \u001B[1;36m0\u001B[0m           \u001B[1;36m0.0000\u001B[0m\nitemno                                   \u001B[1;36m0\u001B[0m           \u001B[1;36m0.0000\u001B[0m",
      "text/html": "<div>\n<style scoped>\n    .dataframe tbody tr th:only-of-type {\n        vertical-align: middle;\n    }\n\n    .dataframe tbody tr th {\n        vertical-align: top;\n    }\n\n    .dataframe thead th {\n        text-align: right;\n    }\n</style>\n<table border=\"1\" class=\"dataframe\">\n  <thead>\n    <tr style=\"text-align: right;\">\n      <th></th>\n      <th>total_missing</th>\n      <th>percent_missing</th>\n    </tr>\n  </thead>\n  <tbody>\n    <tr>\n      <th>county_number</th>\n      <td>346656</td>\n      <td>34.6656</td>\n    </tr>\n    <tr>\n      <th>:@computed_region_uhgg_e8y2</th>\n      <td>106952</td>\n      <td>10.6952</td>\n    </tr>\n    <tr>\n      <th>:@computed_region_i9mz_6gmt</th>\n      <td>106952</td>\n      <td>10.6952</td>\n    </tr>\n    <tr>\n      <th>:@computed_region_3r5t_5243</th>\n      <td>106952</td>\n      <td>10.6952</td>\n    </tr>\n    <tr>\n      <th>:@computed_region_wnea_7qqw</th>\n      <td>106952</td>\n      <td>10.6952</td>\n    </tr>\n    <tr>\n      <th>:@computed_region_e7ym_nrbf</th>\n      <td>106405</td>\n      <td>10.6405</td>\n    </tr>\n    <tr>\n      <th>store_location</th>\n      <td>106405</td>\n      <td>10.6405</td>\n    </tr>\n    <tr>\n      <th>county</th>\n      <td>29373</td>\n      <td>2.9373</td>\n    </tr>\n    <tr>\n      <th>zipcode</th>\n      <td>3957</td>\n      <td>0.3957</td>\n    </tr>\n    <tr>\n      <th>city</th>\n      <td>3957</td>\n      <td>0.3957</td>\n    </tr>\n    <tr>\n      <th>address</th>\n      <td>3957</td>\n      <td>0.3957</td>\n    </tr>\n    <tr>\n      <th>category_name</th>\n      <td>460</td>\n      <td>0.0460</td>\n    </tr>\n    <tr>\n      <th>category</th>\n      <td>56</td>\n      <td>0.0056</td>\n    </tr>\n    <tr>\n      <th>state_bottle_retail</th>\n      <td>0</td>\n      <td>0.0000</td>\n    </tr>\n    <tr>\n      <th>sale_gallons</th>\n      <td>0</td>\n      <td>0.0000</td>\n    </tr>\n    <tr>\n      <th>sale_liters</th>\n      <td>0</td>\n      <td>0.0000</td>\n    </tr>\n    <tr>\n      <th>sale_dollars</th>\n      <td>0</td>\n      <td>0.0000</td>\n    </tr>\n    <tr>\n      <th>sale_bottles</th>\n      <td>0</td>\n      <td>0.0000</td>\n    </tr>\n    <tr>\n      <th>invoice_line_no</th>\n      <td>0</td>\n      <td>0.0000</td>\n    </tr>\n    <tr>\n      <th>state_bottle_cost</th>\n      <td>0</td>\n      <td>0.0000</td>\n    </tr>\n    <tr>\n      <th>bottle_volume_ml</th>\n      <td>0</td>\n      <td>0.0000</td>\n    </tr>\n    <tr>\n      <th>pack</th>\n      <td>0</td>\n      <td>0.0000</td>\n    </tr>\n    <tr>\n      <th>im_desc</th>\n      <td>0</td>\n      <td>0.0000</td>\n    </tr>\n    <tr>\n      <th>date</th>\n      <td>0</td>\n      <td>0.0000</td>\n    </tr>\n    <tr>\n      <th>vendor_name</th>\n      <td>0</td>\n      <td>0.0000</td>\n    </tr>\n    <tr>\n      <th>vendor_no</th>\n      <td>0</td>\n      <td>0.0000</td>\n    </tr>\n    <tr>\n      <th>name</th>\n      <td>0</td>\n      <td>0.0000</td>\n    </tr>\n    <tr>\n      <th>store</th>\n      <td>0</td>\n      <td>0.0000</td>\n    </tr>\n    <tr>\n      <th>itemno</th>\n      <td>0</td>\n      <td>0.0000</td>\n    </tr>\n  </tbody>\n</table>\n</div>"
     },
     "execution_count": 88,
     "metadata": {},
     "output_type": "execute_result"
    }
   ],
   "source": [
    "missing_data_df = pd.DataFrame({'total_missing': missing_data, 'percent_missing': percent_missing})\n",
    "\n",
    "missing_data_df.sort_values(by='percent_missing', ascending=False)"
   ]
  },
  {
   "cell_type": "code",
   "execution_count": 89,
   "id": "5d605c94bdb036da",
   "metadata": {
    "collapsed": false,
    "ExecuteTime": {
     "end_time": "2023-11-26T21:09:20.464846107Z",
     "start_time": "2023-11-26T21:09:20.320445220Z"
    }
   },
   "outputs": [],
   "source": [
    "#Removing county_number\n",
    "dfWithoutCounty = df.drop('county_number', axis=1)"
   ]
  },
  {
   "cell_type": "code",
   "execution_count": 90,
   "id": "c9e62f0b342a7160",
   "metadata": {
    "collapsed": false,
    "ExecuteTime": {
     "end_time": "2023-11-26T21:09:20.720478073Z",
     "start_time": "2023-11-26T21:09:20.439154289Z"
    }
   },
   "outputs": [],
   "source": [
    "dfCleaned = dfWithoutCounty.dropna(subset=['city','zipcode', 'category', 'category_name', 'address'])"
   ]
  },
  {
   "cell_type": "code",
   "execution_count": 91,
   "id": "413b7cc22e8b62af",
   "metadata": {
    "collapsed": false,
    "ExecuteTime": {
     "end_time": "2023-11-26T21:09:20.990258852Z",
     "start_time": "2023-11-26T21:09:20.965523312Z"
    }
   },
   "outputs": [
    {
     "data": {
      "text/plain": "",
      "text/html": "<pre style=\"white-space:pre;overflow-x:auto;line-height:normal;font-family:Menlo,'DejaVu Sans Mono',consolas,'Courier New',monospace\"></pre>\n"
     },
     "metadata": {},
     "output_type": "display_data"
    },
    {
     "data": {
      "text/plain": "\ninvoice_line_no                     \u001B[1;36m0\u001B[0m\ndate                                \u001B[1;36m0\u001B[0m\nstore                               \u001B[1;36m0\u001B[0m\nname                                \u001B[1;36m0\u001B[0m\naddress                             \u001B[1;36m0\u001B[0m\ncity                                \u001B[1;36m0\u001B[0m\nzipcode                             \u001B[1;36m0\u001B[0m\nstore_location                 \u001B[1;36m102363\u001B[0m\ncounty                          \u001B[1;36m25390\u001B[0m\ncategory                            \u001B[1;36m0\u001B[0m\ncategory_name                       \u001B[1;36m0\u001B[0m\nvendor_no                           \u001B[1;36m0\u001B[0m\nvendor_name                         \u001B[1;36m0\u001B[0m\nitemno                              \u001B[1;36m0\u001B[0m\nim_desc                             \u001B[1;36m0\u001B[0m\npack                                \u001B[1;36m0\u001B[0m\nbottle_volume_ml                    \u001B[1;36m0\u001B[0m\nstate_bottle_cost                   \u001B[1;36m0\u001B[0m\nstate_bottle_retail                 \u001B[1;36m0\u001B[0m\nsale_bottles                        \u001B[1;36m0\u001B[0m\nsale_dollars                        \u001B[1;36m0\u001B[0m\nsale_liters                         \u001B[1;36m0\u001B[0m\nsale_gallons                        \u001B[1;36m0\u001B[0m\n:@computed_region_3r5t_5243    \u001B[1;36m102910\u001B[0m\n:@computed_region_wnea_7qqw    \u001B[1;36m102910\u001B[0m\n:@computed_region_i9mz_6gmt    \u001B[1;36m102910\u001B[0m\n:@computed_region_uhgg_e8y2    \u001B[1;36m102910\u001B[0m\n:@computed_region_e7ym_nrbf    \u001B[1;36m102363\u001B[0m\ndtype: int64"
     },
     "execution_count": 91,
     "metadata": {},
     "output_type": "execute_result"
    }
   ],
   "source": [
    "dfCleaned.isnull().sum()"
   ]
  },
  {
   "cell_type": "code",
   "execution_count": 92,
   "id": "891a2c62d4126772",
   "metadata": {
    "collapsed": false,
    "ExecuteTime": {
     "end_time": "2023-11-26T21:09:21.031840924Z",
     "start_time": "2023-11-26T21:09:21.008919671Z"
    }
   },
   "outputs": [
    {
     "data": {
      "text/plain": "",
      "text/html": "<pre style=\"white-space:pre;overflow-x:auto;line-height:normal;font-family:Menlo,'DejaVu Sans Mono',consolas,'Courier New',monospace\"></pre>\n"
     },
     "metadata": {},
     "output_type": "display_data"
    },
    {
     "data": {
      "text/plain": "\n   invoice_line_no                     date  store  \\\n\u001B[1;36m0\u001B[0m  INV-\u001B[1;36m48770300006\u001B[0m  \u001B[1;36m2022\u001B[0m-\u001B[1;36m06\u001B[0m-29T\u001B[1;92m00:00:00\u001B[0m.\u001B[1;36m000\u001B[0m   \u001B[1;36m5900\u001B[0m   \n\u001B[1;36m1\u001B[0m  INV-\u001B[1;36m48782900001\u001B[0m  \u001B[1;36m2022\u001B[0m-\u001B[1;36m06\u001B[0m-29T\u001B[1;92m00:00:00\u001B[0m.\u001B[1;36m000\u001B[0m   \u001B[1;36m3390\u001B[0m   \n\u001B[1;36m2\u001B[0m  INV-\u001B[1;36m48703200006\u001B[0m  \u001B[1;36m2022\u001B[0m-\u001B[1;36m06\u001B[0m-27T\u001B[1;92m00:00:00\u001B[0m.\u001B[1;36m000\u001B[0m   \u001B[1;36m4604\u001B[0m   \n\u001B[1;36m3\u001B[0m  INV-\u001B[1;36m48692600064\u001B[0m  \u001B[1;36m2022\u001B[0m-\u001B[1;36m06\u001B[0m-27T\u001B[1;92m00:00:00\u001B[0m.\u001B[1;36m000\u001B[0m   \u001B[1;36m2552\u001B[0m   \n\u001B[1;36m4\u001B[0m  INV-\u001B[1;36m48679200008\u001B[0m  \u001B[1;36m2022\u001B[0m-\u001B[1;36m06\u001B[0m-24T\u001B[1;92m00:00:00\u001B[0m.\u001B[1;36m000\u001B[0m   \u001B[1;36m2523\u001B[0m   \n\n                                  name                address          city  \\\n\u001B[1;36m0\u001B[0m         NEW STAR FLETCHER \u001B[35m/\u001B[0m WATERLOO       \u001B[1;36m315\u001B[0m FLETCHER AVE      WATERLOO   \n\u001B[1;36m1\u001B[0m                OKOBOJI AVENUE LIQUOR    \u001B[1;36m1610\u001B[0m OKOBOJI AVENUE       MILFORD   \n\u001B[1;36m2\u001B[0m            PIT STOP LIQUORS \u001B[35m/\u001B[0m NEWTON        \u001B[1;36m1324\u001B[0m, 1ST AVE E        NEWTON   \n\u001B[1;36m3\u001B[0m  HY-VEE FOOD STORE #\u001B[1;36m3\u001B[0m \u001B[35m/\u001B[0m CEDAR RAPIDS  \u001B[1;36m20\u001B[0m WILSON AVENUE WEST  CEDAR RAPIDS   \n\u001B[1;36m4\u001B[0m      HY-VEE FOOD STORE \u001B[35m/\u001B[0m CENTERVILLE             \u001B[1;36m609\u001B[0m N 18TH   CENTERVILLE   \n\n   zipcode                                     store_location      county  \\\n\u001B[1;36m0\u001B[0m  \u001B[1;36m50701.0\u001B[0m  \u001B[1m{\u001B[0m\u001B[32m'type'\u001B[0m: \u001B[32m'Point'\u001B[0m, \u001B[32m'coordinates'\u001B[0m: \u001B[1m[\u001B[0m\u001B[1;36m-92.367142\u001B[0m, \u001B[33m...\u001B[0m  BLACK HAWK   \n\u001B[1;36m1\u001B[0m  \u001B[1;36m51351.0\u001B[0m  \u001B[1m{\u001B[0m\u001B[32m'type'\u001B[0m: \u001B[32m'Point'\u001B[0m, \u001B[32m'coordinates'\u001B[0m: \u001B[1m[\u001B[0m\u001B[1;36m-95.149955\u001B[0m, \u001B[33m...\u001B[0m   DICKINSON   \n\u001B[1;36m2\u001B[0m  \u001B[1;36m50208.0\u001B[0m  \u001B[1m{\u001B[0m\u001B[32m'type'\u001B[0m: \u001B[32m'Point'\u001B[0m, \u001B[32m'coordinates'\u001B[0m: \u001B[1m[\u001B[0m\u001B[1;36m-93.035653\u001B[0m, \u001B[33m...\u001B[0m      JASPER   \n\u001B[1;36m3\u001B[0m  \u001B[1;36m52404.0\u001B[0m  \u001B[1m{\u001B[0m\u001B[32m'type'\u001B[0m: \u001B[32m'Point'\u001B[0m, \u001B[32m'coordinates'\u001B[0m: \u001B[1m[\u001B[0m\u001B[1;36m-91.658576\u001B[0m, \u001B[33m...\u001B[0m        LINN   \n\u001B[1;36m4\u001B[0m  \u001B[1;36m52544.0\u001B[0m  \u001B[1m{\u001B[0m\u001B[32m'type'\u001B[0m: \u001B[32m'Point'\u001B[0m, \u001B[32m'coordinates'\u001B[0m: \u001B[1m[\u001B[0m\u001B[1;36m-92.867967\u001B[0m, \u001B[33m...\u001B[0m   APPANOOSE   \n\n    category  \u001B[33m...\u001B[0m state_bottle_retail  sale_bottles sale_dollars  sale_liters  \\\n\u001B[1;36m0\u001B[0m  \u001B[1;36m1031100.0\u001B[0m  \u001B[33m...\u001B[0m                \u001B[1;36m5.25\u001B[0m            \u001B[1;36m24\u001B[0m       \u001B[1;36m126.00\u001B[0m          \u001B[1;36m9.0\u001B[0m   \n\u001B[1;36m1\u001B[0m  \u001B[1;36m1031100.0\u001B[0m  \u001B[33m...\u001B[0m                \u001B[1;36m5.96\u001B[0m           \u001B[1;36m288\u001B[0m      \u001B[1;36m1716.48\u001B[0m        \u001B[1;36m288.0\u001B[0m   \n\u001B[1;36m2\u001B[0m  \u001B[1;36m1062200.0\u001B[0m  \u001B[33m...\u001B[0m                \u001B[1;36m7.50\u001B[0m            \u001B[1;36m24\u001B[0m       \u001B[1;36m162.00\u001B[0m          \u001B[1;36m9.0\u001B[0m   \n\u001B[1;36m3\u001B[0m  \u001B[1;36m1011100.0\u001B[0m  \u001B[33m...\u001B[0m               \u001B[1;36m20.99\u001B[0m             \u001B[1;36m6\u001B[0m       \u001B[1;36m116.64\u001B[0m         \u001B[1;36m10.5\u001B[0m   \n\u001B[1;36m4\u001B[0m  \u001B[1;36m1081300.0\u001B[0m  \u001B[33m...\u001B[0m               \u001B[1;36m12.99\u001B[0m            \u001B[1;36m12\u001B[0m       \u001B[1;36m155.88\u001B[0m          \u001B[1;36m9.0\u001B[0m   \n\n  sale_gallons  :@computed_region_3r5t_5243  :@computed_region_wnea_7qqw  \\\n\u001B[1;36m0\u001B[0m         \u001B[1;36m2.37\u001B[0m                        \u001B[1;36m145.0\u001B[0m                         \u001B[1;36m18.0\u001B[0m   \n\u001B[1;36m1\u001B[0m        \u001B[1;36m76.08\u001B[0m                         \u001B[1;36m37.0\u001B[0m                         \u001B[1;36m37.0\u001B[0m   \n\u001B[1;36m2\u001B[0m         \u001B[1;36m2.37\u001B[0m                        \u001B[1;36m903.0\u001B[0m                         \u001B[1;36m11.0\u001B[0m   \n\u001B[1;36m3\u001B[0m         \u001B[1;36m2.77\u001B[0m                        \u001B[1;36m793.0\u001B[0m                         \u001B[1;36m18.0\u001B[0m   \n\u001B[1;36m4\u001B[0m         \u001B[1;36m2.37\u001B[0m                        \u001B[1;36m210.0\u001B[0m                         \u001B[1;36m54.0\u001B[0m   \n\n   :@computed_region_i9mz_6gmt  :@computed_region_uhgg_e8y2  \\\n\u001B[1;36m0\u001B[0m                        \u001B[1;36m240.0\u001B[0m                         \u001B[1;36m35.0\u001B[0m   \n\u001B[1;36m1\u001B[0m                        \u001B[1;36m419.0\u001B[0m                          \u001B[1;36m3.0\u001B[0m   \n\u001B[1;36m2\u001B[0m                        \u001B[1;36m131.0\u001B[0m                         \u001B[1;36m66.0\u001B[0m   \n\u001B[1;36m3\u001B[0m                        \u001B[1;36m264.0\u001B[0m                         \u001B[1;36m45.0\u001B[0m   \n\u001B[1;36m4\u001B[0m                        \u001B[1;36m534.0\u001B[0m                         \u001B[1;36m98.0\u001B[0m   \n\n   :@computed_region_e7ym_nrbf  \n\u001B[1;36m0\u001B[0m                        \u001B[1;36m176.0\u001B[0m  \n\u001B[1;36m1\u001B[0m                       \u001B[1;36m1779.0\u001B[0m  \n\u001B[1;36m2\u001B[0m                       \u001B[1;36m1791.0\u001B[0m  \n\u001B[1;36m3\u001B[0m                        \u001B[1;36m287.0\u001B[0m  \n\u001B[1;36m4\u001B[0m                        \u001B[1;36m175.0\u001B[0m  \n\n\u001B[1m[\u001B[0m\u001B[1;36m5\u001B[0m rows x \u001B[1;36m28\u001B[0m columns\u001B[1m]\u001B[0m",
      "text/html": "<div>\n<style scoped>\n    .dataframe tbody tr th:only-of-type {\n        vertical-align: middle;\n    }\n\n    .dataframe tbody tr th {\n        vertical-align: top;\n    }\n\n    .dataframe thead th {\n        text-align: right;\n    }\n</style>\n<table border=\"1\" class=\"dataframe\">\n  <thead>\n    <tr style=\"text-align: right;\">\n      <th></th>\n      <th>invoice_line_no</th>\n      <th>date</th>\n      <th>store</th>\n      <th>name</th>\n      <th>address</th>\n      <th>city</th>\n      <th>zipcode</th>\n      <th>store_location</th>\n      <th>county</th>\n      <th>category</th>\n      <th>...</th>\n      <th>state_bottle_retail</th>\n      <th>sale_bottles</th>\n      <th>sale_dollars</th>\n      <th>sale_liters</th>\n      <th>sale_gallons</th>\n      <th>:@computed_region_3r5t_5243</th>\n      <th>:@computed_region_wnea_7qqw</th>\n      <th>:@computed_region_i9mz_6gmt</th>\n      <th>:@computed_region_uhgg_e8y2</th>\n      <th>:@computed_region_e7ym_nrbf</th>\n    </tr>\n  </thead>\n  <tbody>\n    <tr>\n      <th>0</th>\n      <td>INV-48770300006</td>\n      <td>2022-06-29T00:00:00.000</td>\n      <td>5900</td>\n      <td>NEW STAR FLETCHER / WATERLOO</td>\n      <td>315 FLETCHER AVE</td>\n      <td>WATERLOO</td>\n      <td>50701.0</td>\n      <td>{'type': 'Point', 'coordinates': [-92.367142, ...</td>\n      <td>BLACK HAWK</td>\n      <td>1031100.0</td>\n      <td>...</td>\n      <td>5.25</td>\n      <td>24</td>\n      <td>126.00</td>\n      <td>9.0</td>\n      <td>2.37</td>\n      <td>145.0</td>\n      <td>18.0</td>\n      <td>240.0</td>\n      <td>35.0</td>\n      <td>176.0</td>\n    </tr>\n    <tr>\n      <th>1</th>\n      <td>INV-48782900001</td>\n      <td>2022-06-29T00:00:00.000</td>\n      <td>3390</td>\n      <td>OKOBOJI AVENUE LIQUOR</td>\n      <td>1610 OKOBOJI AVENUE</td>\n      <td>MILFORD</td>\n      <td>51351.0</td>\n      <td>{'type': 'Point', 'coordinates': [-95.149955, ...</td>\n      <td>DICKINSON</td>\n      <td>1031100.0</td>\n      <td>...</td>\n      <td>5.96</td>\n      <td>288</td>\n      <td>1716.48</td>\n      <td>288.0</td>\n      <td>76.08</td>\n      <td>37.0</td>\n      <td>37.0</td>\n      <td>419.0</td>\n      <td>3.0</td>\n      <td>1779.0</td>\n    </tr>\n    <tr>\n      <th>2</th>\n      <td>INV-48703200006</td>\n      <td>2022-06-27T00:00:00.000</td>\n      <td>4604</td>\n      <td>PIT STOP LIQUORS / NEWTON</td>\n      <td>1324, 1ST AVE E</td>\n      <td>NEWTON</td>\n      <td>50208.0</td>\n      <td>{'type': 'Point', 'coordinates': [-93.035653, ...</td>\n      <td>JASPER</td>\n      <td>1062200.0</td>\n      <td>...</td>\n      <td>7.50</td>\n      <td>24</td>\n      <td>162.00</td>\n      <td>9.0</td>\n      <td>2.37</td>\n      <td>903.0</td>\n      <td>11.0</td>\n      <td>131.0</td>\n      <td>66.0</td>\n      <td>1791.0</td>\n    </tr>\n    <tr>\n      <th>3</th>\n      <td>INV-48692600064</td>\n      <td>2022-06-27T00:00:00.000</td>\n      <td>2552</td>\n      <td>HY-VEE FOOD STORE #3 / CEDAR RAPIDS</td>\n      <td>20 WILSON AVENUE WEST</td>\n      <td>CEDAR RAPIDS</td>\n      <td>52404.0</td>\n      <td>{'type': 'Point', 'coordinates': [-91.658576, ...</td>\n      <td>LINN</td>\n      <td>1011100.0</td>\n      <td>...</td>\n      <td>20.99</td>\n      <td>6</td>\n      <td>116.64</td>\n      <td>10.5</td>\n      <td>2.77</td>\n      <td>793.0</td>\n      <td>18.0</td>\n      <td>264.0</td>\n      <td>45.0</td>\n      <td>287.0</td>\n    </tr>\n    <tr>\n      <th>4</th>\n      <td>INV-48679200008</td>\n      <td>2022-06-24T00:00:00.000</td>\n      <td>2523</td>\n      <td>HY-VEE FOOD STORE / CENTERVILLE</td>\n      <td>609 N 18TH</td>\n      <td>CENTERVILLE</td>\n      <td>52544.0</td>\n      <td>{'type': 'Point', 'coordinates': [-92.867967, ...</td>\n      <td>APPANOOSE</td>\n      <td>1081300.0</td>\n      <td>...</td>\n      <td>12.99</td>\n      <td>12</td>\n      <td>155.88</td>\n      <td>9.0</td>\n      <td>2.37</td>\n      <td>210.0</td>\n      <td>54.0</td>\n      <td>534.0</td>\n      <td>98.0</td>\n      <td>175.0</td>\n    </tr>\n  </tbody>\n</table>\n<p>5 rows × 28 columns</p>\n</div>"
     },
     "execution_count": 92,
     "metadata": {},
     "output_type": "execute_result"
    }
   ],
   "source": [
    "dfCleaned.head()"
   ]
  },
  {
   "cell_type": "code",
   "execution_count": 93,
   "id": "66698ea0c9eda2a6",
   "metadata": {
    "collapsed": false,
    "ExecuteTime": {
     "end_time": "2023-11-26T21:09:21.046887416Z",
     "start_time": "2023-11-26T21:09:21.028252230Z"
    }
   },
   "outputs": [
    {
     "name": "stdout",
     "output_type": "stream",
     "text": [
      "invoice_line_no                 object\n",
      "date                            object\n",
      "store                            int64\n",
      "name                            object\n",
      "address                         object\n",
      "city                            object\n",
      "zipcode                         object\n",
      "store_location                  object\n",
      "county                          object\n",
      "category                       float64\n",
      "category_name                   object\n",
      "vendor_no                        int64\n",
      "vendor_name                     object\n",
      "itemno                           int64\n",
      "im_desc                         object\n",
      "pack                             int64\n",
      "bottle_volume_ml                 int64\n",
      "state_bottle_cost              float64\n",
      "state_bottle_retail            float64\n",
      "sale_bottles                     int64\n",
      "sale_dollars                   float64\n",
      "sale_liters                    float64\n",
      "sale_gallons                   float64\n",
      ":@computed_region_3r5t_5243    float64\n",
      ":@computed_region_wnea_7qqw    float64\n",
      ":@computed_region_i9mz_6gmt    float64\n",
      ":@computed_region_uhgg_e8y2    float64\n",
      ":@computed_region_e7ym_nrbf    float64\n",
      "dtype: object\n"
     ]
    }
   ],
   "source": [
    "#Checking datatypes for each column\n",
    "data_types = dfCleaned.dtypes\n",
    "print(data_types)"
   ]
  },
  {
   "cell_type": "code",
   "execution_count": 94,
   "id": "d9cf6dccf97495be",
   "metadata": {
    "collapsed": false,
    "ExecuteTime": {
     "end_time": "2023-11-26T21:09:21.222524601Z",
     "start_time": "2023-11-26T21:09:21.035642916Z"
    }
   },
   "outputs": [],
   "source": [
    "# Displaying rows with null values in 'store_location' and 'county'\n",
    "null_store_location = dfCleaned[dfCleaned['store_location'].isnull()]\n",
    "null_county = dfCleaned[dfCleaned['county'].isnull()]"
   ]
  },
  {
   "cell_type": "code",
   "execution_count": 95,
   "id": "c87f26666149aeda",
   "metadata": {
    "collapsed": false,
    "ExecuteTime": {
     "end_time": "2023-11-26T21:09:21.225743202Z",
     "start_time": "2023-11-26T21:09:21.144806461Z"
    }
   },
   "outputs": [
    {
     "data": {
      "text/plain": "",
      "text/html": "<pre style=\"white-space:pre;overflow-x:auto;line-height:normal;font-family:Menlo,'DejaVu Sans Mono',consolas,'Courier New',monospace\"></pre>\n"
     },
     "metadata": {},
     "output_type": "display_data"
    },
    {
     "data": {
      "text/plain": "\n    invoice_line_no                     date  store  \\\n\u001B[1;36m40\u001B[0m  INV-\u001B[1;36m48781800012\u001B[0m  \u001B[1;36m2022\u001B[0m-\u001B[1;36m06\u001B[0m-29T\u001B[1;92m00:00:00\u001B[0m.\u001B[1;36m000\u001B[0m   \u001B[1;36m5425\u001B[0m   \n\u001B[1;36m48\u001B[0m  INV-\u001B[1;36m48701800003\u001B[0m  \u001B[1;36m2022\u001B[0m-\u001B[1;36m06\u001B[0m-27T\u001B[1;92m00:00:00\u001B[0m.\u001B[1;36m000\u001B[0m   \u001B[1;36m2625\u001B[0m   \n\u001B[1;36m51\u001B[0m  INV-\u001B[1;36m48740300007\u001B[0m  \u001B[1;36m2022\u001B[0m-\u001B[1;36m06\u001B[0m-28T\u001B[1;92m00:00:00\u001B[0m.\u001B[1;36m000\u001B[0m   \u001B[1;36m5952\u001B[0m   \n\u001B[1;36m55\u001B[0m  INV-\u001B[1;36m48722500017\u001B[0m  \u001B[1;36m2022\u001B[0m-\u001B[1;36m06\u001B[0m-27T\u001B[1;92m00:00:00\u001B[0m.\u001B[1;36m000\u001B[0m   \u001B[1;36m5618\u001B[0m   \n\u001B[1;36m59\u001B[0m  INV-\u001B[1;36m48701800035\u001B[0m  \u001B[1;36m2022\u001B[0m-\u001B[1;36m06\u001B[0m-27T\u001B[1;92m00:00:00\u001B[0m.\u001B[1;36m000\u001B[0m   \u001B[1;36m2625\u001B[0m   \n\n                                    name             address       city  \\\n\u001B[1;36m40\u001B[0m               SPIRITS LIQUOR \u001B[35m/\u001B[0m GRIMES    \u001B[1;36m109\u001B[0m E 1ST STREET     GRIMES   \n\u001B[1;36m48\u001B[0m  HY-VEE WINE & SPIRITS #\u001B[1;36m2\u001B[0m \u001B[35m/\u001B[0m DAVENPORT  \u001B[1;36m3301\u001B[0m W KIMBERLY RD  DAVENPORT   \n\u001B[1;36m51\u001B[0m  TOBACCO OUTLET PLUS #\u001B[1;36m537\u001B[0m \u001B[35m/\u001B[0m IOWA CITY  \u001B[1;36m923\u001B[0m S RIVERSIDE DR  IOWA CITY   \n\u001B[1;36m55\u001B[0m  CASEY'S GENERAL STORE #\u001B[1;36m1446\u001B[0m \u001B[35m/\u001B[0m LISBON  \u001B[1;36m150\u001B[0m E. BUSINESS \u001B[1;36m30\u001B[0m     LISBON   \n\u001B[1;36m59\u001B[0m  HY-VEE WINE & SPIRITS #\u001B[1;36m2\u001B[0m \u001B[35m/\u001B[0m DAVENPORT  \u001B[1;36m3301\u001B[0m W KIMBERLY RD  DAVENPORT   \n\n    zipcode store_location   county   category  \u001B[33m...\u001B[0m state_bottle_retail  \\\n\u001B[1;36m40\u001B[0m  \u001B[1;36m50111.0\u001B[0m            NaN     POLK  \u001B[1;36m1012100.0\u001B[0m  \u001B[33m...\u001B[0m               \u001B[1;36m13.13\u001B[0m   \n\u001B[1;36m48\u001B[0m  \u001B[1;36m52804.0\u001B[0m            NaN    SCOTT  \u001B[1;36m1081200.0\u001B[0m  \u001B[33m...\u001B[0m                \u001B[1;36m6.45\u001B[0m   \n\u001B[1;36m51\u001B[0m  \u001B[1;36m52246.0\u001B[0m            NaN  JOHNSON  \u001B[1;36m1051100.0\u001B[0m  \u001B[33m...\u001B[0m               \u001B[1;36m19.50\u001B[0m   \n\u001B[1;36m55\u001B[0m  \u001B[1;36m52253.0\u001B[0m            NaN     LINN  \u001B[1;36m1011200.0\u001B[0m  \u001B[33m...\u001B[0m                \u001B[1;36m8.40\u001B[0m   \n\u001B[1;36m59\u001B[0m  \u001B[1;36m52804.0\u001B[0m            NaN    SCOTT  \u001B[1;36m1081500.0\u001B[0m  \u001B[33m...\u001B[0m                \u001B[1;36m3.20\u001B[0m   \n\n    sale_bottles sale_dollars  sale_liters sale_gallons  \\\n\u001B[1;36m40\u001B[0m             \u001B[1;36m6\u001B[0m        \u001B[1;36m78.78\u001B[0m         \u001B[1;36m10.5\u001B[0m         \u001B[1;36m2.77\u001B[0m   \n\u001B[1;36m48\u001B[0m             \u001B[1;36m6\u001B[0m        \u001B[1;36m38.70\u001B[0m          \u001B[1;36m0.3\u001B[0m         \u001B[1;36m0.07\u001B[0m   \n\u001B[1;36m51\u001B[0m             \u001B[1;36m6\u001B[0m       \u001B[1;36m117.00\u001B[0m         \u001B[1;36m10.5\u001B[0m         \u001B[1;36m2.77\u001B[0m   \n\u001B[1;36m55\u001B[0m             \u001B[1;36m8\u001B[0m        \u001B[1;36m67.20\u001B[0m          \u001B[1;36m3.0\u001B[0m         \u001B[1;36m0.79\u001B[0m   \n\u001B[1;36m59\u001B[0m            \u001B[1;36m12\u001B[0m        \u001B[1;36m38.40\u001B[0m         \u001B[1;36m12.0\u001B[0m         \u001B[1;36m3.17\u001B[0m   \n\n    :@computed_region_3r5t_5243  :@computed_region_wnea_7qqw  \\\n\u001B[1;36m40\u001B[0m                          NaN                          NaN   \n\u001B[1;36m48\u001B[0m                          NaN                          NaN   \n\u001B[1;36m51\u001B[0m                          NaN                          NaN   \n\u001B[1;36m55\u001B[0m                          NaN                          NaN   \n\u001B[1;36m59\u001B[0m                          NaN                          NaN   \n\n    :@computed_region_i9mz_6gmt  :@computed_region_uhgg_e8y2  \\\n\u001B[1;36m40\u001B[0m                          NaN                          NaN   \n\u001B[1;36m48\u001B[0m                          NaN                          NaN   \n\u001B[1;36m51\u001B[0m                          NaN                          NaN   \n\u001B[1;36m55\u001B[0m                          NaN                          NaN   \n\u001B[1;36m59\u001B[0m                          NaN                          NaN   \n\n    :@computed_region_e7ym_nrbf  \n\u001B[1;36m40\u001B[0m                          NaN  \n\u001B[1;36m48\u001B[0m                          NaN  \n\u001B[1;36m51\u001B[0m                          NaN  \n\u001B[1;36m55\u001B[0m                          NaN  \n\u001B[1;36m59\u001B[0m                          NaN  \n\n\u001B[1m[\u001B[0m\u001B[1;36m5\u001B[0m rows x \u001B[1;36m28\u001B[0m columns\u001B[1m]\u001B[0m",
      "text/html": "<div>\n<style scoped>\n    .dataframe tbody tr th:only-of-type {\n        vertical-align: middle;\n    }\n\n    .dataframe tbody tr th {\n        vertical-align: top;\n    }\n\n    .dataframe thead th {\n        text-align: right;\n    }\n</style>\n<table border=\"1\" class=\"dataframe\">\n  <thead>\n    <tr style=\"text-align: right;\">\n      <th></th>\n      <th>invoice_line_no</th>\n      <th>date</th>\n      <th>store</th>\n      <th>name</th>\n      <th>address</th>\n      <th>city</th>\n      <th>zipcode</th>\n      <th>store_location</th>\n      <th>county</th>\n      <th>category</th>\n      <th>...</th>\n      <th>state_bottle_retail</th>\n      <th>sale_bottles</th>\n      <th>sale_dollars</th>\n      <th>sale_liters</th>\n      <th>sale_gallons</th>\n      <th>:@computed_region_3r5t_5243</th>\n      <th>:@computed_region_wnea_7qqw</th>\n      <th>:@computed_region_i9mz_6gmt</th>\n      <th>:@computed_region_uhgg_e8y2</th>\n      <th>:@computed_region_e7ym_nrbf</th>\n    </tr>\n  </thead>\n  <tbody>\n    <tr>\n      <th>40</th>\n      <td>INV-48781800012</td>\n      <td>2022-06-29T00:00:00.000</td>\n      <td>5425</td>\n      <td>SPIRITS LIQUOR / GRIMES</td>\n      <td>109 E 1ST STREET</td>\n      <td>GRIMES</td>\n      <td>50111.0</td>\n      <td>NaN</td>\n      <td>POLK</td>\n      <td>1012100.0</td>\n      <td>...</td>\n      <td>13.13</td>\n      <td>6</td>\n      <td>78.78</td>\n      <td>10.5</td>\n      <td>2.77</td>\n      <td>NaN</td>\n      <td>NaN</td>\n      <td>NaN</td>\n      <td>NaN</td>\n      <td>NaN</td>\n    </tr>\n    <tr>\n      <th>48</th>\n      <td>INV-48701800003</td>\n      <td>2022-06-27T00:00:00.000</td>\n      <td>2625</td>\n      <td>HY-VEE WINE &amp; SPIRITS #2 / DAVENPORT</td>\n      <td>3301 W KIMBERLY RD</td>\n      <td>DAVENPORT</td>\n      <td>52804.0</td>\n      <td>NaN</td>\n      <td>SCOTT</td>\n      <td>1081200.0</td>\n      <td>...</td>\n      <td>6.45</td>\n      <td>6</td>\n      <td>38.70</td>\n      <td>0.3</td>\n      <td>0.07</td>\n      <td>NaN</td>\n      <td>NaN</td>\n      <td>NaN</td>\n      <td>NaN</td>\n      <td>NaN</td>\n    </tr>\n    <tr>\n      <th>51</th>\n      <td>INV-48740300007</td>\n      <td>2022-06-28T00:00:00.000</td>\n      <td>5952</td>\n      <td>TOBACCO OUTLET PLUS #537 / IOWA CITY</td>\n      <td>923 S RIVERSIDE DR</td>\n      <td>IOWA CITY</td>\n      <td>52246.0</td>\n      <td>NaN</td>\n      <td>JOHNSON</td>\n      <td>1051100.0</td>\n      <td>...</td>\n      <td>19.50</td>\n      <td>6</td>\n      <td>117.00</td>\n      <td>10.5</td>\n      <td>2.77</td>\n      <td>NaN</td>\n      <td>NaN</td>\n      <td>NaN</td>\n      <td>NaN</td>\n      <td>NaN</td>\n    </tr>\n    <tr>\n      <th>55</th>\n      <td>INV-48722500017</td>\n      <td>2022-06-27T00:00:00.000</td>\n      <td>5618</td>\n      <td>CASEY'S GENERAL STORE #1446 / LISBON</td>\n      <td>150 E. BUSINESS 30</td>\n      <td>LISBON</td>\n      <td>52253.0</td>\n      <td>NaN</td>\n      <td>LINN</td>\n      <td>1011200.0</td>\n      <td>...</td>\n      <td>8.40</td>\n      <td>8</td>\n      <td>67.20</td>\n      <td>3.0</td>\n      <td>0.79</td>\n      <td>NaN</td>\n      <td>NaN</td>\n      <td>NaN</td>\n      <td>NaN</td>\n      <td>NaN</td>\n    </tr>\n    <tr>\n      <th>59</th>\n      <td>INV-48701800035</td>\n      <td>2022-06-27T00:00:00.000</td>\n      <td>2625</td>\n      <td>HY-VEE WINE &amp; SPIRITS #2 / DAVENPORT</td>\n      <td>3301 W KIMBERLY RD</td>\n      <td>DAVENPORT</td>\n      <td>52804.0</td>\n      <td>NaN</td>\n      <td>SCOTT</td>\n      <td>1081500.0</td>\n      <td>...</td>\n      <td>3.20</td>\n      <td>12</td>\n      <td>38.40</td>\n      <td>12.0</td>\n      <td>3.17</td>\n      <td>NaN</td>\n      <td>NaN</td>\n      <td>NaN</td>\n      <td>NaN</td>\n      <td>NaN</td>\n    </tr>\n  </tbody>\n</table>\n<p>5 rows × 28 columns</p>\n</div>"
     },
     "execution_count": 95,
     "metadata": {},
     "output_type": "execute_result"
    }
   ],
   "source": [
    "# Displaying the first few rows of these subsets\n",
    "null_store_location.head()"
   ]
  },
  {
   "cell_type": "code",
   "execution_count": 96,
   "id": "d5b2cb9288025968",
   "metadata": {
    "collapsed": false,
    "ExecuteTime": {
     "end_time": "2023-11-26T21:09:21.267706960Z",
     "start_time": "2023-11-26T21:09:21.187668179Z"
    }
   },
   "outputs": [
    {
     "data": {
      "text/plain": "",
      "text/html": "<pre style=\"white-space:pre;overflow-x:auto;line-height:normal;font-family:Menlo,'DejaVu Sans Mono',consolas,'Courier New',monospace\"></pre>\n"
     },
     "metadata": {},
     "output_type": "display_data"
    },
    {
     "data": {
      "text/plain": "\n       invoice_line_no                     date  store  \\\n\u001B[1;36m169880\u001B[0m    S33578500029  \u001B[1;36m2016\u001B[0m-\u001B[1;36m07\u001B[0m-26T\u001B[1;92m00:00:00\u001B[0m.\u001B[1;36m000\u001B[0m   \u001B[1;36m2285\u001B[0m   \n\u001B[1;36m182587\u001B[0m    S33648700071  \u001B[1;36m2016\u001B[0m-\u001B[1;36m07\u001B[0m-29T\u001B[1;92m00:00:00\u001B[0m.\u001B[1;36m000\u001B[0m   \u001B[1;36m2460\u001B[0m   \n\u001B[1;36m185761\u001B[0m    S33632400017  \u001B[1;36m2016\u001B[0m-\u001B[1;36m07\u001B[0m-28T\u001B[1;92m00:00:00\u001B[0m.\u001B[1;36m000\u001B[0m   \u001B[1;36m5251\u001B[0m   \n\u001B[1;36m207154\u001B[0m    S33291800028  \u001B[1;36m2016\u001B[0m-\u001B[1;36m07\u001B[0m-11T\u001B[1;92m00:00:00\u001B[0m.\u001B[1;36m000\u001B[0m   \u001B[1;36m5226\u001B[0m   \n\u001B[1;36m380913\u001B[0m    S32341900018  \u001B[1;36m2016\u001B[0m-\u001B[1;36m05\u001B[0m-16T\u001B[1;92m00:00:00\u001B[0m.\u001B[1;36m000\u001B[0m   \u001B[1;36m2650\u001B[0m   \n\n                                    name                  address        city  \\\n\u001B[1;36m169880\u001B[0m                    JOHN'S GROCERY       \u001B[1;36m401\u001B[0m EAST MARKET ST   IOWA CITY   \n\u001B[1;36m182587\u001B[0m                 LIQUOR BARN, INC.  \u001B[1;36m721\u001B[0m CENTRAL AVENUE WEST     HAMPTON   \n\u001B[1;36m185761\u001B[0m                  NORTHSIDE LIQUOR      \u001B[1;36m1303\u001B[0m, NORTH FEDERAL  MASON CITY   \n\u001B[1;36m207154\u001B[0m                       KC BROTHERS            \u001B[1;36m214\u001B[0m MYRTLE ST   DAVENPORT   \n\u001B[1;36m380913\u001B[0m  HY-VEE WINE AND SPIRITS \u001B[35m/\u001B[0m HARLAN             \u001B[1;36m1808\u001B[0m 23RD ST      HARLAN   \n\n        zipcode                                     store_location county  \\\n\u001B[1;36m169880\u001B[0m    \u001B[1;36m52240\u001B[0m  \u001B[1m{\u001B[0m\u001B[32m'type'\u001B[0m: \u001B[32m'Point'\u001B[0m, \u001B[32m'coordinates'\u001B[0m: \u001B[1m[\u001B[0m\u001B[1;36m-91.529854\u001B[0m, \u001B[33m...\u001B[0m    NaN   \n\u001B[1;36m182587\u001B[0m    \u001B[1;36m50441\u001B[0m  \u001B[1m{\u001B[0m\u001B[32m'type'\u001B[0m: \u001B[32m'Point'\u001B[0m, \u001B[32m'coordinates'\u001B[0m: \u001B[1m[\u001B[0m\u001B[1;36m-93.21693\u001B[0m, \u001B[1;36m4\u001B[0m\u001B[33m...\u001B[0m    NaN   \n\u001B[1;36m185761\u001B[0m    \u001B[1;36m50401\u001B[0m  \u001B[1m{\u001B[0m\u001B[32m'type'\u001B[0m: \u001B[32m'Point'\u001B[0m, \u001B[32m'coordinates'\u001B[0m: \u001B[1m[\u001B[0m\u001B[1;36m-93.201061\u001B[0m, \u001B[33m...\u001B[0m    NaN   \n\u001B[1;36m207154\u001B[0m  \u001B[1;36m52802.0\u001B[0m  \u001B[1m{\u001B[0m\u001B[32m'type'\u001B[0m: \u001B[32m'Point'\u001B[0m, \u001B[32m'coordinates'\u001B[0m: \u001B[1m[\u001B[0m\u001B[1;36m-90.589149\u001B[0m, \u001B[33m...\u001B[0m    NaN   \n\u001B[1;36m380913\u001B[0m  \u001B[1;36m51537.0\u001B[0m  \u001B[1m{\u001B[0m\u001B[32m'type'\u001B[0m: \u001B[32m'Point'\u001B[0m, \u001B[32m'coordinates'\u001B[0m: \u001B[1m[\u001B[0m\u001B[1;36m-95.339881\u001B[0m, \u001B[33m...\u001B[0m    NaN   \n\n         category  \u001B[33m...\u001B[0m state_bottle_retail  sale_bottles sale_dollars  \\\n\u001B[1;36m169880\u001B[0m  \u001B[1;36m1012300.0\u001B[0m  \u001B[33m...\u001B[0m               \u001B[1;36m22.50\u001B[0m            \u001B[1;36m12\u001B[0m       \u001B[1;36m270.00\u001B[0m   \n\u001B[1;36m182587\u001B[0m  \u001B[1;36m1081900.0\u001B[0m  \u001B[33m...\u001B[0m                \u001B[1;36m7.88\u001B[0m             \u001B[1;36m3\u001B[0m        \u001B[1;36m23.64\u001B[0m   \n\u001B[1;36m185761\u001B[0m  \u001B[1;36m1081600.0\u001B[0m  \u001B[33m...\u001B[0m                \u001B[1;36m8.06\u001B[0m            \u001B[1;36m12\u001B[0m        \u001B[1;36m96.72\u001B[0m   \n\u001B[1;36m207154\u001B[0m  \u001B[1;36m1011200.0\u001B[0m  \u001B[33m...\u001B[0m                \u001B[1;36m8.10\u001B[0m             \u001B[1;36m1\u001B[0m         \u001B[1;36m8.10\u001B[0m   \n\u001B[1;36m380913\u001B[0m  \u001B[1;36m1011300.0\u001B[0m  \u001B[33m...\u001B[0m               \u001B[1;36m46.02\u001B[0m             \u001B[1;36m6\u001B[0m       \u001B[1;36m276.12\u001B[0m   \n\n        sale_liters sale_gallons  :@computed_region_3r5t_5243  \\\n\u001B[1;36m169880\u001B[0m         \u001B[1;36m9.00\u001B[0m         \u001B[1;36m2.38\u001B[0m                        \u001B[1;36m526.0\u001B[0m   \n\u001B[1;36m182587\u001B[0m         \u001B[1;36m2.25\u001B[0m         \u001B[1;36m0.59\u001B[0m                        \u001B[1;36m775.0\u001B[0m   \n\u001B[1;36m185761\u001B[0m         \u001B[1;36m9.00\u001B[0m         \u001B[1;36m2.38\u001B[0m                        \u001B[1;36m647.0\u001B[0m   \n\u001B[1;36m207154\u001B[0m         \u001B[1;36m0.50\u001B[0m         \u001B[1;36m0.13\u001B[0m                        \u001B[1;36m185.0\u001B[0m   \n\u001B[1;36m380913\u001B[0m        \u001B[1;36m10.50\u001B[0m         \u001B[1;36m2.77\u001B[0m                        \u001B[1;36m229.0\u001B[0m   \n\n        :@computed_region_wnea_7qqw  :@computed_region_i9mz_6gmt  \\\n\u001B[1;36m169880\u001B[0m                         \u001B[1;36m22.0\u001B[0m                        \u001B[1;36m292.0\u001B[0m   \n\u001B[1;36m182587\u001B[0m                         \u001B[1;36m17.0\u001B[0m                        \u001B[1;36m225.0\u001B[0m   \n\u001B[1;36m185761\u001B[0m                         \u001B[1;36m16.0\u001B[0m                        \u001B[1;36m217.0\u001B[0m   \n\u001B[1;36m207154\u001B[0m                         \u001B[1;36m56.0\u001B[0m                         \u001B[1;36m84.0\u001B[0m   \n\u001B[1;36m380913\u001B[0m                         \u001B[1;36m43.0\u001B[0m                        \u001B[1;36m254.0\u001B[0m   \n\n        :@computed_region_uhgg_e8y2  :@computed_region_e7ym_nrbf  \n\u001B[1;36m169880\u001B[0m                         \u001B[1;36m61.0\u001B[0m                       \u001B[1;36m1792.0\u001B[0m  \n\u001B[1;36m182587\u001B[0m                         \u001B[1;36m29.0\u001B[0m                        \u001B[1;36m279.0\u001B[0m  \n\u001B[1;36m185761\u001B[0m                         \u001B[1;36m17.0\u001B[0m                       \u001B[1;36m1373.0\u001B[0m  \n\u001B[1;36m207154\u001B[0m                         \u001B[1;36m67.0\u001B[0m                       \u001B[1;36m1881.0\u001B[0m  \n\u001B[1;36m380913\u001B[0m                         \u001B[1;36m58.0\u001B[0m                        \u001B[1;36m298.0\u001B[0m  \n\n\u001B[1m[\u001B[0m\u001B[1;36m5\u001B[0m rows x \u001B[1;36m28\u001B[0m columns\u001B[1m]\u001B[0m",
      "text/html": "<div>\n<style scoped>\n    .dataframe tbody tr th:only-of-type {\n        vertical-align: middle;\n    }\n\n    .dataframe tbody tr th {\n        vertical-align: top;\n    }\n\n    .dataframe thead th {\n        text-align: right;\n    }\n</style>\n<table border=\"1\" class=\"dataframe\">\n  <thead>\n    <tr style=\"text-align: right;\">\n      <th></th>\n      <th>invoice_line_no</th>\n      <th>date</th>\n      <th>store</th>\n      <th>name</th>\n      <th>address</th>\n      <th>city</th>\n      <th>zipcode</th>\n      <th>store_location</th>\n      <th>county</th>\n      <th>category</th>\n      <th>...</th>\n      <th>state_bottle_retail</th>\n      <th>sale_bottles</th>\n      <th>sale_dollars</th>\n      <th>sale_liters</th>\n      <th>sale_gallons</th>\n      <th>:@computed_region_3r5t_5243</th>\n      <th>:@computed_region_wnea_7qqw</th>\n      <th>:@computed_region_i9mz_6gmt</th>\n      <th>:@computed_region_uhgg_e8y2</th>\n      <th>:@computed_region_e7ym_nrbf</th>\n    </tr>\n  </thead>\n  <tbody>\n    <tr>\n      <th>169880</th>\n      <td>S33578500029</td>\n      <td>2016-07-26T00:00:00.000</td>\n      <td>2285</td>\n      <td>JOHN'S GROCERY</td>\n      <td>401 EAST MARKET ST</td>\n      <td>IOWA CITY</td>\n      <td>52240</td>\n      <td>{'type': 'Point', 'coordinates': [-91.529854, ...</td>\n      <td>NaN</td>\n      <td>1012300.0</td>\n      <td>...</td>\n      <td>22.50</td>\n      <td>12</td>\n      <td>270.00</td>\n      <td>9.00</td>\n      <td>2.38</td>\n      <td>526.0</td>\n      <td>22.0</td>\n      <td>292.0</td>\n      <td>61.0</td>\n      <td>1792.0</td>\n    </tr>\n    <tr>\n      <th>182587</th>\n      <td>S33648700071</td>\n      <td>2016-07-29T00:00:00.000</td>\n      <td>2460</td>\n      <td>LIQUOR BARN, INC.</td>\n      <td>721 CENTRAL AVENUE WEST</td>\n      <td>HAMPTON</td>\n      <td>50441</td>\n      <td>{'type': 'Point', 'coordinates': [-93.21693, 4...</td>\n      <td>NaN</td>\n      <td>1081900.0</td>\n      <td>...</td>\n      <td>7.88</td>\n      <td>3</td>\n      <td>23.64</td>\n      <td>2.25</td>\n      <td>0.59</td>\n      <td>775.0</td>\n      <td>17.0</td>\n      <td>225.0</td>\n      <td>29.0</td>\n      <td>279.0</td>\n    </tr>\n    <tr>\n      <th>185761</th>\n      <td>S33632400017</td>\n      <td>2016-07-28T00:00:00.000</td>\n      <td>5251</td>\n      <td>NORTHSIDE LIQUOR</td>\n      <td>1303, NORTH FEDERAL</td>\n      <td>MASON CITY</td>\n      <td>50401</td>\n      <td>{'type': 'Point', 'coordinates': [-93.201061, ...</td>\n      <td>NaN</td>\n      <td>1081600.0</td>\n      <td>...</td>\n      <td>8.06</td>\n      <td>12</td>\n      <td>96.72</td>\n      <td>9.00</td>\n      <td>2.38</td>\n      <td>647.0</td>\n      <td>16.0</td>\n      <td>217.0</td>\n      <td>17.0</td>\n      <td>1373.0</td>\n    </tr>\n    <tr>\n      <th>207154</th>\n      <td>S33291800028</td>\n      <td>2016-07-11T00:00:00.000</td>\n      <td>5226</td>\n      <td>KC BROTHERS</td>\n      <td>214 MYRTLE ST</td>\n      <td>DAVENPORT</td>\n      <td>52802.0</td>\n      <td>{'type': 'Point', 'coordinates': [-90.589149, ...</td>\n      <td>NaN</td>\n      <td>1011200.0</td>\n      <td>...</td>\n      <td>8.10</td>\n      <td>1</td>\n      <td>8.10</td>\n      <td>0.50</td>\n      <td>0.13</td>\n      <td>185.0</td>\n      <td>56.0</td>\n      <td>84.0</td>\n      <td>67.0</td>\n      <td>1881.0</td>\n    </tr>\n    <tr>\n      <th>380913</th>\n      <td>S32341900018</td>\n      <td>2016-05-16T00:00:00.000</td>\n      <td>2650</td>\n      <td>HY-VEE WINE AND SPIRITS / HARLAN</td>\n      <td>1808 23RD ST</td>\n      <td>HARLAN</td>\n      <td>51537.0</td>\n      <td>{'type': 'Point', 'coordinates': [-95.339881, ...</td>\n      <td>NaN</td>\n      <td>1011300.0</td>\n      <td>...</td>\n      <td>46.02</td>\n      <td>6</td>\n      <td>276.12</td>\n      <td>10.50</td>\n      <td>2.77</td>\n      <td>229.0</td>\n      <td>43.0</td>\n      <td>254.0</td>\n      <td>58.0</td>\n      <td>298.0</td>\n    </tr>\n  </tbody>\n</table>\n<p>5 rows × 28 columns</p>\n</div>"
     },
     "execution_count": 96,
     "metadata": {},
     "output_type": "execute_result"
    }
   ],
   "source": [
    "null_county.head()"
   ]
  },
  {
   "cell_type": "code",
   "execution_count": 97,
   "id": "4d86ad677f8d4e53",
   "metadata": {
    "collapsed": false,
    "ExecuteTime": {
     "end_time": "2023-11-26T21:09:28.912563950Z",
     "start_time": "2023-11-26T21:09:21.231443431Z"
    }
   },
   "outputs": [
    {
     "data": {
      "text/plain": "\u001B[2;36m[11/26/23 22:09:28]\u001B[0m\u001B[2;36m \u001B[0m\u001B[31mWARNING \u001B[0m \u001B[35m/tmp/ipykernel_125863/\u001B[0m\u001B[95m2938091339.py\u001B[0m:\u001B[1;36m5\u001B[0m: SettingWithCopyWarning:         \u001B]8;id=301416;file:///usr/lib/python3.10/warnings.py\u001B\\\u001B[2mwarnings.py\u001B[0m\u001B]8;;\u001B\\\u001B[2m:\u001B[0m\u001B]8;id=463754;file:///usr/lib/python3.10/warnings.py#109\u001B\\\u001B[2m109\u001B[0m\u001B]8;;\u001B\\\n\u001B[2;36m                    \u001B[0m         A value is trying to be set on a copy of a slice from a DataFrame.     \u001B[2m               \u001B[0m\n\u001B[2;36m                    \u001B[0m         Try using .loc\u001B[1m[\u001B[0mrow_indexer,col_indexer\u001B[1m]\u001B[0m = value instead                \u001B[2m               \u001B[0m\n\u001B[2;36m                    \u001B[0m                                                                                \u001B[2m               \u001B[0m\n\u001B[2;36m                    \u001B[0m         See the caveats in the documentation:                                  \u001B[2m               \u001B[0m\n\u001B[2;36m                    \u001B[0m         \u001B[4;94mhttps://pandas.pydata.org/pandas-docs/stable/user_guide/indexing.html#\u001B[0m \u001B[2m               \u001B[0m\n\u001B[2;36m                    \u001B[0m         \u001B[4;94mreturning-a-view-versus-a-copy\u001B[0m                                         \u001B[2m               \u001B[0m\n\u001B[2;36m                    \u001B[0m           dfCleaned\u001B[1m[\u001B[0m\u001B[32m'county'\u001B[0m\u001B[1m]\u001B[0m = \u001B[1;35mdfCleaned.apply\u001B[0m\u001B[1m(\u001B[0mlambda row:                    \u001B[2m               \u001B[0m\n\u001B[2;36m                    \u001B[0m         \u001B[1;35mzipcode_to_county.get\u001B[0m\u001B[1m(\u001B[0mrow\u001B[1m[\u001B[0m\u001B[32m'zipcode'\u001B[0m\u001B[1m]\u001B[0m, row\u001B[1m[\u001B[0m\u001B[32m'county'\u001B[0m\u001B[1m]\u001B[0m\u001B[1m)\u001B[0m if                \u001B[2m               \u001B[0m\n\u001B[2;36m                    \u001B[0m         \u001B[1;35mpd.isnull\u001B[0m\u001B[1m(\u001B[0mrow\u001B[1m[\u001B[0m\u001B[32m'county'\u001B[0m\u001B[1m]\u001B[0m\u001B[1m)\u001B[0m else row\u001B[1m[\u001B[0m\u001B[32m'county'\u001B[0m\u001B[1m]\u001B[0m, \u001B[33maxis\u001B[0m=\u001B[1;36m1\u001B[0m\u001B[1m)\u001B[0m                   \u001B[2m               \u001B[0m\n\u001B[2;36m                    \u001B[0m                                                                                \u001B[2m               \u001B[0m\n",
      "text/html": "<pre style=\"white-space:pre;overflow-x:auto;line-height:normal;font-family:Menlo,'DejaVu Sans Mono',consolas,'Courier New',monospace\"><span style=\"color: #7fbfbf; text-decoration-color: #7fbfbf\">[11/26/23 22:09:28] </span><span style=\"color: #800000; text-decoration-color: #800000\">WARNING </span> <span style=\"color: #800080; text-decoration-color: #800080\">/tmp/ipykernel_125863/</span><span style=\"color: #ff00ff; text-decoration-color: #ff00ff\">2938091339.py</span>:<span style=\"color: #008080; text-decoration-color: #008080; font-weight: bold\">5</span>: SettingWithCopyWarning:         <a href=\"file:///usr/lib/python3.10/warnings.py\" target=\"_blank\"><span style=\"color: #7f7f7f; text-decoration-color: #7f7f7f\">warnings.py</span></a><span style=\"color: #7f7f7f; text-decoration-color: #7f7f7f\">:</span><a href=\"file:///usr/lib/python3.10/warnings.py#109\" target=\"_blank\"><span style=\"color: #7f7f7f; text-decoration-color: #7f7f7f\">109</span></a>\n<span style=\"color: #7fbfbf; text-decoration-color: #7fbfbf\">                    </span>         A value is trying to be set on a copy of a slice from a DataFrame.     <span style=\"color: #7f7f7f; text-decoration-color: #7f7f7f\">               </span>\n<span style=\"color: #7fbfbf; text-decoration-color: #7fbfbf\">                    </span>         Try using .loc<span style=\"font-weight: bold\">[</span>row_indexer,col_indexer<span style=\"font-weight: bold\">]</span> = value instead                <span style=\"color: #7f7f7f; text-decoration-color: #7f7f7f\">               </span>\n<span style=\"color: #7fbfbf; text-decoration-color: #7fbfbf\">                    </span>                                                                                <span style=\"color: #7f7f7f; text-decoration-color: #7f7f7f\">               </span>\n<span style=\"color: #7fbfbf; text-decoration-color: #7fbfbf\">                    </span>         See the caveats in the documentation:                                  <span style=\"color: #7f7f7f; text-decoration-color: #7f7f7f\">               </span>\n<span style=\"color: #7fbfbf; text-decoration-color: #7fbfbf\">                    </span>         <span style=\"color: #0000ff; text-decoration-color: #0000ff; text-decoration: underline\">https://pandas.pydata.org/pandas-docs/stable/user_guide/indexing.html#</span> <span style=\"color: #7f7f7f; text-decoration-color: #7f7f7f\">               </span>\n<span style=\"color: #7fbfbf; text-decoration-color: #7fbfbf\">                    </span>         <span style=\"color: #0000ff; text-decoration-color: #0000ff; text-decoration: underline\">returning-a-view-versus-a-copy</span>                                         <span style=\"color: #7f7f7f; text-decoration-color: #7f7f7f\">               </span>\n<span style=\"color: #7fbfbf; text-decoration-color: #7fbfbf\">                    </span>           dfCleaned<span style=\"font-weight: bold\">[</span><span style=\"color: #008000; text-decoration-color: #008000\">'county'</span><span style=\"font-weight: bold\">]</span> = <span style=\"color: #800080; text-decoration-color: #800080; font-weight: bold\">dfCleaned.apply</span><span style=\"font-weight: bold\">(</span>lambda row:                    <span style=\"color: #7f7f7f; text-decoration-color: #7f7f7f\">               </span>\n<span style=\"color: #7fbfbf; text-decoration-color: #7fbfbf\">                    </span>         <span style=\"color: #800080; text-decoration-color: #800080; font-weight: bold\">zipcode_to_county.get</span><span style=\"font-weight: bold\">(</span>row<span style=\"font-weight: bold\">[</span><span style=\"color: #008000; text-decoration-color: #008000\">'zipcode'</span><span style=\"font-weight: bold\">]</span>, row<span style=\"font-weight: bold\">[</span><span style=\"color: #008000; text-decoration-color: #008000\">'county'</span><span style=\"font-weight: bold\">])</span> if                <span style=\"color: #7f7f7f; text-decoration-color: #7f7f7f\">               </span>\n<span style=\"color: #7fbfbf; text-decoration-color: #7fbfbf\">                    </span>         <span style=\"color: #800080; text-decoration-color: #800080; font-weight: bold\">pd.isnull</span><span style=\"font-weight: bold\">(</span>row<span style=\"font-weight: bold\">[</span><span style=\"color: #008000; text-decoration-color: #008000\">'county'</span><span style=\"font-weight: bold\">])</span> else row<span style=\"font-weight: bold\">[</span><span style=\"color: #008000; text-decoration-color: #008000\">'county'</span><span style=\"font-weight: bold\">]</span>, <span style=\"color: #808000; text-decoration-color: #808000\">axis</span>=<span style=\"color: #008080; text-decoration-color: #008080; font-weight: bold\">1</span><span style=\"font-weight: bold\">)</span>                   <span style=\"color: #7f7f7f; text-decoration-color: #7f7f7f\">               </span>\n<span style=\"color: #7fbfbf; text-decoration-color: #7fbfbf\">                    </span>                                                                                <span style=\"color: #7f7f7f; text-decoration-color: #7f7f7f\">               </span>\n</pre>\n"
     },
     "metadata": {},
     "output_type": "display_data"
    },
    {
     "data": {
      "text/plain": "",
      "text/html": "<pre style=\"white-space:pre;overflow-x:auto;line-height:normal;font-family:Menlo,'DejaVu Sans Mono',consolas,'Courier New',monospace\"></pre>\n"
     },
     "metadata": {},
     "output_type": "display_data"
    },
    {
     "data": {
      "text/plain": "\u001B[1;36m241\u001B[0m"
     },
     "execution_count": 97,
     "metadata": {},
     "output_type": "execute_result"
    }
   ],
   "source": [
    "# Creating a mapping from zipcode to the most common county for that zipcode\n",
    "zipcode_to_county = dfCleaned.dropna(subset=['county']).groupby('zipcode')['county'].agg(lambda x: x.value_counts().index[0]).to_dict()\n",
    "\n",
    "# Applying this mapping to fill missing values in the 'county' column\n",
    "dfCleaned['county'] = dfCleaned.apply(lambda row: zipcode_to_county.get(row['zipcode'], row['county']) if pd.isnull(row['county']) else row['county'], axis=1)\n",
    "\n",
    "# Checking if the missing values in 'county' have been filled\n",
    "missing_county_after_filling = dfCleaned['county'].isnull().sum()\n",
    "missing_county_after_filling\n"
   ]
  },
  {
   "cell_type": "code",
   "execution_count": 98,
   "id": "a0c5c9699b4de198",
   "metadata": {
    "collapsed": false,
    "ExecuteTime": {
     "end_time": "2023-11-26T21:09:29.066808789Z",
     "start_time": "2023-11-26T21:09:28.943933367Z"
    }
   },
   "outputs": [],
   "source": [
    "data_cleaned = dfCleaned.dropna(subset=['county'])"
   ]
  },
  {
   "cell_type": "code",
   "execution_count": 99,
   "id": "e85f094eb8d782a6",
   "metadata": {
    "collapsed": false,
    "ExecuteTime": {
     "end_time": "2023-11-26T21:09:29.082025696Z",
     "start_time": "2023-11-26T21:09:29.070144096Z"
    }
   },
   "outputs": [],
   "source": [
    "#Fullfilling missing values from store_location based on store_id ['store']"
   ]
  },
  {
   "cell_type": "code",
   "execution_count": 100,
   "id": "73383d59ee0ec12",
   "metadata": {
    "collapsed": false,
    "ExecuteTime": {
     "end_time": "2023-11-26T21:09:36.758505178Z",
     "start_time": "2023-11-26T21:09:29.075971787Z"
    }
   },
   "outputs": [
    {
     "data": {
      "text/plain": "\u001B[2;36m[11/26/23 22:09:36]\u001B[0m\u001B[2;36m \u001B[0m\u001B[31mWARNING \u001B[0m \u001B[35m/tmp/ipykernel_125863/\u001B[0m\u001B[95m3355744226.py\u001B[0m:\u001B[1;36m5\u001B[0m: SettingWithCopyWarning:         \u001B]8;id=56222;file:///usr/lib/python3.10/warnings.py\u001B\\\u001B[2mwarnings.py\u001B[0m\u001B]8;;\u001B\\\u001B[2m:\u001B[0m\u001B]8;id=214359;file:///usr/lib/python3.10/warnings.py#109\u001B\\\u001B[2m109\u001B[0m\u001B]8;;\u001B\\\n\u001B[2;36m                    \u001B[0m         A value is trying to be set on a copy of a slice from a DataFrame.     \u001B[2m               \u001B[0m\n\u001B[2;36m                    \u001B[0m         Try using .loc\u001B[1m[\u001B[0mrow_indexer,col_indexer\u001B[1m]\u001B[0m = value instead                \u001B[2m               \u001B[0m\n\u001B[2;36m                    \u001B[0m                                                                                \u001B[2m               \u001B[0m\n\u001B[2;36m                    \u001B[0m         See the caveats in the documentation:                                  \u001B[2m               \u001B[0m\n\u001B[2;36m                    \u001B[0m         \u001B[4;94mhttps://pandas.pydata.org/pandas-docs/stable/user_guide/indexing.html#\u001B[0m \u001B[2m               \u001B[0m\n\u001B[2;36m                    \u001B[0m         \u001B[4;94mreturning-a-view-versus-a-copy\u001B[0m                                         \u001B[2m               \u001B[0m\n\u001B[2;36m                    \u001B[0m           data_cleaned\u001B[1m[\u001B[0m\u001B[32m'store_location'\u001B[0m\u001B[1m]\u001B[0m = \u001B[1;35mdata_cleaned.apply\u001B[0m\u001B[1m(\u001B[0mlambda row:      \u001B[2m               \u001B[0m\n\u001B[2;36m                    \u001B[0m         \u001B[1;35mstore_to_location.get\u001B[0m\u001B[1m(\u001B[0mrow\u001B[1m[\u001B[0m\u001B[32m'store'\u001B[0m\u001B[1m]\u001B[0m, row\u001B[1m[\u001B[0m\u001B[32m'store_location'\u001B[0m\u001B[1m]\u001B[0m\u001B[1m)\u001B[0m if          \u001B[2m               \u001B[0m\n\u001B[2;36m                    \u001B[0m         \u001B[1;35mpd.isnull\u001B[0m\u001B[1m(\u001B[0mrow\u001B[1m[\u001B[0m\u001B[32m'store_location'\u001B[0m\u001B[1m]\u001B[0m\u001B[1m)\u001B[0m else row\u001B[1m[\u001B[0m\u001B[32m'store_location'\u001B[0m\u001B[1m]\u001B[0m, \u001B[33maxis\u001B[0m=\u001B[1;36m1\u001B[0m\u001B[1m)\u001B[0m   \u001B[2m               \u001B[0m\n\u001B[2;36m                    \u001B[0m                                                                                \u001B[2m               \u001B[0m\n",
      "text/html": "<pre style=\"white-space:pre;overflow-x:auto;line-height:normal;font-family:Menlo,'DejaVu Sans Mono',consolas,'Courier New',monospace\"><span style=\"color: #7fbfbf; text-decoration-color: #7fbfbf\">[11/26/23 22:09:36] </span><span style=\"color: #800000; text-decoration-color: #800000\">WARNING </span> <span style=\"color: #800080; text-decoration-color: #800080\">/tmp/ipykernel_125863/</span><span style=\"color: #ff00ff; text-decoration-color: #ff00ff\">3355744226.py</span>:<span style=\"color: #008080; text-decoration-color: #008080; font-weight: bold\">5</span>: SettingWithCopyWarning:         <a href=\"file:///usr/lib/python3.10/warnings.py\" target=\"_blank\"><span style=\"color: #7f7f7f; text-decoration-color: #7f7f7f\">warnings.py</span></a><span style=\"color: #7f7f7f; text-decoration-color: #7f7f7f\">:</span><a href=\"file:///usr/lib/python3.10/warnings.py#109\" target=\"_blank\"><span style=\"color: #7f7f7f; text-decoration-color: #7f7f7f\">109</span></a>\n<span style=\"color: #7fbfbf; text-decoration-color: #7fbfbf\">                    </span>         A value is trying to be set on a copy of a slice from a DataFrame.     <span style=\"color: #7f7f7f; text-decoration-color: #7f7f7f\">               </span>\n<span style=\"color: #7fbfbf; text-decoration-color: #7fbfbf\">                    </span>         Try using .loc<span style=\"font-weight: bold\">[</span>row_indexer,col_indexer<span style=\"font-weight: bold\">]</span> = value instead                <span style=\"color: #7f7f7f; text-decoration-color: #7f7f7f\">               </span>\n<span style=\"color: #7fbfbf; text-decoration-color: #7fbfbf\">                    </span>                                                                                <span style=\"color: #7f7f7f; text-decoration-color: #7f7f7f\">               </span>\n<span style=\"color: #7fbfbf; text-decoration-color: #7fbfbf\">                    </span>         See the caveats in the documentation:                                  <span style=\"color: #7f7f7f; text-decoration-color: #7f7f7f\">               </span>\n<span style=\"color: #7fbfbf; text-decoration-color: #7fbfbf\">                    </span>         <span style=\"color: #0000ff; text-decoration-color: #0000ff; text-decoration: underline\">https://pandas.pydata.org/pandas-docs/stable/user_guide/indexing.html#</span> <span style=\"color: #7f7f7f; text-decoration-color: #7f7f7f\">               </span>\n<span style=\"color: #7fbfbf; text-decoration-color: #7fbfbf\">                    </span>         <span style=\"color: #0000ff; text-decoration-color: #0000ff; text-decoration: underline\">returning-a-view-versus-a-copy</span>                                         <span style=\"color: #7f7f7f; text-decoration-color: #7f7f7f\">               </span>\n<span style=\"color: #7fbfbf; text-decoration-color: #7fbfbf\">                    </span>           data_cleaned<span style=\"font-weight: bold\">[</span><span style=\"color: #008000; text-decoration-color: #008000\">'store_location'</span><span style=\"font-weight: bold\">]</span> = <span style=\"color: #800080; text-decoration-color: #800080; font-weight: bold\">data_cleaned.apply</span><span style=\"font-weight: bold\">(</span>lambda row:      <span style=\"color: #7f7f7f; text-decoration-color: #7f7f7f\">               </span>\n<span style=\"color: #7fbfbf; text-decoration-color: #7fbfbf\">                    </span>         <span style=\"color: #800080; text-decoration-color: #800080; font-weight: bold\">store_to_location.get</span><span style=\"font-weight: bold\">(</span>row<span style=\"font-weight: bold\">[</span><span style=\"color: #008000; text-decoration-color: #008000\">'store'</span><span style=\"font-weight: bold\">]</span>, row<span style=\"font-weight: bold\">[</span><span style=\"color: #008000; text-decoration-color: #008000\">'store_location'</span><span style=\"font-weight: bold\">])</span> if          <span style=\"color: #7f7f7f; text-decoration-color: #7f7f7f\">               </span>\n<span style=\"color: #7fbfbf; text-decoration-color: #7fbfbf\">                    </span>         <span style=\"color: #800080; text-decoration-color: #800080; font-weight: bold\">pd.isnull</span><span style=\"font-weight: bold\">(</span>row<span style=\"font-weight: bold\">[</span><span style=\"color: #008000; text-decoration-color: #008000\">'store_location'</span><span style=\"font-weight: bold\">])</span> else row<span style=\"font-weight: bold\">[</span><span style=\"color: #008000; text-decoration-color: #008000\">'store_location'</span><span style=\"font-weight: bold\">]</span>, <span style=\"color: #808000; text-decoration-color: #808000\">axis</span>=<span style=\"color: #008080; text-decoration-color: #008080; font-weight: bold\">1</span><span style=\"font-weight: bold\">)</span>   <span style=\"color: #7f7f7f; text-decoration-color: #7f7f7f\">               </span>\n<span style=\"color: #7fbfbf; text-decoration-color: #7fbfbf\">                    </span>                                                                                <span style=\"color: #7f7f7f; text-decoration-color: #7f7f7f\">               </span>\n</pre>\n"
     },
     "metadata": {},
     "output_type": "display_data"
    },
    {
     "data": {
      "text/plain": "",
      "text/html": "<pre style=\"white-space:pre;overflow-x:auto;line-height:normal;font-family:Menlo,'DejaVu Sans Mono',consolas,'Courier New',monospace\"></pre>\n"
     },
     "metadata": {},
     "output_type": "display_data"
    },
    {
     "data": {
      "text/plain": "\u001B[1;36m85162\u001B[0m"
     },
     "execution_count": 100,
     "metadata": {},
     "output_type": "execute_result"
    }
   ],
   "source": [
    "# Step 1: Creating a mapping between 'store' and the most common 'store_location' for that store\n",
    "store_to_location = data_cleaned.dropna(subset=['store_location']).groupby('store')['store_location'].agg(lambda x: x.value_counts().index[0]).to_dict()\n",
    "\n",
    "# Step 2: Using this mapping to fill missing 'store_location' values\n",
    "data_cleaned['store_location'] = data_cleaned.apply(lambda row: store_to_location.get(row['store'], row['store_location']) if pd.isnull(row['store_location']) else row['store_location'], axis=1)\n",
    "\n",
    "# Step 3: Checking how many missing values are left in 'store_location'\n",
    "data_cleaned['store_location'].isnull().sum()\n",
    "\n"
   ]
  },
  {
   "cell_type": "code",
   "execution_count": 101,
   "id": "491bdfaf0ce94b5a",
   "metadata": {
    "collapsed": false,
    "ExecuteTime": {
     "end_time": "2023-11-26T21:09:39.784582546Z",
     "start_time": "2023-11-26T21:09:36.758674266Z"
    }
   },
   "outputs": [
    {
     "data": {
      "text/plain": "\u001B[2;36m[11/26/23 22:09:39]\u001B[0m\u001B[2;36m \u001B[0m\u001B[31mWARNING \u001B[0m \u001B[35m/tmp/ipykernel_125863/\u001B[0m\u001B[95m1869442636.py\u001B[0m:\u001B[1;36m14\u001B[0m: SettingWithCopyWarning:        \u001B]8;id=609369;file:///usr/lib/python3.10/warnings.py\u001B\\\u001B[2mwarnings.py\u001B[0m\u001B]8;;\u001B\\\u001B[2m:\u001B[0m\u001B]8;id=456386;file:///usr/lib/python3.10/warnings.py#109\u001B\\\u001B[2m109\u001B[0m\u001B]8;;\u001B\\\n\u001B[2;36m                    \u001B[0m         A value is trying to be set on a copy of a slice from a DataFrame.     \u001B[2m               \u001B[0m\n\u001B[2;36m                    \u001B[0m         Try using .loc\u001B[1m[\u001B[0mrow_indexer,col_indexer\u001B[1m]\u001B[0m = value instead                \u001B[2m               \u001B[0m\n\u001B[2;36m                    \u001B[0m                                                                                \u001B[2m               \u001B[0m\n\u001B[2;36m                    \u001B[0m         See the caveats in the documentation:                                  \u001B[2m               \u001B[0m\n\u001B[2;36m                    \u001B[0m         \u001B[4;94mhttps://pandas.pydata.org/pandas-docs/stable/user_guide/indexing.html#\u001B[0m \u001B[2m               \u001B[0m\n\u001B[2;36m                    \u001B[0m         \u001B[4;94mreturning-a-view-versus-a-copy\u001B[0m                                         \u001B[2m               \u001B[0m\n\u001B[2;36m                    \u001B[0m           data_cleaned\u001B[1m[\u001B[0m\u001B[32m'longitude'\u001B[0m\u001B[1m]\u001B[0m, data_cleaned\u001B[1m[\u001B[0m\u001B[32m'latitude'\u001B[0m\u001B[1m]\u001B[0m =                \u001B[2m               \u001B[0m\n\u001B[2;36m                    \u001B[0m         \u001B[1;35mzip\u001B[0m\u001B[1m(\u001B[0m*data_cleaned\u001B[1m[\u001B[0m\u001B[32m'store_location'\u001B[0m\u001B[1m]\u001B[0m\u001B[1;35m.apply\u001B[0m\u001B[1m(\u001B[0mprocess_store_location\u001B[1m)\u001B[0m\u001B[1m)\u001B[0m     \u001B[2m               \u001B[0m\n\u001B[2;36m                    \u001B[0m                                                                                \u001B[2m               \u001B[0m\n",
      "text/html": "<pre style=\"white-space:pre;overflow-x:auto;line-height:normal;font-family:Menlo,'DejaVu Sans Mono',consolas,'Courier New',monospace\"><span style=\"color: #7fbfbf; text-decoration-color: #7fbfbf\">[11/26/23 22:09:39] </span><span style=\"color: #800000; text-decoration-color: #800000\">WARNING </span> <span style=\"color: #800080; text-decoration-color: #800080\">/tmp/ipykernel_125863/</span><span style=\"color: #ff00ff; text-decoration-color: #ff00ff\">1869442636.py</span>:<span style=\"color: #008080; text-decoration-color: #008080; font-weight: bold\">14</span>: SettingWithCopyWarning:        <a href=\"file:///usr/lib/python3.10/warnings.py\" target=\"_blank\"><span style=\"color: #7f7f7f; text-decoration-color: #7f7f7f\">warnings.py</span></a><span style=\"color: #7f7f7f; text-decoration-color: #7f7f7f\">:</span><a href=\"file:///usr/lib/python3.10/warnings.py#109\" target=\"_blank\"><span style=\"color: #7f7f7f; text-decoration-color: #7f7f7f\">109</span></a>\n<span style=\"color: #7fbfbf; text-decoration-color: #7fbfbf\">                    </span>         A value is trying to be set on a copy of a slice from a DataFrame.     <span style=\"color: #7f7f7f; text-decoration-color: #7f7f7f\">               </span>\n<span style=\"color: #7fbfbf; text-decoration-color: #7fbfbf\">                    </span>         Try using .loc<span style=\"font-weight: bold\">[</span>row_indexer,col_indexer<span style=\"font-weight: bold\">]</span> = value instead                <span style=\"color: #7f7f7f; text-decoration-color: #7f7f7f\">               </span>\n<span style=\"color: #7fbfbf; text-decoration-color: #7fbfbf\">                    </span>                                                                                <span style=\"color: #7f7f7f; text-decoration-color: #7f7f7f\">               </span>\n<span style=\"color: #7fbfbf; text-decoration-color: #7fbfbf\">                    </span>         See the caveats in the documentation:                                  <span style=\"color: #7f7f7f; text-decoration-color: #7f7f7f\">               </span>\n<span style=\"color: #7fbfbf; text-decoration-color: #7fbfbf\">                    </span>         <span style=\"color: #0000ff; text-decoration-color: #0000ff; text-decoration: underline\">https://pandas.pydata.org/pandas-docs/stable/user_guide/indexing.html#</span> <span style=\"color: #7f7f7f; text-decoration-color: #7f7f7f\">               </span>\n<span style=\"color: #7fbfbf; text-decoration-color: #7fbfbf\">                    </span>         <span style=\"color: #0000ff; text-decoration-color: #0000ff; text-decoration: underline\">returning-a-view-versus-a-copy</span>                                         <span style=\"color: #7f7f7f; text-decoration-color: #7f7f7f\">               </span>\n<span style=\"color: #7fbfbf; text-decoration-color: #7fbfbf\">                    </span>           data_cleaned<span style=\"font-weight: bold\">[</span><span style=\"color: #008000; text-decoration-color: #008000\">'longitude'</span><span style=\"font-weight: bold\">]</span>, data_cleaned<span style=\"font-weight: bold\">[</span><span style=\"color: #008000; text-decoration-color: #008000\">'latitude'</span><span style=\"font-weight: bold\">]</span> =                <span style=\"color: #7f7f7f; text-decoration-color: #7f7f7f\">               </span>\n<span style=\"color: #7fbfbf; text-decoration-color: #7fbfbf\">                    </span>         <span style=\"color: #800080; text-decoration-color: #800080; font-weight: bold\">zip</span><span style=\"font-weight: bold\">(</span>*data_cleaned<span style=\"font-weight: bold\">[</span><span style=\"color: #008000; text-decoration-color: #008000\">'store_location'</span><span style=\"font-weight: bold\">]</span><span style=\"color: #800080; text-decoration-color: #800080; font-weight: bold\">.apply</span><span style=\"font-weight: bold\">(</span>process_store_location<span style=\"font-weight: bold\">))</span>     <span style=\"color: #7f7f7f; text-decoration-color: #7f7f7f\">               </span>\n<span style=\"color: #7fbfbf; text-decoration-color: #7fbfbf\">                    </span>                                                                                <span style=\"color: #7f7f7f; text-decoration-color: #7f7f7f\">               </span>\n</pre>\n"
     },
     "metadata": {},
     "output_type": "display_data"
    },
    {
     "data": {
      "text/plain": "\u001B[2;36m                   \u001B[0m\u001B[2;36m \u001B[0m\u001B[31mWARNING \u001B[0m \u001B[35m/tmp/ipykernel_125863/\u001B[0m\u001B[95m1869442636.py\u001B[0m:\u001B[1;36m14\u001B[0m: SettingWithCopyWarning:        \u001B]8;id=5940;file:///usr/lib/python3.10/warnings.py\u001B\\\u001B[2mwarnings.py\u001B[0m\u001B]8;;\u001B\\\u001B[2m:\u001B[0m\u001B]8;id=348544;file:///usr/lib/python3.10/warnings.py#109\u001B\\\u001B[2m109\u001B[0m\u001B]8;;\u001B\\\n\u001B[2;36m                    \u001B[0m         A value is trying to be set on a copy of a slice from a DataFrame.     \u001B[2m               \u001B[0m\n\u001B[2;36m                    \u001B[0m         Try using .loc\u001B[1m[\u001B[0mrow_indexer,col_indexer\u001B[1m]\u001B[0m = value instead                \u001B[2m               \u001B[0m\n\u001B[2;36m                    \u001B[0m                                                                                \u001B[2m               \u001B[0m\n\u001B[2;36m                    \u001B[0m         See the caveats in the documentation:                                  \u001B[2m               \u001B[0m\n\u001B[2;36m                    \u001B[0m         \u001B[4;94mhttps://pandas.pydata.org/pandas-docs/stable/user_guide/indexing.html#\u001B[0m \u001B[2m               \u001B[0m\n\u001B[2;36m                    \u001B[0m         \u001B[4;94mreturning-a-view-versus-a-copy\u001B[0m                                         \u001B[2m               \u001B[0m\n\u001B[2;36m                    \u001B[0m           data_cleaned\u001B[1m[\u001B[0m\u001B[32m'longitude'\u001B[0m\u001B[1m]\u001B[0m, data_cleaned\u001B[1m[\u001B[0m\u001B[32m'latitude'\u001B[0m\u001B[1m]\u001B[0m =                \u001B[2m               \u001B[0m\n\u001B[2;36m                    \u001B[0m         \u001B[1;35mzip\u001B[0m\u001B[1m(\u001B[0m*data_cleaned\u001B[1m[\u001B[0m\u001B[32m'store_location'\u001B[0m\u001B[1m]\u001B[0m\u001B[1;35m.apply\u001B[0m\u001B[1m(\u001B[0mprocess_store_location\u001B[1m)\u001B[0m\u001B[1m)\u001B[0m     \u001B[2m               \u001B[0m\n\u001B[2;36m                    \u001B[0m                                                                                \u001B[2m               \u001B[0m\n",
      "text/html": "<pre style=\"white-space:pre;overflow-x:auto;line-height:normal;font-family:Menlo,'DejaVu Sans Mono',consolas,'Courier New',monospace\"><span style=\"color: #7fbfbf; text-decoration-color: #7fbfbf\">                    </span><span style=\"color: #800000; text-decoration-color: #800000\">WARNING </span> <span style=\"color: #800080; text-decoration-color: #800080\">/tmp/ipykernel_125863/</span><span style=\"color: #ff00ff; text-decoration-color: #ff00ff\">1869442636.py</span>:<span style=\"color: #008080; text-decoration-color: #008080; font-weight: bold\">14</span>: SettingWithCopyWarning:        <a href=\"file:///usr/lib/python3.10/warnings.py\" target=\"_blank\"><span style=\"color: #7f7f7f; text-decoration-color: #7f7f7f\">warnings.py</span></a><span style=\"color: #7f7f7f; text-decoration-color: #7f7f7f\">:</span><a href=\"file:///usr/lib/python3.10/warnings.py#109\" target=\"_blank\"><span style=\"color: #7f7f7f; text-decoration-color: #7f7f7f\">109</span></a>\n<span style=\"color: #7fbfbf; text-decoration-color: #7fbfbf\">                    </span>         A value is trying to be set on a copy of a slice from a DataFrame.     <span style=\"color: #7f7f7f; text-decoration-color: #7f7f7f\">               </span>\n<span style=\"color: #7fbfbf; text-decoration-color: #7fbfbf\">                    </span>         Try using .loc<span style=\"font-weight: bold\">[</span>row_indexer,col_indexer<span style=\"font-weight: bold\">]</span> = value instead                <span style=\"color: #7f7f7f; text-decoration-color: #7f7f7f\">               </span>\n<span style=\"color: #7fbfbf; text-decoration-color: #7fbfbf\">                    </span>                                                                                <span style=\"color: #7f7f7f; text-decoration-color: #7f7f7f\">               </span>\n<span style=\"color: #7fbfbf; text-decoration-color: #7fbfbf\">                    </span>         See the caveats in the documentation:                                  <span style=\"color: #7f7f7f; text-decoration-color: #7f7f7f\">               </span>\n<span style=\"color: #7fbfbf; text-decoration-color: #7fbfbf\">                    </span>         <span style=\"color: #0000ff; text-decoration-color: #0000ff; text-decoration: underline\">https://pandas.pydata.org/pandas-docs/stable/user_guide/indexing.html#</span> <span style=\"color: #7f7f7f; text-decoration-color: #7f7f7f\">               </span>\n<span style=\"color: #7fbfbf; text-decoration-color: #7fbfbf\">                    </span>         <span style=\"color: #0000ff; text-decoration-color: #0000ff; text-decoration: underline\">returning-a-view-versus-a-copy</span>                                         <span style=\"color: #7f7f7f; text-decoration-color: #7f7f7f\">               </span>\n<span style=\"color: #7fbfbf; text-decoration-color: #7fbfbf\">                    </span>           data_cleaned<span style=\"font-weight: bold\">[</span><span style=\"color: #008000; text-decoration-color: #008000\">'longitude'</span><span style=\"font-weight: bold\">]</span>, data_cleaned<span style=\"font-weight: bold\">[</span><span style=\"color: #008000; text-decoration-color: #008000\">'latitude'</span><span style=\"font-weight: bold\">]</span> =                <span style=\"color: #7f7f7f; text-decoration-color: #7f7f7f\">               </span>\n<span style=\"color: #7fbfbf; text-decoration-color: #7fbfbf\">                    </span>         <span style=\"color: #800080; text-decoration-color: #800080; font-weight: bold\">zip</span><span style=\"font-weight: bold\">(</span>*data_cleaned<span style=\"font-weight: bold\">[</span><span style=\"color: #008000; text-decoration-color: #008000\">'store_location'</span><span style=\"font-weight: bold\">]</span><span style=\"color: #800080; text-decoration-color: #800080; font-weight: bold\">.apply</span><span style=\"font-weight: bold\">(</span>process_store_location<span style=\"font-weight: bold\">))</span>     <span style=\"color: #7f7f7f; text-decoration-color: #7f7f7f\">               </span>\n<span style=\"color: #7fbfbf; text-decoration-color: #7fbfbf\">                    </span>                                                                                <span style=\"color: #7f7f7f; text-decoration-color: #7f7f7f\">               </span>\n</pre>\n"
     },
     "metadata": {},
     "output_type": "display_data"
    },
    {
     "data": {
      "text/plain": "",
      "text/html": "<pre style=\"white-space:pre;overflow-x:auto;line-height:normal;font-family:Menlo,'DejaVu Sans Mono',consolas,'Courier New',monospace\"></pre>\n"
     },
     "metadata": {},
     "output_type": "display_data"
    },
    {
     "data": {
      "text/plain": "\n   invoice_line_no                     date  store  \\\n\u001B[1;36m0\u001B[0m  INV-\u001B[1;36m48770300006\u001B[0m  \u001B[1;36m2022\u001B[0m-\u001B[1;36m06\u001B[0m-29T\u001B[1;92m00:00:00\u001B[0m.\u001B[1;36m000\u001B[0m   \u001B[1;36m5900\u001B[0m   \n\u001B[1;36m1\u001B[0m  INV-\u001B[1;36m48782900001\u001B[0m  \u001B[1;36m2022\u001B[0m-\u001B[1;36m06\u001B[0m-29T\u001B[1;92m00:00:00\u001B[0m.\u001B[1;36m000\u001B[0m   \u001B[1;36m3390\u001B[0m   \n\u001B[1;36m2\u001B[0m  INV-\u001B[1;36m48703200006\u001B[0m  \u001B[1;36m2022\u001B[0m-\u001B[1;36m06\u001B[0m-27T\u001B[1;92m00:00:00\u001B[0m.\u001B[1;36m000\u001B[0m   \u001B[1;36m4604\u001B[0m   \n\u001B[1;36m3\u001B[0m  INV-\u001B[1;36m48692600064\u001B[0m  \u001B[1;36m2022\u001B[0m-\u001B[1;36m06\u001B[0m-27T\u001B[1;92m00:00:00\u001B[0m.\u001B[1;36m000\u001B[0m   \u001B[1;36m2552\u001B[0m   \n\u001B[1;36m4\u001B[0m  INV-\u001B[1;36m48679200008\u001B[0m  \u001B[1;36m2022\u001B[0m-\u001B[1;36m06\u001B[0m-24T\u001B[1;92m00:00:00\u001B[0m.\u001B[1;36m000\u001B[0m   \u001B[1;36m2523\u001B[0m   \n\n                                  name                address          city  \\\n\u001B[1;36m0\u001B[0m         NEW STAR FLETCHER \u001B[35m/\u001B[0m WATERLOO       \u001B[1;36m315\u001B[0m FLETCHER AVE      WATERLOO   \n\u001B[1;36m1\u001B[0m                OKOBOJI AVENUE LIQUOR    \u001B[1;36m1610\u001B[0m OKOBOJI AVENUE       MILFORD   \n\u001B[1;36m2\u001B[0m            PIT STOP LIQUORS \u001B[35m/\u001B[0m NEWTON        \u001B[1;36m1324\u001B[0m, 1ST AVE E        NEWTON   \n\u001B[1;36m3\u001B[0m  HY-VEE FOOD STORE #\u001B[1;36m3\u001B[0m \u001B[35m/\u001B[0m CEDAR RAPIDS  \u001B[1;36m20\u001B[0m WILSON AVENUE WEST  CEDAR RAPIDS   \n\u001B[1;36m4\u001B[0m      HY-VEE FOOD STORE \u001B[35m/\u001B[0m CENTERVILLE             \u001B[1;36m609\u001B[0m N 18TH   CENTERVILLE   \n\n   zipcode                                     store_location      county  \\\n\u001B[1;36m0\u001B[0m  \u001B[1;36m50701.0\u001B[0m  \u001B[1m{\u001B[0m\u001B[32m'type'\u001B[0m: \u001B[32m'Point'\u001B[0m, \u001B[32m'coordinates'\u001B[0m: \u001B[1m[\u001B[0m\u001B[1;36m-92.367142\u001B[0m, \u001B[33m...\u001B[0m  BLACK HAWK   \n\u001B[1;36m1\u001B[0m  \u001B[1;36m51351.0\u001B[0m  \u001B[1m{\u001B[0m\u001B[32m'type'\u001B[0m: \u001B[32m'Point'\u001B[0m, \u001B[32m'coordinates'\u001B[0m: \u001B[1m[\u001B[0m\u001B[1;36m-95.149955\u001B[0m, \u001B[33m...\u001B[0m   DICKINSON   \n\u001B[1;36m2\u001B[0m  \u001B[1;36m50208.0\u001B[0m  \u001B[1m{\u001B[0m\u001B[32m'type'\u001B[0m: \u001B[32m'Point'\u001B[0m, \u001B[32m'coordinates'\u001B[0m: \u001B[1m[\u001B[0m\u001B[1;36m-93.035653\u001B[0m, \u001B[33m...\u001B[0m      JASPER   \n\u001B[1;36m3\u001B[0m  \u001B[1;36m52404.0\u001B[0m  \u001B[1m{\u001B[0m\u001B[32m'type'\u001B[0m: \u001B[32m'Point'\u001B[0m, \u001B[32m'coordinates'\u001B[0m: \u001B[1m[\u001B[0m\u001B[1;36m-91.658576\u001B[0m, \u001B[33m...\u001B[0m        LINN   \n\u001B[1;36m4\u001B[0m  \u001B[1;36m52544.0\u001B[0m  \u001B[1m{\u001B[0m\u001B[32m'type'\u001B[0m: \u001B[32m'Point'\u001B[0m, \u001B[32m'coordinates'\u001B[0m: \u001B[1m[\u001B[0m\u001B[1;36m-92.867967\u001B[0m, \u001B[33m...\u001B[0m   APPANOOSE   \n\n    category  \u001B[33m...\u001B[0m sale_dollars  sale_liters sale_gallons  \\\n\u001B[1;36m0\u001B[0m  \u001B[1;36m1031100.0\u001B[0m  \u001B[33m...\u001B[0m       \u001B[1;36m126.00\u001B[0m          \u001B[1;36m9.0\u001B[0m         \u001B[1;36m2.37\u001B[0m   \n\u001B[1;36m1\u001B[0m  \u001B[1;36m1031100.0\u001B[0m  \u001B[33m...\u001B[0m      \u001B[1;36m1716.48\u001B[0m        \u001B[1;36m288.0\u001B[0m        \u001B[1;36m76.08\u001B[0m   \n\u001B[1;36m2\u001B[0m  \u001B[1;36m1062200.0\u001B[0m  \u001B[33m...\u001B[0m       \u001B[1;36m162.00\u001B[0m          \u001B[1;36m9.0\u001B[0m         \u001B[1;36m2.37\u001B[0m   \n\u001B[1;36m3\u001B[0m  \u001B[1;36m1011100.0\u001B[0m  \u001B[33m...\u001B[0m       \u001B[1;36m116.64\u001B[0m         \u001B[1;36m10.5\u001B[0m         \u001B[1;36m2.77\u001B[0m   \n\u001B[1;36m4\u001B[0m  \u001B[1;36m1081300.0\u001B[0m  \u001B[33m...\u001B[0m       \u001B[1;36m155.88\u001B[0m          \u001B[1;36m9.0\u001B[0m         \u001B[1;36m2.37\u001B[0m   \n\n   :@computed_region_3r5t_5243 :@computed_region_wnea_7qqw  \\\n\u001B[1;36m0\u001B[0m                        \u001B[1;36m145.0\u001B[0m                        \u001B[1;36m18.0\u001B[0m   \n\u001B[1;36m1\u001B[0m                         \u001B[1;36m37.0\u001B[0m                        \u001B[1;36m37.0\u001B[0m   \n\u001B[1;36m2\u001B[0m                        \u001B[1;36m903.0\u001B[0m                        \u001B[1;36m11.0\u001B[0m   \n\u001B[1;36m3\u001B[0m                        \u001B[1;36m793.0\u001B[0m                        \u001B[1;36m18.0\u001B[0m   \n\u001B[1;36m4\u001B[0m                        \u001B[1;36m210.0\u001B[0m                        \u001B[1;36m54.0\u001B[0m   \n\n   :@computed_region_i9mz_6gmt  :@computed_region_uhgg_e8y2  \\\n\u001B[1;36m0\u001B[0m                        \u001B[1;36m240.0\u001B[0m                         \u001B[1;36m35.0\u001B[0m   \n\u001B[1;36m1\u001B[0m                        \u001B[1;36m419.0\u001B[0m                          \u001B[1;36m3.0\u001B[0m   \n\u001B[1;36m2\u001B[0m                        \u001B[1;36m131.0\u001B[0m                         \u001B[1;36m66.0\u001B[0m   \n\u001B[1;36m3\u001B[0m                        \u001B[1;36m264.0\u001B[0m                         \u001B[1;36m45.0\u001B[0m   \n\u001B[1;36m4\u001B[0m                        \u001B[1;36m534.0\u001B[0m                         \u001B[1;36m98.0\u001B[0m   \n\n   :@computed_region_e7ym_nrbf  longitude   latitude  \n\u001B[1;36m0\u001B[0m                        \u001B[1;36m176.0\u001B[0m \u001B[1;36m-92.367142\u001B[0m  \u001B[1;36m42.489119\u001B[0m  \n\u001B[1;36m1\u001B[0m                       \u001B[1;36m1779.0\u001B[0m \u001B[1;36m-95.149955\u001B[0m  \u001B[1;36m43.331525\u001B[0m  \n\u001B[1;36m2\u001B[0m                       \u001B[1;36m1791.0\u001B[0m \u001B[1;36m-93.035653\u001B[0m  \u001B[1;36m41.699173\u001B[0m  \n\u001B[1;36m3\u001B[0m                        \u001B[1;36m287.0\u001B[0m \u001B[1;36m-91.658576\u001B[0m  \u001B[1;36m41.955859\u001B[0m  \n\u001B[1;36m4\u001B[0m                        \u001B[1;36m175.0\u001B[0m \u001B[1;36m-92.867967\u001B[0m  \u001B[1;36m40.737577\u001B[0m  \n\n\u001B[1m[\u001B[0m\u001B[1;36m5\u001B[0m rows x \u001B[1;36m30\u001B[0m columns\u001B[1m]\u001B[0m",
      "text/html": "<div>\n<style scoped>\n    .dataframe tbody tr th:only-of-type {\n        vertical-align: middle;\n    }\n\n    .dataframe tbody tr th {\n        vertical-align: top;\n    }\n\n    .dataframe thead th {\n        text-align: right;\n    }\n</style>\n<table border=\"1\" class=\"dataframe\">\n  <thead>\n    <tr style=\"text-align: right;\">\n      <th></th>\n      <th>invoice_line_no</th>\n      <th>date</th>\n      <th>store</th>\n      <th>name</th>\n      <th>address</th>\n      <th>city</th>\n      <th>zipcode</th>\n      <th>store_location</th>\n      <th>county</th>\n      <th>category</th>\n      <th>...</th>\n      <th>sale_dollars</th>\n      <th>sale_liters</th>\n      <th>sale_gallons</th>\n      <th>:@computed_region_3r5t_5243</th>\n      <th>:@computed_region_wnea_7qqw</th>\n      <th>:@computed_region_i9mz_6gmt</th>\n      <th>:@computed_region_uhgg_e8y2</th>\n      <th>:@computed_region_e7ym_nrbf</th>\n      <th>longitude</th>\n      <th>latitude</th>\n    </tr>\n  </thead>\n  <tbody>\n    <tr>\n      <th>0</th>\n      <td>INV-48770300006</td>\n      <td>2022-06-29T00:00:00.000</td>\n      <td>5900</td>\n      <td>NEW STAR FLETCHER / WATERLOO</td>\n      <td>315 FLETCHER AVE</td>\n      <td>WATERLOO</td>\n      <td>50701.0</td>\n      <td>{'type': 'Point', 'coordinates': [-92.367142, ...</td>\n      <td>BLACK HAWK</td>\n      <td>1031100.0</td>\n      <td>...</td>\n      <td>126.00</td>\n      <td>9.0</td>\n      <td>2.37</td>\n      <td>145.0</td>\n      <td>18.0</td>\n      <td>240.0</td>\n      <td>35.0</td>\n      <td>176.0</td>\n      <td>-92.367142</td>\n      <td>42.489119</td>\n    </tr>\n    <tr>\n      <th>1</th>\n      <td>INV-48782900001</td>\n      <td>2022-06-29T00:00:00.000</td>\n      <td>3390</td>\n      <td>OKOBOJI AVENUE LIQUOR</td>\n      <td>1610 OKOBOJI AVENUE</td>\n      <td>MILFORD</td>\n      <td>51351.0</td>\n      <td>{'type': 'Point', 'coordinates': [-95.149955, ...</td>\n      <td>DICKINSON</td>\n      <td>1031100.0</td>\n      <td>...</td>\n      <td>1716.48</td>\n      <td>288.0</td>\n      <td>76.08</td>\n      <td>37.0</td>\n      <td>37.0</td>\n      <td>419.0</td>\n      <td>3.0</td>\n      <td>1779.0</td>\n      <td>-95.149955</td>\n      <td>43.331525</td>\n    </tr>\n    <tr>\n      <th>2</th>\n      <td>INV-48703200006</td>\n      <td>2022-06-27T00:00:00.000</td>\n      <td>4604</td>\n      <td>PIT STOP LIQUORS / NEWTON</td>\n      <td>1324, 1ST AVE E</td>\n      <td>NEWTON</td>\n      <td>50208.0</td>\n      <td>{'type': 'Point', 'coordinates': [-93.035653, ...</td>\n      <td>JASPER</td>\n      <td>1062200.0</td>\n      <td>...</td>\n      <td>162.00</td>\n      <td>9.0</td>\n      <td>2.37</td>\n      <td>903.0</td>\n      <td>11.0</td>\n      <td>131.0</td>\n      <td>66.0</td>\n      <td>1791.0</td>\n      <td>-93.035653</td>\n      <td>41.699173</td>\n    </tr>\n    <tr>\n      <th>3</th>\n      <td>INV-48692600064</td>\n      <td>2022-06-27T00:00:00.000</td>\n      <td>2552</td>\n      <td>HY-VEE FOOD STORE #3 / CEDAR RAPIDS</td>\n      <td>20 WILSON AVENUE WEST</td>\n      <td>CEDAR RAPIDS</td>\n      <td>52404.0</td>\n      <td>{'type': 'Point', 'coordinates': [-91.658576, ...</td>\n      <td>LINN</td>\n      <td>1011100.0</td>\n      <td>...</td>\n      <td>116.64</td>\n      <td>10.5</td>\n      <td>2.77</td>\n      <td>793.0</td>\n      <td>18.0</td>\n      <td>264.0</td>\n      <td>45.0</td>\n      <td>287.0</td>\n      <td>-91.658576</td>\n      <td>41.955859</td>\n    </tr>\n    <tr>\n      <th>4</th>\n      <td>INV-48679200008</td>\n      <td>2022-06-24T00:00:00.000</td>\n      <td>2523</td>\n      <td>HY-VEE FOOD STORE / CENTERVILLE</td>\n      <td>609 N 18TH</td>\n      <td>CENTERVILLE</td>\n      <td>52544.0</td>\n      <td>{'type': 'Point', 'coordinates': [-92.867967, ...</td>\n      <td>APPANOOSE</td>\n      <td>1081300.0</td>\n      <td>...</td>\n      <td>155.88</td>\n      <td>9.0</td>\n      <td>2.37</td>\n      <td>210.0</td>\n      <td>54.0</td>\n      <td>534.0</td>\n      <td>98.0</td>\n      <td>175.0</td>\n      <td>-92.867967</td>\n      <td>40.737577</td>\n    </tr>\n  </tbody>\n</table>\n<p>5 rows × 30 columns</p>\n</div>"
     },
     "execution_count": 101,
     "metadata": {},
     "output_type": "execute_result"
    }
   ],
   "source": [
    "#Still too many records to avoid !\n",
    "# Splitting store_location\n",
    "import json\n",
    "\n",
    "# Funkcja do przetwarzania kolumny store_location\n",
    "def process_store_location(location_str):\n",
    "    try:\n",
    "        location_dict = json.loads(location_str.replace(\"'\", \"\\\"\"))\n",
    "        return location_dict['coordinates'][0], location_dict['coordinates'][1]\n",
    "    except (json.JSONDecodeError, KeyError, AttributeError):\n",
    "        return None, None\n",
    "\n",
    "# Tworzenie kolumn szerokości i długości\n",
    "data_cleaned['longitude'], data_cleaned['latitude'] = zip(*data_cleaned['store_location'].apply(process_store_location))\n",
    "\n",
    "# Wyświetlenie DataFrame z nowymi kolumnami\n",
    "data_cleaned.head()"
   ]
  },
  {
   "cell_type": "code",
   "execution_count": 102,
   "id": "b238f4c38ae1c13a",
   "metadata": {
    "collapsed": false,
    "ExecuteTime": {
     "end_time": "2023-11-26T21:09:39.790453608Z",
     "start_time": "2023-11-26T21:09:39.785353952Z"
    }
   },
   "outputs": [],
   "source": [
    "#from geopy.geocoders import Nominatim\n",
    "#from geopy.extra.rate_limiter import RateLimiter\n",
    "\n",
    "# Utworzenie geokodera z ograniczeniem szybkości\n",
    "#geolocator = Nominatim(user_agent=\"GeoLoc\")\n",
    "#geocode = RateLimiter(geolocator.geocode, min_delay_seconds=1)\n",
    "\n",
    "# Funkcja do geokodowania adresu\n",
    "#def geocode_address(row):\n",
    "    # Tworzenie pełnego adresu z kolumn\n",
    "#    address = f\"{row['address']}, {row['city']}, {row['county']}, {row['zipcode']}\"\n",
    "#    location = geocode(address)\n",
    "#    if location:\n",
    "#        return pd.Series([location.latitude, location.longitude])\n",
    "#    else:\n",
    "#        return pd.Series([None, None])\n",
    "\n",
    "# Stosowanie funkcji do DataFrame\n",
    "#data_cleaned[['latitude', 'longitude']] = data_cleaned.apply(geocode_address, axis=1)\n",
    "\n"
   ]
  },
  {
   "cell_type": "code",
   "execution_count": 103,
   "id": "596d495c58b13bff",
   "metadata": {
    "collapsed": false,
    "ExecuteTime": {
     "end_time": "2023-11-26T21:09:40.013956608Z",
     "start_time": "2023-11-26T21:09:39.789511788Z"
    }
   },
   "outputs": [
    {
     "data": {
      "text/plain": "\u001B[2;36m                   \u001B[0m\u001B[2;36m \u001B[0m\u001B[31mWARNING \u001B[0m \u001B[35m/tmp/ipykernel_125863/\u001B[0m\u001B[95m2129834627.py\u001B[0m:\u001B[1;36m2\u001B[0m: SettingWithCopyWarning:         \u001B]8;id=340523;file:///usr/lib/python3.10/warnings.py\u001B\\\u001B[2mwarnings.py\u001B[0m\u001B]8;;\u001B\\\u001B[2m:\u001B[0m\u001B]8;id=522980;file:///usr/lib/python3.10/warnings.py#109\u001B\\\u001B[2m109\u001B[0m\u001B]8;;\u001B\\\n\u001B[2;36m                    \u001B[0m         A value is trying to be set on a copy of a slice from a DataFrame      \u001B[2m               \u001B[0m\n\u001B[2;36m                    \u001B[0m                                                                                \u001B[2m               \u001B[0m\n\u001B[2;36m                    \u001B[0m         See the caveats in the documentation:                                  \u001B[2m               \u001B[0m\n\u001B[2;36m                    \u001B[0m         \u001B[4;94mhttps://pandas.pydata.org/pandas-docs/stable/user_guide/indexing.html#\u001B[0m \u001B[2m               \u001B[0m\n\u001B[2;36m                    \u001B[0m         \u001B[4;94mreturning-a-view-versus-a-copy\u001B[0m                                         \u001B[2m               \u001B[0m\n\u001B[2;36m                    \u001B[0m           \u001B[1;35mdata_cleaned.drop\u001B[0m\u001B[1m(\u001B[0m\u001B[33mcolumns\u001B[0m=\u001B[1m[\u001B[0m\u001B[32m'store_location'\u001B[0m\u001B[1m]\u001B[0m, \u001B[33minplace\u001B[0m=\u001B[3;92mTrue\u001B[0m\u001B[1m)\u001B[0m          \u001B[2m               \u001B[0m\n\u001B[2;36m                    \u001B[0m                                                                                \u001B[2m               \u001B[0m\n",
      "text/html": "<pre style=\"white-space:pre;overflow-x:auto;line-height:normal;font-family:Menlo,'DejaVu Sans Mono',consolas,'Courier New',monospace\"><span style=\"color: #7fbfbf; text-decoration-color: #7fbfbf\">                    </span><span style=\"color: #800000; text-decoration-color: #800000\">WARNING </span> <span style=\"color: #800080; text-decoration-color: #800080\">/tmp/ipykernel_125863/</span><span style=\"color: #ff00ff; text-decoration-color: #ff00ff\">2129834627.py</span>:<span style=\"color: #008080; text-decoration-color: #008080; font-weight: bold\">2</span>: SettingWithCopyWarning:         <a href=\"file:///usr/lib/python3.10/warnings.py\" target=\"_blank\"><span style=\"color: #7f7f7f; text-decoration-color: #7f7f7f\">warnings.py</span></a><span style=\"color: #7f7f7f; text-decoration-color: #7f7f7f\">:</span><a href=\"file:///usr/lib/python3.10/warnings.py#109\" target=\"_blank\"><span style=\"color: #7f7f7f; text-decoration-color: #7f7f7f\">109</span></a>\n<span style=\"color: #7fbfbf; text-decoration-color: #7fbfbf\">                    </span>         A value is trying to be set on a copy of a slice from a DataFrame      <span style=\"color: #7f7f7f; text-decoration-color: #7f7f7f\">               </span>\n<span style=\"color: #7fbfbf; text-decoration-color: #7fbfbf\">                    </span>                                                                                <span style=\"color: #7f7f7f; text-decoration-color: #7f7f7f\">               </span>\n<span style=\"color: #7fbfbf; text-decoration-color: #7fbfbf\">                    </span>         See the caveats in the documentation:                                  <span style=\"color: #7f7f7f; text-decoration-color: #7f7f7f\">               </span>\n<span style=\"color: #7fbfbf; text-decoration-color: #7fbfbf\">                    </span>         <span style=\"color: #0000ff; text-decoration-color: #0000ff; text-decoration: underline\">https://pandas.pydata.org/pandas-docs/stable/user_guide/indexing.html#</span> <span style=\"color: #7f7f7f; text-decoration-color: #7f7f7f\">               </span>\n<span style=\"color: #7fbfbf; text-decoration-color: #7fbfbf\">                    </span>         <span style=\"color: #0000ff; text-decoration-color: #0000ff; text-decoration: underline\">returning-a-view-versus-a-copy</span>                                         <span style=\"color: #7f7f7f; text-decoration-color: #7f7f7f\">               </span>\n<span style=\"color: #7fbfbf; text-decoration-color: #7fbfbf\">                    </span>           <span style=\"color: #800080; text-decoration-color: #800080; font-weight: bold\">data_cleaned.drop</span><span style=\"font-weight: bold\">(</span><span style=\"color: #808000; text-decoration-color: #808000\">columns</span>=<span style=\"font-weight: bold\">[</span><span style=\"color: #008000; text-decoration-color: #008000\">'store_location'</span><span style=\"font-weight: bold\">]</span>, <span style=\"color: #808000; text-decoration-color: #808000\">inplace</span>=<span style=\"color: #00ff00; text-decoration-color: #00ff00; font-style: italic\">True</span><span style=\"font-weight: bold\">)</span>          <span style=\"color: #7f7f7f; text-decoration-color: #7f7f7f\">               </span>\n<span style=\"color: #7fbfbf; text-decoration-color: #7fbfbf\">                    </span>                                                                                <span style=\"color: #7f7f7f; text-decoration-color: #7f7f7f\">               </span>\n</pre>\n"
     },
     "metadata": {},
     "output_type": "display_data"
    }
   ],
   "source": [
    "#Temp dropping store_location column - to modify in the future ?\n",
    "data_cleaned.drop(columns=['store_location'], inplace=True)"
   ]
  },
  {
   "cell_type": "code",
   "execution_count": 104,
   "id": "2bdde6880004527f",
   "metadata": {
    "collapsed": false,
    "ExecuteTime": {
     "end_time": "2023-11-26T21:09:40.117745730Z",
     "start_time": "2023-11-26T21:09:39.964950330Z"
    }
   },
   "outputs": [
    {
     "data": {
      "text/plain": "\u001B[2;36m[11/26/23 22:09:40]\u001B[0m\u001B[2;36m \u001B[0m\u001B[31mWARNING \u001B[0m \u001B[35m/tmp/ipykernel_125863/\u001B[0m\u001B[95m254899015.py\u001B[0m:\u001B[1;36m1\u001B[0m: SettingWithCopyWarning:          \u001B]8;id=844935;file:///usr/lib/python3.10/warnings.py\u001B\\\u001B[2mwarnings.py\u001B[0m\u001B]8;;\u001B\\\u001B[2m:\u001B[0m\u001B]8;id=732024;file:///usr/lib/python3.10/warnings.py#109\u001B\\\u001B[2m109\u001B[0m\u001B]8;;\u001B\\\n\u001B[2;36m                    \u001B[0m         A value is trying to be set on a copy of a slice from a DataFrame      \u001B[2m               \u001B[0m\n\u001B[2;36m                    \u001B[0m                                                                                \u001B[2m               \u001B[0m\n\u001B[2;36m                    \u001B[0m         See the caveats in the documentation:                                  \u001B[2m               \u001B[0m\n\u001B[2;36m                    \u001B[0m         \u001B[4;94mhttps://pandas.pydata.org/pandas-docs/stable/user_guide/indexing.html#\u001B[0m \u001B[2m               \u001B[0m\n\u001B[2;36m                    \u001B[0m         \u001B[4;94mreturning-a-view-versus-a-copy\u001B[0m                                         \u001B[2m               \u001B[0m\n\u001B[2;36m                    \u001B[0m           \u001B[1;35mdata_cleaned.drop\u001B[0m\u001B[1m(\u001B[0m\u001B[33mcolumns\u001B[0m=\u001B[1m[\u001B[0m\u001B[32m':@computed_region_3r5t_5243'\u001B[0m,            \u001B[2m               \u001B[0m\n\u001B[2;36m                    \u001B[0m         \u001B[32m':@computed_region_wnea_7qqw'\u001B[0m, \u001B[32m':@computed_region_i9mz_6gmt'\u001B[0m,          \u001B[2m               \u001B[0m\n\u001B[2;36m                    \u001B[0m         \u001B[32m':@computed_region_uhgg_e8y2'\u001B[0m, \u001B[32m':@computed_region_e7ym_nrbf'\u001B[0m\u001B[1m]\u001B[0m,         \u001B[2m               \u001B[0m\n\u001B[2;36m                    \u001B[0m         \u001B[33minplace\u001B[0m=\u001B[3;92mTrue\u001B[0m\u001B[1m)\u001B[0m                                                          \u001B[2m               \u001B[0m\n\u001B[2;36m                    \u001B[0m                                                                                \u001B[2m               \u001B[0m\n",
      "text/html": "<pre style=\"white-space:pre;overflow-x:auto;line-height:normal;font-family:Menlo,'DejaVu Sans Mono',consolas,'Courier New',monospace\"><span style=\"color: #7fbfbf; text-decoration-color: #7fbfbf\">[11/26/23 22:09:40] </span><span style=\"color: #800000; text-decoration-color: #800000\">WARNING </span> <span style=\"color: #800080; text-decoration-color: #800080\">/tmp/ipykernel_125863/</span><span style=\"color: #ff00ff; text-decoration-color: #ff00ff\">254899015.py</span>:<span style=\"color: #008080; text-decoration-color: #008080; font-weight: bold\">1</span>: SettingWithCopyWarning:          <a href=\"file:///usr/lib/python3.10/warnings.py\" target=\"_blank\"><span style=\"color: #7f7f7f; text-decoration-color: #7f7f7f\">warnings.py</span></a><span style=\"color: #7f7f7f; text-decoration-color: #7f7f7f\">:</span><a href=\"file:///usr/lib/python3.10/warnings.py#109\" target=\"_blank\"><span style=\"color: #7f7f7f; text-decoration-color: #7f7f7f\">109</span></a>\n<span style=\"color: #7fbfbf; text-decoration-color: #7fbfbf\">                    </span>         A value is trying to be set on a copy of a slice from a DataFrame      <span style=\"color: #7f7f7f; text-decoration-color: #7f7f7f\">               </span>\n<span style=\"color: #7fbfbf; text-decoration-color: #7fbfbf\">                    </span>                                                                                <span style=\"color: #7f7f7f; text-decoration-color: #7f7f7f\">               </span>\n<span style=\"color: #7fbfbf; text-decoration-color: #7fbfbf\">                    </span>         See the caveats in the documentation:                                  <span style=\"color: #7f7f7f; text-decoration-color: #7f7f7f\">               </span>\n<span style=\"color: #7fbfbf; text-decoration-color: #7fbfbf\">                    </span>         <span style=\"color: #0000ff; text-decoration-color: #0000ff; text-decoration: underline\">https://pandas.pydata.org/pandas-docs/stable/user_guide/indexing.html#</span> <span style=\"color: #7f7f7f; text-decoration-color: #7f7f7f\">               </span>\n<span style=\"color: #7fbfbf; text-decoration-color: #7fbfbf\">                    </span>         <span style=\"color: #0000ff; text-decoration-color: #0000ff; text-decoration: underline\">returning-a-view-versus-a-copy</span>                                         <span style=\"color: #7f7f7f; text-decoration-color: #7f7f7f\">               </span>\n<span style=\"color: #7fbfbf; text-decoration-color: #7fbfbf\">                    </span>           <span style=\"color: #800080; text-decoration-color: #800080; font-weight: bold\">data_cleaned.drop</span><span style=\"font-weight: bold\">(</span><span style=\"color: #808000; text-decoration-color: #808000\">columns</span>=<span style=\"font-weight: bold\">[</span><span style=\"color: #008000; text-decoration-color: #008000\">':@computed_region_3r5t_5243'</span>,            <span style=\"color: #7f7f7f; text-decoration-color: #7f7f7f\">               </span>\n<span style=\"color: #7fbfbf; text-decoration-color: #7fbfbf\">                    </span>         <span style=\"color: #008000; text-decoration-color: #008000\">':@computed_region_wnea_7qqw'</span>, <span style=\"color: #008000; text-decoration-color: #008000\">':@computed_region_i9mz_6gmt'</span>,          <span style=\"color: #7f7f7f; text-decoration-color: #7f7f7f\">               </span>\n<span style=\"color: #7fbfbf; text-decoration-color: #7fbfbf\">                    </span>         <span style=\"color: #008000; text-decoration-color: #008000\">':@computed_region_uhgg_e8y2'</span>, <span style=\"color: #008000; text-decoration-color: #008000\">':@computed_region_e7ym_nrbf'</span><span style=\"font-weight: bold\">]</span>,         <span style=\"color: #7f7f7f; text-decoration-color: #7f7f7f\">               </span>\n<span style=\"color: #7fbfbf; text-decoration-color: #7fbfbf\">                    </span>         <span style=\"color: #808000; text-decoration-color: #808000\">inplace</span>=<span style=\"color: #00ff00; text-decoration-color: #00ff00; font-style: italic\">True</span><span style=\"font-weight: bold\">)</span>                                                          <span style=\"color: #7f7f7f; text-decoration-color: #7f7f7f\">               </span>\n<span style=\"color: #7fbfbf; text-decoration-color: #7fbfbf\">                    </span>                                                                                <span style=\"color: #7f7f7f; text-decoration-color: #7f7f7f\">               </span>\n</pre>\n"
     },
     "metadata": {},
     "output_type": "display_data"
    }
   ],
   "source": [
    "data_cleaned.drop(columns=[':@computed_region_3r5t_5243', ':@computed_region_wnea_7qqw', ':@computed_region_i9mz_6gmt', ':@computed_region_uhgg_e8y2', ':@computed_region_e7ym_nrbf'], inplace=True)"
   ]
  },
  {
   "cell_type": "code",
   "execution_count": 105,
   "id": "2e9d3cc6d10a8bc2",
   "metadata": {
    "collapsed": false,
    "ExecuteTime": {
     "end_time": "2023-11-26T21:09:40.118729804Z",
     "start_time": "2023-11-26T21:09:40.111745530Z"
    }
   },
   "outputs": [],
   "source": [
    "finalDf = pd.DataFrame(data_cleaned)"
   ]
  },
  {
   "cell_type": "code",
   "execution_count": 106,
   "id": "4864dbcbeb2077a6",
   "metadata": {
    "collapsed": false,
    "ExecuteTime": {
     "end_time": "2023-11-26T21:09:40.120781833Z",
     "start_time": "2023-11-26T21:09:40.112025736Z"
    }
   },
   "outputs": [
    {
     "data": {
      "text/plain": "",
      "text/html": "<pre style=\"white-space:pre;overflow-x:auto;line-height:normal;font-family:Menlo,'DejaVu Sans Mono',consolas,'Courier New',monospace\"></pre>\n"
     },
     "metadata": {},
     "output_type": "display_data"
    },
    {
     "data": {
      "text/plain": "\n   invoice_line_no                     date  store  \\\n\u001B[1;36m0\u001B[0m  INV-\u001B[1;36m48770300006\u001B[0m  \u001B[1;36m2022\u001B[0m-\u001B[1;36m06\u001B[0m-29T\u001B[1;92m00:00:00\u001B[0m.\u001B[1;36m000\u001B[0m   \u001B[1;36m5900\u001B[0m   \n\u001B[1;36m1\u001B[0m  INV-\u001B[1;36m48782900001\u001B[0m  \u001B[1;36m2022\u001B[0m-\u001B[1;36m06\u001B[0m-29T\u001B[1;92m00:00:00\u001B[0m.\u001B[1;36m000\u001B[0m   \u001B[1;36m3390\u001B[0m   \n\u001B[1;36m2\u001B[0m  INV-\u001B[1;36m48703200006\u001B[0m  \u001B[1;36m2022\u001B[0m-\u001B[1;36m06\u001B[0m-27T\u001B[1;92m00:00:00\u001B[0m.\u001B[1;36m000\u001B[0m   \u001B[1;36m4604\u001B[0m   \n\u001B[1;36m3\u001B[0m  INV-\u001B[1;36m48692600064\u001B[0m  \u001B[1;36m2022\u001B[0m-\u001B[1;36m06\u001B[0m-27T\u001B[1;92m00:00:00\u001B[0m.\u001B[1;36m000\u001B[0m   \u001B[1;36m2552\u001B[0m   \n\u001B[1;36m4\u001B[0m  INV-\u001B[1;36m48679200008\u001B[0m  \u001B[1;36m2022\u001B[0m-\u001B[1;36m06\u001B[0m-24T\u001B[1;92m00:00:00\u001B[0m.\u001B[1;36m000\u001B[0m   \u001B[1;36m2523\u001B[0m   \n\n                                  name                address          city  \\\n\u001B[1;36m0\u001B[0m         NEW STAR FLETCHER \u001B[35m/\u001B[0m WATERLOO       \u001B[1;36m315\u001B[0m FLETCHER AVE      WATERLOO   \n\u001B[1;36m1\u001B[0m                OKOBOJI AVENUE LIQUOR    \u001B[1;36m1610\u001B[0m OKOBOJI AVENUE       MILFORD   \n\u001B[1;36m2\u001B[0m            PIT STOP LIQUORS \u001B[35m/\u001B[0m NEWTON        \u001B[1;36m1324\u001B[0m, 1ST AVE E        NEWTON   \n\u001B[1;36m3\u001B[0m  HY-VEE FOOD STORE #\u001B[1;36m3\u001B[0m \u001B[35m/\u001B[0m CEDAR RAPIDS  \u001B[1;36m20\u001B[0m WILSON AVENUE WEST  CEDAR RAPIDS   \n\u001B[1;36m4\u001B[0m      HY-VEE FOOD STORE \u001B[35m/\u001B[0m CENTERVILLE             \u001B[1;36m609\u001B[0m N 18TH   CENTERVILLE   \n\n   zipcode      county   category                 category_name  \u001B[33m...\u001B[0m  pack  \\\n\u001B[1;36m0\u001B[0m  \u001B[1;36m50701.0\u001B[0m  BLACK HAWK  \u001B[1;36m1031100.0\u001B[0m               AMERICAN VODKAS  \u001B[33m...\u001B[0m    \u001B[1;36m24\u001B[0m   \n\u001B[1;36m1\u001B[0m  \u001B[1;36m51351.0\u001B[0m   DICKINSON  \u001B[1;36m1031100.0\u001B[0m               AMERICAN VODKAS  \u001B[33m...\u001B[0m    \u001B[1;36m12\u001B[0m   \n\u001B[1;36m2\u001B[0m  \u001B[1;36m50208.0\u001B[0m      JASPER  \u001B[1;36m1062200.0\u001B[0m                     WHITE RUM  \u001B[33m...\u001B[0m    \u001B[1;36m24\u001B[0m   \n\u001B[1;36m3\u001B[0m  \u001B[1;36m52404.0\u001B[0m        LINN  \u001B[1;36m1011100.0\u001B[0m              BLENDED WHISKIES  \u001B[33m...\u001B[0m     \u001B[1;36m6\u001B[0m   \n\u001B[1;36m4\u001B[0m  \u001B[1;36m52544.0\u001B[0m   APPANOOSE  \u001B[1;36m1081300.0\u001B[0m  AMERICAN CORDIALS & LIQUEURS  \u001B[33m...\u001B[0m    \u001B[1;36m12\u001B[0m   \n\n  bottle_volume_ml  state_bottle_cost state_bottle_retail  sale_bottles  \\\n\u001B[1;36m0\u001B[0m              \u001B[1;36m375\u001B[0m               \u001B[1;36m3.50\u001B[0m                \u001B[1;36m5.25\u001B[0m            \u001B[1;36m24\u001B[0m   \n\u001B[1;36m1\u001B[0m             \u001B[1;36m1000\u001B[0m               \u001B[1;36m3.97\u001B[0m                \u001B[1;36m5.96\u001B[0m           \u001B[1;36m288\u001B[0m   \n\u001B[1;36m2\u001B[0m              \u001B[1;36m375\u001B[0m               \u001B[1;36m5.00\u001B[0m                \u001B[1;36m7.50\u001B[0m            \u001B[1;36m24\u001B[0m   \n\u001B[1;36m3\u001B[0m             \u001B[1;36m1750\u001B[0m              \u001B[1;36m13.99\u001B[0m               \u001B[1;36m20.99\u001B[0m             \u001B[1;36m6\u001B[0m   \n\u001B[1;36m4\u001B[0m              \u001B[1;36m750\u001B[0m               \u001B[1;36m8.66\u001B[0m               \u001B[1;36m12.99\u001B[0m            \u001B[1;36m12\u001B[0m   \n\n   sale_dollars  sale_liters  sale_gallons  longitude   latitude  \n\u001B[1;36m0\u001B[0m        \u001B[1;36m126.00\u001B[0m          \u001B[1;36m9.0\u001B[0m          \u001B[1;36m2.37\u001B[0m \u001B[1;36m-92.367142\u001B[0m  \u001B[1;36m42.489119\u001B[0m  \n\u001B[1;36m1\u001B[0m       \u001B[1;36m1716.48\u001B[0m        \u001B[1;36m288.0\u001B[0m         \u001B[1;36m76.08\u001B[0m \u001B[1;36m-95.149955\u001B[0m  \u001B[1;36m43.331525\u001B[0m  \n\u001B[1;36m2\u001B[0m        \u001B[1;36m162.00\u001B[0m          \u001B[1;36m9.0\u001B[0m          \u001B[1;36m2.37\u001B[0m \u001B[1;36m-93.035653\u001B[0m  \u001B[1;36m41.699173\u001B[0m  \n\u001B[1;36m3\u001B[0m        \u001B[1;36m116.64\u001B[0m         \u001B[1;36m10.5\u001B[0m          \u001B[1;36m2.77\u001B[0m \u001B[1;36m-91.658576\u001B[0m  \u001B[1;36m41.955859\u001B[0m  \n\u001B[1;36m4\u001B[0m        \u001B[1;36m155.88\u001B[0m          \u001B[1;36m9.0\u001B[0m          \u001B[1;36m2.37\u001B[0m \u001B[1;36m-92.867967\u001B[0m  \u001B[1;36m40.737577\u001B[0m  \n\n\u001B[1m[\u001B[0m\u001B[1;36m5\u001B[0m rows x \u001B[1;36m24\u001B[0m columns\u001B[1m]\u001B[0m",
      "text/html": "<div>\n<style scoped>\n    .dataframe tbody tr th:only-of-type {\n        vertical-align: middle;\n    }\n\n    .dataframe tbody tr th {\n        vertical-align: top;\n    }\n\n    .dataframe thead th {\n        text-align: right;\n    }\n</style>\n<table border=\"1\" class=\"dataframe\">\n  <thead>\n    <tr style=\"text-align: right;\">\n      <th></th>\n      <th>invoice_line_no</th>\n      <th>date</th>\n      <th>store</th>\n      <th>name</th>\n      <th>address</th>\n      <th>city</th>\n      <th>zipcode</th>\n      <th>county</th>\n      <th>category</th>\n      <th>category_name</th>\n      <th>...</th>\n      <th>pack</th>\n      <th>bottle_volume_ml</th>\n      <th>state_bottle_cost</th>\n      <th>state_bottle_retail</th>\n      <th>sale_bottles</th>\n      <th>sale_dollars</th>\n      <th>sale_liters</th>\n      <th>sale_gallons</th>\n      <th>longitude</th>\n      <th>latitude</th>\n    </tr>\n  </thead>\n  <tbody>\n    <tr>\n      <th>0</th>\n      <td>INV-48770300006</td>\n      <td>2022-06-29T00:00:00.000</td>\n      <td>5900</td>\n      <td>NEW STAR FLETCHER / WATERLOO</td>\n      <td>315 FLETCHER AVE</td>\n      <td>WATERLOO</td>\n      <td>50701.0</td>\n      <td>BLACK HAWK</td>\n      <td>1031100.0</td>\n      <td>AMERICAN VODKAS</td>\n      <td>...</td>\n      <td>24</td>\n      <td>375</td>\n      <td>3.50</td>\n      <td>5.25</td>\n      <td>24</td>\n      <td>126.00</td>\n      <td>9.0</td>\n      <td>2.37</td>\n      <td>-92.367142</td>\n      <td>42.489119</td>\n    </tr>\n    <tr>\n      <th>1</th>\n      <td>INV-48782900001</td>\n      <td>2022-06-29T00:00:00.000</td>\n      <td>3390</td>\n      <td>OKOBOJI AVENUE LIQUOR</td>\n      <td>1610 OKOBOJI AVENUE</td>\n      <td>MILFORD</td>\n      <td>51351.0</td>\n      <td>DICKINSON</td>\n      <td>1031100.0</td>\n      <td>AMERICAN VODKAS</td>\n      <td>...</td>\n      <td>12</td>\n      <td>1000</td>\n      <td>3.97</td>\n      <td>5.96</td>\n      <td>288</td>\n      <td>1716.48</td>\n      <td>288.0</td>\n      <td>76.08</td>\n      <td>-95.149955</td>\n      <td>43.331525</td>\n    </tr>\n    <tr>\n      <th>2</th>\n      <td>INV-48703200006</td>\n      <td>2022-06-27T00:00:00.000</td>\n      <td>4604</td>\n      <td>PIT STOP LIQUORS / NEWTON</td>\n      <td>1324, 1ST AVE E</td>\n      <td>NEWTON</td>\n      <td>50208.0</td>\n      <td>JASPER</td>\n      <td>1062200.0</td>\n      <td>WHITE RUM</td>\n      <td>...</td>\n      <td>24</td>\n      <td>375</td>\n      <td>5.00</td>\n      <td>7.50</td>\n      <td>24</td>\n      <td>162.00</td>\n      <td>9.0</td>\n      <td>2.37</td>\n      <td>-93.035653</td>\n      <td>41.699173</td>\n    </tr>\n    <tr>\n      <th>3</th>\n      <td>INV-48692600064</td>\n      <td>2022-06-27T00:00:00.000</td>\n      <td>2552</td>\n      <td>HY-VEE FOOD STORE #3 / CEDAR RAPIDS</td>\n      <td>20 WILSON AVENUE WEST</td>\n      <td>CEDAR RAPIDS</td>\n      <td>52404.0</td>\n      <td>LINN</td>\n      <td>1011100.0</td>\n      <td>BLENDED WHISKIES</td>\n      <td>...</td>\n      <td>6</td>\n      <td>1750</td>\n      <td>13.99</td>\n      <td>20.99</td>\n      <td>6</td>\n      <td>116.64</td>\n      <td>10.5</td>\n      <td>2.77</td>\n      <td>-91.658576</td>\n      <td>41.955859</td>\n    </tr>\n    <tr>\n      <th>4</th>\n      <td>INV-48679200008</td>\n      <td>2022-06-24T00:00:00.000</td>\n      <td>2523</td>\n      <td>HY-VEE FOOD STORE / CENTERVILLE</td>\n      <td>609 N 18TH</td>\n      <td>CENTERVILLE</td>\n      <td>52544.0</td>\n      <td>APPANOOSE</td>\n      <td>1081300.0</td>\n      <td>AMERICAN CORDIALS &amp; LIQUEURS</td>\n      <td>...</td>\n      <td>12</td>\n      <td>750</td>\n      <td>8.66</td>\n      <td>12.99</td>\n      <td>12</td>\n      <td>155.88</td>\n      <td>9.0</td>\n      <td>2.37</td>\n      <td>-92.867967</td>\n      <td>40.737577</td>\n    </tr>\n  </tbody>\n</table>\n<p>5 rows × 24 columns</p>\n</div>"
     },
     "execution_count": 106,
     "metadata": {},
     "output_type": "execute_result"
    }
   ],
   "source": [
    "finalDf.head()"
   ]
  },
  {
   "cell_type": "code",
   "execution_count": 107,
   "id": "edd9562764157360",
   "metadata": {
    "collapsed": false,
    "ExecuteTime": {
     "end_time": "2023-11-26T21:09:40.121842524Z",
     "start_time": "2023-11-26T21:09:40.112562402Z"
    }
   },
   "outputs": [
    {
     "data": {
      "text/plain": "",
      "text/html": "<pre style=\"white-space:pre;overflow-x:auto;line-height:normal;font-family:Menlo,'DejaVu Sans Mono',consolas,'Courier New',monospace\"></pre>\n"
     },
     "metadata": {},
     "output_type": "display_data"
    },
    {
     "data": {
      "text/plain": "\n\u001B[1;35mIndex\u001B[0m\u001B[1m(\u001B[0m\u001B[1m[\u001B[0m\u001B[32m'invoice_line_no'\u001B[0m, \u001B[32m'date'\u001B[0m, \u001B[32m'store'\u001B[0m, \u001B[32m'name'\u001B[0m, \u001B[32m'address'\u001B[0m, \u001B[32m'city'\u001B[0m,\n       \u001B[32m'zipcode'\u001B[0m, \u001B[32m'county'\u001B[0m, \u001B[32m'category'\u001B[0m, \u001B[32m'category_name'\u001B[0m, \u001B[32m'vendor_no'\u001B[0m,\n       \u001B[32m'vendor_name'\u001B[0m, \u001B[32m'itemno'\u001B[0m, \u001B[32m'im_desc'\u001B[0m, \u001B[32m'pack'\u001B[0m, \u001B[32m'bottle_volume_ml'\u001B[0m,\n       \u001B[32m'state_bottle_cost'\u001B[0m, \u001B[32m'state_bottle_retail'\u001B[0m, \u001B[32m'sale_bottles'\u001B[0m,\n       \u001B[32m'sale_dollars'\u001B[0m, \u001B[32m'sale_liters'\u001B[0m, \u001B[32m'sale_gallons'\u001B[0m, \u001B[32m'longitude'\u001B[0m, \u001B[32m'latitude'\u001B[0m\u001B[1m]\u001B[0m,\n      \u001B[33mdtype\u001B[0m=\u001B[32m'object'\u001B[0m\u001B[1m)\u001B[0m"
     },
     "execution_count": 107,
     "metadata": {},
     "output_type": "execute_result"
    }
   ],
   "source": [
    "finalDf.columns"
   ]
  },
  {
   "cell_type": "code",
   "execution_count": 108,
   "outputs": [
    {
     "name": "stdout",
     "output_type": "stream",
     "text": [
      "995349 24\n"
     ]
    }
   ],
   "source": [
    "print(finalDf.shape[0], finalDf.shape[1])"
   ],
   "metadata": {
    "collapsed": false,
    "ExecuteTime": {
     "end_time": "2023-11-26T21:09:40.206314104Z",
     "start_time": "2023-11-26T21:09:40.155531813Z"
    }
   },
   "id": "a257837b0c5fcbee"
  },
  {
   "cell_type": "code",
   "execution_count": 108,
   "outputs": [],
   "source": [],
   "metadata": {
    "collapsed": false,
    "ExecuteTime": {
     "end_time": "2023-11-26T21:09:40.206555967Z",
     "start_time": "2023-11-26T21:09:40.155791276Z"
    }
   },
   "id": "79b2bda27a2f61eb"
  }
 ],
 "metadata": {
  "kernelspec": {
   "display_name": "Python 3",
   "language": "python",
   "name": "python3"
  },
  "language_info": {
   "codemirror_mode": {
    "name": "ipython",
    "version": 3
   },
   "file_extension": ".py",
   "mimetype": "text/x-python",
   "name": "python",
   "nbconvert_exporter": "python",
   "pygments_lexer": "ipython3",
   "version": "3.7.16"
  }
 },
 "nbformat": 4,
 "nbformat_minor": 5
}
