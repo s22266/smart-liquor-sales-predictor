{
 "cells": [
  {
   "cell_type": "code",
   "execution_count": 99,
   "id": "initial_id",
   "metadata": {
    "collapsed": true,
    "ExecuteTime": {
     "end_time": "2023-12-02T20:58:49.983086066Z",
     "start_time": "2023-12-02T20:58:44.708540483Z"
    }
   },
   "outputs": [
    {
     "data": {
      "text/plain": "\u001B[2;36m[12/02/23 21:58:49]\u001B[0m\u001B[2;36m \u001B[0m\u001B[31mWARNING \u001B[0m \u001B[35m/tmp/ipykernel_274408/\u001B[0m\u001B[95m2188064087.py\u001B[0m:\u001B[1;36m4\u001B[0m: DtypeWarning: Columns \u001B[1m(\u001B[0m\u001B[1;36m6\u001B[0m\u001B[1m)\u001B[0m have  \u001B]8;id=239099;file:///usr/lib/python3.10/warnings.py\u001B\\\u001B[2mwarnings.py\u001B[0m\u001B]8;;\u001B\\\u001B[2m:\u001B[0m\u001B]8;id=722749;file:///usr/lib/python3.10/warnings.py#109\u001B\\\u001B[2m109\u001B[0m\u001B]8;;\u001B\\\n\u001B[2;36m                    \u001B[0m         mixed types. Specify dtype option on import or set \u001B[33mlow_memory\u001B[0m=\u001B[3;91mFalse\u001B[0m.   \u001B[2m               \u001B[0m\n\u001B[2;36m                    \u001B[0m           df = \u001B[1;35mpd.read_csv\u001B[0m\u001B[1m(\u001B[0m\u001B[32m'../data/01_raw/iowa_liquor_sales_subset.csv'\u001B[0m\u001B[1m)\u001B[0m      \u001B[2m               \u001B[0m\n\u001B[2;36m                    \u001B[0m                                                                                \u001B[2m               \u001B[0m\n",
      "text/html": "<pre style=\"white-space:pre;overflow-x:auto;line-height:normal;font-family:Menlo,'DejaVu Sans Mono',consolas,'Courier New',monospace\"><span style=\"color: #7fbfbf; text-decoration-color: #7fbfbf\">[12/02/23 21:58:49] </span><span style=\"color: #800000; text-decoration-color: #800000\">WARNING </span> <span style=\"color: #800080; text-decoration-color: #800080\">/tmp/ipykernel_274408/</span><span style=\"color: #ff00ff; text-decoration-color: #ff00ff\">2188064087.py</span>:<span style=\"color: #008080; text-decoration-color: #008080; font-weight: bold\">4</span>: DtypeWarning: Columns <span style=\"font-weight: bold\">(</span><span style=\"color: #008080; text-decoration-color: #008080; font-weight: bold\">6</span><span style=\"font-weight: bold\">)</span> have  <a href=\"file:///usr/lib/python3.10/warnings.py\" target=\"_blank\"><span style=\"color: #7f7f7f; text-decoration-color: #7f7f7f\">warnings.py</span></a><span style=\"color: #7f7f7f; text-decoration-color: #7f7f7f\">:</span><a href=\"file:///usr/lib/python3.10/warnings.py#109\" target=\"_blank\"><span style=\"color: #7f7f7f; text-decoration-color: #7f7f7f\">109</span></a>\n<span style=\"color: #7fbfbf; text-decoration-color: #7fbfbf\">                    </span>         mixed types. Specify dtype option on import or set <span style=\"color: #808000; text-decoration-color: #808000\">low_memory</span>=<span style=\"color: #ff0000; text-decoration-color: #ff0000; font-style: italic\">False</span>.   <span style=\"color: #7f7f7f; text-decoration-color: #7f7f7f\">               </span>\n<span style=\"color: #7fbfbf; text-decoration-color: #7fbfbf\">                    </span>           df = <span style=\"color: #800080; text-decoration-color: #800080; font-weight: bold\">pd.read_csv</span><span style=\"font-weight: bold\">(</span><span style=\"color: #008000; text-decoration-color: #008000\">'../data/01_raw/iowa_liquor_sales_subset.csv'</span><span style=\"font-weight: bold\">)</span>      <span style=\"color: #7f7f7f; text-decoration-color: #7f7f7f\">               </span>\n<span style=\"color: #7fbfbf; text-decoration-color: #7fbfbf\">                    </span>                                                                                <span style=\"color: #7f7f7f; text-decoration-color: #7f7f7f\">               </span>\n</pre>\n"
     },
     "metadata": {},
     "output_type": "display_data"
    }
   ],
   "source": [
    "import kedro.framework.cli.utils\n",
    "import pandas as pd\n",
    "import os\n",
    "df = pd.read_csv('../data/01_raw/iowa_liquor_sales_subset.csv')"
   ]
  },
  {
   "cell_type": "code",
   "execution_count": 100,
   "id": "6867f5b4f9b26350",
   "metadata": {
    "collapsed": false,
    "ExecuteTime": {
     "end_time": "2023-12-02T20:58:50.044294719Z",
     "start_time": "2023-12-02T20:58:49.999344202Z"
    }
   },
   "outputs": [
    {
     "data": {
      "text/plain": "",
      "text/html": "<pre style=\"white-space:pre;overflow-x:auto;line-height:normal;font-family:Menlo,'DejaVu Sans Mono',consolas,'Courier New',monospace\"></pre>\n"
     },
     "metadata": {},
     "output_type": "display_data"
    },
    {
     "data": {
      "text/plain": "\n   invoice_line_no                     date  store  \\\n\u001B[1;36m0\u001B[0m  INV-\u001B[1;36m48770300006\u001B[0m  \u001B[1;36m2022\u001B[0m-\u001B[1;36m06\u001B[0m-29T\u001B[1;92m00:00:00\u001B[0m.\u001B[1;36m000\u001B[0m   \u001B[1;36m5900\u001B[0m   \n\u001B[1;36m1\u001B[0m  INV-\u001B[1;36m48782900001\u001B[0m  \u001B[1;36m2022\u001B[0m-\u001B[1;36m06\u001B[0m-29T\u001B[1;92m00:00:00\u001B[0m.\u001B[1;36m000\u001B[0m   \u001B[1;36m3390\u001B[0m   \n\u001B[1;36m2\u001B[0m  INV-\u001B[1;36m48703200006\u001B[0m  \u001B[1;36m2022\u001B[0m-\u001B[1;36m06\u001B[0m-27T\u001B[1;92m00:00:00\u001B[0m.\u001B[1;36m000\u001B[0m   \u001B[1;36m4604\u001B[0m   \n\u001B[1;36m3\u001B[0m  INV-\u001B[1;36m48692600064\u001B[0m  \u001B[1;36m2022\u001B[0m-\u001B[1;36m06\u001B[0m-27T\u001B[1;92m00:00:00\u001B[0m.\u001B[1;36m000\u001B[0m   \u001B[1;36m2552\u001B[0m   \n\u001B[1;36m4\u001B[0m  INV-\u001B[1;36m48679200008\u001B[0m  \u001B[1;36m2022\u001B[0m-\u001B[1;36m06\u001B[0m-24T\u001B[1;92m00:00:00\u001B[0m.\u001B[1;36m000\u001B[0m   \u001B[1;36m2523\u001B[0m   \n\n                                  name                address          city  \\\n\u001B[1;36m0\u001B[0m         NEW STAR FLETCHER \u001B[35m/\u001B[0m WATERLOO       \u001B[1;36m315\u001B[0m FLETCHER AVE      WATERLOO   \n\u001B[1;36m1\u001B[0m                OKOBOJI AVENUE LIQUOR    \u001B[1;36m1610\u001B[0m OKOBOJI AVENUE       MILFORD   \n\u001B[1;36m2\u001B[0m            PIT STOP LIQUORS \u001B[35m/\u001B[0m NEWTON        \u001B[1;36m1324\u001B[0m, 1ST AVE E        NEWTON   \n\u001B[1;36m3\u001B[0m  HY-VEE FOOD STORE #\u001B[1;36m3\u001B[0m \u001B[35m/\u001B[0m CEDAR RAPIDS  \u001B[1;36m20\u001B[0m WILSON AVENUE WEST  CEDAR RAPIDS   \n\u001B[1;36m4\u001B[0m      HY-VEE FOOD STORE \u001B[35m/\u001B[0m CENTERVILLE             \u001B[1;36m609\u001B[0m N 18TH   CENTERVILLE   \n\n   zipcode                                     store_location  county_number  \\\n\u001B[1;36m0\u001B[0m  \u001B[1;36m50701.0\u001B[0m  \u001B[1m{\u001B[0m\u001B[32m'type'\u001B[0m: \u001B[32m'Point'\u001B[0m, \u001B[32m'coordinates'\u001B[0m: \u001B[1m[\u001B[0m\u001B[1;36m-92.367142\u001B[0m, \u001B[33m...\u001B[0m            \u001B[1;36m7.0\u001B[0m   \n\u001B[1;36m1\u001B[0m  \u001B[1;36m51351.0\u001B[0m  \u001B[1m{\u001B[0m\u001B[32m'type'\u001B[0m: \u001B[32m'Point'\u001B[0m, \u001B[32m'coordinates'\u001B[0m: \u001B[1m[\u001B[0m\u001B[1;36m-95.149955\u001B[0m, \u001B[33m...\u001B[0m           \u001B[1;36m30.0\u001B[0m   \n\u001B[1;36m2\u001B[0m  \u001B[1;36m50208.0\u001B[0m  \u001B[1m{\u001B[0m\u001B[32m'type'\u001B[0m: \u001B[32m'Point'\u001B[0m, \u001B[32m'coordinates'\u001B[0m: \u001B[1m[\u001B[0m\u001B[1;36m-93.035653\u001B[0m, \u001B[33m...\u001B[0m           \u001B[1;36m50.0\u001B[0m   \n\u001B[1;36m3\u001B[0m  \u001B[1;36m52404.0\u001B[0m  \u001B[1m{\u001B[0m\u001B[32m'type'\u001B[0m: \u001B[32m'Point'\u001B[0m, \u001B[32m'coordinates'\u001B[0m: \u001B[1m[\u001B[0m\u001B[1;36m-91.658576\u001B[0m, \u001B[33m...\u001B[0m           \u001B[1;36m57.0\u001B[0m   \n\u001B[1;36m4\u001B[0m  \u001B[1;36m52544.0\u001B[0m  \u001B[1m{\u001B[0m\u001B[32m'type'\u001B[0m: \u001B[32m'Point'\u001B[0m, \u001B[32m'coordinates'\u001B[0m: \u001B[1m[\u001B[0m\u001B[1;36m-92.867967\u001B[0m, \u001B[33m...\u001B[0m            \u001B[1;36m4.0\u001B[0m   \n\n       county  \u001B[33m...\u001B[0m  state_bottle_retail sale_bottles  sale_dollars  \\\n\u001B[1;36m0\u001B[0m  BLACK HAWK  \u001B[33m...\u001B[0m                 \u001B[1;36m5.25\u001B[0m           \u001B[1;36m24\u001B[0m        \u001B[1;36m126.00\u001B[0m   \n\u001B[1;36m1\u001B[0m   DICKINSON  \u001B[33m...\u001B[0m                 \u001B[1;36m5.96\u001B[0m          \u001B[1;36m288\u001B[0m       \u001B[1;36m1716.48\u001B[0m   \n\u001B[1;36m2\u001B[0m      JASPER  \u001B[33m...\u001B[0m                 \u001B[1;36m7.50\u001B[0m           \u001B[1;36m24\u001B[0m        \u001B[1;36m162.00\u001B[0m   \n\u001B[1;36m3\u001B[0m        LINN  \u001B[33m...\u001B[0m                \u001B[1;36m20.99\u001B[0m            \u001B[1;36m6\u001B[0m        \u001B[1;36m116.64\u001B[0m   \n\u001B[1;36m4\u001B[0m   APPANOOSE  \u001B[33m...\u001B[0m                \u001B[1;36m12.99\u001B[0m           \u001B[1;36m12\u001B[0m        \u001B[1;36m155.88\u001B[0m   \n\n  sale_liters  sale_gallons :@computed_region_3r5t_5243  \\\n\u001B[1;36m0\u001B[0m         \u001B[1;36m9.0\u001B[0m          \u001B[1;36m2.37\u001B[0m                       \u001B[1;36m145.0\u001B[0m   \n\u001B[1;36m1\u001B[0m       \u001B[1;36m288.0\u001B[0m         \u001B[1;36m76.08\u001B[0m                        \u001B[1;36m37.0\u001B[0m   \n\u001B[1;36m2\u001B[0m         \u001B[1;36m9.0\u001B[0m          \u001B[1;36m2.37\u001B[0m                       \u001B[1;36m903.0\u001B[0m   \n\u001B[1;36m3\u001B[0m        \u001B[1;36m10.5\u001B[0m          \u001B[1;36m2.77\u001B[0m                       \u001B[1;36m793.0\u001B[0m   \n\u001B[1;36m4\u001B[0m         \u001B[1;36m9.0\u001B[0m          \u001B[1;36m2.37\u001B[0m                       \u001B[1;36m210.0\u001B[0m   \n\n   :@computed_region_wnea_7qqw  :@computed_region_i9mz_6gmt  \\\n\u001B[1;36m0\u001B[0m                         \u001B[1;36m18.0\u001B[0m                        \u001B[1;36m240.0\u001B[0m   \n\u001B[1;36m1\u001B[0m                         \u001B[1;36m37.0\u001B[0m                        \u001B[1;36m419.0\u001B[0m   \n\u001B[1;36m2\u001B[0m                         \u001B[1;36m11.0\u001B[0m                        \u001B[1;36m131.0\u001B[0m   \n\u001B[1;36m3\u001B[0m                         \u001B[1;36m18.0\u001B[0m                        \u001B[1;36m264.0\u001B[0m   \n\u001B[1;36m4\u001B[0m                         \u001B[1;36m54.0\u001B[0m                        \u001B[1;36m534.0\u001B[0m   \n\n   :@computed_region_uhgg_e8y2  :@computed_region_e7ym_nrbf  \n\u001B[1;36m0\u001B[0m                         \u001B[1;36m35.0\u001B[0m                        \u001B[1;36m176.0\u001B[0m  \n\u001B[1;36m1\u001B[0m                          \u001B[1;36m3.0\u001B[0m                       \u001B[1;36m1779.0\u001B[0m  \n\u001B[1;36m2\u001B[0m                         \u001B[1;36m66.0\u001B[0m                       \u001B[1;36m1791.0\u001B[0m  \n\u001B[1;36m3\u001B[0m                         \u001B[1;36m45.0\u001B[0m                        \u001B[1;36m287.0\u001B[0m  \n\u001B[1;36m4\u001B[0m                         \u001B[1;36m98.0\u001B[0m                        \u001B[1;36m175.0\u001B[0m  \n\n\u001B[1m[\u001B[0m\u001B[1;36m5\u001B[0m rows x \u001B[1;36m29\u001B[0m columns\u001B[1m]\u001B[0m",
      "text/html": "<div>\n<style scoped>\n    .dataframe tbody tr th:only-of-type {\n        vertical-align: middle;\n    }\n\n    .dataframe tbody tr th {\n        vertical-align: top;\n    }\n\n    .dataframe thead th {\n        text-align: right;\n    }\n</style>\n<table border=\"1\" class=\"dataframe\">\n  <thead>\n    <tr style=\"text-align: right;\">\n      <th></th>\n      <th>invoice_line_no</th>\n      <th>date</th>\n      <th>store</th>\n      <th>name</th>\n      <th>address</th>\n      <th>city</th>\n      <th>zipcode</th>\n      <th>store_location</th>\n      <th>county_number</th>\n      <th>county</th>\n      <th>...</th>\n      <th>state_bottle_retail</th>\n      <th>sale_bottles</th>\n      <th>sale_dollars</th>\n      <th>sale_liters</th>\n      <th>sale_gallons</th>\n      <th>:@computed_region_3r5t_5243</th>\n      <th>:@computed_region_wnea_7qqw</th>\n      <th>:@computed_region_i9mz_6gmt</th>\n      <th>:@computed_region_uhgg_e8y2</th>\n      <th>:@computed_region_e7ym_nrbf</th>\n    </tr>\n  </thead>\n  <tbody>\n    <tr>\n      <th>0</th>\n      <td>INV-48770300006</td>\n      <td>2022-06-29T00:00:00.000</td>\n      <td>5900</td>\n      <td>NEW STAR FLETCHER / WATERLOO</td>\n      <td>315 FLETCHER AVE</td>\n      <td>WATERLOO</td>\n      <td>50701.0</td>\n      <td>{'type': 'Point', 'coordinates': [-92.367142, ...</td>\n      <td>7.0</td>\n      <td>BLACK HAWK</td>\n      <td>...</td>\n      <td>5.25</td>\n      <td>24</td>\n      <td>126.00</td>\n      <td>9.0</td>\n      <td>2.37</td>\n      <td>145.0</td>\n      <td>18.0</td>\n      <td>240.0</td>\n      <td>35.0</td>\n      <td>176.0</td>\n    </tr>\n    <tr>\n      <th>1</th>\n      <td>INV-48782900001</td>\n      <td>2022-06-29T00:00:00.000</td>\n      <td>3390</td>\n      <td>OKOBOJI AVENUE LIQUOR</td>\n      <td>1610 OKOBOJI AVENUE</td>\n      <td>MILFORD</td>\n      <td>51351.0</td>\n      <td>{'type': 'Point', 'coordinates': [-95.149955, ...</td>\n      <td>30.0</td>\n      <td>DICKINSON</td>\n      <td>...</td>\n      <td>5.96</td>\n      <td>288</td>\n      <td>1716.48</td>\n      <td>288.0</td>\n      <td>76.08</td>\n      <td>37.0</td>\n      <td>37.0</td>\n      <td>419.0</td>\n      <td>3.0</td>\n      <td>1779.0</td>\n    </tr>\n    <tr>\n      <th>2</th>\n      <td>INV-48703200006</td>\n      <td>2022-06-27T00:00:00.000</td>\n      <td>4604</td>\n      <td>PIT STOP LIQUORS / NEWTON</td>\n      <td>1324, 1ST AVE E</td>\n      <td>NEWTON</td>\n      <td>50208.0</td>\n      <td>{'type': 'Point', 'coordinates': [-93.035653, ...</td>\n      <td>50.0</td>\n      <td>JASPER</td>\n      <td>...</td>\n      <td>7.50</td>\n      <td>24</td>\n      <td>162.00</td>\n      <td>9.0</td>\n      <td>2.37</td>\n      <td>903.0</td>\n      <td>11.0</td>\n      <td>131.0</td>\n      <td>66.0</td>\n      <td>1791.0</td>\n    </tr>\n    <tr>\n      <th>3</th>\n      <td>INV-48692600064</td>\n      <td>2022-06-27T00:00:00.000</td>\n      <td>2552</td>\n      <td>HY-VEE FOOD STORE #3 / CEDAR RAPIDS</td>\n      <td>20 WILSON AVENUE WEST</td>\n      <td>CEDAR RAPIDS</td>\n      <td>52404.0</td>\n      <td>{'type': 'Point', 'coordinates': [-91.658576, ...</td>\n      <td>57.0</td>\n      <td>LINN</td>\n      <td>...</td>\n      <td>20.99</td>\n      <td>6</td>\n      <td>116.64</td>\n      <td>10.5</td>\n      <td>2.77</td>\n      <td>793.0</td>\n      <td>18.0</td>\n      <td>264.0</td>\n      <td>45.0</td>\n      <td>287.0</td>\n    </tr>\n    <tr>\n      <th>4</th>\n      <td>INV-48679200008</td>\n      <td>2022-06-24T00:00:00.000</td>\n      <td>2523</td>\n      <td>HY-VEE FOOD STORE / CENTERVILLE</td>\n      <td>609 N 18TH</td>\n      <td>CENTERVILLE</td>\n      <td>52544.0</td>\n      <td>{'type': 'Point', 'coordinates': [-92.867967, ...</td>\n      <td>4.0</td>\n      <td>APPANOOSE</td>\n      <td>...</td>\n      <td>12.99</td>\n      <td>12</td>\n      <td>155.88</td>\n      <td>9.0</td>\n      <td>2.37</td>\n      <td>210.0</td>\n      <td>54.0</td>\n      <td>534.0</td>\n      <td>98.0</td>\n      <td>175.0</td>\n    </tr>\n  </tbody>\n</table>\n<p>5 rows × 29 columns</p>\n</div>"
     },
     "execution_count": 100,
     "metadata": {},
     "output_type": "execute_result"
    }
   ],
   "source": [
    "df.head()"
   ]
  },
  {
   "cell_type": "code",
   "execution_count": 101,
   "id": "6ca2a70488a46ed0",
   "metadata": {
    "collapsed": false,
    "ExecuteTime": {
     "end_time": "2023-12-02T20:58:50.402221352Z",
     "start_time": "2023-12-02T20:58:50.019854455Z"
    }
   },
   "outputs": [],
   "source": [
    "missing_data = df.isnull().sum()"
   ]
  },
  {
   "cell_type": "code",
   "execution_count": 102,
   "id": "727789989f5b1ea9",
   "metadata": {
    "collapsed": false,
    "ExecuteTime": {
     "end_time": "2023-12-02T20:58:50.403650854Z",
     "start_time": "2023-12-02T20:58:50.389453219Z"
    }
   },
   "outputs": [
    {
     "name": "stdout",
     "output_type": "stream",
     "text": [
      "invoice_line_no                     0\n",
      "date                                0\n",
      "store                               0\n",
      "name                                0\n",
      "address                          3957\n",
      "city                             3957\n",
      "zipcode                          3957\n",
      "store_location                 106405\n",
      "county_number                  346656\n",
      "county                          29373\n",
      "category                           56\n",
      "category_name                     460\n",
      "vendor_no                           0\n",
      "vendor_name                         0\n",
      "itemno                              0\n",
      "im_desc                             0\n",
      "pack                                0\n",
      "bottle_volume_ml                    0\n",
      "state_bottle_cost                   0\n",
      "state_bottle_retail                 0\n",
      "sale_bottles                        0\n",
      "sale_dollars                        0\n",
      "sale_liters                         0\n",
      "sale_gallons                        0\n",
      ":@computed_region_3r5t_5243    106952\n",
      ":@computed_region_wnea_7qqw    106952\n",
      ":@computed_region_i9mz_6gmt    106952\n",
      ":@computed_region_uhgg_e8y2    106952\n",
      ":@computed_region_e7ym_nrbf    106405\n",
      "dtype: int64\n"
     ]
    }
   ],
   "source": [
    "print(missing_data)"
   ]
  },
  {
   "cell_type": "code",
   "execution_count": 103,
   "id": "85ce17ed3990dd6e",
   "metadata": {
    "collapsed": false,
    "ExecuteTime": {
     "end_time": "2023-12-02T20:58:50.791794089Z",
     "start_time": "2023-12-02T20:58:50.398363788Z"
    }
   },
   "outputs": [],
   "source": [
    "percent_missing = df.isnull().mean() * 100"
   ]
  },
  {
   "cell_type": "code",
   "execution_count": 104,
   "id": "7a8204b958c38be7",
   "metadata": {
    "collapsed": false,
    "ExecuteTime": {
     "end_time": "2023-12-02T20:58:50.804667742Z",
     "start_time": "2023-12-02T20:58:50.793201860Z"
    }
   },
   "outputs": [
    {
     "name": "stdout",
     "output_type": "stream",
     "text": [
      "invoice_line_no                 0.0000\n",
      "date                            0.0000\n",
      "store                           0.0000\n",
      "name                            0.0000\n",
      "address                         0.3957\n",
      "city                            0.3957\n",
      "zipcode                         0.3957\n",
      "store_location                 10.6405\n",
      "county_number                  34.6656\n",
      "county                          2.9373\n",
      "category                        0.0056\n",
      "category_name                   0.0460\n",
      "vendor_no                       0.0000\n",
      "vendor_name                     0.0000\n",
      "itemno                          0.0000\n",
      "im_desc                         0.0000\n",
      "pack                            0.0000\n",
      "bottle_volume_ml                0.0000\n",
      "state_bottle_cost               0.0000\n",
      "state_bottle_retail             0.0000\n",
      "sale_bottles                    0.0000\n",
      "sale_dollars                    0.0000\n",
      "sale_liters                     0.0000\n",
      "sale_gallons                    0.0000\n",
      ":@computed_region_3r5t_5243    10.6952\n",
      ":@computed_region_wnea_7qqw    10.6952\n",
      ":@computed_region_i9mz_6gmt    10.6952\n",
      ":@computed_region_uhgg_e8y2    10.6952\n",
      ":@computed_region_e7ym_nrbf    10.6405\n",
      "dtype: float64\n"
     ]
    }
   ],
   "source": [
    "print(percent_missing)"
   ]
  },
  {
   "cell_type": "code",
   "execution_count": 105,
   "id": "1f6445a9cdcca624",
   "metadata": {
    "collapsed": false,
    "ExecuteTime": {
     "end_time": "2023-12-02T20:58:50.874618236Z",
     "start_time": "2023-12-02T20:58:50.802713682Z"
    }
   },
   "outputs": [
    {
     "data": {
      "text/plain": "",
      "text/html": "<pre style=\"white-space:pre;overflow-x:auto;line-height:normal;font-family:Menlo,'DejaVu Sans Mono',consolas,'Courier New',monospace\"></pre>\n"
     },
     "metadata": {},
     "output_type": "display_data"
    },
    {
     "data": {
      "text/plain": "\n                             total_missing  percent_missing\ncounty_number                       \u001B[1;36m346656\u001B[0m          \u001B[1;36m34.6656\u001B[0m\n:@computed_region_uhgg_e8y2         \u001B[1;36m106952\u001B[0m          \u001B[1;36m10.6952\u001B[0m\n:@computed_region_i9mz_6gmt         \u001B[1;36m106952\u001B[0m          \u001B[1;36m10.6952\u001B[0m\n:@computed_region_3r5t_5243         \u001B[1;36m106952\u001B[0m          \u001B[1;36m10.6952\u001B[0m\n:@computed_region_wnea_7qqw         \u001B[1;36m106952\u001B[0m          \u001B[1;36m10.6952\u001B[0m\n:@computed_region_e7ym_nrbf         \u001B[1;36m106405\u001B[0m          \u001B[1;36m10.6405\u001B[0m\nstore_location                      \u001B[1;36m106405\u001B[0m          \u001B[1;36m10.6405\u001B[0m\ncounty                               \u001B[1;36m29373\u001B[0m           \u001B[1;36m2.9373\u001B[0m\nzipcode                               \u001B[1;36m3957\u001B[0m           \u001B[1;36m0.3957\u001B[0m\ncity                                  \u001B[1;36m3957\u001B[0m           \u001B[1;36m0.3957\u001B[0m\naddress                               \u001B[1;36m3957\u001B[0m           \u001B[1;36m0.3957\u001B[0m\ncategory_name                          \u001B[1;36m460\u001B[0m           \u001B[1;36m0.0460\u001B[0m\ncategory                                \u001B[1;36m56\u001B[0m           \u001B[1;36m0.0056\u001B[0m\nstate_bottle_retail                      \u001B[1;36m0\u001B[0m           \u001B[1;36m0.0000\u001B[0m\nsale_gallons                             \u001B[1;36m0\u001B[0m           \u001B[1;36m0.0000\u001B[0m\nsale_liters                              \u001B[1;36m0\u001B[0m           \u001B[1;36m0.0000\u001B[0m\nsale_dollars                             \u001B[1;36m0\u001B[0m           \u001B[1;36m0.0000\u001B[0m\nsale_bottles                             \u001B[1;36m0\u001B[0m           \u001B[1;36m0.0000\u001B[0m\ninvoice_line_no                          \u001B[1;36m0\u001B[0m           \u001B[1;36m0.0000\u001B[0m\nstate_bottle_cost                        \u001B[1;36m0\u001B[0m           \u001B[1;36m0.0000\u001B[0m\nbottle_volume_ml                         \u001B[1;36m0\u001B[0m           \u001B[1;36m0.0000\u001B[0m\npack                                     \u001B[1;36m0\u001B[0m           \u001B[1;36m0.0000\u001B[0m\nim_desc                                  \u001B[1;36m0\u001B[0m           \u001B[1;36m0.0000\u001B[0m\ndate                                     \u001B[1;36m0\u001B[0m           \u001B[1;36m0.0000\u001B[0m\nvendor_name                              \u001B[1;36m0\u001B[0m           \u001B[1;36m0.0000\u001B[0m\nvendor_no                                \u001B[1;36m0\u001B[0m           \u001B[1;36m0.0000\u001B[0m\nname                                     \u001B[1;36m0\u001B[0m           \u001B[1;36m0.0000\u001B[0m\nstore                                    \u001B[1;36m0\u001B[0m           \u001B[1;36m0.0000\u001B[0m\nitemno                                   \u001B[1;36m0\u001B[0m           \u001B[1;36m0.0000\u001B[0m",
      "text/html": "<div>\n<style scoped>\n    .dataframe tbody tr th:only-of-type {\n        vertical-align: middle;\n    }\n\n    .dataframe tbody tr th {\n        vertical-align: top;\n    }\n\n    .dataframe thead th {\n        text-align: right;\n    }\n</style>\n<table border=\"1\" class=\"dataframe\">\n  <thead>\n    <tr style=\"text-align: right;\">\n      <th></th>\n      <th>total_missing</th>\n      <th>percent_missing</th>\n    </tr>\n  </thead>\n  <tbody>\n    <tr>\n      <th>county_number</th>\n      <td>346656</td>\n      <td>34.6656</td>\n    </tr>\n    <tr>\n      <th>:@computed_region_uhgg_e8y2</th>\n      <td>106952</td>\n      <td>10.6952</td>\n    </tr>\n    <tr>\n      <th>:@computed_region_i9mz_6gmt</th>\n      <td>106952</td>\n      <td>10.6952</td>\n    </tr>\n    <tr>\n      <th>:@computed_region_3r5t_5243</th>\n      <td>106952</td>\n      <td>10.6952</td>\n    </tr>\n    <tr>\n      <th>:@computed_region_wnea_7qqw</th>\n      <td>106952</td>\n      <td>10.6952</td>\n    </tr>\n    <tr>\n      <th>:@computed_region_e7ym_nrbf</th>\n      <td>106405</td>\n      <td>10.6405</td>\n    </tr>\n    <tr>\n      <th>store_location</th>\n      <td>106405</td>\n      <td>10.6405</td>\n    </tr>\n    <tr>\n      <th>county</th>\n      <td>29373</td>\n      <td>2.9373</td>\n    </tr>\n    <tr>\n      <th>zipcode</th>\n      <td>3957</td>\n      <td>0.3957</td>\n    </tr>\n    <tr>\n      <th>city</th>\n      <td>3957</td>\n      <td>0.3957</td>\n    </tr>\n    <tr>\n      <th>address</th>\n      <td>3957</td>\n      <td>0.3957</td>\n    </tr>\n    <tr>\n      <th>category_name</th>\n      <td>460</td>\n      <td>0.0460</td>\n    </tr>\n    <tr>\n      <th>category</th>\n      <td>56</td>\n      <td>0.0056</td>\n    </tr>\n    <tr>\n      <th>state_bottle_retail</th>\n      <td>0</td>\n      <td>0.0000</td>\n    </tr>\n    <tr>\n      <th>sale_gallons</th>\n      <td>0</td>\n      <td>0.0000</td>\n    </tr>\n    <tr>\n      <th>sale_liters</th>\n      <td>0</td>\n      <td>0.0000</td>\n    </tr>\n    <tr>\n      <th>sale_dollars</th>\n      <td>0</td>\n      <td>0.0000</td>\n    </tr>\n    <tr>\n      <th>sale_bottles</th>\n      <td>0</td>\n      <td>0.0000</td>\n    </tr>\n    <tr>\n      <th>invoice_line_no</th>\n      <td>0</td>\n      <td>0.0000</td>\n    </tr>\n    <tr>\n      <th>state_bottle_cost</th>\n      <td>0</td>\n      <td>0.0000</td>\n    </tr>\n    <tr>\n      <th>bottle_volume_ml</th>\n      <td>0</td>\n      <td>0.0000</td>\n    </tr>\n    <tr>\n      <th>pack</th>\n      <td>0</td>\n      <td>0.0000</td>\n    </tr>\n    <tr>\n      <th>im_desc</th>\n      <td>0</td>\n      <td>0.0000</td>\n    </tr>\n    <tr>\n      <th>date</th>\n      <td>0</td>\n      <td>0.0000</td>\n    </tr>\n    <tr>\n      <th>vendor_name</th>\n      <td>0</td>\n      <td>0.0000</td>\n    </tr>\n    <tr>\n      <th>vendor_no</th>\n      <td>0</td>\n      <td>0.0000</td>\n    </tr>\n    <tr>\n      <th>name</th>\n      <td>0</td>\n      <td>0.0000</td>\n    </tr>\n    <tr>\n      <th>store</th>\n      <td>0</td>\n      <td>0.0000</td>\n    </tr>\n    <tr>\n      <th>itemno</th>\n      <td>0</td>\n      <td>0.0000</td>\n    </tr>\n  </tbody>\n</table>\n</div>"
     },
     "execution_count": 105,
     "metadata": {},
     "output_type": "execute_result"
    }
   ],
   "source": [
    "missing_data_df = pd.DataFrame({'total_missing': missing_data, 'percent_missing': percent_missing})\n",
    "\n",
    "missing_data_df.sort_values(by='percent_missing', ascending=False)"
   ]
  },
  {
   "cell_type": "code",
   "execution_count": 106,
   "id": "5d605c94bdb036da",
   "metadata": {
    "collapsed": false,
    "ExecuteTime": {
     "end_time": "2023-12-02T20:58:51.034898040Z",
     "start_time": "2023-12-02T20:58:50.841615649Z"
    }
   },
   "outputs": [],
   "source": [
    "#Removing county_number\n",
    "df2 = df.drop('county_number', axis=1)"
   ]
  },
  {
   "cell_type": "code",
   "execution_count": 107,
   "id": "c9e62f0b342a7160",
   "metadata": {
    "collapsed": false,
    "ExecuteTime": {
     "end_time": "2023-12-02T20:58:51.343508276Z",
     "start_time": "2023-12-02T20:58:50.991970683Z"
    }
   },
   "outputs": [],
   "source": [
    "df3 = df2.dropna(subset=['city','zipcode', 'category', 'category_name', 'address'])"
   ]
  },
  {
   "cell_type": "code",
   "execution_count": 108,
   "id": "413b7cc22e8b62af",
   "metadata": {
    "collapsed": false,
    "ExecuteTime": {
     "end_time": "2023-12-02T20:58:51.674511841Z",
     "start_time": "2023-12-02T20:58:51.637746758Z"
    }
   },
   "outputs": [
    {
     "data": {
      "text/plain": "",
      "text/html": "<pre style=\"white-space:pre;overflow-x:auto;line-height:normal;font-family:Menlo,'DejaVu Sans Mono',consolas,'Courier New',monospace\"></pre>\n"
     },
     "metadata": {},
     "output_type": "display_data"
    },
    {
     "data": {
      "text/plain": "\ninvoice_line_no                     \u001B[1;36m0\u001B[0m\ndate                                \u001B[1;36m0\u001B[0m\nstore                               \u001B[1;36m0\u001B[0m\nname                                \u001B[1;36m0\u001B[0m\naddress                             \u001B[1;36m0\u001B[0m\ncity                                \u001B[1;36m0\u001B[0m\nzipcode                             \u001B[1;36m0\u001B[0m\nstore_location                 \u001B[1;36m102363\u001B[0m\ncounty                          \u001B[1;36m25390\u001B[0m\ncategory                            \u001B[1;36m0\u001B[0m\ncategory_name                       \u001B[1;36m0\u001B[0m\nvendor_no                           \u001B[1;36m0\u001B[0m\nvendor_name                         \u001B[1;36m0\u001B[0m\nitemno                              \u001B[1;36m0\u001B[0m\nim_desc                             \u001B[1;36m0\u001B[0m\npack                                \u001B[1;36m0\u001B[0m\nbottle_volume_ml                    \u001B[1;36m0\u001B[0m\nstate_bottle_cost                   \u001B[1;36m0\u001B[0m\nstate_bottle_retail                 \u001B[1;36m0\u001B[0m\nsale_bottles                        \u001B[1;36m0\u001B[0m\nsale_dollars                        \u001B[1;36m0\u001B[0m\nsale_liters                         \u001B[1;36m0\u001B[0m\nsale_gallons                        \u001B[1;36m0\u001B[0m\n:@computed_region_3r5t_5243    \u001B[1;36m102910\u001B[0m\n:@computed_region_wnea_7qqw    \u001B[1;36m102910\u001B[0m\n:@computed_region_i9mz_6gmt    \u001B[1;36m102910\u001B[0m\n:@computed_region_uhgg_e8y2    \u001B[1;36m102910\u001B[0m\n:@computed_region_e7ym_nrbf    \u001B[1;36m102363\u001B[0m\ndtype: int64"
     },
     "execution_count": 108,
     "metadata": {},
     "output_type": "execute_result"
    }
   ],
   "source": [
    "df3.isnull().sum()"
   ]
  },
  {
   "cell_type": "code",
   "execution_count": 109,
   "id": "891a2c62d4126772",
   "metadata": {
    "collapsed": false,
    "ExecuteTime": {
     "end_time": "2023-12-02T20:58:51.720755142Z",
     "start_time": "2023-12-02T20:58:51.689269511Z"
    }
   },
   "outputs": [
    {
     "data": {
      "text/plain": "",
      "text/html": "<pre style=\"white-space:pre;overflow-x:auto;line-height:normal;font-family:Menlo,'DejaVu Sans Mono',consolas,'Courier New',monospace\"></pre>\n"
     },
     "metadata": {},
     "output_type": "display_data"
    },
    {
     "data": {
      "text/plain": "\n   invoice_line_no                     date  store  \\\n\u001B[1;36m0\u001B[0m  INV-\u001B[1;36m48770300006\u001B[0m  \u001B[1;36m2022\u001B[0m-\u001B[1;36m06\u001B[0m-29T\u001B[1;92m00:00:00\u001B[0m.\u001B[1;36m000\u001B[0m   \u001B[1;36m5900\u001B[0m   \n\u001B[1;36m1\u001B[0m  INV-\u001B[1;36m48782900001\u001B[0m  \u001B[1;36m2022\u001B[0m-\u001B[1;36m06\u001B[0m-29T\u001B[1;92m00:00:00\u001B[0m.\u001B[1;36m000\u001B[0m   \u001B[1;36m3390\u001B[0m   \n\u001B[1;36m2\u001B[0m  INV-\u001B[1;36m48703200006\u001B[0m  \u001B[1;36m2022\u001B[0m-\u001B[1;36m06\u001B[0m-27T\u001B[1;92m00:00:00\u001B[0m.\u001B[1;36m000\u001B[0m   \u001B[1;36m4604\u001B[0m   \n\u001B[1;36m3\u001B[0m  INV-\u001B[1;36m48692600064\u001B[0m  \u001B[1;36m2022\u001B[0m-\u001B[1;36m06\u001B[0m-27T\u001B[1;92m00:00:00\u001B[0m.\u001B[1;36m000\u001B[0m   \u001B[1;36m2552\u001B[0m   \n\u001B[1;36m4\u001B[0m  INV-\u001B[1;36m48679200008\u001B[0m  \u001B[1;36m2022\u001B[0m-\u001B[1;36m06\u001B[0m-24T\u001B[1;92m00:00:00\u001B[0m.\u001B[1;36m000\u001B[0m   \u001B[1;36m2523\u001B[0m   \n\n                                  name                address          city  \\\n\u001B[1;36m0\u001B[0m         NEW STAR FLETCHER \u001B[35m/\u001B[0m WATERLOO       \u001B[1;36m315\u001B[0m FLETCHER AVE      WATERLOO   \n\u001B[1;36m1\u001B[0m                OKOBOJI AVENUE LIQUOR    \u001B[1;36m1610\u001B[0m OKOBOJI AVENUE       MILFORD   \n\u001B[1;36m2\u001B[0m            PIT STOP LIQUORS \u001B[35m/\u001B[0m NEWTON        \u001B[1;36m1324\u001B[0m, 1ST AVE E        NEWTON   \n\u001B[1;36m3\u001B[0m  HY-VEE FOOD STORE #\u001B[1;36m3\u001B[0m \u001B[35m/\u001B[0m CEDAR RAPIDS  \u001B[1;36m20\u001B[0m WILSON AVENUE WEST  CEDAR RAPIDS   \n\u001B[1;36m4\u001B[0m      HY-VEE FOOD STORE \u001B[35m/\u001B[0m CENTERVILLE             \u001B[1;36m609\u001B[0m N 18TH   CENTERVILLE   \n\n   zipcode                                     store_location      county  \\\n\u001B[1;36m0\u001B[0m  \u001B[1;36m50701.0\u001B[0m  \u001B[1m{\u001B[0m\u001B[32m'type'\u001B[0m: \u001B[32m'Point'\u001B[0m, \u001B[32m'coordinates'\u001B[0m: \u001B[1m[\u001B[0m\u001B[1;36m-92.367142\u001B[0m, \u001B[33m...\u001B[0m  BLACK HAWK   \n\u001B[1;36m1\u001B[0m  \u001B[1;36m51351.0\u001B[0m  \u001B[1m{\u001B[0m\u001B[32m'type'\u001B[0m: \u001B[32m'Point'\u001B[0m, \u001B[32m'coordinates'\u001B[0m: \u001B[1m[\u001B[0m\u001B[1;36m-95.149955\u001B[0m, \u001B[33m...\u001B[0m   DICKINSON   \n\u001B[1;36m2\u001B[0m  \u001B[1;36m50208.0\u001B[0m  \u001B[1m{\u001B[0m\u001B[32m'type'\u001B[0m: \u001B[32m'Point'\u001B[0m, \u001B[32m'coordinates'\u001B[0m: \u001B[1m[\u001B[0m\u001B[1;36m-93.035653\u001B[0m, \u001B[33m...\u001B[0m      JASPER   \n\u001B[1;36m3\u001B[0m  \u001B[1;36m52404.0\u001B[0m  \u001B[1m{\u001B[0m\u001B[32m'type'\u001B[0m: \u001B[32m'Point'\u001B[0m, \u001B[32m'coordinates'\u001B[0m: \u001B[1m[\u001B[0m\u001B[1;36m-91.658576\u001B[0m, \u001B[33m...\u001B[0m        LINN   \n\u001B[1;36m4\u001B[0m  \u001B[1;36m52544.0\u001B[0m  \u001B[1m{\u001B[0m\u001B[32m'type'\u001B[0m: \u001B[32m'Point'\u001B[0m, \u001B[32m'coordinates'\u001B[0m: \u001B[1m[\u001B[0m\u001B[1;36m-92.867967\u001B[0m, \u001B[33m...\u001B[0m   APPANOOSE   \n\n    category  \u001B[33m...\u001B[0m state_bottle_retail  sale_bottles sale_dollars  sale_liters  \\\n\u001B[1;36m0\u001B[0m  \u001B[1;36m1031100.0\u001B[0m  \u001B[33m...\u001B[0m                \u001B[1;36m5.25\u001B[0m            \u001B[1;36m24\u001B[0m       \u001B[1;36m126.00\u001B[0m          \u001B[1;36m9.0\u001B[0m   \n\u001B[1;36m1\u001B[0m  \u001B[1;36m1031100.0\u001B[0m  \u001B[33m...\u001B[0m                \u001B[1;36m5.96\u001B[0m           \u001B[1;36m288\u001B[0m      \u001B[1;36m1716.48\u001B[0m        \u001B[1;36m288.0\u001B[0m   \n\u001B[1;36m2\u001B[0m  \u001B[1;36m1062200.0\u001B[0m  \u001B[33m...\u001B[0m                \u001B[1;36m7.50\u001B[0m            \u001B[1;36m24\u001B[0m       \u001B[1;36m162.00\u001B[0m          \u001B[1;36m9.0\u001B[0m   \n\u001B[1;36m3\u001B[0m  \u001B[1;36m1011100.0\u001B[0m  \u001B[33m...\u001B[0m               \u001B[1;36m20.99\u001B[0m             \u001B[1;36m6\u001B[0m       \u001B[1;36m116.64\u001B[0m         \u001B[1;36m10.5\u001B[0m   \n\u001B[1;36m4\u001B[0m  \u001B[1;36m1081300.0\u001B[0m  \u001B[33m...\u001B[0m               \u001B[1;36m12.99\u001B[0m            \u001B[1;36m12\u001B[0m       \u001B[1;36m155.88\u001B[0m          \u001B[1;36m9.0\u001B[0m   \n\n  sale_gallons  :@computed_region_3r5t_5243  :@computed_region_wnea_7qqw  \\\n\u001B[1;36m0\u001B[0m         \u001B[1;36m2.37\u001B[0m                        \u001B[1;36m145.0\u001B[0m                         \u001B[1;36m18.0\u001B[0m   \n\u001B[1;36m1\u001B[0m        \u001B[1;36m76.08\u001B[0m                         \u001B[1;36m37.0\u001B[0m                         \u001B[1;36m37.0\u001B[0m   \n\u001B[1;36m2\u001B[0m         \u001B[1;36m2.37\u001B[0m                        \u001B[1;36m903.0\u001B[0m                         \u001B[1;36m11.0\u001B[0m   \n\u001B[1;36m3\u001B[0m         \u001B[1;36m2.77\u001B[0m                        \u001B[1;36m793.0\u001B[0m                         \u001B[1;36m18.0\u001B[0m   \n\u001B[1;36m4\u001B[0m         \u001B[1;36m2.37\u001B[0m                        \u001B[1;36m210.0\u001B[0m                         \u001B[1;36m54.0\u001B[0m   \n\n   :@computed_region_i9mz_6gmt  :@computed_region_uhgg_e8y2  \\\n\u001B[1;36m0\u001B[0m                        \u001B[1;36m240.0\u001B[0m                         \u001B[1;36m35.0\u001B[0m   \n\u001B[1;36m1\u001B[0m                        \u001B[1;36m419.0\u001B[0m                          \u001B[1;36m3.0\u001B[0m   \n\u001B[1;36m2\u001B[0m                        \u001B[1;36m131.0\u001B[0m                         \u001B[1;36m66.0\u001B[0m   \n\u001B[1;36m3\u001B[0m                        \u001B[1;36m264.0\u001B[0m                         \u001B[1;36m45.0\u001B[0m   \n\u001B[1;36m4\u001B[0m                        \u001B[1;36m534.0\u001B[0m                         \u001B[1;36m98.0\u001B[0m   \n\n   :@computed_region_e7ym_nrbf  \n\u001B[1;36m0\u001B[0m                        \u001B[1;36m176.0\u001B[0m  \n\u001B[1;36m1\u001B[0m                       \u001B[1;36m1779.0\u001B[0m  \n\u001B[1;36m2\u001B[0m                       \u001B[1;36m1791.0\u001B[0m  \n\u001B[1;36m3\u001B[0m                        \u001B[1;36m287.0\u001B[0m  \n\u001B[1;36m4\u001B[0m                        \u001B[1;36m175.0\u001B[0m  \n\n\u001B[1m[\u001B[0m\u001B[1;36m5\u001B[0m rows x \u001B[1;36m28\u001B[0m columns\u001B[1m]\u001B[0m",
      "text/html": "<div>\n<style scoped>\n    .dataframe tbody tr th:only-of-type {\n        vertical-align: middle;\n    }\n\n    .dataframe tbody tr th {\n        vertical-align: top;\n    }\n\n    .dataframe thead th {\n        text-align: right;\n    }\n</style>\n<table border=\"1\" class=\"dataframe\">\n  <thead>\n    <tr style=\"text-align: right;\">\n      <th></th>\n      <th>invoice_line_no</th>\n      <th>date</th>\n      <th>store</th>\n      <th>name</th>\n      <th>address</th>\n      <th>city</th>\n      <th>zipcode</th>\n      <th>store_location</th>\n      <th>county</th>\n      <th>category</th>\n      <th>...</th>\n      <th>state_bottle_retail</th>\n      <th>sale_bottles</th>\n      <th>sale_dollars</th>\n      <th>sale_liters</th>\n      <th>sale_gallons</th>\n      <th>:@computed_region_3r5t_5243</th>\n      <th>:@computed_region_wnea_7qqw</th>\n      <th>:@computed_region_i9mz_6gmt</th>\n      <th>:@computed_region_uhgg_e8y2</th>\n      <th>:@computed_region_e7ym_nrbf</th>\n    </tr>\n  </thead>\n  <tbody>\n    <tr>\n      <th>0</th>\n      <td>INV-48770300006</td>\n      <td>2022-06-29T00:00:00.000</td>\n      <td>5900</td>\n      <td>NEW STAR FLETCHER / WATERLOO</td>\n      <td>315 FLETCHER AVE</td>\n      <td>WATERLOO</td>\n      <td>50701.0</td>\n      <td>{'type': 'Point', 'coordinates': [-92.367142, ...</td>\n      <td>BLACK HAWK</td>\n      <td>1031100.0</td>\n      <td>...</td>\n      <td>5.25</td>\n      <td>24</td>\n      <td>126.00</td>\n      <td>9.0</td>\n      <td>2.37</td>\n      <td>145.0</td>\n      <td>18.0</td>\n      <td>240.0</td>\n      <td>35.0</td>\n      <td>176.0</td>\n    </tr>\n    <tr>\n      <th>1</th>\n      <td>INV-48782900001</td>\n      <td>2022-06-29T00:00:00.000</td>\n      <td>3390</td>\n      <td>OKOBOJI AVENUE LIQUOR</td>\n      <td>1610 OKOBOJI AVENUE</td>\n      <td>MILFORD</td>\n      <td>51351.0</td>\n      <td>{'type': 'Point', 'coordinates': [-95.149955, ...</td>\n      <td>DICKINSON</td>\n      <td>1031100.0</td>\n      <td>...</td>\n      <td>5.96</td>\n      <td>288</td>\n      <td>1716.48</td>\n      <td>288.0</td>\n      <td>76.08</td>\n      <td>37.0</td>\n      <td>37.0</td>\n      <td>419.0</td>\n      <td>3.0</td>\n      <td>1779.0</td>\n    </tr>\n    <tr>\n      <th>2</th>\n      <td>INV-48703200006</td>\n      <td>2022-06-27T00:00:00.000</td>\n      <td>4604</td>\n      <td>PIT STOP LIQUORS / NEWTON</td>\n      <td>1324, 1ST AVE E</td>\n      <td>NEWTON</td>\n      <td>50208.0</td>\n      <td>{'type': 'Point', 'coordinates': [-93.035653, ...</td>\n      <td>JASPER</td>\n      <td>1062200.0</td>\n      <td>...</td>\n      <td>7.50</td>\n      <td>24</td>\n      <td>162.00</td>\n      <td>9.0</td>\n      <td>2.37</td>\n      <td>903.0</td>\n      <td>11.0</td>\n      <td>131.0</td>\n      <td>66.0</td>\n      <td>1791.0</td>\n    </tr>\n    <tr>\n      <th>3</th>\n      <td>INV-48692600064</td>\n      <td>2022-06-27T00:00:00.000</td>\n      <td>2552</td>\n      <td>HY-VEE FOOD STORE #3 / CEDAR RAPIDS</td>\n      <td>20 WILSON AVENUE WEST</td>\n      <td>CEDAR RAPIDS</td>\n      <td>52404.0</td>\n      <td>{'type': 'Point', 'coordinates': [-91.658576, ...</td>\n      <td>LINN</td>\n      <td>1011100.0</td>\n      <td>...</td>\n      <td>20.99</td>\n      <td>6</td>\n      <td>116.64</td>\n      <td>10.5</td>\n      <td>2.77</td>\n      <td>793.0</td>\n      <td>18.0</td>\n      <td>264.0</td>\n      <td>45.0</td>\n      <td>287.0</td>\n    </tr>\n    <tr>\n      <th>4</th>\n      <td>INV-48679200008</td>\n      <td>2022-06-24T00:00:00.000</td>\n      <td>2523</td>\n      <td>HY-VEE FOOD STORE / CENTERVILLE</td>\n      <td>609 N 18TH</td>\n      <td>CENTERVILLE</td>\n      <td>52544.0</td>\n      <td>{'type': 'Point', 'coordinates': [-92.867967, ...</td>\n      <td>APPANOOSE</td>\n      <td>1081300.0</td>\n      <td>...</td>\n      <td>12.99</td>\n      <td>12</td>\n      <td>155.88</td>\n      <td>9.0</td>\n      <td>2.37</td>\n      <td>210.0</td>\n      <td>54.0</td>\n      <td>534.0</td>\n      <td>98.0</td>\n      <td>175.0</td>\n    </tr>\n  </tbody>\n</table>\n<p>5 rows × 28 columns</p>\n</div>"
     },
     "execution_count": 109,
     "metadata": {},
     "output_type": "execute_result"
    }
   ],
   "source": [
    "df3.head()"
   ]
  },
  {
   "cell_type": "code",
   "execution_count": 110,
   "id": "66698ea0c9eda2a6",
   "metadata": {
    "collapsed": false,
    "ExecuteTime": {
     "end_time": "2023-12-02T20:58:51.721074934Z",
     "start_time": "2023-12-02T20:58:51.707833189Z"
    }
   },
   "outputs": [
    {
     "name": "stdout",
     "output_type": "stream",
     "text": [
      "invoice_line_no                 object\n",
      "date                            object\n",
      "store                            int64\n",
      "name                            object\n",
      "address                         object\n",
      "city                            object\n",
      "zipcode                         object\n",
      "store_location                  object\n",
      "county                          object\n",
      "category                       float64\n",
      "category_name                   object\n",
      "vendor_no                        int64\n",
      "vendor_name                     object\n",
      "itemno                           int64\n",
      "im_desc                         object\n",
      "pack                             int64\n",
      "bottle_volume_ml                 int64\n",
      "state_bottle_cost              float64\n",
      "state_bottle_retail            float64\n",
      "sale_bottles                     int64\n",
      "sale_dollars                   float64\n",
      "sale_liters                    float64\n",
      "sale_gallons                   float64\n",
      ":@computed_region_3r5t_5243    float64\n",
      ":@computed_region_wnea_7qqw    float64\n",
      ":@computed_region_i9mz_6gmt    float64\n",
      ":@computed_region_uhgg_e8y2    float64\n",
      ":@computed_region_e7ym_nrbf    float64\n",
      "dtype: object\n"
     ]
    }
   ],
   "source": [
    "#Checking datatypes for each column\n",
    "data_types = df3.dtypes\n",
    "print(data_types)"
   ]
  },
  {
   "cell_type": "code",
   "execution_count": 111,
   "id": "d9cf6dccf97495be",
   "metadata": {
    "collapsed": false,
    "ExecuteTime": {
     "end_time": "2023-12-02T20:58:51.896204071Z",
     "start_time": "2023-12-02T20:58:51.755876840Z"
    }
   },
   "outputs": [],
   "source": [
    "# Displaying rows with null values in 'store_location' and 'county'\n",
    "null_store_location = df3[df3['store_location'].isnull()]\n",
    "null_county = df3[df3['county'].isnull()]"
   ]
  },
  {
   "cell_type": "code",
   "execution_count": 112,
   "id": "c87f26666149aeda",
   "metadata": {
    "collapsed": false,
    "ExecuteTime": {
     "end_time": "2023-12-02T20:58:51.903195025Z",
     "start_time": "2023-12-02T20:58:51.834089973Z"
    }
   },
   "outputs": [
    {
     "data": {
      "text/plain": "",
      "text/html": "<pre style=\"white-space:pre;overflow-x:auto;line-height:normal;font-family:Menlo,'DejaVu Sans Mono',consolas,'Courier New',monospace\"></pre>\n"
     },
     "metadata": {},
     "output_type": "display_data"
    },
    {
     "data": {
      "text/plain": "\n    invoice_line_no                     date  store  \\\n\u001B[1;36m40\u001B[0m  INV-\u001B[1;36m48781800012\u001B[0m  \u001B[1;36m2022\u001B[0m-\u001B[1;36m06\u001B[0m-29T\u001B[1;92m00:00:00\u001B[0m.\u001B[1;36m000\u001B[0m   \u001B[1;36m5425\u001B[0m   \n\u001B[1;36m48\u001B[0m  INV-\u001B[1;36m48701800003\u001B[0m  \u001B[1;36m2022\u001B[0m-\u001B[1;36m06\u001B[0m-27T\u001B[1;92m00:00:00\u001B[0m.\u001B[1;36m000\u001B[0m   \u001B[1;36m2625\u001B[0m   \n\u001B[1;36m51\u001B[0m  INV-\u001B[1;36m48740300007\u001B[0m  \u001B[1;36m2022\u001B[0m-\u001B[1;36m06\u001B[0m-28T\u001B[1;92m00:00:00\u001B[0m.\u001B[1;36m000\u001B[0m   \u001B[1;36m5952\u001B[0m   \n\u001B[1;36m55\u001B[0m  INV-\u001B[1;36m48722500017\u001B[0m  \u001B[1;36m2022\u001B[0m-\u001B[1;36m06\u001B[0m-27T\u001B[1;92m00:00:00\u001B[0m.\u001B[1;36m000\u001B[0m   \u001B[1;36m5618\u001B[0m   \n\u001B[1;36m59\u001B[0m  INV-\u001B[1;36m48701800035\u001B[0m  \u001B[1;36m2022\u001B[0m-\u001B[1;36m06\u001B[0m-27T\u001B[1;92m00:00:00\u001B[0m.\u001B[1;36m000\u001B[0m   \u001B[1;36m2625\u001B[0m   \n\n                                    name             address       city  \\\n\u001B[1;36m40\u001B[0m               SPIRITS LIQUOR \u001B[35m/\u001B[0m GRIMES    \u001B[1;36m109\u001B[0m E 1ST STREET     GRIMES   \n\u001B[1;36m48\u001B[0m  HY-VEE WINE & SPIRITS #\u001B[1;36m2\u001B[0m \u001B[35m/\u001B[0m DAVENPORT  \u001B[1;36m3301\u001B[0m W KIMBERLY RD  DAVENPORT   \n\u001B[1;36m51\u001B[0m  TOBACCO OUTLET PLUS #\u001B[1;36m537\u001B[0m \u001B[35m/\u001B[0m IOWA CITY  \u001B[1;36m923\u001B[0m S RIVERSIDE DR  IOWA CITY   \n\u001B[1;36m55\u001B[0m  CASEY'S GENERAL STORE #\u001B[1;36m1446\u001B[0m \u001B[35m/\u001B[0m LISBON  \u001B[1;36m150\u001B[0m E. BUSINESS \u001B[1;36m30\u001B[0m     LISBON   \n\u001B[1;36m59\u001B[0m  HY-VEE WINE & SPIRITS #\u001B[1;36m2\u001B[0m \u001B[35m/\u001B[0m DAVENPORT  \u001B[1;36m3301\u001B[0m W KIMBERLY RD  DAVENPORT   \n\n    zipcode store_location   county   category  \u001B[33m...\u001B[0m state_bottle_retail  \\\n\u001B[1;36m40\u001B[0m  \u001B[1;36m50111.0\u001B[0m            NaN     POLK  \u001B[1;36m1012100.0\u001B[0m  \u001B[33m...\u001B[0m               \u001B[1;36m13.13\u001B[0m   \n\u001B[1;36m48\u001B[0m  \u001B[1;36m52804.0\u001B[0m            NaN    SCOTT  \u001B[1;36m1081200.0\u001B[0m  \u001B[33m...\u001B[0m                \u001B[1;36m6.45\u001B[0m   \n\u001B[1;36m51\u001B[0m  \u001B[1;36m52246.0\u001B[0m            NaN  JOHNSON  \u001B[1;36m1051100.0\u001B[0m  \u001B[33m...\u001B[0m               \u001B[1;36m19.50\u001B[0m   \n\u001B[1;36m55\u001B[0m  \u001B[1;36m52253.0\u001B[0m            NaN     LINN  \u001B[1;36m1011200.0\u001B[0m  \u001B[33m...\u001B[0m                \u001B[1;36m8.40\u001B[0m   \n\u001B[1;36m59\u001B[0m  \u001B[1;36m52804.0\u001B[0m            NaN    SCOTT  \u001B[1;36m1081500.0\u001B[0m  \u001B[33m...\u001B[0m                \u001B[1;36m3.20\u001B[0m   \n\n    sale_bottles sale_dollars  sale_liters sale_gallons  \\\n\u001B[1;36m40\u001B[0m             \u001B[1;36m6\u001B[0m        \u001B[1;36m78.78\u001B[0m         \u001B[1;36m10.5\u001B[0m         \u001B[1;36m2.77\u001B[0m   \n\u001B[1;36m48\u001B[0m             \u001B[1;36m6\u001B[0m        \u001B[1;36m38.70\u001B[0m          \u001B[1;36m0.3\u001B[0m         \u001B[1;36m0.07\u001B[0m   \n\u001B[1;36m51\u001B[0m             \u001B[1;36m6\u001B[0m       \u001B[1;36m117.00\u001B[0m         \u001B[1;36m10.5\u001B[0m         \u001B[1;36m2.77\u001B[0m   \n\u001B[1;36m55\u001B[0m             \u001B[1;36m8\u001B[0m        \u001B[1;36m67.20\u001B[0m          \u001B[1;36m3.0\u001B[0m         \u001B[1;36m0.79\u001B[0m   \n\u001B[1;36m59\u001B[0m            \u001B[1;36m12\u001B[0m        \u001B[1;36m38.40\u001B[0m         \u001B[1;36m12.0\u001B[0m         \u001B[1;36m3.17\u001B[0m   \n\n    :@computed_region_3r5t_5243  :@computed_region_wnea_7qqw  \\\n\u001B[1;36m40\u001B[0m                          NaN                          NaN   \n\u001B[1;36m48\u001B[0m                          NaN                          NaN   \n\u001B[1;36m51\u001B[0m                          NaN                          NaN   \n\u001B[1;36m55\u001B[0m                          NaN                          NaN   \n\u001B[1;36m59\u001B[0m                          NaN                          NaN   \n\n    :@computed_region_i9mz_6gmt  :@computed_region_uhgg_e8y2  \\\n\u001B[1;36m40\u001B[0m                          NaN                          NaN   \n\u001B[1;36m48\u001B[0m                          NaN                          NaN   \n\u001B[1;36m51\u001B[0m                          NaN                          NaN   \n\u001B[1;36m55\u001B[0m                          NaN                          NaN   \n\u001B[1;36m59\u001B[0m                          NaN                          NaN   \n\n    :@computed_region_e7ym_nrbf  \n\u001B[1;36m40\u001B[0m                          NaN  \n\u001B[1;36m48\u001B[0m                          NaN  \n\u001B[1;36m51\u001B[0m                          NaN  \n\u001B[1;36m55\u001B[0m                          NaN  \n\u001B[1;36m59\u001B[0m                          NaN  \n\n\u001B[1m[\u001B[0m\u001B[1;36m5\u001B[0m rows x \u001B[1;36m28\u001B[0m columns\u001B[1m]\u001B[0m",
      "text/html": "<div>\n<style scoped>\n    .dataframe tbody tr th:only-of-type {\n        vertical-align: middle;\n    }\n\n    .dataframe tbody tr th {\n        vertical-align: top;\n    }\n\n    .dataframe thead th {\n        text-align: right;\n    }\n</style>\n<table border=\"1\" class=\"dataframe\">\n  <thead>\n    <tr style=\"text-align: right;\">\n      <th></th>\n      <th>invoice_line_no</th>\n      <th>date</th>\n      <th>store</th>\n      <th>name</th>\n      <th>address</th>\n      <th>city</th>\n      <th>zipcode</th>\n      <th>store_location</th>\n      <th>county</th>\n      <th>category</th>\n      <th>...</th>\n      <th>state_bottle_retail</th>\n      <th>sale_bottles</th>\n      <th>sale_dollars</th>\n      <th>sale_liters</th>\n      <th>sale_gallons</th>\n      <th>:@computed_region_3r5t_5243</th>\n      <th>:@computed_region_wnea_7qqw</th>\n      <th>:@computed_region_i9mz_6gmt</th>\n      <th>:@computed_region_uhgg_e8y2</th>\n      <th>:@computed_region_e7ym_nrbf</th>\n    </tr>\n  </thead>\n  <tbody>\n    <tr>\n      <th>40</th>\n      <td>INV-48781800012</td>\n      <td>2022-06-29T00:00:00.000</td>\n      <td>5425</td>\n      <td>SPIRITS LIQUOR / GRIMES</td>\n      <td>109 E 1ST STREET</td>\n      <td>GRIMES</td>\n      <td>50111.0</td>\n      <td>NaN</td>\n      <td>POLK</td>\n      <td>1012100.0</td>\n      <td>...</td>\n      <td>13.13</td>\n      <td>6</td>\n      <td>78.78</td>\n      <td>10.5</td>\n      <td>2.77</td>\n      <td>NaN</td>\n      <td>NaN</td>\n      <td>NaN</td>\n      <td>NaN</td>\n      <td>NaN</td>\n    </tr>\n    <tr>\n      <th>48</th>\n      <td>INV-48701800003</td>\n      <td>2022-06-27T00:00:00.000</td>\n      <td>2625</td>\n      <td>HY-VEE WINE &amp; SPIRITS #2 / DAVENPORT</td>\n      <td>3301 W KIMBERLY RD</td>\n      <td>DAVENPORT</td>\n      <td>52804.0</td>\n      <td>NaN</td>\n      <td>SCOTT</td>\n      <td>1081200.0</td>\n      <td>...</td>\n      <td>6.45</td>\n      <td>6</td>\n      <td>38.70</td>\n      <td>0.3</td>\n      <td>0.07</td>\n      <td>NaN</td>\n      <td>NaN</td>\n      <td>NaN</td>\n      <td>NaN</td>\n      <td>NaN</td>\n    </tr>\n    <tr>\n      <th>51</th>\n      <td>INV-48740300007</td>\n      <td>2022-06-28T00:00:00.000</td>\n      <td>5952</td>\n      <td>TOBACCO OUTLET PLUS #537 / IOWA CITY</td>\n      <td>923 S RIVERSIDE DR</td>\n      <td>IOWA CITY</td>\n      <td>52246.0</td>\n      <td>NaN</td>\n      <td>JOHNSON</td>\n      <td>1051100.0</td>\n      <td>...</td>\n      <td>19.50</td>\n      <td>6</td>\n      <td>117.00</td>\n      <td>10.5</td>\n      <td>2.77</td>\n      <td>NaN</td>\n      <td>NaN</td>\n      <td>NaN</td>\n      <td>NaN</td>\n      <td>NaN</td>\n    </tr>\n    <tr>\n      <th>55</th>\n      <td>INV-48722500017</td>\n      <td>2022-06-27T00:00:00.000</td>\n      <td>5618</td>\n      <td>CASEY'S GENERAL STORE #1446 / LISBON</td>\n      <td>150 E. BUSINESS 30</td>\n      <td>LISBON</td>\n      <td>52253.0</td>\n      <td>NaN</td>\n      <td>LINN</td>\n      <td>1011200.0</td>\n      <td>...</td>\n      <td>8.40</td>\n      <td>8</td>\n      <td>67.20</td>\n      <td>3.0</td>\n      <td>0.79</td>\n      <td>NaN</td>\n      <td>NaN</td>\n      <td>NaN</td>\n      <td>NaN</td>\n      <td>NaN</td>\n    </tr>\n    <tr>\n      <th>59</th>\n      <td>INV-48701800035</td>\n      <td>2022-06-27T00:00:00.000</td>\n      <td>2625</td>\n      <td>HY-VEE WINE &amp; SPIRITS #2 / DAVENPORT</td>\n      <td>3301 W KIMBERLY RD</td>\n      <td>DAVENPORT</td>\n      <td>52804.0</td>\n      <td>NaN</td>\n      <td>SCOTT</td>\n      <td>1081500.0</td>\n      <td>...</td>\n      <td>3.20</td>\n      <td>12</td>\n      <td>38.40</td>\n      <td>12.0</td>\n      <td>3.17</td>\n      <td>NaN</td>\n      <td>NaN</td>\n      <td>NaN</td>\n      <td>NaN</td>\n      <td>NaN</td>\n    </tr>\n  </tbody>\n</table>\n<p>5 rows × 28 columns</p>\n</div>"
     },
     "execution_count": 112,
     "metadata": {},
     "output_type": "execute_result"
    }
   ],
   "source": [
    "# Displaying the first few rows of these subsets\n",
    "null_store_location.head()"
   ]
  },
  {
   "cell_type": "code",
   "execution_count": 113,
   "id": "d5b2cb9288025968",
   "metadata": {
    "collapsed": false,
    "ExecuteTime": {
     "end_time": "2023-12-02T20:58:51.968287511Z",
     "start_time": "2023-12-02T20:58:51.923793966Z"
    }
   },
   "outputs": [
    {
     "data": {
      "text/plain": "",
      "text/html": "<pre style=\"white-space:pre;overflow-x:auto;line-height:normal;font-family:Menlo,'DejaVu Sans Mono',consolas,'Courier New',monospace\"></pre>\n"
     },
     "metadata": {},
     "output_type": "display_data"
    },
    {
     "data": {
      "text/plain": "\n       invoice_line_no                     date  store  \\\n\u001B[1;36m169880\u001B[0m    S33578500029  \u001B[1;36m2016\u001B[0m-\u001B[1;36m07\u001B[0m-26T\u001B[1;92m00:00:00\u001B[0m.\u001B[1;36m000\u001B[0m   \u001B[1;36m2285\u001B[0m   \n\u001B[1;36m182587\u001B[0m    S33648700071  \u001B[1;36m2016\u001B[0m-\u001B[1;36m07\u001B[0m-29T\u001B[1;92m00:00:00\u001B[0m.\u001B[1;36m000\u001B[0m   \u001B[1;36m2460\u001B[0m   \n\u001B[1;36m185761\u001B[0m    S33632400017  \u001B[1;36m2016\u001B[0m-\u001B[1;36m07\u001B[0m-28T\u001B[1;92m00:00:00\u001B[0m.\u001B[1;36m000\u001B[0m   \u001B[1;36m5251\u001B[0m   \n\u001B[1;36m207154\u001B[0m    S33291800028  \u001B[1;36m2016\u001B[0m-\u001B[1;36m07\u001B[0m-11T\u001B[1;92m00:00:00\u001B[0m.\u001B[1;36m000\u001B[0m   \u001B[1;36m5226\u001B[0m   \n\u001B[1;36m380913\u001B[0m    S32341900018  \u001B[1;36m2016\u001B[0m-\u001B[1;36m05\u001B[0m-16T\u001B[1;92m00:00:00\u001B[0m.\u001B[1;36m000\u001B[0m   \u001B[1;36m2650\u001B[0m   \n\n                                    name                  address        city  \\\n\u001B[1;36m169880\u001B[0m                    JOHN'S GROCERY       \u001B[1;36m401\u001B[0m EAST MARKET ST   IOWA CITY   \n\u001B[1;36m182587\u001B[0m                 LIQUOR BARN, INC.  \u001B[1;36m721\u001B[0m CENTRAL AVENUE WEST     HAMPTON   \n\u001B[1;36m185761\u001B[0m                  NORTHSIDE LIQUOR      \u001B[1;36m1303\u001B[0m, NORTH FEDERAL  MASON CITY   \n\u001B[1;36m207154\u001B[0m                       KC BROTHERS            \u001B[1;36m214\u001B[0m MYRTLE ST   DAVENPORT   \n\u001B[1;36m380913\u001B[0m  HY-VEE WINE AND SPIRITS \u001B[35m/\u001B[0m HARLAN             \u001B[1;36m1808\u001B[0m 23RD ST      HARLAN   \n\n        zipcode                                     store_location county  \\\n\u001B[1;36m169880\u001B[0m    \u001B[1;36m52240\u001B[0m  \u001B[1m{\u001B[0m\u001B[32m'type'\u001B[0m: \u001B[32m'Point'\u001B[0m, \u001B[32m'coordinates'\u001B[0m: \u001B[1m[\u001B[0m\u001B[1;36m-91.529854\u001B[0m, \u001B[33m...\u001B[0m    NaN   \n\u001B[1;36m182587\u001B[0m    \u001B[1;36m50441\u001B[0m  \u001B[1m{\u001B[0m\u001B[32m'type'\u001B[0m: \u001B[32m'Point'\u001B[0m, \u001B[32m'coordinates'\u001B[0m: \u001B[1m[\u001B[0m\u001B[1;36m-93.21693\u001B[0m, \u001B[1;36m4\u001B[0m\u001B[33m...\u001B[0m    NaN   \n\u001B[1;36m185761\u001B[0m    \u001B[1;36m50401\u001B[0m  \u001B[1m{\u001B[0m\u001B[32m'type'\u001B[0m: \u001B[32m'Point'\u001B[0m, \u001B[32m'coordinates'\u001B[0m: \u001B[1m[\u001B[0m\u001B[1;36m-93.201061\u001B[0m, \u001B[33m...\u001B[0m    NaN   \n\u001B[1;36m207154\u001B[0m  \u001B[1;36m52802.0\u001B[0m  \u001B[1m{\u001B[0m\u001B[32m'type'\u001B[0m: \u001B[32m'Point'\u001B[0m, \u001B[32m'coordinates'\u001B[0m: \u001B[1m[\u001B[0m\u001B[1;36m-90.589149\u001B[0m, \u001B[33m...\u001B[0m    NaN   \n\u001B[1;36m380913\u001B[0m  \u001B[1;36m51537.0\u001B[0m  \u001B[1m{\u001B[0m\u001B[32m'type'\u001B[0m: \u001B[32m'Point'\u001B[0m, \u001B[32m'coordinates'\u001B[0m: \u001B[1m[\u001B[0m\u001B[1;36m-95.339881\u001B[0m, \u001B[33m...\u001B[0m    NaN   \n\n         category  \u001B[33m...\u001B[0m state_bottle_retail  sale_bottles sale_dollars  \\\n\u001B[1;36m169880\u001B[0m  \u001B[1;36m1012300.0\u001B[0m  \u001B[33m...\u001B[0m               \u001B[1;36m22.50\u001B[0m            \u001B[1;36m12\u001B[0m       \u001B[1;36m270.00\u001B[0m   \n\u001B[1;36m182587\u001B[0m  \u001B[1;36m1081900.0\u001B[0m  \u001B[33m...\u001B[0m                \u001B[1;36m7.88\u001B[0m             \u001B[1;36m3\u001B[0m        \u001B[1;36m23.64\u001B[0m   \n\u001B[1;36m185761\u001B[0m  \u001B[1;36m1081600.0\u001B[0m  \u001B[33m...\u001B[0m                \u001B[1;36m8.06\u001B[0m            \u001B[1;36m12\u001B[0m        \u001B[1;36m96.72\u001B[0m   \n\u001B[1;36m207154\u001B[0m  \u001B[1;36m1011200.0\u001B[0m  \u001B[33m...\u001B[0m                \u001B[1;36m8.10\u001B[0m             \u001B[1;36m1\u001B[0m         \u001B[1;36m8.10\u001B[0m   \n\u001B[1;36m380913\u001B[0m  \u001B[1;36m1011300.0\u001B[0m  \u001B[33m...\u001B[0m               \u001B[1;36m46.02\u001B[0m             \u001B[1;36m6\u001B[0m       \u001B[1;36m276.12\u001B[0m   \n\n        sale_liters sale_gallons  :@computed_region_3r5t_5243  \\\n\u001B[1;36m169880\u001B[0m         \u001B[1;36m9.00\u001B[0m         \u001B[1;36m2.38\u001B[0m                        \u001B[1;36m526.0\u001B[0m   \n\u001B[1;36m182587\u001B[0m         \u001B[1;36m2.25\u001B[0m         \u001B[1;36m0.59\u001B[0m                        \u001B[1;36m775.0\u001B[0m   \n\u001B[1;36m185761\u001B[0m         \u001B[1;36m9.00\u001B[0m         \u001B[1;36m2.38\u001B[0m                        \u001B[1;36m647.0\u001B[0m   \n\u001B[1;36m207154\u001B[0m         \u001B[1;36m0.50\u001B[0m         \u001B[1;36m0.13\u001B[0m                        \u001B[1;36m185.0\u001B[0m   \n\u001B[1;36m380913\u001B[0m        \u001B[1;36m10.50\u001B[0m         \u001B[1;36m2.77\u001B[0m                        \u001B[1;36m229.0\u001B[0m   \n\n        :@computed_region_wnea_7qqw  :@computed_region_i9mz_6gmt  \\\n\u001B[1;36m169880\u001B[0m                         \u001B[1;36m22.0\u001B[0m                        \u001B[1;36m292.0\u001B[0m   \n\u001B[1;36m182587\u001B[0m                         \u001B[1;36m17.0\u001B[0m                        \u001B[1;36m225.0\u001B[0m   \n\u001B[1;36m185761\u001B[0m                         \u001B[1;36m16.0\u001B[0m                        \u001B[1;36m217.0\u001B[0m   \n\u001B[1;36m207154\u001B[0m                         \u001B[1;36m56.0\u001B[0m                         \u001B[1;36m84.0\u001B[0m   \n\u001B[1;36m380913\u001B[0m                         \u001B[1;36m43.0\u001B[0m                        \u001B[1;36m254.0\u001B[0m   \n\n        :@computed_region_uhgg_e8y2  :@computed_region_e7ym_nrbf  \n\u001B[1;36m169880\u001B[0m                         \u001B[1;36m61.0\u001B[0m                       \u001B[1;36m1792.0\u001B[0m  \n\u001B[1;36m182587\u001B[0m                         \u001B[1;36m29.0\u001B[0m                        \u001B[1;36m279.0\u001B[0m  \n\u001B[1;36m185761\u001B[0m                         \u001B[1;36m17.0\u001B[0m                       \u001B[1;36m1373.0\u001B[0m  \n\u001B[1;36m207154\u001B[0m                         \u001B[1;36m67.0\u001B[0m                       \u001B[1;36m1881.0\u001B[0m  \n\u001B[1;36m380913\u001B[0m                         \u001B[1;36m58.0\u001B[0m                        \u001B[1;36m298.0\u001B[0m  \n\n\u001B[1m[\u001B[0m\u001B[1;36m5\u001B[0m rows x \u001B[1;36m28\u001B[0m columns\u001B[1m]\u001B[0m",
      "text/html": "<div>\n<style scoped>\n    .dataframe tbody tr th:only-of-type {\n        vertical-align: middle;\n    }\n\n    .dataframe tbody tr th {\n        vertical-align: top;\n    }\n\n    .dataframe thead th {\n        text-align: right;\n    }\n</style>\n<table border=\"1\" class=\"dataframe\">\n  <thead>\n    <tr style=\"text-align: right;\">\n      <th></th>\n      <th>invoice_line_no</th>\n      <th>date</th>\n      <th>store</th>\n      <th>name</th>\n      <th>address</th>\n      <th>city</th>\n      <th>zipcode</th>\n      <th>store_location</th>\n      <th>county</th>\n      <th>category</th>\n      <th>...</th>\n      <th>state_bottle_retail</th>\n      <th>sale_bottles</th>\n      <th>sale_dollars</th>\n      <th>sale_liters</th>\n      <th>sale_gallons</th>\n      <th>:@computed_region_3r5t_5243</th>\n      <th>:@computed_region_wnea_7qqw</th>\n      <th>:@computed_region_i9mz_6gmt</th>\n      <th>:@computed_region_uhgg_e8y2</th>\n      <th>:@computed_region_e7ym_nrbf</th>\n    </tr>\n  </thead>\n  <tbody>\n    <tr>\n      <th>169880</th>\n      <td>S33578500029</td>\n      <td>2016-07-26T00:00:00.000</td>\n      <td>2285</td>\n      <td>JOHN'S GROCERY</td>\n      <td>401 EAST MARKET ST</td>\n      <td>IOWA CITY</td>\n      <td>52240</td>\n      <td>{'type': 'Point', 'coordinates': [-91.529854, ...</td>\n      <td>NaN</td>\n      <td>1012300.0</td>\n      <td>...</td>\n      <td>22.50</td>\n      <td>12</td>\n      <td>270.00</td>\n      <td>9.00</td>\n      <td>2.38</td>\n      <td>526.0</td>\n      <td>22.0</td>\n      <td>292.0</td>\n      <td>61.0</td>\n      <td>1792.0</td>\n    </tr>\n    <tr>\n      <th>182587</th>\n      <td>S33648700071</td>\n      <td>2016-07-29T00:00:00.000</td>\n      <td>2460</td>\n      <td>LIQUOR BARN, INC.</td>\n      <td>721 CENTRAL AVENUE WEST</td>\n      <td>HAMPTON</td>\n      <td>50441</td>\n      <td>{'type': 'Point', 'coordinates': [-93.21693, 4...</td>\n      <td>NaN</td>\n      <td>1081900.0</td>\n      <td>...</td>\n      <td>7.88</td>\n      <td>3</td>\n      <td>23.64</td>\n      <td>2.25</td>\n      <td>0.59</td>\n      <td>775.0</td>\n      <td>17.0</td>\n      <td>225.0</td>\n      <td>29.0</td>\n      <td>279.0</td>\n    </tr>\n    <tr>\n      <th>185761</th>\n      <td>S33632400017</td>\n      <td>2016-07-28T00:00:00.000</td>\n      <td>5251</td>\n      <td>NORTHSIDE LIQUOR</td>\n      <td>1303, NORTH FEDERAL</td>\n      <td>MASON CITY</td>\n      <td>50401</td>\n      <td>{'type': 'Point', 'coordinates': [-93.201061, ...</td>\n      <td>NaN</td>\n      <td>1081600.0</td>\n      <td>...</td>\n      <td>8.06</td>\n      <td>12</td>\n      <td>96.72</td>\n      <td>9.00</td>\n      <td>2.38</td>\n      <td>647.0</td>\n      <td>16.0</td>\n      <td>217.0</td>\n      <td>17.0</td>\n      <td>1373.0</td>\n    </tr>\n    <tr>\n      <th>207154</th>\n      <td>S33291800028</td>\n      <td>2016-07-11T00:00:00.000</td>\n      <td>5226</td>\n      <td>KC BROTHERS</td>\n      <td>214 MYRTLE ST</td>\n      <td>DAVENPORT</td>\n      <td>52802.0</td>\n      <td>{'type': 'Point', 'coordinates': [-90.589149, ...</td>\n      <td>NaN</td>\n      <td>1011200.0</td>\n      <td>...</td>\n      <td>8.10</td>\n      <td>1</td>\n      <td>8.10</td>\n      <td>0.50</td>\n      <td>0.13</td>\n      <td>185.0</td>\n      <td>56.0</td>\n      <td>84.0</td>\n      <td>67.0</td>\n      <td>1881.0</td>\n    </tr>\n    <tr>\n      <th>380913</th>\n      <td>S32341900018</td>\n      <td>2016-05-16T00:00:00.000</td>\n      <td>2650</td>\n      <td>HY-VEE WINE AND SPIRITS / HARLAN</td>\n      <td>1808 23RD ST</td>\n      <td>HARLAN</td>\n      <td>51537.0</td>\n      <td>{'type': 'Point', 'coordinates': [-95.339881, ...</td>\n      <td>NaN</td>\n      <td>1011300.0</td>\n      <td>...</td>\n      <td>46.02</td>\n      <td>6</td>\n      <td>276.12</td>\n      <td>10.50</td>\n      <td>2.77</td>\n      <td>229.0</td>\n      <td>43.0</td>\n      <td>254.0</td>\n      <td>58.0</td>\n      <td>298.0</td>\n    </tr>\n  </tbody>\n</table>\n<p>5 rows × 28 columns</p>\n</div>"
     },
     "execution_count": 113,
     "metadata": {},
     "output_type": "execute_result"
    }
   ],
   "source": [
    "null_county.head()"
   ]
  },
  {
   "cell_type": "code",
   "execution_count": 114,
   "outputs": [
    {
     "data": {
      "text/plain": "",
      "text/html": "<pre style=\"white-space:pre;overflow-x:auto;line-height:normal;font-family:Menlo,'DejaVu Sans Mono',consolas,'Courier New',monospace\"></pre>\n"
     },
     "metadata": {},
     "output_type": "display_data"
    },
    {
     "data": {
      "text/plain": "\u001B[1;36m25390\u001B[0m"
     },
     "execution_count": 114,
     "metadata": {},
     "output_type": "execute_result"
    }
   ],
   "source": [
    "df3['county'].isnull().sum()"
   ],
   "metadata": {
    "collapsed": false,
    "ExecuteTime": {
     "end_time": "2023-12-02T20:58:52.034624832Z",
     "start_time": "2023-12-02T20:58:51.971777243Z"
    }
   },
   "id": "ea6ab7c7bb56bd24"
  },
  {
   "cell_type": "code",
   "execution_count": 115,
   "id": "4d86ad677f8d4e53",
   "metadata": {
    "collapsed": false,
    "ExecuteTime": {
     "end_time": "2023-12-02T20:59:01.660017300Z",
     "start_time": "2023-12-02T20:58:51.972120219Z"
    }
   },
   "outputs": [
    {
     "data": {
      "text/plain": "\u001B[2;36m[12/02/23 21:59:01]\u001B[0m\u001B[2;36m \u001B[0m\u001B[31mWARNING \u001B[0m \u001B[35m/tmp/ipykernel_274408/\u001B[0m\u001B[95m359824720.py\u001B[0m:\u001B[1;36m5\u001B[0m: SettingWithCopyWarning:          \u001B]8;id=90887;file:///usr/lib/python3.10/warnings.py\u001B\\\u001B[2mwarnings.py\u001B[0m\u001B]8;;\u001B\\\u001B[2m:\u001B[0m\u001B]8;id=322259;file:///usr/lib/python3.10/warnings.py#109\u001B\\\u001B[2m109\u001B[0m\u001B]8;;\u001B\\\n\u001B[2;36m                    \u001B[0m         A value is trying to be set on a copy of a slice from a DataFrame.     \u001B[2m               \u001B[0m\n\u001B[2;36m                    \u001B[0m         Try using .loc\u001B[1m[\u001B[0mrow_indexer,col_indexer\u001B[1m]\u001B[0m = value instead                \u001B[2m               \u001B[0m\n\u001B[2;36m                    \u001B[0m                                                                                \u001B[2m               \u001B[0m\n\u001B[2;36m                    \u001B[0m         See the caveats in the documentation:                                  \u001B[2m               \u001B[0m\n\u001B[2;36m                    \u001B[0m         \u001B[4;94mhttps://pandas.pydata.org/pandas-docs/stable/user_guide/indexing.html#\u001B[0m \u001B[2m               \u001B[0m\n\u001B[2;36m                    \u001B[0m         \u001B[4;94mreturning-a-view-versus-a-copy\u001B[0m                                         \u001B[2m               \u001B[0m\n\u001B[2;36m                    \u001B[0m           df3\u001B[1m[\u001B[0m\u001B[32m'county'\u001B[0m\u001B[1m]\u001B[0m = \u001B[1;35mdf3.apply\u001B[0m\u001B[1m(\u001B[0mlambda row:                                \u001B[2m               \u001B[0m\n\u001B[2;36m                    \u001B[0m         \u001B[1;35mzipcode_to_county.get\u001B[0m\u001B[1m(\u001B[0mrow\u001B[1m[\u001B[0m\u001B[32m'zipcode'\u001B[0m\u001B[1m]\u001B[0m, row\u001B[1m[\u001B[0m\u001B[32m'county'\u001B[0m\u001B[1m]\u001B[0m\u001B[1m)\u001B[0m if                \u001B[2m               \u001B[0m\n\u001B[2;36m                    \u001B[0m         \u001B[1;35mpd.isnull\u001B[0m\u001B[1m(\u001B[0mrow\u001B[1m[\u001B[0m\u001B[32m'county'\u001B[0m\u001B[1m]\u001B[0m\u001B[1m)\u001B[0m else row\u001B[1m[\u001B[0m\u001B[32m'county'\u001B[0m\u001B[1m]\u001B[0m, \u001B[33maxis\u001B[0m=\u001B[1;36m1\u001B[0m\u001B[1m)\u001B[0m                   \u001B[2m               \u001B[0m\n\u001B[2;36m                    \u001B[0m                                                                                \u001B[2m               \u001B[0m\n",
      "text/html": "<pre style=\"white-space:pre;overflow-x:auto;line-height:normal;font-family:Menlo,'DejaVu Sans Mono',consolas,'Courier New',monospace\"><span style=\"color: #7fbfbf; text-decoration-color: #7fbfbf\">[12/02/23 21:59:01] </span><span style=\"color: #800000; text-decoration-color: #800000\">WARNING </span> <span style=\"color: #800080; text-decoration-color: #800080\">/tmp/ipykernel_274408/</span><span style=\"color: #ff00ff; text-decoration-color: #ff00ff\">359824720.py</span>:<span style=\"color: #008080; text-decoration-color: #008080; font-weight: bold\">5</span>: SettingWithCopyWarning:          <a href=\"file:///usr/lib/python3.10/warnings.py\" target=\"_blank\"><span style=\"color: #7f7f7f; text-decoration-color: #7f7f7f\">warnings.py</span></a><span style=\"color: #7f7f7f; text-decoration-color: #7f7f7f\">:</span><a href=\"file:///usr/lib/python3.10/warnings.py#109\" target=\"_blank\"><span style=\"color: #7f7f7f; text-decoration-color: #7f7f7f\">109</span></a>\n<span style=\"color: #7fbfbf; text-decoration-color: #7fbfbf\">                    </span>         A value is trying to be set on a copy of a slice from a DataFrame.     <span style=\"color: #7f7f7f; text-decoration-color: #7f7f7f\">               </span>\n<span style=\"color: #7fbfbf; text-decoration-color: #7fbfbf\">                    </span>         Try using .loc<span style=\"font-weight: bold\">[</span>row_indexer,col_indexer<span style=\"font-weight: bold\">]</span> = value instead                <span style=\"color: #7f7f7f; text-decoration-color: #7f7f7f\">               </span>\n<span style=\"color: #7fbfbf; text-decoration-color: #7fbfbf\">                    </span>                                                                                <span style=\"color: #7f7f7f; text-decoration-color: #7f7f7f\">               </span>\n<span style=\"color: #7fbfbf; text-decoration-color: #7fbfbf\">                    </span>         See the caveats in the documentation:                                  <span style=\"color: #7f7f7f; text-decoration-color: #7f7f7f\">               </span>\n<span style=\"color: #7fbfbf; text-decoration-color: #7fbfbf\">                    </span>         <span style=\"color: #0000ff; text-decoration-color: #0000ff; text-decoration: underline\">https://pandas.pydata.org/pandas-docs/stable/user_guide/indexing.html#</span> <span style=\"color: #7f7f7f; text-decoration-color: #7f7f7f\">               </span>\n<span style=\"color: #7fbfbf; text-decoration-color: #7fbfbf\">                    </span>         <span style=\"color: #0000ff; text-decoration-color: #0000ff; text-decoration: underline\">returning-a-view-versus-a-copy</span>                                         <span style=\"color: #7f7f7f; text-decoration-color: #7f7f7f\">               </span>\n<span style=\"color: #7fbfbf; text-decoration-color: #7fbfbf\">                    </span>           df3<span style=\"font-weight: bold\">[</span><span style=\"color: #008000; text-decoration-color: #008000\">'county'</span><span style=\"font-weight: bold\">]</span> = <span style=\"color: #800080; text-decoration-color: #800080; font-weight: bold\">df3.apply</span><span style=\"font-weight: bold\">(</span>lambda row:                                <span style=\"color: #7f7f7f; text-decoration-color: #7f7f7f\">               </span>\n<span style=\"color: #7fbfbf; text-decoration-color: #7fbfbf\">                    </span>         <span style=\"color: #800080; text-decoration-color: #800080; font-weight: bold\">zipcode_to_county.get</span><span style=\"font-weight: bold\">(</span>row<span style=\"font-weight: bold\">[</span><span style=\"color: #008000; text-decoration-color: #008000\">'zipcode'</span><span style=\"font-weight: bold\">]</span>, row<span style=\"font-weight: bold\">[</span><span style=\"color: #008000; text-decoration-color: #008000\">'county'</span><span style=\"font-weight: bold\">])</span> if                <span style=\"color: #7f7f7f; text-decoration-color: #7f7f7f\">               </span>\n<span style=\"color: #7fbfbf; text-decoration-color: #7fbfbf\">                    </span>         <span style=\"color: #800080; text-decoration-color: #800080; font-weight: bold\">pd.isnull</span><span style=\"font-weight: bold\">(</span>row<span style=\"font-weight: bold\">[</span><span style=\"color: #008000; text-decoration-color: #008000\">'county'</span><span style=\"font-weight: bold\">])</span> else row<span style=\"font-weight: bold\">[</span><span style=\"color: #008000; text-decoration-color: #008000\">'county'</span><span style=\"font-weight: bold\">]</span>, <span style=\"color: #808000; text-decoration-color: #808000\">axis</span>=<span style=\"color: #008080; text-decoration-color: #008080; font-weight: bold\">1</span><span style=\"font-weight: bold\">)</span>                   <span style=\"color: #7f7f7f; text-decoration-color: #7f7f7f\">               </span>\n<span style=\"color: #7fbfbf; text-decoration-color: #7fbfbf\">                    </span>                                                                                <span style=\"color: #7f7f7f; text-decoration-color: #7f7f7f\">               </span>\n</pre>\n"
     },
     "metadata": {},
     "output_type": "display_data"
    },
    {
     "data": {
      "text/plain": "",
      "text/html": "<pre style=\"white-space:pre;overflow-x:auto;line-height:normal;font-family:Menlo,'DejaVu Sans Mono',consolas,'Courier New',monospace\"></pre>\n"
     },
     "metadata": {},
     "output_type": "display_data"
    },
    {
     "data": {
      "text/plain": "\u001B[1;36m241\u001B[0m"
     },
     "execution_count": 115,
     "metadata": {},
     "output_type": "execute_result"
    }
   ],
   "source": [
    "# Creating a mapping from zipcode to the most common county for that zipcode\n",
    "zipcode_to_county = df3.dropna(subset=['county']).groupby('zipcode')['county'].agg(lambda x: x.value_counts().index[0]).to_dict()\n",
    "\n",
    "# Applying this mapping to fill missing values in the 'county' column\n",
    "df3['county'] = df3.apply(lambda row: zipcode_to_county.get(row['zipcode'], row['county']) if pd.isnull(row['county']) else row['county'], axis=1)\n",
    "\n",
    "# Checking if the missing values in 'county' have been filled\n",
    "missing_county_after_filling = df3['county'].isnull().sum()\n",
    "missing_county_after_filling\n"
   ]
  },
  {
   "cell_type": "code",
   "execution_count": 116,
   "id": "a0c5c9699b4de198",
   "metadata": {
    "collapsed": false,
    "ExecuteTime": {
     "end_time": "2023-12-02T20:59:01.870208253Z",
     "start_time": "2023-12-02T20:59:01.695388679Z"
    }
   },
   "outputs": [],
   "source": [
    "df4 = df3.dropna(subset=['county'])"
   ]
  },
  {
   "cell_type": "code",
   "execution_count": 117,
   "id": "e85f094eb8d782a6",
   "metadata": {
    "collapsed": false,
    "ExecuteTime": {
     "end_time": "2023-12-02T20:59:01.883635178Z",
     "start_time": "2023-12-02T20:59:01.873494812Z"
    }
   },
   "outputs": [],
   "source": [
    "#Fullfilling missing values from store_location based on store_id ['store']"
   ]
  },
  {
   "cell_type": "code",
   "execution_count": 118,
   "id": "73383d59ee0ec12",
   "metadata": {
    "collapsed": false,
    "ExecuteTime": {
     "end_time": "2023-12-02T20:59:11.373029973Z",
     "start_time": "2023-12-02T20:59:01.882597484Z"
    }
   },
   "outputs": [
    {
     "data": {
      "text/plain": "\u001B[2;36m[12/02/23 21:59:11]\u001B[0m\u001B[2;36m \u001B[0m\u001B[31mWARNING \u001B[0m \u001B[35m/tmp/ipykernel_274408/\u001B[0m\u001B[95m4278930616.py\u001B[0m:\u001B[1;36m5\u001B[0m: SettingWithCopyWarning:         \u001B]8;id=114447;file:///usr/lib/python3.10/warnings.py\u001B\\\u001B[2mwarnings.py\u001B[0m\u001B]8;;\u001B\\\u001B[2m:\u001B[0m\u001B]8;id=147034;file:///usr/lib/python3.10/warnings.py#109\u001B\\\u001B[2m109\u001B[0m\u001B]8;;\u001B\\\n\u001B[2;36m                    \u001B[0m         A value is trying to be set on a copy of a slice from a DataFrame.     \u001B[2m               \u001B[0m\n\u001B[2;36m                    \u001B[0m         Try using .loc\u001B[1m[\u001B[0mrow_indexer,col_indexer\u001B[1m]\u001B[0m = value instead                \u001B[2m               \u001B[0m\n\u001B[2;36m                    \u001B[0m                                                                                \u001B[2m               \u001B[0m\n\u001B[2;36m                    \u001B[0m         See the caveats in the documentation:                                  \u001B[2m               \u001B[0m\n\u001B[2;36m                    \u001B[0m         \u001B[4;94mhttps://pandas.pydata.org/pandas-docs/stable/user_guide/indexing.html#\u001B[0m \u001B[2m               \u001B[0m\n\u001B[2;36m                    \u001B[0m         \u001B[4;94mreturning-a-view-versus-a-copy\u001B[0m                                         \u001B[2m               \u001B[0m\n\u001B[2;36m                    \u001B[0m           df4\u001B[1m[\u001B[0m\u001B[32m'store_location'\u001B[0m\u001B[1m]\u001B[0m = \u001B[1;35mdf4.apply\u001B[0m\u001B[1m(\u001B[0mlambda row:                        \u001B[2m               \u001B[0m\n\u001B[2;36m                    \u001B[0m         \u001B[1;35mstore_to_location.get\u001B[0m\u001B[1m(\u001B[0mrow\u001B[1m[\u001B[0m\u001B[32m'store'\u001B[0m\u001B[1m]\u001B[0m, row\u001B[1m[\u001B[0m\u001B[32m'store_location'\u001B[0m\u001B[1m]\u001B[0m\u001B[1m)\u001B[0m if          \u001B[2m               \u001B[0m\n\u001B[2;36m                    \u001B[0m         \u001B[1;35mpd.isnull\u001B[0m\u001B[1m(\u001B[0mrow\u001B[1m[\u001B[0m\u001B[32m'store_location'\u001B[0m\u001B[1m]\u001B[0m\u001B[1m)\u001B[0m else row\u001B[1m[\u001B[0m\u001B[32m'store_location'\u001B[0m\u001B[1m]\u001B[0m, \u001B[33maxis\u001B[0m=\u001B[1;36m1\u001B[0m\u001B[1m)\u001B[0m   \u001B[2m               \u001B[0m\n\u001B[2;36m                    \u001B[0m                                                                                \u001B[2m               \u001B[0m\n",
      "text/html": "<pre style=\"white-space:pre;overflow-x:auto;line-height:normal;font-family:Menlo,'DejaVu Sans Mono',consolas,'Courier New',monospace\"><span style=\"color: #7fbfbf; text-decoration-color: #7fbfbf\">[12/02/23 21:59:11] </span><span style=\"color: #800000; text-decoration-color: #800000\">WARNING </span> <span style=\"color: #800080; text-decoration-color: #800080\">/tmp/ipykernel_274408/</span><span style=\"color: #ff00ff; text-decoration-color: #ff00ff\">4278930616.py</span>:<span style=\"color: #008080; text-decoration-color: #008080; font-weight: bold\">5</span>: SettingWithCopyWarning:         <a href=\"file:///usr/lib/python3.10/warnings.py\" target=\"_blank\"><span style=\"color: #7f7f7f; text-decoration-color: #7f7f7f\">warnings.py</span></a><span style=\"color: #7f7f7f; text-decoration-color: #7f7f7f\">:</span><a href=\"file:///usr/lib/python3.10/warnings.py#109\" target=\"_blank\"><span style=\"color: #7f7f7f; text-decoration-color: #7f7f7f\">109</span></a>\n<span style=\"color: #7fbfbf; text-decoration-color: #7fbfbf\">                    </span>         A value is trying to be set on a copy of a slice from a DataFrame.     <span style=\"color: #7f7f7f; text-decoration-color: #7f7f7f\">               </span>\n<span style=\"color: #7fbfbf; text-decoration-color: #7fbfbf\">                    </span>         Try using .loc<span style=\"font-weight: bold\">[</span>row_indexer,col_indexer<span style=\"font-weight: bold\">]</span> = value instead                <span style=\"color: #7f7f7f; text-decoration-color: #7f7f7f\">               </span>\n<span style=\"color: #7fbfbf; text-decoration-color: #7fbfbf\">                    </span>                                                                                <span style=\"color: #7f7f7f; text-decoration-color: #7f7f7f\">               </span>\n<span style=\"color: #7fbfbf; text-decoration-color: #7fbfbf\">                    </span>         See the caveats in the documentation:                                  <span style=\"color: #7f7f7f; text-decoration-color: #7f7f7f\">               </span>\n<span style=\"color: #7fbfbf; text-decoration-color: #7fbfbf\">                    </span>         <span style=\"color: #0000ff; text-decoration-color: #0000ff; text-decoration: underline\">https://pandas.pydata.org/pandas-docs/stable/user_guide/indexing.html#</span> <span style=\"color: #7f7f7f; text-decoration-color: #7f7f7f\">               </span>\n<span style=\"color: #7fbfbf; text-decoration-color: #7fbfbf\">                    </span>         <span style=\"color: #0000ff; text-decoration-color: #0000ff; text-decoration: underline\">returning-a-view-versus-a-copy</span>                                         <span style=\"color: #7f7f7f; text-decoration-color: #7f7f7f\">               </span>\n<span style=\"color: #7fbfbf; text-decoration-color: #7fbfbf\">                    </span>           df4<span style=\"font-weight: bold\">[</span><span style=\"color: #008000; text-decoration-color: #008000\">'store_location'</span><span style=\"font-weight: bold\">]</span> = <span style=\"color: #800080; text-decoration-color: #800080; font-weight: bold\">df4.apply</span><span style=\"font-weight: bold\">(</span>lambda row:                        <span style=\"color: #7f7f7f; text-decoration-color: #7f7f7f\">               </span>\n<span style=\"color: #7fbfbf; text-decoration-color: #7fbfbf\">                    </span>         <span style=\"color: #800080; text-decoration-color: #800080; font-weight: bold\">store_to_location.get</span><span style=\"font-weight: bold\">(</span>row<span style=\"font-weight: bold\">[</span><span style=\"color: #008000; text-decoration-color: #008000\">'store'</span><span style=\"font-weight: bold\">]</span>, row<span style=\"font-weight: bold\">[</span><span style=\"color: #008000; text-decoration-color: #008000\">'store_location'</span><span style=\"font-weight: bold\">])</span> if          <span style=\"color: #7f7f7f; text-decoration-color: #7f7f7f\">               </span>\n<span style=\"color: #7fbfbf; text-decoration-color: #7fbfbf\">                    </span>         <span style=\"color: #800080; text-decoration-color: #800080; font-weight: bold\">pd.isnull</span><span style=\"font-weight: bold\">(</span>row<span style=\"font-weight: bold\">[</span><span style=\"color: #008000; text-decoration-color: #008000\">'store_location'</span><span style=\"font-weight: bold\">])</span> else row<span style=\"font-weight: bold\">[</span><span style=\"color: #008000; text-decoration-color: #008000\">'store_location'</span><span style=\"font-weight: bold\">]</span>, <span style=\"color: #808000; text-decoration-color: #808000\">axis</span>=<span style=\"color: #008080; text-decoration-color: #008080; font-weight: bold\">1</span><span style=\"font-weight: bold\">)</span>   <span style=\"color: #7f7f7f; text-decoration-color: #7f7f7f\">               </span>\n<span style=\"color: #7fbfbf; text-decoration-color: #7fbfbf\">                    </span>                                                                                <span style=\"color: #7f7f7f; text-decoration-color: #7f7f7f\">               </span>\n</pre>\n"
     },
     "metadata": {},
     "output_type": "display_data"
    },
    {
     "data": {
      "text/plain": "",
      "text/html": "<pre style=\"white-space:pre;overflow-x:auto;line-height:normal;font-family:Menlo,'DejaVu Sans Mono',consolas,'Courier New',monospace\"></pre>\n"
     },
     "metadata": {},
     "output_type": "display_data"
    },
    {
     "data": {
      "text/plain": "\u001B[1;36m85162\u001B[0m"
     },
     "execution_count": 118,
     "metadata": {},
     "output_type": "execute_result"
    }
   ],
   "source": [
    "# Step 1: Creating a mapping between 'store' and the most common 'store_location' for that store\n",
    "store_to_location = df4.dropna(subset=['store_location']).groupby('store')['store_location'].agg(lambda x: x.value_counts().index[0]).to_dict()\n",
    "\n",
    "# Step 2: Using this mapping to fill missing 'store_location' values\n",
    "df4['store_location'] = df4.apply(lambda row: store_to_location.get(row['store'], row['store_location']) if pd.isnull(row['store_location']) else row['store_location'], axis=1)\n",
    "\n",
    "# Step 3: Checking how many missing values are left in 'store_location'\n",
    "df4['store_location'].isnull().sum()\n",
    "\n"
   ]
  },
  {
   "cell_type": "code",
   "execution_count": 119,
   "id": "491bdfaf0ce94b5a",
   "metadata": {
    "collapsed": false,
    "ExecuteTime": {
     "end_time": "2023-12-02T20:59:15.193999887Z",
     "start_time": "2023-12-02T20:59:11.388587920Z"
    }
   },
   "outputs": [
    {
     "data": {
      "text/plain": "\u001B[2;36m[12/02/23 21:59:15]\u001B[0m\u001B[2;36m \u001B[0m\u001B[31mWARNING \u001B[0m \u001B[35m/tmp/ipykernel_274408/\u001B[0m\u001B[95m1715755498.py\u001B[0m:\u001B[1;36m14\u001B[0m: SettingWithCopyWarning:        \u001B]8;id=570670;file:///usr/lib/python3.10/warnings.py\u001B\\\u001B[2mwarnings.py\u001B[0m\u001B]8;;\u001B\\\u001B[2m:\u001B[0m\u001B]8;id=485532;file:///usr/lib/python3.10/warnings.py#109\u001B\\\u001B[2m109\u001B[0m\u001B]8;;\u001B\\\n\u001B[2;36m                    \u001B[0m         A value is trying to be set on a copy of a slice from a DataFrame.     \u001B[2m               \u001B[0m\n\u001B[2;36m                    \u001B[0m         Try using .loc\u001B[1m[\u001B[0mrow_indexer,col_indexer\u001B[1m]\u001B[0m = value instead                \u001B[2m               \u001B[0m\n\u001B[2;36m                    \u001B[0m                                                                                \u001B[2m               \u001B[0m\n\u001B[2;36m                    \u001B[0m         See the caveats in the documentation:                                  \u001B[2m               \u001B[0m\n\u001B[2;36m                    \u001B[0m         \u001B[4;94mhttps://pandas.pydata.org/pandas-docs/stable/user_guide/indexing.html#\u001B[0m \u001B[2m               \u001B[0m\n\u001B[2;36m                    \u001B[0m         \u001B[4;94mreturning-a-view-versus-a-copy\u001B[0m                                         \u001B[2m               \u001B[0m\n\u001B[2;36m                    \u001B[0m           df4\u001B[1m[\u001B[0m\u001B[32m'longitude'\u001B[0m\u001B[1m]\u001B[0m, df4\u001B[1m[\u001B[0m\u001B[32m'latitude'\u001B[0m\u001B[1m]\u001B[0m =                                  \u001B[2m               \u001B[0m\n\u001B[2;36m                    \u001B[0m         \u001B[1;35mzip\u001B[0m\u001B[1m(\u001B[0m*df4\u001B[1m[\u001B[0m\u001B[32m'store_location'\u001B[0m\u001B[1m]\u001B[0m\u001B[1;35m.apply\u001B[0m\u001B[1m(\u001B[0mprocess_store_location\u001B[1m)\u001B[0m\u001B[1m)\u001B[0m              \u001B[2m               \u001B[0m\n\u001B[2;36m                    \u001B[0m                                                                                \u001B[2m               \u001B[0m\n",
      "text/html": "<pre style=\"white-space:pre;overflow-x:auto;line-height:normal;font-family:Menlo,'DejaVu Sans Mono',consolas,'Courier New',monospace\"><span style=\"color: #7fbfbf; text-decoration-color: #7fbfbf\">[12/02/23 21:59:15] </span><span style=\"color: #800000; text-decoration-color: #800000\">WARNING </span> <span style=\"color: #800080; text-decoration-color: #800080\">/tmp/ipykernel_274408/</span><span style=\"color: #ff00ff; text-decoration-color: #ff00ff\">1715755498.py</span>:<span style=\"color: #008080; text-decoration-color: #008080; font-weight: bold\">14</span>: SettingWithCopyWarning:        <a href=\"file:///usr/lib/python3.10/warnings.py\" target=\"_blank\"><span style=\"color: #7f7f7f; text-decoration-color: #7f7f7f\">warnings.py</span></a><span style=\"color: #7f7f7f; text-decoration-color: #7f7f7f\">:</span><a href=\"file:///usr/lib/python3.10/warnings.py#109\" target=\"_blank\"><span style=\"color: #7f7f7f; text-decoration-color: #7f7f7f\">109</span></a>\n<span style=\"color: #7fbfbf; text-decoration-color: #7fbfbf\">                    </span>         A value is trying to be set on a copy of a slice from a DataFrame.     <span style=\"color: #7f7f7f; text-decoration-color: #7f7f7f\">               </span>\n<span style=\"color: #7fbfbf; text-decoration-color: #7fbfbf\">                    </span>         Try using .loc<span style=\"font-weight: bold\">[</span>row_indexer,col_indexer<span style=\"font-weight: bold\">]</span> = value instead                <span style=\"color: #7f7f7f; text-decoration-color: #7f7f7f\">               </span>\n<span style=\"color: #7fbfbf; text-decoration-color: #7fbfbf\">                    </span>                                                                                <span style=\"color: #7f7f7f; text-decoration-color: #7f7f7f\">               </span>\n<span style=\"color: #7fbfbf; text-decoration-color: #7fbfbf\">                    </span>         See the caveats in the documentation:                                  <span style=\"color: #7f7f7f; text-decoration-color: #7f7f7f\">               </span>\n<span style=\"color: #7fbfbf; text-decoration-color: #7fbfbf\">                    </span>         <span style=\"color: #0000ff; text-decoration-color: #0000ff; text-decoration: underline\">https://pandas.pydata.org/pandas-docs/stable/user_guide/indexing.html#</span> <span style=\"color: #7f7f7f; text-decoration-color: #7f7f7f\">               </span>\n<span style=\"color: #7fbfbf; text-decoration-color: #7fbfbf\">                    </span>         <span style=\"color: #0000ff; text-decoration-color: #0000ff; text-decoration: underline\">returning-a-view-versus-a-copy</span>                                         <span style=\"color: #7f7f7f; text-decoration-color: #7f7f7f\">               </span>\n<span style=\"color: #7fbfbf; text-decoration-color: #7fbfbf\">                    </span>           df4<span style=\"font-weight: bold\">[</span><span style=\"color: #008000; text-decoration-color: #008000\">'longitude'</span><span style=\"font-weight: bold\">]</span>, df4<span style=\"font-weight: bold\">[</span><span style=\"color: #008000; text-decoration-color: #008000\">'latitude'</span><span style=\"font-weight: bold\">]</span> =                                  <span style=\"color: #7f7f7f; text-decoration-color: #7f7f7f\">               </span>\n<span style=\"color: #7fbfbf; text-decoration-color: #7fbfbf\">                    </span>         <span style=\"color: #800080; text-decoration-color: #800080; font-weight: bold\">zip</span><span style=\"font-weight: bold\">(</span>*df4<span style=\"font-weight: bold\">[</span><span style=\"color: #008000; text-decoration-color: #008000\">'store_location'</span><span style=\"font-weight: bold\">]</span><span style=\"color: #800080; text-decoration-color: #800080; font-weight: bold\">.apply</span><span style=\"font-weight: bold\">(</span>process_store_location<span style=\"font-weight: bold\">))</span>              <span style=\"color: #7f7f7f; text-decoration-color: #7f7f7f\">               </span>\n<span style=\"color: #7fbfbf; text-decoration-color: #7fbfbf\">                    </span>                                                                                <span style=\"color: #7f7f7f; text-decoration-color: #7f7f7f\">               </span>\n</pre>\n"
     },
     "metadata": {},
     "output_type": "display_data"
    },
    {
     "data": {
      "text/plain": "\u001B[2;36m                   \u001B[0m\u001B[2;36m \u001B[0m\u001B[31mWARNING \u001B[0m \u001B[35m/tmp/ipykernel_274408/\u001B[0m\u001B[95m1715755498.py\u001B[0m:\u001B[1;36m14\u001B[0m: SettingWithCopyWarning:        \u001B]8;id=87960;file:///usr/lib/python3.10/warnings.py\u001B\\\u001B[2mwarnings.py\u001B[0m\u001B]8;;\u001B\\\u001B[2m:\u001B[0m\u001B]8;id=439557;file:///usr/lib/python3.10/warnings.py#109\u001B\\\u001B[2m109\u001B[0m\u001B]8;;\u001B\\\n\u001B[2;36m                    \u001B[0m         A value is trying to be set on a copy of a slice from a DataFrame.     \u001B[2m               \u001B[0m\n\u001B[2;36m                    \u001B[0m         Try using .loc\u001B[1m[\u001B[0mrow_indexer,col_indexer\u001B[1m]\u001B[0m = value instead                \u001B[2m               \u001B[0m\n\u001B[2;36m                    \u001B[0m                                                                                \u001B[2m               \u001B[0m\n\u001B[2;36m                    \u001B[0m         See the caveats in the documentation:                                  \u001B[2m               \u001B[0m\n\u001B[2;36m                    \u001B[0m         \u001B[4;94mhttps://pandas.pydata.org/pandas-docs/stable/user_guide/indexing.html#\u001B[0m \u001B[2m               \u001B[0m\n\u001B[2;36m                    \u001B[0m         \u001B[4;94mreturning-a-view-versus-a-copy\u001B[0m                                         \u001B[2m               \u001B[0m\n\u001B[2;36m                    \u001B[0m           df4\u001B[1m[\u001B[0m\u001B[32m'longitude'\u001B[0m\u001B[1m]\u001B[0m, df4\u001B[1m[\u001B[0m\u001B[32m'latitude'\u001B[0m\u001B[1m]\u001B[0m =                                  \u001B[2m               \u001B[0m\n\u001B[2;36m                    \u001B[0m         \u001B[1;35mzip\u001B[0m\u001B[1m(\u001B[0m*df4\u001B[1m[\u001B[0m\u001B[32m'store_location'\u001B[0m\u001B[1m]\u001B[0m\u001B[1;35m.apply\u001B[0m\u001B[1m(\u001B[0mprocess_store_location\u001B[1m)\u001B[0m\u001B[1m)\u001B[0m              \u001B[2m               \u001B[0m\n\u001B[2;36m                    \u001B[0m                                                                                \u001B[2m               \u001B[0m\n",
      "text/html": "<pre style=\"white-space:pre;overflow-x:auto;line-height:normal;font-family:Menlo,'DejaVu Sans Mono',consolas,'Courier New',monospace\"><span style=\"color: #7fbfbf; text-decoration-color: #7fbfbf\">                    </span><span style=\"color: #800000; text-decoration-color: #800000\">WARNING </span> <span style=\"color: #800080; text-decoration-color: #800080\">/tmp/ipykernel_274408/</span><span style=\"color: #ff00ff; text-decoration-color: #ff00ff\">1715755498.py</span>:<span style=\"color: #008080; text-decoration-color: #008080; font-weight: bold\">14</span>: SettingWithCopyWarning:        <a href=\"file:///usr/lib/python3.10/warnings.py\" target=\"_blank\"><span style=\"color: #7f7f7f; text-decoration-color: #7f7f7f\">warnings.py</span></a><span style=\"color: #7f7f7f; text-decoration-color: #7f7f7f\">:</span><a href=\"file:///usr/lib/python3.10/warnings.py#109\" target=\"_blank\"><span style=\"color: #7f7f7f; text-decoration-color: #7f7f7f\">109</span></a>\n<span style=\"color: #7fbfbf; text-decoration-color: #7fbfbf\">                    </span>         A value is trying to be set on a copy of a slice from a DataFrame.     <span style=\"color: #7f7f7f; text-decoration-color: #7f7f7f\">               </span>\n<span style=\"color: #7fbfbf; text-decoration-color: #7fbfbf\">                    </span>         Try using .loc<span style=\"font-weight: bold\">[</span>row_indexer,col_indexer<span style=\"font-weight: bold\">]</span> = value instead                <span style=\"color: #7f7f7f; text-decoration-color: #7f7f7f\">               </span>\n<span style=\"color: #7fbfbf; text-decoration-color: #7fbfbf\">                    </span>                                                                                <span style=\"color: #7f7f7f; text-decoration-color: #7f7f7f\">               </span>\n<span style=\"color: #7fbfbf; text-decoration-color: #7fbfbf\">                    </span>         See the caveats in the documentation:                                  <span style=\"color: #7f7f7f; text-decoration-color: #7f7f7f\">               </span>\n<span style=\"color: #7fbfbf; text-decoration-color: #7fbfbf\">                    </span>         <span style=\"color: #0000ff; text-decoration-color: #0000ff; text-decoration: underline\">https://pandas.pydata.org/pandas-docs/stable/user_guide/indexing.html#</span> <span style=\"color: #7f7f7f; text-decoration-color: #7f7f7f\">               </span>\n<span style=\"color: #7fbfbf; text-decoration-color: #7fbfbf\">                    </span>         <span style=\"color: #0000ff; text-decoration-color: #0000ff; text-decoration: underline\">returning-a-view-versus-a-copy</span>                                         <span style=\"color: #7f7f7f; text-decoration-color: #7f7f7f\">               </span>\n<span style=\"color: #7fbfbf; text-decoration-color: #7fbfbf\">                    </span>           df4<span style=\"font-weight: bold\">[</span><span style=\"color: #008000; text-decoration-color: #008000\">'longitude'</span><span style=\"font-weight: bold\">]</span>, df4<span style=\"font-weight: bold\">[</span><span style=\"color: #008000; text-decoration-color: #008000\">'latitude'</span><span style=\"font-weight: bold\">]</span> =                                  <span style=\"color: #7f7f7f; text-decoration-color: #7f7f7f\">               </span>\n<span style=\"color: #7fbfbf; text-decoration-color: #7fbfbf\">                    </span>         <span style=\"color: #800080; text-decoration-color: #800080; font-weight: bold\">zip</span><span style=\"font-weight: bold\">(</span>*df4<span style=\"font-weight: bold\">[</span><span style=\"color: #008000; text-decoration-color: #008000\">'store_location'</span><span style=\"font-weight: bold\">]</span><span style=\"color: #800080; text-decoration-color: #800080; font-weight: bold\">.apply</span><span style=\"font-weight: bold\">(</span>process_store_location<span style=\"font-weight: bold\">))</span>              <span style=\"color: #7f7f7f; text-decoration-color: #7f7f7f\">               </span>\n<span style=\"color: #7fbfbf; text-decoration-color: #7fbfbf\">                    </span>                                                                                <span style=\"color: #7f7f7f; text-decoration-color: #7f7f7f\">               </span>\n</pre>\n"
     },
     "metadata": {},
     "output_type": "display_data"
    },
    {
     "data": {
      "text/plain": "",
      "text/html": "<pre style=\"white-space:pre;overflow-x:auto;line-height:normal;font-family:Menlo,'DejaVu Sans Mono',consolas,'Courier New',monospace\"></pre>\n"
     },
     "metadata": {},
     "output_type": "display_data"
    },
    {
     "data": {
      "text/plain": "\n   invoice_line_no                     date  store  \\\n\u001B[1;36m0\u001B[0m  INV-\u001B[1;36m48770300006\u001B[0m  \u001B[1;36m2022\u001B[0m-\u001B[1;36m06\u001B[0m-29T\u001B[1;92m00:00:00\u001B[0m.\u001B[1;36m000\u001B[0m   \u001B[1;36m5900\u001B[0m   \n\u001B[1;36m1\u001B[0m  INV-\u001B[1;36m48782900001\u001B[0m  \u001B[1;36m2022\u001B[0m-\u001B[1;36m06\u001B[0m-29T\u001B[1;92m00:00:00\u001B[0m.\u001B[1;36m000\u001B[0m   \u001B[1;36m3390\u001B[0m   \n\u001B[1;36m2\u001B[0m  INV-\u001B[1;36m48703200006\u001B[0m  \u001B[1;36m2022\u001B[0m-\u001B[1;36m06\u001B[0m-27T\u001B[1;92m00:00:00\u001B[0m.\u001B[1;36m000\u001B[0m   \u001B[1;36m4604\u001B[0m   \n\u001B[1;36m3\u001B[0m  INV-\u001B[1;36m48692600064\u001B[0m  \u001B[1;36m2022\u001B[0m-\u001B[1;36m06\u001B[0m-27T\u001B[1;92m00:00:00\u001B[0m.\u001B[1;36m000\u001B[0m   \u001B[1;36m2552\u001B[0m   \n\u001B[1;36m4\u001B[0m  INV-\u001B[1;36m48679200008\u001B[0m  \u001B[1;36m2022\u001B[0m-\u001B[1;36m06\u001B[0m-24T\u001B[1;92m00:00:00\u001B[0m.\u001B[1;36m000\u001B[0m   \u001B[1;36m2523\u001B[0m   \n\n                                  name                address          city  \\\n\u001B[1;36m0\u001B[0m         NEW STAR FLETCHER \u001B[35m/\u001B[0m WATERLOO       \u001B[1;36m315\u001B[0m FLETCHER AVE      WATERLOO   \n\u001B[1;36m1\u001B[0m                OKOBOJI AVENUE LIQUOR    \u001B[1;36m1610\u001B[0m OKOBOJI AVENUE       MILFORD   \n\u001B[1;36m2\u001B[0m            PIT STOP LIQUORS \u001B[35m/\u001B[0m NEWTON        \u001B[1;36m1324\u001B[0m, 1ST AVE E        NEWTON   \n\u001B[1;36m3\u001B[0m  HY-VEE FOOD STORE #\u001B[1;36m3\u001B[0m \u001B[35m/\u001B[0m CEDAR RAPIDS  \u001B[1;36m20\u001B[0m WILSON AVENUE WEST  CEDAR RAPIDS   \n\u001B[1;36m4\u001B[0m      HY-VEE FOOD STORE \u001B[35m/\u001B[0m CENTERVILLE             \u001B[1;36m609\u001B[0m N 18TH   CENTERVILLE   \n\n   zipcode                                     store_location      county  \\\n\u001B[1;36m0\u001B[0m  \u001B[1;36m50701.0\u001B[0m  \u001B[1m{\u001B[0m\u001B[32m'type'\u001B[0m: \u001B[32m'Point'\u001B[0m, \u001B[32m'coordinates'\u001B[0m: \u001B[1m[\u001B[0m\u001B[1;36m-92.367142\u001B[0m, \u001B[33m...\u001B[0m  BLACK HAWK   \n\u001B[1;36m1\u001B[0m  \u001B[1;36m51351.0\u001B[0m  \u001B[1m{\u001B[0m\u001B[32m'type'\u001B[0m: \u001B[32m'Point'\u001B[0m, \u001B[32m'coordinates'\u001B[0m: \u001B[1m[\u001B[0m\u001B[1;36m-95.149955\u001B[0m, \u001B[33m...\u001B[0m   DICKINSON   \n\u001B[1;36m2\u001B[0m  \u001B[1;36m50208.0\u001B[0m  \u001B[1m{\u001B[0m\u001B[32m'type'\u001B[0m: \u001B[32m'Point'\u001B[0m, \u001B[32m'coordinates'\u001B[0m: \u001B[1m[\u001B[0m\u001B[1;36m-93.035653\u001B[0m, \u001B[33m...\u001B[0m      JASPER   \n\u001B[1;36m3\u001B[0m  \u001B[1;36m52404.0\u001B[0m  \u001B[1m{\u001B[0m\u001B[32m'type'\u001B[0m: \u001B[32m'Point'\u001B[0m, \u001B[32m'coordinates'\u001B[0m: \u001B[1m[\u001B[0m\u001B[1;36m-91.658576\u001B[0m, \u001B[33m...\u001B[0m        LINN   \n\u001B[1;36m4\u001B[0m  \u001B[1;36m52544.0\u001B[0m  \u001B[1m{\u001B[0m\u001B[32m'type'\u001B[0m: \u001B[32m'Point'\u001B[0m, \u001B[32m'coordinates'\u001B[0m: \u001B[1m[\u001B[0m\u001B[1;36m-92.867967\u001B[0m, \u001B[33m...\u001B[0m   APPANOOSE   \n\n    category  \u001B[33m...\u001B[0m sale_dollars  sale_liters sale_gallons  \\\n\u001B[1;36m0\u001B[0m  \u001B[1;36m1031100.0\u001B[0m  \u001B[33m...\u001B[0m       \u001B[1;36m126.00\u001B[0m          \u001B[1;36m9.0\u001B[0m         \u001B[1;36m2.37\u001B[0m   \n\u001B[1;36m1\u001B[0m  \u001B[1;36m1031100.0\u001B[0m  \u001B[33m...\u001B[0m      \u001B[1;36m1716.48\u001B[0m        \u001B[1;36m288.0\u001B[0m        \u001B[1;36m76.08\u001B[0m   \n\u001B[1;36m2\u001B[0m  \u001B[1;36m1062200.0\u001B[0m  \u001B[33m...\u001B[0m       \u001B[1;36m162.00\u001B[0m          \u001B[1;36m9.0\u001B[0m         \u001B[1;36m2.37\u001B[0m   \n\u001B[1;36m3\u001B[0m  \u001B[1;36m1011100.0\u001B[0m  \u001B[33m...\u001B[0m       \u001B[1;36m116.64\u001B[0m         \u001B[1;36m10.5\u001B[0m         \u001B[1;36m2.77\u001B[0m   \n\u001B[1;36m4\u001B[0m  \u001B[1;36m1081300.0\u001B[0m  \u001B[33m...\u001B[0m       \u001B[1;36m155.88\u001B[0m          \u001B[1;36m9.0\u001B[0m         \u001B[1;36m2.37\u001B[0m   \n\n   :@computed_region_3r5t_5243 :@computed_region_wnea_7qqw  \\\n\u001B[1;36m0\u001B[0m                        \u001B[1;36m145.0\u001B[0m                        \u001B[1;36m18.0\u001B[0m   \n\u001B[1;36m1\u001B[0m                         \u001B[1;36m37.0\u001B[0m                        \u001B[1;36m37.0\u001B[0m   \n\u001B[1;36m2\u001B[0m                        \u001B[1;36m903.0\u001B[0m                        \u001B[1;36m11.0\u001B[0m   \n\u001B[1;36m3\u001B[0m                        \u001B[1;36m793.0\u001B[0m                        \u001B[1;36m18.0\u001B[0m   \n\u001B[1;36m4\u001B[0m                        \u001B[1;36m210.0\u001B[0m                        \u001B[1;36m54.0\u001B[0m   \n\n   :@computed_region_i9mz_6gmt  :@computed_region_uhgg_e8y2  \\\n\u001B[1;36m0\u001B[0m                        \u001B[1;36m240.0\u001B[0m                         \u001B[1;36m35.0\u001B[0m   \n\u001B[1;36m1\u001B[0m                        \u001B[1;36m419.0\u001B[0m                          \u001B[1;36m3.0\u001B[0m   \n\u001B[1;36m2\u001B[0m                        \u001B[1;36m131.0\u001B[0m                         \u001B[1;36m66.0\u001B[0m   \n\u001B[1;36m3\u001B[0m                        \u001B[1;36m264.0\u001B[0m                         \u001B[1;36m45.0\u001B[0m   \n\u001B[1;36m4\u001B[0m                        \u001B[1;36m534.0\u001B[0m                         \u001B[1;36m98.0\u001B[0m   \n\n   :@computed_region_e7ym_nrbf  longitude   latitude  \n\u001B[1;36m0\u001B[0m                        \u001B[1;36m176.0\u001B[0m \u001B[1;36m-92.367142\u001B[0m  \u001B[1;36m42.489119\u001B[0m  \n\u001B[1;36m1\u001B[0m                       \u001B[1;36m1779.0\u001B[0m \u001B[1;36m-95.149955\u001B[0m  \u001B[1;36m43.331525\u001B[0m  \n\u001B[1;36m2\u001B[0m                       \u001B[1;36m1791.0\u001B[0m \u001B[1;36m-93.035653\u001B[0m  \u001B[1;36m41.699173\u001B[0m  \n\u001B[1;36m3\u001B[0m                        \u001B[1;36m287.0\u001B[0m \u001B[1;36m-91.658576\u001B[0m  \u001B[1;36m41.955859\u001B[0m  \n\u001B[1;36m4\u001B[0m                        \u001B[1;36m175.0\u001B[0m \u001B[1;36m-92.867967\u001B[0m  \u001B[1;36m40.737577\u001B[0m  \n\n\u001B[1m[\u001B[0m\u001B[1;36m5\u001B[0m rows x \u001B[1;36m30\u001B[0m columns\u001B[1m]\u001B[0m",
      "text/html": "<div>\n<style scoped>\n    .dataframe tbody tr th:only-of-type {\n        vertical-align: middle;\n    }\n\n    .dataframe tbody tr th {\n        vertical-align: top;\n    }\n\n    .dataframe thead th {\n        text-align: right;\n    }\n</style>\n<table border=\"1\" class=\"dataframe\">\n  <thead>\n    <tr style=\"text-align: right;\">\n      <th></th>\n      <th>invoice_line_no</th>\n      <th>date</th>\n      <th>store</th>\n      <th>name</th>\n      <th>address</th>\n      <th>city</th>\n      <th>zipcode</th>\n      <th>store_location</th>\n      <th>county</th>\n      <th>category</th>\n      <th>...</th>\n      <th>sale_dollars</th>\n      <th>sale_liters</th>\n      <th>sale_gallons</th>\n      <th>:@computed_region_3r5t_5243</th>\n      <th>:@computed_region_wnea_7qqw</th>\n      <th>:@computed_region_i9mz_6gmt</th>\n      <th>:@computed_region_uhgg_e8y2</th>\n      <th>:@computed_region_e7ym_nrbf</th>\n      <th>longitude</th>\n      <th>latitude</th>\n    </tr>\n  </thead>\n  <tbody>\n    <tr>\n      <th>0</th>\n      <td>INV-48770300006</td>\n      <td>2022-06-29T00:00:00.000</td>\n      <td>5900</td>\n      <td>NEW STAR FLETCHER / WATERLOO</td>\n      <td>315 FLETCHER AVE</td>\n      <td>WATERLOO</td>\n      <td>50701.0</td>\n      <td>{'type': 'Point', 'coordinates': [-92.367142, ...</td>\n      <td>BLACK HAWK</td>\n      <td>1031100.0</td>\n      <td>...</td>\n      <td>126.00</td>\n      <td>9.0</td>\n      <td>2.37</td>\n      <td>145.0</td>\n      <td>18.0</td>\n      <td>240.0</td>\n      <td>35.0</td>\n      <td>176.0</td>\n      <td>-92.367142</td>\n      <td>42.489119</td>\n    </tr>\n    <tr>\n      <th>1</th>\n      <td>INV-48782900001</td>\n      <td>2022-06-29T00:00:00.000</td>\n      <td>3390</td>\n      <td>OKOBOJI AVENUE LIQUOR</td>\n      <td>1610 OKOBOJI AVENUE</td>\n      <td>MILFORD</td>\n      <td>51351.0</td>\n      <td>{'type': 'Point', 'coordinates': [-95.149955, ...</td>\n      <td>DICKINSON</td>\n      <td>1031100.0</td>\n      <td>...</td>\n      <td>1716.48</td>\n      <td>288.0</td>\n      <td>76.08</td>\n      <td>37.0</td>\n      <td>37.0</td>\n      <td>419.0</td>\n      <td>3.0</td>\n      <td>1779.0</td>\n      <td>-95.149955</td>\n      <td>43.331525</td>\n    </tr>\n    <tr>\n      <th>2</th>\n      <td>INV-48703200006</td>\n      <td>2022-06-27T00:00:00.000</td>\n      <td>4604</td>\n      <td>PIT STOP LIQUORS / NEWTON</td>\n      <td>1324, 1ST AVE E</td>\n      <td>NEWTON</td>\n      <td>50208.0</td>\n      <td>{'type': 'Point', 'coordinates': [-93.035653, ...</td>\n      <td>JASPER</td>\n      <td>1062200.0</td>\n      <td>...</td>\n      <td>162.00</td>\n      <td>9.0</td>\n      <td>2.37</td>\n      <td>903.0</td>\n      <td>11.0</td>\n      <td>131.0</td>\n      <td>66.0</td>\n      <td>1791.0</td>\n      <td>-93.035653</td>\n      <td>41.699173</td>\n    </tr>\n    <tr>\n      <th>3</th>\n      <td>INV-48692600064</td>\n      <td>2022-06-27T00:00:00.000</td>\n      <td>2552</td>\n      <td>HY-VEE FOOD STORE #3 / CEDAR RAPIDS</td>\n      <td>20 WILSON AVENUE WEST</td>\n      <td>CEDAR RAPIDS</td>\n      <td>52404.0</td>\n      <td>{'type': 'Point', 'coordinates': [-91.658576, ...</td>\n      <td>LINN</td>\n      <td>1011100.0</td>\n      <td>...</td>\n      <td>116.64</td>\n      <td>10.5</td>\n      <td>2.77</td>\n      <td>793.0</td>\n      <td>18.0</td>\n      <td>264.0</td>\n      <td>45.0</td>\n      <td>287.0</td>\n      <td>-91.658576</td>\n      <td>41.955859</td>\n    </tr>\n    <tr>\n      <th>4</th>\n      <td>INV-48679200008</td>\n      <td>2022-06-24T00:00:00.000</td>\n      <td>2523</td>\n      <td>HY-VEE FOOD STORE / CENTERVILLE</td>\n      <td>609 N 18TH</td>\n      <td>CENTERVILLE</td>\n      <td>52544.0</td>\n      <td>{'type': 'Point', 'coordinates': [-92.867967, ...</td>\n      <td>APPANOOSE</td>\n      <td>1081300.0</td>\n      <td>...</td>\n      <td>155.88</td>\n      <td>9.0</td>\n      <td>2.37</td>\n      <td>210.0</td>\n      <td>54.0</td>\n      <td>534.0</td>\n      <td>98.0</td>\n      <td>175.0</td>\n      <td>-92.867967</td>\n      <td>40.737577</td>\n    </tr>\n  </tbody>\n</table>\n<p>5 rows × 30 columns</p>\n</div>"
     },
     "execution_count": 119,
     "metadata": {},
     "output_type": "execute_result"
    }
   ],
   "source": [
    "#Still too many records to avoid !\n",
    "# Splitting store_location\n",
    "import json\n",
    "\n",
    "# Funkcja do przetwarzania kolumny store_location\n",
    "def process_store_location(location_str):\n",
    "    try:\n",
    "        location_dict = json.loads(location_str.replace(\"'\", \"\\\"\"))\n",
    "        return location_dict['coordinates'][0], location_dict['coordinates'][1]\n",
    "    except (json.JSONDecodeError, KeyError, AttributeError):\n",
    "        return None, None\n",
    "\n",
    "# Tworzenie kolumn szerokości i długości\n",
    "df4['longitude'], df4['latitude'] = zip(*df4['store_location'].apply(process_store_location))\n",
    "\n",
    "# Wyświetlenie DataFrame z nowymi kolumnami\n",
    "df4.head()"
   ]
  },
  {
   "cell_type": "code",
   "execution_count": 120,
   "outputs": [
    {
     "name": "stdout",
     "output_type": "stream",
     "text": [
      "Liczba unikalnych adresów z pustym 'store_location': 179\n"
     ]
    }
   ],
   "source": [
    "# Filtruj DataFrame, aby znaleźć rekordy, gdzie 'store_location' jest pusty\n",
    "filtered_df = df4[df4['store_location'].isna()]\n",
    "\n",
    "# Znajdź unikalne wartości w kolumnie 'address' w przefiltrowanym DataFrame\n",
    "unique_addresses_count = filtered_df['address'].nunique()\n",
    "\n",
    "# Wypisz liczbę unikalnych adresów\n",
    "print(f\"Liczba unikalnych adresów z pustym 'store_location': {unique_addresses_count}\")"
   ],
   "metadata": {
    "collapsed": false,
    "ExecuteTime": {
     "end_time": "2023-12-02T20:59:15.343186363Z",
     "start_time": "2023-12-02T20:59:15.218108717Z"
    }
   },
   "id": "3cc483b6eb526685"
  },
  {
   "cell_type": "code",
   "execution_count": 121,
   "outputs": [
    {
     "data": {
      "text/plain": "",
      "text/html": "<pre style=\"white-space:pre;overflow-x:auto;line-height:normal;font-family:Menlo,'DejaVu Sans Mono',consolas,'Courier New',monospace\"></pre>\n"
     },
     "metadata": {},
     "output_type": "display_data"
    },
    {
     "data": {
      "text/plain": "\n\u001B[1;35marray\u001B[0m\u001B[1m(\u001B[0m\u001B[1m[\u001B[0m\u001B[32m'3301 W KIMBERLY RD'\u001B[0m, \u001B[32m'923 S RIVERSIDE DR'\u001B[0m, \u001B[32m'150 E. BUSINESS 30'\u001B[0m,\n       \u001B[32m'103 24TH ST'\u001B[0m, \u001B[32m'2403 US HWY 18'\u001B[0m, \u001B[32m'910 N JEFFERSON'\u001B[0m,\n       \u001B[32m'4506 LINCOLN WAY'\u001B[0m, \u001B[32m'4910 MAPLE DR.'\u001B[0m, \u001B[32m'200 SUSAN LAWRENCE DR'\u001B[0m,\n       \u001B[32m'2001 WEST COURT'\u001B[0m, \u001B[32m'222 1 HALF 5TH STREET VALLEY JUNCTION'\u001B[0m,\n       \u001B[32m'510 E HWY 30'\u001B[0m, \u001B[32m'1345 2ND ST S'\u001B[0m, \u001B[32m'17948 GREAT RIVER RD'\u001B[0m,\n       \u001B[32m'1312 HARRISON ST'\u001B[0m, \u001B[32m'PO BOX 261  310 W DILLON'\u001B[0m, \u001B[32m'405, MADISON AVE'\u001B[0m,\n       \u001B[32m'2580 MOSS RIDGE RD'\u001B[0m, \u001B[32m'9TH ST SW B'\u001B[0m, \u001B[32m'507 1ST AVE #100'\u001B[0m,\n       \u001B[32m'510 C AVE'\u001B[0m, \u001B[32m'3010 UNIVERSITY DR'\u001B[0m, \u001B[32m'600 7TH AVE'\u001B[0m,\n       \u001B[32m'1625 WEST 4TH ST'\u001B[0m, \u001B[32m'222 W FRONT ST'\u001B[0m, \u001B[32m'1006 S. COUNTRY ROAD'\u001B[0m,\n       \u001B[32m'7101 UNIVERSITY AVE'\u001B[0m, \u001B[32m'90 W. KIMBERLY RD STE 55-56'\u001B[0m,\n       \u001B[32m'1290 S DUBUQUE ST'\u001B[0m, \u001B[32m'1500 NORTH JEFFERSON'\u001B[0m, \u001B[32m'531 U.S. 52'\u001B[0m,\n       \u001B[32m'3800 W LINCOLN WAY'\u001B[0m, \u001B[32m'3221 SE 14TH ST'\u001B[0m, \u001B[32m'27470 HWY 65 SOUTH'\u001B[0m,\n       \u001B[32m'3424 MARTIN LUTHER KING JUNIOR PARKWAY'\u001B[0m, \u001B[32m'2126 KIMBALL AVE'\u001B[0m,\n       \u001B[32m'410 NORTH ANKENY BLVD'\u001B[0m, \u001B[32m'813 N LINCOLN STE 1'\u001B[0m, \u001B[32m'1453 CO HWY G76'\u001B[0m,\n       \u001B[32m'102 W. CARLISLE'\u001B[0m, \u001B[32m'4960 E BROADWAY AVE'\u001B[0m, \u001B[32m'1824 HUBBELL AVE'\u001B[0m,\n       \u001B[32m'8400 NICC DRIVE'\u001B[0m, \u001B[32m'504 S HWY'\u001B[0m, \u001B[32m'812 S 1ST AVE'\u001B[0m, \u001B[32m'512  8TH SE'\u001B[0m,\n       \u001B[32m'1415 GRAND FALLS BLVD'\u001B[0m, \u001B[32m'800 HAMILTON BLVD.'\u001B[0m, \u001B[32m'1320 E EUCLID AVE'\u001B[0m,\n       \u001B[32m'1201 N JEFFERSON'\u001B[0m, \u001B[32m'5427  CENTER POINT RD'\u001B[0m, \u001B[32m'4701 HWY 61'\u001B[0m,\n       \u001B[32m'3200 MANAWA DR'\u001B[0m, \u001B[32m'2315 MT VERNON RD SE'\u001B[0m, \u001B[32m'3015 OXBOW COURT SW'\u001B[0m,\n       \u001B[32m'703 SOUTH RYE AVE STE A'\u001B[0m, \u001B[32m'11941 HWY 52 N'\u001B[0m,\n       \u001B[32m'1515 SE CORPORATE WOODS DR'\u001B[0m, \u001B[32m'3950 PRARIE FIRE NW'\u001B[0m,\n       \u001B[32m'3205 NORTH ANKENY BLVD'\u001B[0m, \u001B[32m'17005 HWY 69'\u001B[0m, \u001B[32m'305 34TH AVE NW'\u001B[0m,\n       \u001B[32m'ONE PRAIRIE MEADOWS DRIVE'\u001B[0m, \u001B[32m'204 6TH ST'\u001B[0m,\n       \u001B[32m'106 W MAINS ST PO BOX 142'\u001B[0m, \u001B[32m'1026 MAIN'\u001B[0m, \u001B[32m'500, HWY 175'\u001B[0m,\n       \u001B[32m'103 HIGHLAND ST'\u001B[0m, \u001B[32m'911 HWY 69'\u001B[0m, \u001B[32m'4343 SOUTH 15TH AVE EAST'\u001B[0m,\n       \u001B[32m'1424 E EUCLID AVE'\u001B[0m, \u001B[32m'1220 WEST MAIN'\u001B[0m, \u001B[32m\"870 NE ALICE'S RD\"\u001B[0m,\n       \u001B[32m'7229 UNIVERSITY AVE'\u001B[0m, \u001B[32m'2100 JFK RD'\u001B[0m, \u001B[32m'40  W SAN MARNAN'\u001B[0m,\n       \u001B[32m'301 E TRAILRIDGE AVE'\u001B[0m, \u001B[32m'3500 DODGE ST'\u001B[0m, \u001B[32m'1621 UNIVERSITY AVE'\u001B[0m,\n       \u001B[32m'717 1ST  AVE'\u001B[0m, \u001B[32m'500 CROELL AVENUE'\u001B[0m, \u001B[32m'3600 BUSINESS HWY 151 EAST'\u001B[0m,\n       \u001B[32m'201 SUNSET ST'\u001B[0m, \u001B[32m'1401 1ST STREET'\u001B[0m, \u001B[32m'20611 HWY 1 N'\u001B[0m,\n       \u001B[32m'2890 E BROADWAY AVE'\u001B[0m, \u001B[32m'644 220TH ST'\u001B[0m, \u001B[32m'1825 N ANKENY BLVD'\u001B[0m,\n       \u001B[32m'1000 N JEFFERSON ST'\u001B[0m, \u001B[32m'8700 HICKMAN'\u001B[0m, \u001B[32m'5101 SE 14TH ST'\u001B[0m,\n       \u001B[32m'104 E FIRST ST'\u001B[0m, \u001B[32m'206 SHORT ST'\u001B[0m, \u001B[32m'812  S 1ST AVE'\u001B[0m,\n       \u001B[32m'14046 45TH ST'\u001B[0m, \u001B[32m'2106 ECHO VALLEY DR'\u001B[0m, \u001B[32m'201 HWY 21'\u001B[0m,\n       \u001B[32m'1630 EAST 16TH ST'\u001B[0m, \u001B[32m'5050 NW 2ND AVE'\u001B[0m, \u001B[32m'3445, COUNTY HOME RD'\u001B[0m,\n       \u001B[32m'5902 MERLE HAY ROAD'\u001B[0m, \u001B[32m'4039 PENNSYLVANIA AVE'\u001B[0m,\n       \u001B[32m'950, WEST VIEW DR'\u001B[0m, \u001B[32m'1706 HWY 210'\u001B[0m, \u001B[32m'311 NORTH JEFFERSON'\u001B[0m,\n       \u001B[32m'2121 UNIVERSITY AVE'\u001B[0m, \u001B[32m'5150 100TH STREET'\u001B[0m, \u001B[32m'901 N ANKENY BLVD'\u001B[0m,\n       \u001B[32m'1910 ISAAC NEWTON DR.'\u001B[0m, \u001B[32m'PO BOX 1317'\u001B[0m, \u001B[32m'1219 1ST ST'\u001B[0m,\n       \u001B[32m'1202 EAST LOCUST ST'\u001B[0m, \u001B[32m'5491 BUSINESS HWY 151'\u001B[0m,\n       \u001B[32m'2805 TELEGRAPH RD'\u001B[0m,\n       \u001B[32m'1510 SOUTH ANKENY BOULEVARD PRAIRIE TRAIL SUITE 106 108'\u001B[0m,\n       \u001B[32m'1300 W BURLINGTON'\u001B[0m, \u001B[32m'849 SOUTH ANKENY BLVD.'\u001B[0m, \u001B[32m'1701 IOWA AVE'\u001B[0m,\n       \u001B[32m'1307 S BROADWAY'\u001B[0m, \u001B[32m'75 MAIN ST'\u001B[0m, \u001B[32m'504 SOUTH HIGHWAY'\u001B[0m,\n       \u001B[32m'1003 SUMMER STREET'\u001B[0m, \u001B[32m'235 EDGEWOOD RD NE'\u001B[0m,\n       \u001B[32m'1011 S FREDERICK M/A PO BX 572'\u001B[0m, \u001B[32m'4518 MORTENSON RD STE 109'\u001B[0m,\n       \u001B[32m'2050 JOHN F KENNEDY RD'\u001B[0m, \u001B[32m'18880 HYLAND AVE'\u001B[0m, \u001B[32m'15601 HICKMAN RD'\u001B[0m,\n       \u001B[32m'5830 SE 14TH ST'\u001B[0m, \u001B[32m'1650 NE BEAVER BROOKE BLVD'\u001B[0m, \u001B[32m'305 E HWY 34'\u001B[0m,\n       \u001B[32m'333 220TH STREET'\u001B[0m, \u001B[32m'1101, JEFFERSON ST'\u001B[0m, \u001B[32m'109 EAST LOCUST STREET'\u001B[0m,\n       \u001B[32m'4400 128TH ST'\u001B[0m, \u001B[32m'7229, UNIVERSITY AVE'\u001B[0m, \u001B[32m'1003 SUMMER ST'\u001B[0m,\n       \u001B[32m'1777 DIVISION ST'\u001B[0m, \u001B[32m'7690 HICKMAN RD'\u001B[0m, \u001B[32m'208 WAPPELLO ST'\u001B[0m,\n       \u001B[32m'919 W 5TH ST'\u001B[0m, \u001B[32m'4685 NW 2ND AVE'\u001B[0m, \u001B[32m'4804 S HIGHWAY 61'\u001B[0m,\n       \u001B[32m'12905 MEREDITH DRIVE'\u001B[0m, \u001B[32m'1117 CLINTON ST'\u001B[0m, \u001B[32m'3594 LAFAYETTE ST'\u001B[0m,\n       \u001B[32m'901 S MAIN ST.'\u001B[0m, \u001B[32m'1225 FOUNTAINS WAY'\u001B[0m,\n       \u001B[32m'1701 SOUTHEAST 37TH STREET'\u001B[0m, \u001B[32m'105 W SHERMAN PO BX 1023'\u001B[0m,\n       \u001B[32m'1201 LAKESHORE DR'\u001B[0m, \u001B[32m'813 1/2 HIGHLAND ST'\u001B[0m, \u001B[32m'68 MONROE PO BOX 249'\u001B[0m,\n       \u001B[32m'2127 M L KING JR PKWY'\u001B[0m, \u001B[32m'11802 AVENUE H'\u001B[0m, \u001B[32m'1004 HIGHWAY 30 W'\u001B[0m,\n       \u001B[32m'108, COLLEGE'\u001B[0m, \u001B[32m'1205/1207, LOCUST ST.'\u001B[0m, \u001B[32m'122, FRONT ST.'\u001B[0m,\n       \u001B[32m'2030 21ST ST NW'\u001B[0m, \u001B[32m'1201 1/2 LAKESHORE DR'\u001B[0m, \u001B[32m'FIRST & MAIN'\u001B[0m,\n       \u001B[32m'4804, HWY  61 SOUTH'\u001B[0m, \u001B[32m'4518 MORTONSEN STREET SUITE #109'\u001B[0m,\n       \u001B[32m'2315, MT VERNON RD SE'\u001B[0m, \u001B[32m'3107 N BRADY ST'\u001B[0m, \u001B[32m'7229 UNIVERSTY AVE'\u001B[0m,\n       \u001B[32m'101 COMERICAL STREET'\u001B[0m, \u001B[32m'107, IA HIGHWAY 60'\u001B[0m, \u001B[32m'1581, 1ST AVE SE'\u001B[0m,\n       \u001B[32m'4107 CENTER POINT RD'\u001B[0m, \u001B[32m'3340, JFK  RD'\u001B[0m, \u001B[32m'72, N OKOBOJI GROVE RD'\u001B[0m,\n       \u001B[32m'1201 NORTH JEFFERSON STE 100'\u001B[0m, \u001B[32m'420 WEST HWY 30'\u001B[0m, \u001B[32m'1601 5TH AVE'\u001B[0m,\n       \u001B[32m'1581 1ST AVE SE'\u001B[0m, \u001B[32m'107 IA HWY 60'\u001B[0m, \u001B[32m'3340 JFK  RD'\u001B[0m\u001B[1m]\u001B[0m, \u001B[33mdtype\u001B[0m=\u001B[35mobject\u001B[0m\u001B[1m)\u001B[0m"
     },
     "execution_count": 121,
     "metadata": {},
     "output_type": "execute_result"
    }
   ],
   "source": [
    "from geopy.extra.rate_limiter import RateLimiter\n",
    "from geopy.geocoders import Nominatim\n",
    "import time\n",
    "\n",
    "# Inicjalizacja geokodera z Nominatim\n",
    "geolocator = Nominatim(user_agent=\"my_geocoding_app\", timeout=10)\n",
    "geocode = RateLimiter(geolocator.geocode, min_delay_seconds=1)\n",
    "\n",
    "# Słownik do przechowywania już znalezionych współrzędnych\n",
    "found_coordinates = {}\n",
    "count = 0\n",
    "\n",
    "def geocode_and_fill_coordinates(row):\n",
    "    global count\n",
    "    \n",
    "    time.sleep(3)  # Opóźnienie między zapytaniami\n",
    "    address = row['address']\n",
    "    city = row['city']\n",
    "    \n",
    "    if pd.notnull(address) and pd.notnull(city):\n",
    "        # Sprawdź, czy adres już został przetworzony\n",
    "        if (address, city) in found_coordinates:\n",
    "            return found_coordinates[(address, city)]\n",
    "\n",
    "        try:\n",
    "            # Wykonanie geokodowania\n",
    "            location = geocode(f\"{address}, {city}\")\n",
    "\n",
    "            if location:\n",
    "                lat, lon = location.latitude, location.longitude\n",
    "                # Zapisz znalezione współrzędne w słowniku\n",
    "                found_coordinates[(address, city)] = (lat, lon)\n",
    "                count += 1\n",
    "                print(f\"count: {count}, Uzupełniono dane geograficzne dla adresu: {address}, miasta: {city}\")\n",
    "                return lat, lon\n",
    "        except Exception as e:\n",
    "            print(f\"Błąd podczas wykonywania geokodowania: {e}\")\n",
    "\n",
    "    return None, None\n",
    "\n",
    "#Znajdź unikalne wartości w kolumnie 'address' w przefiltrowanym DataFrame\n",
    "unique_addresses = filtered_df['address'].unique()\n",
    "unique_addresses"
   ],
   "metadata": {
    "collapsed": false,
    "ExecuteTime": {
     "end_time": "2023-12-02T20:59:15.344481352Z",
     "start_time": "2023-12-02T20:59:15.287256621Z"
    }
   },
   "id": "7f504026e25c699a"
  },
  {
   "cell_type": "code",
   "execution_count": 122,
   "outputs": [
    {
     "name": "stdout",
     "output_type": "stream",
     "text": [
      "count: 1, Uzupełniono dane geograficzne dla adresu: 3301 W KIMBERLY RD, miasta: DAVENPORT\n",
      "count: 2, Uzupełniono dane geograficzne dla adresu: 923 S RIVERSIDE DR, miasta: IOWA CITY\n",
      "count: 3, Uzupełniono dane geograficzne dla adresu: 910 N JEFFERSON, miasta: INDIANOLA\n",
      "count: 4, Uzupełniono dane geograficzne dla adresu: 4506 LINCOLN WAY, miasta: AMES\n",
      "count: 5, Uzupełniono dane geograficzne dla adresu: 4910 MAPLE DR., miasta: PLEASANT HILL\n",
      "count: 6, Uzupełniono dane geograficzne dla adresu: 17948 GREAT RIVER RD, miasta: PLEASANT VALLEY\n",
      "count: 7, Uzupełniono dane geograficzne dla adresu: 1312 HARRISON ST, miasta: DAVENPORT\n",
      "count: 8, Uzupełniono dane geograficzne dla adresu: 405, MADISON AVE, miasta: OTTUMWA\n",
      "count: 9, Uzupełniono dane geograficzne dla adresu: 2580 MOSS RIDGE RD, miasta: IOWA CITY\n",
      "count: 10, Uzupełniono dane geograficzne dla adresu: 9TH ST SW B, miasta: WAUKON\n",
      "count: 11, Uzupełniono dane geograficzne dla adresu: 3010 UNIVERSITY DR, miasta: MUSCATINE\n",
      "count: 12, Uzupełniono dane geograficzne dla adresu: 600 7TH AVE, miasta: TRIPOLI\n",
      "count: 13, Uzupełniono dane geograficzne dla adresu: 1625 WEST 4TH ST, miasta: WATERLOO\n",
      "count: 14, Uzupełniono dane geograficzne dla adresu: 222 W FRONT ST, miasta: BUFFALO\n",
      "count: 15, Uzupełniono dane geograficzne dla adresu: 7101 UNIVERSITY AVE, miasta: WINDSOR HEIGHTS\n",
      "count: 16, Uzupełniono dane geograficzne dla adresu: 1290 S DUBUQUE ST, miasta: NORTH LIBERTY\n",
      "count: 17, Uzupełniono dane geograficzne dla adresu: 1500 NORTH JEFFERSON, miasta: INDIANOLA\n",
      "count: 18, Uzupełniono dane geograficzne dla adresu: 531 U.S. 52, miasta: GUTTENBERG\n",
      "count: 19, Uzupełniono dane geograficzne dla adresu: 3800 W LINCOLN WAY, miasta: AMES\n",
      "count: 20, Uzupełniono dane geograficzne dla adresu: 3221 SE 14TH ST, miasta: DES MOINES\n",
      "count: 21, Uzupełniono dane geograficzne dla adresu: 3424 MARTIN LUTHER KING JUNIOR PARKWAY, miasta: DES MOINES\n",
      "count: 22, Uzupełniono dane geograficzne dla adresu: 2126 KIMBALL AVE, miasta: WATERLOO\n",
      "count: 23, Uzupełniono dane geograficzne dla adresu: 410 NORTH ANKENY BLVD, miasta: ANKENY\n",
      "count: 24, Uzupełniono dane geograficzne dla adresu: 102 W. CARLISLE, miasta: MAQUOKETA\n",
      "count: 25, Uzupełniono dane geograficzne dla adresu: 4960 E BROADWAY AVE, miasta: DES MOINES\n",
      "count: 26, Uzupełniono dane geograficzne dla adresu: 1824 HUBBELL AVE, miasta: DES MOINES\n",
      "count: 27, Uzupełniono dane geograficzne dla adresu: 8400 NICC DRIVE, miasta: PEOSTA\n",
      "count: 28, Uzupełniono dane geograficzne dla adresu: 812 S 1ST AVE, miasta: IOWA CITY\n",
      "count: 29, Uzupełniono dane geograficzne dla adresu: 512  8TH SE, miasta: ORANGE CITY\n",
      "count: 30, Uzupełniono dane geograficzne dla adresu: 800 HAMILTON BLVD., miasta: SIOUX CITY\n",
      "count: 31, Uzupełniono dane geograficzne dla adresu: 1320 E EUCLID AVE, miasta: DES MOINES\n",
      "count: 32, Uzupełniono dane geograficzne dla adresu: 1201 N JEFFERSON, miasta: INDIANOLA\n",
      "count: 33, Uzupełniono dane geograficzne dla adresu: 5427  CENTER POINT RD, miasta: CEDAR RAPIDS\n",
      "count: 34, Uzupełniono dane geograficzne dla adresu: 4701 HWY 61, miasta: MUSCATINE\n",
      "count: 35, Uzupełniono dane geograficzne dla adresu: 3200 MANAWA DR, miasta: COUNCIL BLUFFS\n",
      "count: 36, Uzupełniono dane geograficzne dla adresu: 2315 MT VERNON RD SE, miasta: CEDAR RAPIDS\n",
      "count: 37, Uzupełniono dane geograficzne dla adresu: 1515 SE CORPORATE WOODS DR, miasta: ANKENY\n",
      "count: 38, Uzupełniono dane geograficzne dla adresu: 3205 NORTH ANKENY BLVD, miasta: ANKENY\n",
      "count: 39, Uzupełniono dane geograficzne dla adresu: 305 34TH AVE NW, miasta: ALTOONA\n",
      "count: 40, Uzupełniono dane geograficzne dla adresu: 204 6TH ST, miasta: CORNING\n",
      "count: 41, Uzupełniono dane geograficzne dla adresu: 103 HIGHLAND ST, miasta: WILLIAMSBURG\n",
      "count: 42, Uzupełniono dane geograficzne dla adresu: 1424 E EUCLID AVE, miasta: DES MOINES\n",
      "count: 43, Uzupełniono dane geograficzne dla adresu: 870 NE ALICE'S RD, miasta: WAUKEE\n",
      "count: 44, Uzupełniono dane geograficzne dla adresu: 7229 UNIVERSITY AVE, miasta: WINDSOR HEIGHTS\n",
      "count: 45, Uzupełniono dane geograficzne dla adresu: 40  W SAN MARNAN, miasta: WATERLOO\n",
      "count: 46, Uzupełniono dane geograficzne dla adresu: 3500 DODGE ST, miasta: DUBUQUE\n",
      "count: 47, Uzupełniono dane geograficzne dla adresu: 1621 UNIVERSITY AVE, miasta: DES MOINES\n",
      "count: 48, Uzupełniono dane geograficzne dla adresu: 717 1ST  AVE, miasta: CASCADE\n",
      "count: 49, Uzupełniono dane geograficzne dla adresu: 500 CROELL AVENUE, miasta: TIFFIN\n",
      "count: 50, Uzupełniono dane geograficzne dla adresu: 201 SUNSET ST, miasta: URBANA\n",
      "count: 51, Uzupełniono dane geograficzne dla adresu: 2890 E BROADWAY AVE, miasta: DES MOINES\n",
      "count: 52, Uzupełniono dane geograficzne dla adresu: 644 220TH ST, miasta: WINTHROP\n",
      "count: 53, Uzupełniono dane geograficzne dla adresu: 1825 N ANKENY BLVD, miasta: ANKENY\n",
      "count: 54, Uzupełniono dane geograficzne dla adresu: 1000 N JEFFERSON ST, miasta: INDIANOLA\n",
      "count: 55, Uzupełniono dane geograficzne dla adresu: 8700 HICKMAN, miasta: CLIVE\n",
      "count: 56, Uzupełniono dane geograficzne dla adresu: 5101 SE 14TH ST, miasta: DES MOINES\n",
      "count: 57, Uzupełniono dane geograficzne dla adresu: 206 SHORT ST, miasta: MECHANICSVILLE\n",
      "count: 58, Uzupełniono dane geograficzne dla adresu: 812  S 1ST AVE, miasta: IOWA CITY\n",
      "count: 59, Uzupełniono dane geograficzne dla adresu: 14046 45TH ST, miasta: LIME SPRINGS\n",
      "count: 60, Uzupełniono dane geograficzne dla adresu: 2106 ECHO VALLEY DR, miasta: DES MOINES\n",
      "count: 61, Uzupełniono dane geograficzne dla adresu: 201 HWY 21, miasta: DYSART\n",
      "count: 62, Uzupełniono dane geograficzne dla adresu: 1630 EAST 16TH ST, miasta: DUBUQUE\n",
      "count: 63, Uzupełniono dane geograficzne dla adresu: 3445, COUNTY HOME RD, miasta: ROBINS\n",
      "count: 64, Uzupełniono dane geograficzne dla adresu: 5902 MERLE HAY ROAD, miasta: JOHNSTON\n",
      "count: 65, Uzupełniono dane geograficzne dla adresu: 4039 PENNSYLVANIA AVE, miasta: DUBUQUE\n",
      "count: 66, Uzupełniono dane geograficzne dla adresu: 311 NORTH JEFFERSON, miasta: INDIANOLA\n",
      "count: 67, Uzupełniono dane geograficzne dla adresu: 2121 UNIVERSITY AVE, miasta: DES MOINES\n",
      "count: 68, Uzupełniono dane geograficzne dla adresu: 5150 100TH STREET, miasta: URBANDALE\n",
      "count: 69, Uzupełniono dane geograficzne dla adresu: 901 N ANKENY BLVD, miasta: ANKENY\n",
      "count: 70, Uzupełniono dane geograficzne dla adresu: 1219 1ST ST, miasta: PERRY\n",
      "count: 71, Uzupełniono dane geograficzne dla adresu: 1202 EAST LOCUST ST, miasta: CARTER LAKE\n",
      "count: 72, Uzupełniono dane geograficzne dla adresu: 2805 TELEGRAPH RD, miasta: DAVENPORT\n",
      "count: 73, Uzupełniono dane geograficzne dla adresu: 1300 W BURLINGTON, miasta: FAIRFIELD\n",
      "count: 74, Uzupełniono dane geograficzne dla adresu: 849 SOUTH ANKENY BLVD., miasta: ANKENY\n",
      "count: 75, Uzupełniono dane geograficzne dla adresu: 1701 IOWA AVE, miasta: MARSHALLTOWN\n",
      "count: 76, Uzupełniono dane geograficzne dla adresu: 75 MAIN ST, miasta: MIDDLETOWN\n",
      "count: 77, Uzupełniono dane geograficzne dla adresu: 1003 SUMMER STREET, miasta: BURLINGTON\n",
      "count: 78, Uzupełniono dane geograficzne dla adresu: 235 EDGEWOOD RD NE, miasta: CEDAR RAPIDS\n",
      "count: 79, Uzupełniono dane geograficzne dla adresu: 2050 JOHN F KENNEDY RD, miasta: DUBUQUE\n",
      "count: 80, Uzupełniono dane geograficzne dla adresu: 15601 HICKMAN RD, miasta: CLIVE\n",
      "count: 81, Uzupełniono dane geograficzne dla adresu: 5830 SE 14TH ST, miasta: DES MOINES\n",
      "count: 82, Uzupełniono dane geograficzne dla adresu: 333 220TH STREET, miasta: WILLIAMSBURG\n",
      "count: 83, Uzupełniono dane geograficzne dla adresu: 1101, JEFFERSON ST, miasta: DENVER\n",
      "count: 84, Uzupełniono dane geograficzne dla adresu: 109 EAST LOCUST STREET, miasta: CARTER LAKE\n",
      "count: 85, Uzupełniono dane geograficzne dla adresu: 4400 128TH ST, miasta: URBANDALE\n",
      "count: 86, Uzupełniono dane geograficzne dla adresu: 7229, UNIVERSITY AVE, miasta: WINDSOR HEIGHTS\n",
      "count: 87, Uzupełniono dane geograficzne dla adresu: 1003 SUMMER ST, miasta: BURLINGTON\n",
      "count: 88, Uzupełniono dane geograficzne dla adresu: 1777 DIVISION ST, miasta: DAVENPORT\n",
      "count: 89, Uzupełniono dane geograficzne dla adresu: 7690 HICKMAN RD, miasta: WINDSOR HEIGHTS\n",
      "count: 90, Uzupełniono dane geograficzne dla adresu: 919 W 5TH ST, miasta: WATERLOO\n",
      "count: 91, Uzupełniono dane geograficzne dla adresu: 12905 MEREDITH DRIVE, miasta: URBANDALE\n",
      "count: 92, Uzupełniono dane geograficzne dla adresu: 1117 CLINTON ST, miasta: ALBIA\n",
      "count: 93, Uzupełniono dane geograficzne dla adresu: 901 S MAIN ST., miasta: MONONA\n",
      "count: 94, Uzupełniono dane geograficzne dla adresu: 1225 FOUNTAINS WAY, miasta: CEDAR FALLS\n",
      "count: 95, Uzupełniono dane geograficzne dla adresu: 1701 SOUTHEAST 37TH STREET, miasta: GRIMES\n",
      "count: 96, Uzupełniono dane geograficzne dla adresu: 1201 LAKESHORE DR, miasta: STORM LAKE\n",
      "count: 97, Uzupełniono dane geograficzne dla adresu: 813 1/2 HIGHLAND ST, miasta: WILLIAMSBURG\n",
      "count: 98, Uzupełniono dane geograficzne dla adresu: 11802 AVENUE H, miasta: FORT MADISON\n",
      "count: 99, Uzupełniono dane geograficzne dla adresu: 1205/1207, LOCUST ST., miasta: DAVENPORT\n",
      "count: 100, Uzupełniono dane geograficzne dla adresu: 122, FRONT ST., miasta: BROOKLYN\n",
      "count: 101, Uzupełniono dane geograficzne dla adresu: 2030 21ST ST NW, miasta: ALTOONA\n",
      "count: 102, Uzupełniono dane geograficzne dla adresu: 1201 1/2 LAKESHORE DR, miasta: STORM LAKE\n",
      "count: 103, Uzupełniono dane geograficzne dla adresu: FIRST & MAIN, miasta: FT. ATKINSON\n",
      "count: 104, Uzupełniono dane geograficzne dla adresu: 2315, MT VERNON RD SE, miasta: CEDAR RAPIDS\n",
      "count: 105, Uzupełniono dane geograficzne dla adresu: 3107 N BRADY ST, miasta: DAVENPORT\n",
      "count: 106, Uzupełniono dane geograficzne dla adresu: 1581, 1ST AVE SE, miasta: CEDAR RAPIDS\n",
      "count: 107, Uzupełniono dane geograficzne dla adresu: 4107 CENTER POINT RD, miasta: CEDAR RAPIDS\n",
      "count: 108, Uzupełniono dane geograficzne dla adresu: 1601 5TH AVE, miasta: FORT DODGE\n",
      "count: 109, Uzupełniono dane geograficzne dla adresu: 1581 1ST AVE SE, miasta: CEDAR RAPIDS\n"
     ]
    }
   ],
   "source": [
    "# Iteracja tylko przez unikalne adresy\n",
    "for address in unique_addresses:\n",
    "    temp_df = filtered_df[filtered_df['address'] == address]\n",
    "    geocode_and_fill_coordinates(temp_df.iloc[0])"
   ],
   "metadata": {
    "collapsed": false,
    "ExecuteTime": {
     "end_time": "2023-12-02T21:09:29.293209017Z",
     "start_time": "2023-12-02T20:59:15.322178493Z"
    }
   },
   "id": "b3574328f7ebd740"
  },
  {
   "cell_type": "code",
   "execution_count": 133,
   "outputs": [],
   "source": [
    "# Uaktualnij kolumny 'latitude' i 'longitude' korzystając ze słownika 'found_coordinates'\n",
    "for index, row in df4.iterrows():\n",
    "    if (row['address'], row['city']) in found_coordinates:\n",
    "        lat, lon = found_coordinates[(row['address'], row['city'])]\n",
    "        df4.at[index, 'latitude'] = lat\n",
    "        df4.at[index, 'longitude'] = lon"
   ],
   "metadata": {
    "collapsed": false,
    "ExecuteTime": {
     "end_time": "2023-12-02T21:13:12.832251386Z",
     "start_time": "2023-12-02T21:12:20.477971053Z"
    }
   },
   "id": "c5ba85cfb477da9b"
  },
  {
   "cell_type": "code",
   "execution_count": 124,
   "id": "2bdde6880004527f",
   "metadata": {
    "collapsed": false,
    "ExecuteTime": {
     "end_time": "2023-12-02T21:10:21.595190049Z",
     "start_time": "2023-12-02T21:10:21.476361484Z"
    }
   },
   "outputs": [
    {
     "data": {
      "text/plain": "\u001B[2;36m[12/02/23 22:10:21]\u001B[0m\u001B[2;36m \u001B[0m\u001B[31mWARNING \u001B[0m \u001B[35m/tmp/ipykernel_274408/\u001B[0m\u001B[95m257068875.py\u001B[0m:\u001B[1;36m1\u001B[0m: SettingWithCopyWarning:          \u001B]8;id=408013;file:///usr/lib/python3.10/warnings.py\u001B\\\u001B[2mwarnings.py\u001B[0m\u001B]8;;\u001B\\\u001B[2m:\u001B[0m\u001B]8;id=908665;file:///usr/lib/python3.10/warnings.py#109\u001B\\\u001B[2m109\u001B[0m\u001B]8;;\u001B\\\n\u001B[2;36m                    \u001B[0m         A value is trying to be set on a copy of a slice from a DataFrame      \u001B[2m               \u001B[0m\n\u001B[2;36m                    \u001B[0m                                                                                \u001B[2m               \u001B[0m\n\u001B[2;36m                    \u001B[0m         See the caveats in the documentation:                                  \u001B[2m               \u001B[0m\n\u001B[2;36m                    \u001B[0m         \u001B[4;94mhttps://pandas.pydata.org/pandas-docs/stable/user_guide/indexing.html#\u001B[0m \u001B[2m               \u001B[0m\n\u001B[2;36m                    \u001B[0m         \u001B[4;94mreturning-a-view-versus-a-copy\u001B[0m                                         \u001B[2m               \u001B[0m\n\u001B[2;36m                    \u001B[0m           \u001B[1;35mdf4.drop\u001B[0m\u001B[1m(\u001B[0m\u001B[33mcolumns\u001B[0m=\u001B[1m[\u001B[0m\u001B[32m':@computed_region_3r5t_5243'\u001B[0m,                     \u001B[2m               \u001B[0m\n\u001B[2;36m                    \u001B[0m         \u001B[32m':@computed_region_wnea_7qqw'\u001B[0m, \u001B[32m':@computed_region_i9mz_6gmt'\u001B[0m,          \u001B[2m               \u001B[0m\n\u001B[2;36m                    \u001B[0m         \u001B[32m':@computed_region_uhgg_e8y2'\u001B[0m, \u001B[32m':@computed_region_e7ym_nrbf'\u001B[0m\u001B[1m]\u001B[0m,         \u001B[2m               \u001B[0m\n\u001B[2;36m                    \u001B[0m         \u001B[33minplace\u001B[0m=\u001B[3;92mTrue\u001B[0m\u001B[1m)\u001B[0m                                                          \u001B[2m               \u001B[0m\n\u001B[2;36m                    \u001B[0m                                                                                \u001B[2m               \u001B[0m\n",
      "text/html": "<pre style=\"white-space:pre;overflow-x:auto;line-height:normal;font-family:Menlo,'DejaVu Sans Mono',consolas,'Courier New',monospace\"><span style=\"color: #7fbfbf; text-decoration-color: #7fbfbf\">[12/02/23 22:10:21] </span><span style=\"color: #800000; text-decoration-color: #800000\">WARNING </span> <span style=\"color: #800080; text-decoration-color: #800080\">/tmp/ipykernel_274408/</span><span style=\"color: #ff00ff; text-decoration-color: #ff00ff\">257068875.py</span>:<span style=\"color: #008080; text-decoration-color: #008080; font-weight: bold\">1</span>: SettingWithCopyWarning:          <a href=\"file:///usr/lib/python3.10/warnings.py\" target=\"_blank\"><span style=\"color: #7f7f7f; text-decoration-color: #7f7f7f\">warnings.py</span></a><span style=\"color: #7f7f7f; text-decoration-color: #7f7f7f\">:</span><a href=\"file:///usr/lib/python3.10/warnings.py#109\" target=\"_blank\"><span style=\"color: #7f7f7f; text-decoration-color: #7f7f7f\">109</span></a>\n<span style=\"color: #7fbfbf; text-decoration-color: #7fbfbf\">                    </span>         A value is trying to be set on a copy of a slice from a DataFrame      <span style=\"color: #7f7f7f; text-decoration-color: #7f7f7f\">               </span>\n<span style=\"color: #7fbfbf; text-decoration-color: #7fbfbf\">                    </span>                                                                                <span style=\"color: #7f7f7f; text-decoration-color: #7f7f7f\">               </span>\n<span style=\"color: #7fbfbf; text-decoration-color: #7fbfbf\">                    </span>         See the caveats in the documentation:                                  <span style=\"color: #7f7f7f; text-decoration-color: #7f7f7f\">               </span>\n<span style=\"color: #7fbfbf; text-decoration-color: #7fbfbf\">                    </span>         <span style=\"color: #0000ff; text-decoration-color: #0000ff; text-decoration: underline\">https://pandas.pydata.org/pandas-docs/stable/user_guide/indexing.html#</span> <span style=\"color: #7f7f7f; text-decoration-color: #7f7f7f\">               </span>\n<span style=\"color: #7fbfbf; text-decoration-color: #7fbfbf\">                    </span>         <span style=\"color: #0000ff; text-decoration-color: #0000ff; text-decoration: underline\">returning-a-view-versus-a-copy</span>                                         <span style=\"color: #7f7f7f; text-decoration-color: #7f7f7f\">               </span>\n<span style=\"color: #7fbfbf; text-decoration-color: #7fbfbf\">                    </span>           <span style=\"color: #800080; text-decoration-color: #800080; font-weight: bold\">df4.drop</span><span style=\"font-weight: bold\">(</span><span style=\"color: #808000; text-decoration-color: #808000\">columns</span>=<span style=\"font-weight: bold\">[</span><span style=\"color: #008000; text-decoration-color: #008000\">':@computed_region_3r5t_5243'</span>,                     <span style=\"color: #7f7f7f; text-decoration-color: #7f7f7f\">               </span>\n<span style=\"color: #7fbfbf; text-decoration-color: #7fbfbf\">                    </span>         <span style=\"color: #008000; text-decoration-color: #008000\">':@computed_region_wnea_7qqw'</span>, <span style=\"color: #008000; text-decoration-color: #008000\">':@computed_region_i9mz_6gmt'</span>,          <span style=\"color: #7f7f7f; text-decoration-color: #7f7f7f\">               </span>\n<span style=\"color: #7fbfbf; text-decoration-color: #7fbfbf\">                    </span>         <span style=\"color: #008000; text-decoration-color: #008000\">':@computed_region_uhgg_e8y2'</span>, <span style=\"color: #008000; text-decoration-color: #008000\">':@computed_region_e7ym_nrbf'</span><span style=\"font-weight: bold\">]</span>,         <span style=\"color: #7f7f7f; text-decoration-color: #7f7f7f\">               </span>\n<span style=\"color: #7fbfbf; text-decoration-color: #7fbfbf\">                    </span>         <span style=\"color: #808000; text-decoration-color: #808000\">inplace</span>=<span style=\"color: #00ff00; text-decoration-color: #00ff00; font-style: italic\">True</span><span style=\"font-weight: bold\">)</span>                                                          <span style=\"color: #7f7f7f; text-decoration-color: #7f7f7f\">               </span>\n<span style=\"color: #7fbfbf; text-decoration-color: #7fbfbf\">                    </span>                                                                                <span style=\"color: #7f7f7f; text-decoration-color: #7f7f7f\">               </span>\n</pre>\n"
     },
     "metadata": {},
     "output_type": "display_data"
    }
   ],
   "source": [
    "df4.drop(columns=[':@computed_region_3r5t_5243', ':@computed_region_wnea_7qqw', ':@computed_region_i9mz_6gmt', ':@computed_region_uhgg_e8y2', ':@computed_region_e7ym_nrbf'], inplace=True)"
   ]
  },
  {
   "cell_type": "code",
   "execution_count": 131,
   "outputs": [
    {
     "data": {
      "text/plain": "",
      "text/html": "<pre style=\"white-space:pre;overflow-x:auto;line-height:normal;font-family:Menlo,'DejaVu Sans Mono',consolas,'Courier New',monospace\"></pre>\n"
     },
     "metadata": {},
     "output_type": "display_data"
    },
    {
     "data": {
      "text/plain": "\n\u001B[1m{\u001B[0m\n    \u001B[1m(\u001B[0m\u001B[32m'3301 W KIMBERLY RD'\u001B[0m, \u001B[32m'DAVENPORT'\u001B[0m\u001B[1m)\u001B[0m: \u001B[1m(\u001B[0m\u001B[1;36m41.56010616639723\u001B[0m, \u001B[1;36m-90.62564826026505\u001B[0m\u001B[1m)\u001B[0m,\n    \u001B[1m(\u001B[0m\u001B[32m'923 S RIVERSIDE DR'\u001B[0m, \u001B[32m'IOWA CITY'\u001B[0m\u001B[1m)\u001B[0m: \u001B[1m(\u001B[0m\u001B[1;36m41.648967400000004\u001B[0m, \u001B[1;36m-91.54063994959914\u001B[0m\u001B[1m)\u001B[0m,\n    \u001B[1m(\u001B[0m\u001B[32m'910 N JEFFERSON'\u001B[0m, \u001B[32m'INDIANOLA'\u001B[0m\u001B[1m)\u001B[0m: \u001B[1m(\u001B[0m\u001B[1;36m41.3688696\u001B[0m, \u001B[1;36m-93.5567938\u001B[0m\u001B[1m)\u001B[0m,\n    \u001B[1m(\u001B[0m\u001B[32m'4506 LINCOLN WAY'\u001B[0m, \u001B[32m'AMES'\u001B[0m\u001B[1m)\u001B[0m: \u001B[1m(\u001B[0m\u001B[1;36m42.022828448979595\u001B[0m, \u001B[1;36m-93.67899475510204\u001B[0m\u001B[1m)\u001B[0m,\n    \u001B[1m(\u001B[0m\u001B[32m'4910 MAPLE DR.'\u001B[0m, \u001B[32m'PLEASANT HILL'\u001B[0m\u001B[1m)\u001B[0m: \u001B[1m(\u001B[0m\u001B[1;36m41.59812607356444\u001B[0m, \u001B[1;36m-93.5185557938476\u001B[0m\u001B[1m)\u001B[0m,\n    \u001B[1m(\u001B[0m\u001B[32m'17948 GREAT RIVER RD'\u001B[0m, \u001B[32m'PLEASANT VALLEY'\u001B[0m\u001B[1m)\u001B[0m: \u001B[1m(\u001B[0m\u001B[1;36m41.56794890152722\u001B[0m, \u001B[1;36m-90.42743166817458\u001B[0m\u001B[1m)\u001B[0m,\n    \u001B[1m(\u001B[0m\u001B[32m'1312 HARRISON ST'\u001B[0m, \u001B[32m'DAVENPORT'\u001B[0m\u001B[1m)\u001B[0m: \u001B[1m(\u001B[0m\u001B[1;36m41.53320681632653\u001B[0m, \u001B[1;36m-90.57733385714286\u001B[0m\u001B[1m)\u001B[0m,\n    \u001B[1m(\u001B[0m\u001B[32m'405, MADISON AVE'\u001B[0m, \u001B[32m'OTTUMWA'\u001B[0m\u001B[1m)\u001B[0m: \u001B[1m(\u001B[0m\u001B[1;36m40.99894365\u001B[0m, \u001B[1;36m-92.41071425\u001B[0m\u001B[1m)\u001B[0m,\n    \u001B[1m(\u001B[0m\u001B[32m'2580 MOSS RIDGE RD'\u001B[0m, \u001B[32m'IOWA CITY'\u001B[0m\u001B[1m)\u001B[0m: \u001B[1m(\u001B[0m\u001B[1;36m41.6936359\u001B[0m, \u001B[1;36m-91.4955463\u001B[0m\u001B[1m)\u001B[0m,\n    \u001B[1m(\u001B[0m\u001B[32m'9TH ST SW B'\u001B[0m, \u001B[32m'WAUKON'\u001B[0m\u001B[1m)\u001B[0m: \u001B[1m(\u001B[0m\u001B[1;36m43.2535266\u001B[0m, \u001B[1;36m-91.4879334\u001B[0m\u001B[1m)\u001B[0m,\n    \u001B[1m(\u001B[0m\u001B[32m'3010 UNIVERSITY DR'\u001B[0m, \u001B[32m'MUSCATINE'\u001B[0m\u001B[1m)\u001B[0m: \u001B[1m(\u001B[0m\u001B[1;36m41.45336264392128\u001B[0m, \u001B[1;36m-91.01644629522043\u001B[0m\u001B[1m)\u001B[0m,\n    \u001B[1m(\u001B[0m\u001B[32m'600 7TH AVE'\u001B[0m, \u001B[32m'TRIPOLI'\u001B[0m\u001B[1m)\u001B[0m: \u001B[1m(\u001B[0m\u001B[1;36m42.80244911471834\u001B[0m, \u001B[1;36m-92.26440934116937\u001B[0m\u001B[1m)\u001B[0m,\n    \u001B[1m(\u001B[0m\u001B[32m'1625 WEST 4TH ST'\u001B[0m, \u001B[32m'WATERLOO'\u001B[0m\u001B[1m)\u001B[0m: \u001B[1m(\u001B[0m\u001B[1;36m42.48443575510204\u001B[0m, \u001B[1;36m-92.35611904081632\u001B[0m\u001B[1m)\u001B[0m,\n    \u001B[1m(\u001B[0m\u001B[32m'222 W FRONT ST'\u001B[0m, \u001B[32m'BUFFALO'\u001B[0m\u001B[1m)\u001B[0m: \u001B[1m(\u001B[0m\u001B[1;36m41.45615152403248\u001B[0m, \u001B[1;36m-90.71796566613507\u001B[0m\u001B[1m)\u001B[0m,\n    \u001B[1m(\u001B[0m\u001B[32m'7101 UNIVERSITY AVE'\u001B[0m, \u001B[32m'WINDSOR HEIGHTS'\u001B[0m\u001B[1m)\u001B[0m: \u001B[1m(\u001B[0m\u001B[1;36m41.600913500000004\u001B[0m, \u001B[1;36m-93.71561584358204\u001B[0m\u001B[1m)\u001B[0m,\n    \u001B[1m(\u001B[0m\u001B[32m'1290 S DUBUQUE ST'\u001B[0m, \u001B[32m'NORTH LIBERTY'\u001B[0m\u001B[1m)\u001B[0m: \u001B[1m(\u001B[0m\u001B[1;36m41.7396836\u001B[0m, \u001B[1;36m-91.5867139\u001B[0m\u001B[1m)\u001B[0m,\n    \u001B[1m(\u001B[0m\u001B[32m'1500 NORTH JEFFERSON'\u001B[0m, \u001B[32m'INDIANOLA'\u001B[0m\u001B[1m)\u001B[0m: \u001B[1m(\u001B[0m\u001B[1;36m41.3725853\u001B[0m, \u001B[1;36m-93.5551553\u001B[0m\u001B[1m)\u001B[0m,\n    \u001B[1m(\u001B[0m\u001B[32m'531 U.S. 52'\u001B[0m, \u001B[32m'GUTTENBERG'\u001B[0m\u001B[1m)\u001B[0m: \u001B[1m(\u001B[0m\u001B[1;36m50.1549878\u001B[0m, \u001B[1;36m11.5646155\u001B[0m\u001B[1m)\u001B[0m,\n    \u001B[1m(\u001B[0m\u001B[32m'3800 W LINCOLN WAY'\u001B[0m, \u001B[32m'AMES'\u001B[0m\u001B[1m)\u001B[0m: \u001B[1m(\u001B[0m\u001B[1;36m42.0228293\u001B[0m, \u001B[1;36m-93.6920118\u001B[0m\u001B[1m)\u001B[0m,\n    \u001B[1m(\u001B[0m\u001B[32m'3221 SE 14TH ST'\u001B[0m, \u001B[32m'DES MOINES'\u001B[0m\u001B[1m)\u001B[0m: \u001B[1m(\u001B[0m\u001B[1;36m41.5550095\u001B[0m, \u001B[1;36m-93.5949994\u001B[0m\u001B[1m)\u001B[0m,\n    \u001B[1m(\u001B[0m\u001B[32m'3424 MARTIN LUTHER KING JUNIOR PARKWAY'\u001B[0m, \u001B[32m'DES MOINES'\u001B[0m\u001B[1m)\u001B[0m: \u001B[1m(\u001B[0m\n        \u001B[1;36m41.624558815736755\u001B[0m,\n        \u001B[1;36m-93.64968284434097\u001B[0m\n    \u001B[1m)\u001B[0m,\n    \u001B[1m(\u001B[0m\u001B[32m'2126 KIMBALL AVE'\u001B[0m, \u001B[32m'WATERLOO'\u001B[0m\u001B[1m)\u001B[0m: \u001B[1m(\u001B[0m\u001B[1;36m42.47072628282829\u001B[0m, \u001B[1;36m-92.35703392929292\u001B[0m\u001B[1m)\u001B[0m,\n    \u001B[1m(\u001B[0m\u001B[32m'410 NORTH ANKENY BLVD'\u001B[0m, \u001B[32m'ANKENY'\u001B[0m\u001B[1m)\u001B[0m: \u001B[1m(\u001B[0m\u001B[1;36m41.7347922\u001B[0m, \u001B[1;36m-93.6024524\u001B[0m\u001B[1m)\u001B[0m,\n    \u001B[1m(\u001B[0m\u001B[32m'102 W. CARLISLE'\u001B[0m, \u001B[32m'MAQUOKETA'\u001B[0m\u001B[1m)\u001B[0m: \u001B[1m(\u001B[0m\u001B[1;36m42.0498861\u001B[0m, \u001B[1;36m-90.6665023\u001B[0m\u001B[1m)\u001B[0m,\n    \u001B[1m(\u001B[0m\u001B[32m'4960 E BROADWAY AVE'\u001B[0m, \u001B[32m'DES MOINES'\u001B[0m\u001B[1m)\u001B[0m: \u001B[1m(\u001B[0m\u001B[1;36m41.644085\u001B[0m, \u001B[1;36m-93.515767\u001B[0m\u001B[1m)\u001B[0m,\n    \u001B[1m(\u001B[0m\u001B[32m'1824 HUBBELL AVE'\u001B[0m, \u001B[32m'DES MOINES'\u001B[0m\u001B[1m)\u001B[0m: \u001B[1m(\u001B[0m\u001B[1;36m41.596446285714286\u001B[0m, \u001B[1;36m-93.58604542857142\u001B[0m\u001B[1m)\u001B[0m,\n    \u001B[1m(\u001B[0m\u001B[32m'8400 NICC DRIVE'\u001B[0m, \u001B[32m'PEOSTA'\u001B[0m\u001B[1m)\u001B[0m: \u001B[1m(\u001B[0m\u001B[1;36m42.4447797\u001B[0m, \u001B[1;36m-90.8498777\u001B[0m\u001B[1m)\u001B[0m,\n    \u001B[1m(\u001B[0m\u001B[32m'812 S 1ST AVE'\u001B[0m, \u001B[32m'IOWA CITY'\u001B[0m\u001B[1m)\u001B[0m: \u001B[1m(\u001B[0m\u001B[1;36m41.65139165\u001B[0m, \u001B[1;36m-91.50102494439415\u001B[0m\u001B[1m)\u001B[0m,\n    \u001B[1m(\u001B[0m\u001B[32m'512  8TH SE'\u001B[0m, \u001B[32m'ORANGE CITY'\u001B[0m\u001B[1m)\u001B[0m: \u001B[1m(\u001B[0m\u001B[1;36m42.99689485\u001B[0m, \u001B[1;36m-96.05236485405482\u001B[0m\u001B[1m)\u001B[0m,\n    \u001B[1m(\u001B[0m\u001B[32m'800 HAMILTON BLVD.'\u001B[0m, \u001B[32m'SIOUX CITY'\u001B[0m\u001B[1m)\u001B[0m: \u001B[1m(\u001B[0m\u001B[1;36m42.504205\u001B[0m, \u001B[1;36m-96.417517\u001B[0m\u001B[1m)\u001B[0m,\n    \u001B[1m(\u001B[0m\u001B[32m'1320 E EUCLID AVE'\u001B[0m, \u001B[32m'DES MOINES'\u001B[0m\u001B[1m)\u001B[0m: \u001B[1m(\u001B[0m\u001B[1;36m41.62763319387756\u001B[0m, \u001B[1;36m-93.60327125510204\u001B[0m\u001B[1m)\u001B[0m,\n    \u001B[1m(\u001B[0m\u001B[32m'1201 N JEFFERSON'\u001B[0m, \u001B[32m'INDIANOLA'\u001B[0m\u001B[1m)\u001B[0m: \u001B[1m(\u001B[0m\u001B[1;36m41.371487\u001B[0m, \u001B[1;36m-93.558508\u001B[0m\u001B[1m)\u001B[0m,\n    \u001B[1m(\u001B[0m\u001B[32m'5427  CENTER POINT RD'\u001B[0m, \u001B[32m'CEDAR RAPIDS'\u001B[0m\u001B[1m)\u001B[0m: \u001B[1m(\u001B[0m\u001B[1;36m42.03317139503261\u001B[0m, \u001B[1;36m-91.66817635024904\u001B[0m\u001B[1m)\u001B[0m,\n    \u001B[1m(\u001B[0m\u001B[32m'4701 HWY 61'\u001B[0m, \u001B[32m'MUSCATINE'\u001B[0m\u001B[1m)\u001B[0m: \u001B[1m(\u001B[0m\u001B[1;36m41.3535389\u001B[0m, \u001B[1;36m-91.1580785\u001B[0m\u001B[1m)\u001B[0m,\n    \u001B[1m(\u001B[0m\u001B[32m'3200 MANAWA DR'\u001B[0m, \u001B[32m'COUNCIL BLUFFS'\u001B[0m\u001B[1m)\u001B[0m: \u001B[1m(\u001B[0m\u001B[1;36m41.226557400000004\u001B[0m, \u001B[1;36m-95.84869621186036\u001B[0m\u001B[1m)\u001B[0m,\n    \u001B[1m(\u001B[0m\u001B[32m'2315 MT VERNON RD SE'\u001B[0m, \u001B[32m'CEDAR RAPIDS'\u001B[0m\u001B[1m)\u001B[0m: \u001B[1m(\u001B[0m\u001B[1;36m41.9766439\u001B[0m, \u001B[1;36m-91.6337397\u001B[0m\u001B[1m)\u001B[0m,\n    \u001B[1m(\u001B[0m\u001B[32m'1515 SE CORPORATE WOODS DR'\u001B[0m, \u001B[32m'ANKENY'\u001B[0m\u001B[1m)\u001B[0m: \u001B[1m(\u001B[0m\u001B[1;36m41.6803346\u001B[0m, \u001B[1;36m-93.5772507\u001B[0m\u001B[1m)\u001B[0m,\n    \u001B[1m(\u001B[0m\u001B[32m'3205 NORTH ANKENY BLVD'\u001B[0m, \u001B[32m'ANKENY'\u001B[0m\u001B[1m)\u001B[0m: \u001B[1m(\u001B[0m\u001B[1;36m41.7570604\u001B[0m, \u001B[1;36m-93.5992470134227\u001B[0m\u001B[1m)\u001B[0m,\n    \u001B[1m(\u001B[0m\u001B[32m'305 34TH AVE NW'\u001B[0m, \u001B[32m'ALTOONA'\u001B[0m\u001B[1m)\u001B[0m: \u001B[1m(\u001B[0m\u001B[1;36m41.6641195\u001B[0m, \u001B[1;36m-93.5030762\u001B[0m\u001B[1m)\u001B[0m,\n    \u001B[1m(\u001B[0m\u001B[32m'204 6TH ST'\u001B[0m, \u001B[32m'CORNING'\u001B[0m\u001B[1m)\u001B[0m: \u001B[1m(\u001B[0m\u001B[1;36m40.988057\u001B[0m, \u001B[1;36m-94.731282\u001B[0m\u001B[1m)\u001B[0m,\n    \u001B[1m(\u001B[0m\u001B[32m'103 HIGHLAND ST'\u001B[0m, \u001B[32m'WILLIAMSBURG'\u001B[0m\u001B[1m)\u001B[0m: \u001B[1m(\u001B[0m\u001B[1;36m41.6591433\u001B[0m, \u001B[1;36m-92.0075426\u001B[0m\u001B[1m)\u001B[0m,\n    \u001B[1m(\u001B[0m\u001B[32m'1424 E EUCLID AVE'\u001B[0m, \u001B[32m'DES MOINES'\u001B[0m\u001B[1m)\u001B[0m: \u001B[1m(\u001B[0m\u001B[1;36m41.62780271186441\u001B[0m, \u001B[1;36m-93.59969489830509\u001B[0m\u001B[1m)\u001B[0m,\n    \u001B[1m(\u001B[0m\u001B[32m\"870 NE ALICE'S RD\"\u001B[0m, \u001B[32m'WAUKEE'\u001B[0m\u001B[1m)\u001B[0m: \u001B[1m(\u001B[0m\u001B[1;36m41.6287036\u001B[0m, \u001B[1;36m-93.852866\u001B[0m\u001B[1m)\u001B[0m,\n    \u001B[1m(\u001B[0m\u001B[32m'7229 UNIVERSITY AVE'\u001B[0m, \u001B[32m'WINDSOR HEIGHTS'\u001B[0m\u001B[1m)\u001B[0m: \u001B[1m(\u001B[0m\u001B[1;36m41.60092755\u001B[0m, \u001B[1;36m-93.71735565894639\u001B[0m\u001B[1m)\u001B[0m,\n    \u001B[1m(\u001B[0m\u001B[32m'40  W SAN MARNAN'\u001B[0m, \u001B[32m'WATERLOO'\u001B[0m\u001B[1m)\u001B[0m: \u001B[1m(\u001B[0m\u001B[1;36m42.4587969\u001B[0m, \u001B[1;36m-92.3578428\u001B[0m\u001B[1m)\u001B[0m,\n    \u001B[1m(\u001B[0m\u001B[32m'3500 DODGE ST'\u001B[0m, \u001B[32m'DUBUQUE'\u001B[0m\u001B[1m)\u001B[0m: \u001B[1m(\u001B[0m\u001B[1;36m42.4900593\u001B[0m, \u001B[1;36m-90.720885\u001B[0m\u001B[1m)\u001B[0m,\n    \u001B[1m(\u001B[0m\u001B[32m'1621 UNIVERSITY AVE'\u001B[0m, \u001B[32m'DES MOINES'\u001B[0m\u001B[1m)\u001B[0m: \u001B[1m(\u001B[0m\u001B[1;36m41.60063635\u001B[0m, \u001B[1;36m-93.6399316499343\u001B[0m\u001B[1m)\u001B[0m,\n    \u001B[1m(\u001B[0m\u001B[32m'717 1ST  AVE'\u001B[0m, \u001B[32m'CASCADE'\u001B[0m\u001B[1m)\u001B[0m: \u001B[1m(\u001B[0m\u001B[1;36m49.0195802\u001B[0m, \u001B[1;36m-118.2091159\u001B[0m\u001B[1m)\u001B[0m,\n    \u001B[1m(\u001B[0m\u001B[32m'500 CROELL AVENUE'\u001B[0m, \u001B[32m'TIFFIN'\u001B[0m\u001B[1m)\u001B[0m: \u001B[1m(\u001B[0m\u001B[1;36m41.709035\u001B[0m, \u001B[1;36m-91.657313\u001B[0m\u001B[1m)\u001B[0m,\n    \u001B[1m(\u001B[0m\u001B[32m'201 SUNSET ST'\u001B[0m, \u001B[32m'URBANA'\u001B[0m\u001B[1m)\u001B[0m: \u001B[1m(\u001B[0m\u001B[1;36m42.22805970183921\u001B[0m, \u001B[1;36m-91.86903193085352\u001B[0m\u001B[1m)\u001B[0m,\n    \u001B[1m(\u001B[0m\u001B[32m'2890 E BROADWAY AVE'\u001B[0m, \u001B[32m'DES MOINES'\u001B[0m\u001B[1m)\u001B[0m: \u001B[1m(\u001B[0m\u001B[1;36m41.644085\u001B[0m, \u001B[1;36m-93.515767\u001B[0m\u001B[1m)\u001B[0m,\n    \u001B[1m(\u001B[0m\u001B[32m'644 220TH ST'\u001B[0m, \u001B[32m'WINTHROP'\u001B[0m\u001B[1m)\u001B[0m: \u001B[1m(\u001B[0m\u001B[1;36m42.46850336650503\u001B[0m, \u001B[1;36m-91.73848268451957\u001B[0m\u001B[1m)\u001B[0m,\n    \u001B[1m(\u001B[0m\u001B[32m'1825 N ANKENY BLVD'\u001B[0m, \u001B[32m'ANKENY'\u001B[0m\u001B[1m)\u001B[0m: \u001B[1m(\u001B[0m\u001B[1;36m41.746976450000005\u001B[0m, \u001B[1;36m-93.59977017538662\u001B[0m\u001B[1m)\u001B[0m,\n    \u001B[1m(\u001B[0m\u001B[32m'1000 N JEFFERSON ST'\u001B[0m, \u001B[32m'INDIANOLA'\u001B[0m\u001B[1m)\u001B[0m: \u001B[1m(\u001B[0m\u001B[1;36m33.442321\u001B[0m, \u001B[1;36m-90.645147\u001B[0m\u001B[1m)\u001B[0m,\n    \u001B[1m(\u001B[0m\u001B[32m'8700 HICKMAN'\u001B[0m, \u001B[32m'CLIVE'\u001B[0m\u001B[1m)\u001B[0m: \u001B[1m(\u001B[0m\u001B[1;36m41.614005899999995\u001B[0m, \u001B[1;36m-93.73286656585847\u001B[0m\u001B[1m)\u001B[0m,\n    \u001B[1m(\u001B[0m\u001B[32m'5101 SE 14TH ST'\u001B[0m, \u001B[32m'DES MOINES'\u001B[0m\u001B[1m)\u001B[0m: \u001B[1m(\u001B[0m\u001B[1;36m41.5370815\u001B[0m, \u001B[1;36m-93.5924032\u001B[0m\u001B[1m)\u001B[0m,\n    \u001B[1m(\u001B[0m\u001B[32m'206 SHORT ST'\u001B[0m, \u001B[32m'MECHANICSVILLE'\u001B[0m\u001B[1m)\u001B[0m: \u001B[1m(\u001B[0m\u001B[1;36m41.903128\u001B[0m, \u001B[1;36m-91.2578126\u001B[0m\u001B[1m)\u001B[0m,\n    \u001B[1m(\u001B[0m\u001B[32m'812  S 1ST AVE'\u001B[0m, \u001B[32m'IOWA CITY'\u001B[0m\u001B[1m)\u001B[0m: \u001B[1m(\u001B[0m\u001B[1;36m41.65139165\u001B[0m, \u001B[1;36m-91.50102494439415\u001B[0m\u001B[1m)\u001B[0m,\n    \u001B[1m(\u001B[0m\u001B[32m'14046 45TH ST'\u001B[0m, \u001B[32m'LIME SPRINGS'\u001B[0m\u001B[1m)\u001B[0m: \u001B[1m(\u001B[0m\u001B[1;36m43.450935\u001B[0m, \u001B[1;36m-92.219545\u001B[0m\u001B[1m)\u001B[0m,\n    \u001B[1m(\u001B[0m\u001B[32m'2106 ECHO VALLEY DR'\u001B[0m, \u001B[32m'DES MOINES'\u001B[0m\u001B[1m)\u001B[0m: \u001B[1m(\u001B[0m\u001B[1;36m41.5119018\u001B[0m, \u001B[1;36m-93.6480904\u001B[0m\u001B[1m)\u001B[0m,\n    \u001B[1m(\u001B[0m\u001B[32m'201 HWY 21'\u001B[0m, \u001B[32m'DYSART'\u001B[0m\u001B[1m)\u001B[0m: \u001B[1m(\u001B[0m\u001B[1;36m53.4644442\u001B[0m, \u001B[1;36m-8.2172739\u001B[0m\u001B[1m)\u001B[0m,\n    \u001B[1m(\u001B[0m\u001B[32m'1630 EAST 16TH ST'\u001B[0m, \u001B[32m'DUBUQUE'\u001B[0m\u001B[1m)\u001B[0m: \u001B[1m(\u001B[0m\u001B[1;36m42.512434626037894\u001B[0m, \u001B[1;36m-90.65373310630089\u001B[0m\u001B[1m)\u001B[0m,\n    \u001B[1m(\u001B[0m\u001B[32m'3445, COUNTY HOME RD'\u001B[0m, \u001B[32m'ROBINS'\u001B[0m\u001B[1m)\u001B[0m: \u001B[1m(\u001B[0m\u001B[1;36m42.092789\u001B[0m, \u001B[1;36m-91.700391\u001B[0m\u001B[1m)\u001B[0m,\n    \u001B[1m(\u001B[0m\u001B[32m'5902 MERLE HAY ROAD'\u001B[0m, \u001B[32m'JOHNSTON'\u001B[0m\u001B[1m)\u001B[0m: \u001B[1m(\u001B[0m\u001B[1;36m41.66840634693878\u001B[0m, \u001B[1;36m-93.697777\u001B[0m\u001B[1m)\u001B[0m,\n    \u001B[1m(\u001B[0m\u001B[32m'4039 PENNSYLVANIA AVE'\u001B[0m, \u001B[32m'DUBUQUE'\u001B[0m\u001B[1m)\u001B[0m: \u001B[1m(\u001B[0m\u001B[1;36m42.50066391182141\u001B[0m, \u001B[1;36m-90.74494791638742\u001B[0m\u001B[1m)\u001B[0m,\n    \u001B[1m(\u001B[0m\u001B[32m'311 NORTH JEFFERSON'\u001B[0m, \u001B[32m'INDIANOLA'\u001B[0m\u001B[1m)\u001B[0m: \u001B[1m(\u001B[0m\u001B[1;36m41.36253428571428\u001B[0m, \u001B[1;36m-93.55843981632654\u001B[0m\u001B[1m)\u001B[0m,\n    \u001B[1m(\u001B[0m\u001B[32m'2121 UNIVERSITY AVE'\u001B[0m, \u001B[32m'DES MOINES'\u001B[0m\u001B[1m)\u001B[0m: \u001B[1m(\u001B[0m\u001B[1;36m41.60075115\u001B[0m, \u001B[1;36m-93.64630482683714\u001B[0m\u001B[1m)\u001B[0m,\n    \u001B[1m(\u001B[0m\u001B[32m'5150 100TH STREET'\u001B[0m, \u001B[32m'URBANDALE'\u001B[0m\u001B[1m)\u001B[0m: \u001B[1m(\u001B[0m\u001B[1;36m41.65334665384615\u001B[0m, \u001B[1;36m-93.75604103846153\u001B[0m\u001B[1m)\u001B[0m,\n    \u001B[1m(\u001B[0m\u001B[32m'901 N ANKENY BLVD'\u001B[0m, \u001B[32m'ANKENY'\u001B[0m\u001B[1m)\u001B[0m: \u001B[1m(\u001B[0m\u001B[1;36m41.738797\u001B[0m, \u001B[1;36m-93.600231\u001B[0m\u001B[1m)\u001B[0m,\n    \u001B[1m(\u001B[0m\u001B[32m'1219 1ST ST'\u001B[0m, \u001B[32m'PERRY'\u001B[0m\u001B[1m)\u001B[0m: \u001B[1m(\u001B[0m\u001B[1;36m31.17110380612245\u001B[0m, \u001B[1;36m-88.91557751020409\u001B[0m\u001B[1m)\u001B[0m,\n    \u001B[1m(\u001B[0m\u001B[32m'1202 EAST LOCUST ST'\u001B[0m, \u001B[32m'CARTER LAKE'\u001B[0m\u001B[1m)\u001B[0m: \u001B[1m(\u001B[0m\u001B[1;36m41.285022549997954\u001B[0m, \u001B[1;36m-95.91424689742963\u001B[0m\u001B[1m)\u001B[0m,\n    \u001B[1m(\u001B[0m\u001B[32m'2805 TELEGRAPH RD'\u001B[0m, \u001B[32m'DAVENPORT'\u001B[0m\u001B[1m)\u001B[0m: \u001B[1m(\u001B[0m\u001B[1;36m41.51893723685191\u001B[0m, \u001B[1;36m-90.62165034208631\u001B[0m\u001B[1m)\u001B[0m,\n    \u001B[1m(\u001B[0m\u001B[32m'1300 W BURLINGTON'\u001B[0m, \u001B[32m'FAIRFIELD'\u001B[0m\u001B[1m)\u001B[0m: \u001B[1m(\u001B[0m\u001B[1;36m41.0048072\u001B[0m, \u001B[1;36m-91.9788773\u001B[0m\u001B[1m)\u001B[0m,\n    \u001B[1m(\u001B[0m\u001B[32m'849 SOUTH ANKENY BLVD.'\u001B[0m, \u001B[32m'ANKENY'\u001B[0m\u001B[1m)\u001B[0m: \u001B[1m(\u001B[0m\u001B[1;36m41.7220396\u001B[0m, \u001B[1;36m-93.59941283246542\u001B[0m\u001B[1m)\u001B[0m,\n    \u001B[1m(\u001B[0m\u001B[32m'1701 IOWA AVE'\u001B[0m, \u001B[32m'MARSHALLTOWN'\u001B[0m\u001B[1m)\u001B[0m: \u001B[1m(\u001B[0m\u001B[1;36m42.00757621988757\u001B[0m, \u001B[1;36m-92.94050606229833\u001B[0m\u001B[1m)\u001B[0m,\n    \u001B[1m(\u001B[0m\u001B[32m'75 MAIN ST'\u001B[0m, \u001B[32m'MIDDLETOWN'\u001B[0m\u001B[1m)\u001B[0m: \u001B[1m(\u001B[0m\u001B[1;36m41.55620049138709\u001B[0m, \u001B[1;36m-72.64687416820857\u001B[0m\u001B[1m)\u001B[0m,\n    \u001B[1m(\u001B[0m\u001B[32m'1003 SUMMER STREET'\u001B[0m, \u001B[32m'BURLINGTON'\u001B[0m\u001B[1m)\u001B[0m: \u001B[1m(\u001B[0m\u001B[1;36m40.79734374489796\u001B[0m, \u001B[1;36m-91.11465021428572\u001B[0m\u001B[1m)\u001B[0m,\n    \u001B[1m(\u001B[0m\u001B[32m'235 EDGEWOOD RD NE'\u001B[0m, \u001B[32m'CEDAR RAPIDS'\u001B[0m\u001B[1m)\u001B[0m: \u001B[1m(\u001B[0m\u001B[1;36m42.0289359\u001B[0m, \u001B[1;36m-91.7018709\u001B[0m\u001B[1m)\u001B[0m,\n    \u001B[1m(\u001B[0m\u001B[32m'2050 JOHN F KENNEDY RD'\u001B[0m, \u001B[32m'DUBUQUE'\u001B[0m\u001B[1m)\u001B[0m: \u001B[1m(\u001B[0m\u001B[1;36m42.507443\u001B[0m, \u001B[1;36m-90.7194698\u001B[0m\u001B[1m)\u001B[0m,\n    \u001B[1m(\u001B[0m\u001B[32m'15601 HICKMAN RD'\u001B[0m, \u001B[32m'CLIVE'\u001B[0m\u001B[1m)\u001B[0m: \u001B[1m(\u001B[0m\u001B[1;36m41.61553979999999\u001B[0m, \u001B[1;36m-93.8344264940961\u001B[0m\u001B[1m)\u001B[0m,\n    \u001B[1m(\u001B[0m\u001B[32m'5830 SE 14TH ST'\u001B[0m, \u001B[32m'DES MOINES'\u001B[0m\u001B[1m)\u001B[0m: \u001B[1m(\u001B[0m\u001B[1;36m41.53205373869347\u001B[0m, \u001B[1;36m-93.59697795979899\u001B[0m\u001B[1m)\u001B[0m,\n    \u001B[1m(\u001B[0m\u001B[32m'333 220TH STREET'\u001B[0m, \u001B[32m'WILLIAMSBURG'\u001B[0m\u001B[1m)\u001B[0m: \u001B[1m(\u001B[0m\u001B[1;36m41.6876766\u001B[0m, \u001B[1;36m-92.026312\u001B[0m\u001B[1m)\u001B[0m,\n    \u001B[1m(\u001B[0m\u001B[32m'1101, JEFFERSON ST'\u001B[0m, \u001B[32m'DENVER'\u001B[0m\u001B[1m)\u001B[0m: \u001B[1m(\u001B[0m\u001B[1;36m43.5792152\u001B[0m, \u001B[1;36m-85.9698939\u001B[0m\u001B[1m)\u001B[0m,\n    \u001B[1m(\u001B[0m\u001B[32m'109 EAST LOCUST STREET'\u001B[0m, \u001B[32m'CARTER LAKE'\u001B[0m\u001B[1m)\u001B[0m: \u001B[1m(\u001B[0m\u001B[1;36m41.284988404830415\u001B[0m, \u001B[1;36m-95.92932817322679\u001B[0m\u001B[1m)\u001B[0m,\n    \u001B[1m(\u001B[0m\u001B[32m'4400 128TH ST'\u001B[0m, \u001B[32m'URBANDALE'\u001B[0m\u001B[1m)\u001B[0m: \u001B[1m(\u001B[0m\u001B[1;36m41.642359049999996\u001B[0m, \u001B[1;36m-93.79532750338464\u001B[0m\u001B[1m)\u001B[0m,\n    \u001B[1m(\u001B[0m\u001B[32m'7229, UNIVERSITY AVE'\u001B[0m, \u001B[32m'WINDSOR HEIGHTS'\u001B[0m\u001B[1m)\u001B[0m: \u001B[1m(\u001B[0m\u001B[1;36m41.60092755\u001B[0m, \u001B[1;36m-93.71735565894639\u001B[0m\u001B[1m)\u001B[0m,\n    \u001B[1m(\u001B[0m\u001B[32m'1003 SUMMER ST'\u001B[0m, \u001B[32m'BURLINGTON'\u001B[0m\u001B[1m)\u001B[0m: \u001B[1m(\u001B[0m\u001B[1;36m40.79734374489796\u001B[0m, \u001B[1;36m-91.11465021428572\u001B[0m\u001B[1m)\u001B[0m,\n    \u001B[1m(\u001B[0m\u001B[32m'1777 DIVISION ST'\u001B[0m, \u001B[32m'DAVENPORT'\u001B[0m\u001B[1m)\u001B[0m: \u001B[1m(\u001B[0m\u001B[1;36m41.53739316923077\u001B[0m, \u001B[1;36m-90.60104730769231\u001B[0m\u001B[1m)\u001B[0m,\n    \u001B[1m(\u001B[0m\u001B[32m'7690 HICKMAN RD'\u001B[0m, \u001B[32m'WINDSOR HEIGHTS'\u001B[0m\u001B[1m)\u001B[0m: \u001B[1m(\u001B[0m\u001B[1;36m41.6141327\u001B[0m, \u001B[1;36m-93.7224294\u001B[0m\u001B[1m)\u001B[0m,\n    \u001B[1m(\u001B[0m\u001B[32m'919 W 5TH ST'\u001B[0m, \u001B[32m'WATERLOO'\u001B[0m\u001B[1m)\u001B[0m: \u001B[1m(\u001B[0m\u001B[1;36m42.4884223\u001B[0m, \u001B[1;36m-92.3462723\u001B[0m\u001B[1m)\u001B[0m,\n    \u001B[1m(\u001B[0m\u001B[32m'12905 MEREDITH DRIVE'\u001B[0m, \u001B[32m'URBANDALE'\u001B[0m\u001B[1m)\u001B[0m: \u001B[1m(\u001B[0m\u001B[1;36m41.64406834285714\u001B[0m, \u001B[1;36m-93.79584631428571\u001B[0m\u001B[1m)\u001B[0m,\n    \u001B[1m(\u001B[0m\u001B[32m'1117 CLINTON ST'\u001B[0m, \u001B[32m'ALBIA'\u001B[0m\u001B[1m)\u001B[0m: \u001B[1m(\u001B[0m\u001B[1;36m41.016957000000005\u001B[0m, \u001B[1;36m-92.809225\u001B[0m\u001B[1m)\u001B[0m,\n    \u001B[1m(\u001B[0m\u001B[32m'901 S MAIN ST.'\u001B[0m, \u001B[32m'MONONA'\u001B[0m\u001B[1m)\u001B[0m: \u001B[1m(\u001B[0m\u001B[1;36m43.0489912\u001B[0m, \u001B[1;36m-91.3898638\u001B[0m\u001B[1m)\u001B[0m,\n    \u001B[1m(\u001B[0m\u001B[32m'1225 FOUNTAINS WAY'\u001B[0m, \u001B[32m'CEDAR FALLS'\u001B[0m\u001B[1m)\u001B[0m: \u001B[1m(\u001B[0m\u001B[1;36m42.49816935\u001B[0m, \u001B[1;36m-92.46039662566834\u001B[0m\u001B[1m)\u001B[0m,\n    \u001B[1m(\u001B[0m\u001B[32m'1701 SOUTHEAST 37TH STREET'\u001B[0m, \u001B[32m'GRIMES'\u001B[0m\u001B[1m)\u001B[0m: \u001B[1m(\u001B[0m\u001B[1;36m41.6585119\u001B[0m, \u001B[1;36m-93.7751792\u001B[0m\u001B[1m)\u001B[0m,\n    \u001B[1m(\u001B[0m\u001B[32m'1201 LAKESHORE DR'\u001B[0m, \u001B[32m'STORM LAKE'\u001B[0m\u001B[1m)\u001B[0m: \u001B[1m(\u001B[0m\u001B[1;36m42.635057\u001B[0m, \u001B[1;36m-95.186037\u001B[0m\u001B[1m)\u001B[0m,\n    \u001B[1m(\u001B[0m\u001B[32m'813 1/2 HIGHLAND ST'\u001B[0m, \u001B[32m'WILLIAMSBURG'\u001B[0m\u001B[1m)\u001B[0m: \u001B[1m(\u001B[0m\u001B[1;36m41.6591433\u001B[0m, \u001B[1;36m-92.0075426\u001B[0m\u001B[1m)\u001B[0m,\n    \u001B[1m(\u001B[0m\u001B[32m'11802 AVENUE H'\u001B[0m, \u001B[32m'FORT MADISON'\u001B[0m\u001B[1m)\u001B[0m: \u001B[1m(\u001B[0m\u001B[1;36m40.6306743\u001B[0m, \u001B[1;36m-91.349903\u001B[0m\u001B[1m)\u001B[0m,\n    \u001B[1m(\u001B[0m\u001B[32m'1205/1207, LOCUST ST.'\u001B[0m, \u001B[32m'DAVENPORT'\u001B[0m\u001B[1m)\u001B[0m: \u001B[1m(\u001B[0m\u001B[1;36m41.538156\u001B[0m, \u001B[1;36m-90.6637367\u001B[0m\u001B[1m)\u001B[0m,\n    \u001B[1m(\u001B[0m\u001B[32m'122, FRONT ST.'\u001B[0m, \u001B[32m'BROOKLYN'\u001B[0m\u001B[1m)\u001B[0m: \u001B[1m(\u001B[0m\u001B[1;36m40.70248757142857\u001B[0m, \u001B[1;36m-73.98616707142858\u001B[0m\u001B[1m)\u001B[0m,\n    \u001B[1m(\u001B[0m\u001B[32m'2030 21ST ST NW'\u001B[0m, \u001B[32m'ALTOONA'\u001B[0m\u001B[1m)\u001B[0m: \u001B[1m(\u001B[0m\u001B[1;36m41.6703322\u001B[0m, \u001B[1;36m-93.4864876\u001B[0m\u001B[1m)\u001B[0m,\n    \u001B[1m(\u001B[0m\u001B[32m'1201 1/2 LAKESHORE DR'\u001B[0m, \u001B[32m'STORM LAKE'\u001B[0m\u001B[1m)\u001B[0m: \u001B[1m(\u001B[0m\u001B[1;36m42.6181782\u001B[0m, \u001B[1;36m-95.1763973\u001B[0m\u001B[1m)\u001B[0m,\n    \u001B[1m(\u001B[0m\u001B[32m'FIRST & MAIN'\u001B[0m, \u001B[32m'FT. ATKINSON'\u001B[0m\u001B[1m)\u001B[0m: \u001B[1m(\u001B[0m\u001B[1;36m42.92519485\u001B[0m, \u001B[1;36m-88.8375217\u001B[0m\u001B[1m)\u001B[0m,\n    \u001B[1m(\u001B[0m\u001B[32m'2315, MT VERNON RD SE'\u001B[0m, \u001B[32m'CEDAR RAPIDS'\u001B[0m\u001B[1m)\u001B[0m: \u001B[1m(\u001B[0m\u001B[1;36m41.9766439\u001B[0m, \u001B[1;36m-91.6337397\u001B[0m\u001B[1m)\u001B[0m,\n    \u001B[1m(\u001B[0m\u001B[32m'3107 N BRADY ST'\u001B[0m, \u001B[32m'DAVENPORT'\u001B[0m\u001B[1m)\u001B[0m: \u001B[1m(\u001B[0m\u001B[1;36m41.595637\u001B[0m, \u001B[1;36m-90.57012\u001B[0m\u001B[1m)\u001B[0m,\n    \u001B[1m(\u001B[0m\u001B[32m'1581, 1ST AVE SE'\u001B[0m, \u001B[32m'CEDAR RAPIDS'\u001B[0m\u001B[1m)\u001B[0m: \u001B[1m(\u001B[0m\u001B[1;36m41.989408\u001B[0m, \u001B[1;36m-91.6498694\u001B[0m\u001B[1m)\u001B[0m,\n    \u001B[1m(\u001B[0m\u001B[32m'4107 CENTER POINT RD'\u001B[0m, \u001B[32m'CEDAR RAPIDS'\u001B[0m\u001B[1m)\u001B[0m: \u001B[1m(\u001B[0m\u001B[1;36m42.02093860751171\u001B[0m, \u001B[1;36m-91.66531216979655\u001B[0m\u001B[1m)\u001B[0m,\n    \u001B[1m(\u001B[0m\u001B[32m'1601 5TH AVE'\u001B[0m, \u001B[32m'FORT DODGE'\u001B[0m\u001B[1m)\u001B[0m: \u001B[1m(\u001B[0m\u001B[1;36m42.511296\u001B[0m, \u001B[1;36m-94.176235\u001B[0m\u001B[1m)\u001B[0m,\n    \u001B[1m(\u001B[0m\u001B[32m'1581 1ST AVE SE'\u001B[0m, \u001B[32m'CEDAR RAPIDS'\u001B[0m\u001B[1m)\u001B[0m: \u001B[1m(\u001B[0m\u001B[1;36m41.989408\u001B[0m, \u001B[1;36m-91.6498694\u001B[0m\u001B[1m)\u001B[0m\n\u001B[1m}\u001B[0m"
     },
     "execution_count": 131,
     "metadata": {},
     "output_type": "execute_result"
    }
   ],
   "source": [
    "found_coordinates"
   ],
   "metadata": {
    "collapsed": false,
    "ExecuteTime": {
     "end_time": "2023-12-02T21:11:42.300863010Z",
     "start_time": "2023-12-02T21:11:42.234039194Z"
    }
   },
   "id": "2169e68ca61a9fbd"
  },
  {
   "cell_type": "code",
   "execution_count": 134,
   "outputs": [
    {
     "name": "stdout",
     "output_type": "stream",
     "text": [
      "Liczba null w kolumnie 'latitude': 26522\n",
      "Liczba null w kolumnie 'longitude': 26522\n"
     ]
    }
   ],
   "source": [
    "null_latitude = df4['latitude'].isnull().sum()\n",
    "null_longitude = df4['longitude'].isnull().sum()\n",
    "\n",
    "print(f\"Liczba null w kolumnie 'latitude': {null_latitude}\")\n",
    "print(f\"Liczba null w kolumnie 'longitude': {null_longitude}\")\n"
   ],
   "metadata": {
    "collapsed": false,
    "ExecuteTime": {
     "end_time": "2023-12-02T21:13:51.016083167Z",
     "start_time": "2023-12-02T21:13:50.930343887Z"
    }
   },
   "id": "b444fca8f00b6979"
  },
  {
   "cell_type": "code",
   "execution_count": 143,
   "outputs": [],
   "source": [
    "df5 = df4.dropna(subset=['latitude', 'longitude'])"
   ],
   "metadata": {
    "collapsed": false,
    "ExecuteTime": {
     "end_time": "2023-12-02T21:17:11.490374301Z",
     "start_time": "2023-12-02T21:17:11.302305880Z"
    }
   },
   "id": "86ebb24c3a4b780a"
  },
  {
   "cell_type": "code",
   "execution_count": 148,
   "outputs": [],
   "source": [
    "df6 = df5.drop('store_location', axis=1)"
   ],
   "metadata": {
    "collapsed": false,
    "ExecuteTime": {
     "end_time": "2023-12-02T21:19:35.750670345Z",
     "start_time": "2023-12-02T21:19:35.613505693Z"
    }
   },
   "id": "c6dafca23ff7b6aa"
  },
  {
   "cell_type": "code",
   "execution_count": 149,
   "outputs": [
    {
     "data": {
      "text/plain": "",
      "text/html": "<pre style=\"white-space:pre;overflow-x:auto;line-height:normal;font-family:Menlo,'DejaVu Sans Mono',consolas,'Courier New',monospace\"></pre>\n"
     },
     "metadata": {},
     "output_type": "display_data"
    },
    {
     "data": {
      "text/plain": "\u001B[1;36m0\u001B[0m"
     },
     "execution_count": 149,
     "metadata": {},
     "output_type": "execute_result"
    }
   ],
   "source": [
    "df6.isnull().sum().sum()"
   ],
   "metadata": {
    "collapsed": false,
    "ExecuteTime": {
     "end_time": "2023-12-02T21:19:49.246325010Z",
     "start_time": "2023-12-02T21:19:49.114086161Z"
    }
   },
   "id": "75cc76a86d556dce"
  },
  {
   "cell_type": "code",
   "execution_count": 150,
   "id": "2e9d3cc6d10a8bc2",
   "metadata": {
    "collapsed": false,
    "ExecuteTime": {
     "end_time": "2023-12-02T21:20:00.243110803Z",
     "start_time": "2023-12-02T21:20:00.214827726Z"
    }
   },
   "outputs": [],
   "source": [
    "finalDf = pd.DataFrame(df6)"
   ]
  },
  {
   "cell_type": "code",
   "execution_count": 153,
   "id": "4864dbcbeb2077a6",
   "metadata": {
    "collapsed": false,
    "ExecuteTime": {
     "end_time": "2023-12-02T21:20:16.088408626Z",
     "start_time": "2023-12-02T21:20:16.032021036Z"
    }
   },
   "outputs": [
    {
     "data": {
      "text/plain": "",
      "text/html": "<pre style=\"white-space:pre;overflow-x:auto;line-height:normal;font-family:Menlo,'DejaVu Sans Mono',consolas,'Courier New',monospace\"></pre>\n"
     },
     "metadata": {},
     "output_type": "display_data"
    },
    {
     "data": {
      "text/plain": "\n   invoice_line_no                     date  store  \\\n\u001B[1;36m0\u001B[0m  INV-\u001B[1;36m48770300006\u001B[0m  \u001B[1;36m2022\u001B[0m-\u001B[1;36m06\u001B[0m-29T\u001B[1;92m00:00:00\u001B[0m.\u001B[1;36m000\u001B[0m   \u001B[1;36m5900\u001B[0m   \n\u001B[1;36m1\u001B[0m  INV-\u001B[1;36m48782900001\u001B[0m  \u001B[1;36m2022\u001B[0m-\u001B[1;36m06\u001B[0m-29T\u001B[1;92m00:00:00\u001B[0m.\u001B[1;36m000\u001B[0m   \u001B[1;36m3390\u001B[0m   \n\u001B[1;36m2\u001B[0m  INV-\u001B[1;36m48703200006\u001B[0m  \u001B[1;36m2022\u001B[0m-\u001B[1;36m06\u001B[0m-27T\u001B[1;92m00:00:00\u001B[0m.\u001B[1;36m000\u001B[0m   \u001B[1;36m4604\u001B[0m   \n\u001B[1;36m3\u001B[0m  INV-\u001B[1;36m48692600064\u001B[0m  \u001B[1;36m2022\u001B[0m-\u001B[1;36m06\u001B[0m-27T\u001B[1;92m00:00:00\u001B[0m.\u001B[1;36m000\u001B[0m   \u001B[1;36m2552\u001B[0m   \n\u001B[1;36m4\u001B[0m  INV-\u001B[1;36m48679200008\u001B[0m  \u001B[1;36m2022\u001B[0m-\u001B[1;36m06\u001B[0m-24T\u001B[1;92m00:00:00\u001B[0m.\u001B[1;36m000\u001B[0m   \u001B[1;36m2523\u001B[0m   \n\n                                  name                address          city  \\\n\u001B[1;36m0\u001B[0m         NEW STAR FLETCHER \u001B[35m/\u001B[0m WATERLOO       \u001B[1;36m315\u001B[0m FLETCHER AVE      WATERLOO   \n\u001B[1;36m1\u001B[0m                OKOBOJI AVENUE LIQUOR    \u001B[1;36m1610\u001B[0m OKOBOJI AVENUE       MILFORD   \n\u001B[1;36m2\u001B[0m            PIT STOP LIQUORS \u001B[35m/\u001B[0m NEWTON        \u001B[1;36m1324\u001B[0m, 1ST AVE E        NEWTON   \n\u001B[1;36m3\u001B[0m  HY-VEE FOOD STORE #\u001B[1;36m3\u001B[0m \u001B[35m/\u001B[0m CEDAR RAPIDS  \u001B[1;36m20\u001B[0m WILSON AVENUE WEST  CEDAR RAPIDS   \n\u001B[1;36m4\u001B[0m      HY-VEE FOOD STORE \u001B[35m/\u001B[0m CENTERVILLE             \u001B[1;36m609\u001B[0m N 18TH   CENTERVILLE   \n\n   zipcode      county   category                 category_name  \u001B[33m...\u001B[0m  pack  \\\n\u001B[1;36m0\u001B[0m  \u001B[1;36m50701.0\u001B[0m  BLACK HAWK  \u001B[1;36m1031100.0\u001B[0m               AMERICAN VODKAS  \u001B[33m...\u001B[0m    \u001B[1;36m24\u001B[0m   \n\u001B[1;36m1\u001B[0m  \u001B[1;36m51351.0\u001B[0m   DICKINSON  \u001B[1;36m1031100.0\u001B[0m               AMERICAN VODKAS  \u001B[33m...\u001B[0m    \u001B[1;36m12\u001B[0m   \n\u001B[1;36m2\u001B[0m  \u001B[1;36m50208.0\u001B[0m      JASPER  \u001B[1;36m1062200.0\u001B[0m                     WHITE RUM  \u001B[33m...\u001B[0m    \u001B[1;36m24\u001B[0m   \n\u001B[1;36m3\u001B[0m  \u001B[1;36m52404.0\u001B[0m        LINN  \u001B[1;36m1011100.0\u001B[0m              BLENDED WHISKIES  \u001B[33m...\u001B[0m     \u001B[1;36m6\u001B[0m   \n\u001B[1;36m4\u001B[0m  \u001B[1;36m52544.0\u001B[0m   APPANOOSE  \u001B[1;36m1081300.0\u001B[0m  AMERICAN CORDIALS & LIQUEURS  \u001B[33m...\u001B[0m    \u001B[1;36m12\u001B[0m   \n\n  bottle_volume_ml  state_bottle_cost state_bottle_retail  sale_bottles  \\\n\u001B[1;36m0\u001B[0m              \u001B[1;36m375\u001B[0m               \u001B[1;36m3.50\u001B[0m                \u001B[1;36m5.25\u001B[0m            \u001B[1;36m24\u001B[0m   \n\u001B[1;36m1\u001B[0m             \u001B[1;36m1000\u001B[0m               \u001B[1;36m3.97\u001B[0m                \u001B[1;36m5.96\u001B[0m           \u001B[1;36m288\u001B[0m   \n\u001B[1;36m2\u001B[0m              \u001B[1;36m375\u001B[0m               \u001B[1;36m5.00\u001B[0m                \u001B[1;36m7.50\u001B[0m            \u001B[1;36m24\u001B[0m   \n\u001B[1;36m3\u001B[0m             \u001B[1;36m1750\u001B[0m              \u001B[1;36m13.99\u001B[0m               \u001B[1;36m20.99\u001B[0m             \u001B[1;36m6\u001B[0m   \n\u001B[1;36m4\u001B[0m              \u001B[1;36m750\u001B[0m               \u001B[1;36m8.66\u001B[0m               \u001B[1;36m12.99\u001B[0m            \u001B[1;36m12\u001B[0m   \n\n   sale_dollars  sale_liters  sale_gallons  longitude   latitude  \n\u001B[1;36m0\u001B[0m        \u001B[1;36m126.00\u001B[0m          \u001B[1;36m9.0\u001B[0m          \u001B[1;36m2.37\u001B[0m \u001B[1;36m-92.367142\u001B[0m  \u001B[1;36m42.489119\u001B[0m  \n\u001B[1;36m1\u001B[0m       \u001B[1;36m1716.48\u001B[0m        \u001B[1;36m288.0\u001B[0m         \u001B[1;36m76.08\u001B[0m \u001B[1;36m-95.149955\u001B[0m  \u001B[1;36m43.331525\u001B[0m  \n\u001B[1;36m2\u001B[0m        \u001B[1;36m162.00\u001B[0m          \u001B[1;36m9.0\u001B[0m          \u001B[1;36m2.37\u001B[0m \u001B[1;36m-93.035653\u001B[0m  \u001B[1;36m41.699173\u001B[0m  \n\u001B[1;36m3\u001B[0m        \u001B[1;36m116.64\u001B[0m         \u001B[1;36m10.5\u001B[0m          \u001B[1;36m2.77\u001B[0m \u001B[1;36m-91.658576\u001B[0m  \u001B[1;36m41.955859\u001B[0m  \n\u001B[1;36m4\u001B[0m        \u001B[1;36m155.88\u001B[0m          \u001B[1;36m9.0\u001B[0m          \u001B[1;36m2.37\u001B[0m \u001B[1;36m-92.867967\u001B[0m  \u001B[1;36m40.737577\u001B[0m  \n\n\u001B[1m[\u001B[0m\u001B[1;36m5\u001B[0m rows x \u001B[1;36m24\u001B[0m columns\u001B[1m]\u001B[0m",
      "text/html": "<div>\n<style scoped>\n    .dataframe tbody tr th:only-of-type {\n        vertical-align: middle;\n    }\n\n    .dataframe tbody tr th {\n        vertical-align: top;\n    }\n\n    .dataframe thead th {\n        text-align: right;\n    }\n</style>\n<table border=\"1\" class=\"dataframe\">\n  <thead>\n    <tr style=\"text-align: right;\">\n      <th></th>\n      <th>invoice_line_no</th>\n      <th>date</th>\n      <th>store</th>\n      <th>name</th>\n      <th>address</th>\n      <th>city</th>\n      <th>zipcode</th>\n      <th>county</th>\n      <th>category</th>\n      <th>category_name</th>\n      <th>...</th>\n      <th>pack</th>\n      <th>bottle_volume_ml</th>\n      <th>state_bottle_cost</th>\n      <th>state_bottle_retail</th>\n      <th>sale_bottles</th>\n      <th>sale_dollars</th>\n      <th>sale_liters</th>\n      <th>sale_gallons</th>\n      <th>longitude</th>\n      <th>latitude</th>\n    </tr>\n  </thead>\n  <tbody>\n    <tr>\n      <th>0</th>\n      <td>INV-48770300006</td>\n      <td>2022-06-29T00:00:00.000</td>\n      <td>5900</td>\n      <td>NEW STAR FLETCHER / WATERLOO</td>\n      <td>315 FLETCHER AVE</td>\n      <td>WATERLOO</td>\n      <td>50701.0</td>\n      <td>BLACK HAWK</td>\n      <td>1031100.0</td>\n      <td>AMERICAN VODKAS</td>\n      <td>...</td>\n      <td>24</td>\n      <td>375</td>\n      <td>3.50</td>\n      <td>5.25</td>\n      <td>24</td>\n      <td>126.00</td>\n      <td>9.0</td>\n      <td>2.37</td>\n      <td>-92.367142</td>\n      <td>42.489119</td>\n    </tr>\n    <tr>\n      <th>1</th>\n      <td>INV-48782900001</td>\n      <td>2022-06-29T00:00:00.000</td>\n      <td>3390</td>\n      <td>OKOBOJI AVENUE LIQUOR</td>\n      <td>1610 OKOBOJI AVENUE</td>\n      <td>MILFORD</td>\n      <td>51351.0</td>\n      <td>DICKINSON</td>\n      <td>1031100.0</td>\n      <td>AMERICAN VODKAS</td>\n      <td>...</td>\n      <td>12</td>\n      <td>1000</td>\n      <td>3.97</td>\n      <td>5.96</td>\n      <td>288</td>\n      <td>1716.48</td>\n      <td>288.0</td>\n      <td>76.08</td>\n      <td>-95.149955</td>\n      <td>43.331525</td>\n    </tr>\n    <tr>\n      <th>2</th>\n      <td>INV-48703200006</td>\n      <td>2022-06-27T00:00:00.000</td>\n      <td>4604</td>\n      <td>PIT STOP LIQUORS / NEWTON</td>\n      <td>1324, 1ST AVE E</td>\n      <td>NEWTON</td>\n      <td>50208.0</td>\n      <td>JASPER</td>\n      <td>1062200.0</td>\n      <td>WHITE RUM</td>\n      <td>...</td>\n      <td>24</td>\n      <td>375</td>\n      <td>5.00</td>\n      <td>7.50</td>\n      <td>24</td>\n      <td>162.00</td>\n      <td>9.0</td>\n      <td>2.37</td>\n      <td>-93.035653</td>\n      <td>41.699173</td>\n    </tr>\n    <tr>\n      <th>3</th>\n      <td>INV-48692600064</td>\n      <td>2022-06-27T00:00:00.000</td>\n      <td>2552</td>\n      <td>HY-VEE FOOD STORE #3 / CEDAR RAPIDS</td>\n      <td>20 WILSON AVENUE WEST</td>\n      <td>CEDAR RAPIDS</td>\n      <td>52404.0</td>\n      <td>LINN</td>\n      <td>1011100.0</td>\n      <td>BLENDED WHISKIES</td>\n      <td>...</td>\n      <td>6</td>\n      <td>1750</td>\n      <td>13.99</td>\n      <td>20.99</td>\n      <td>6</td>\n      <td>116.64</td>\n      <td>10.5</td>\n      <td>2.77</td>\n      <td>-91.658576</td>\n      <td>41.955859</td>\n    </tr>\n    <tr>\n      <th>4</th>\n      <td>INV-48679200008</td>\n      <td>2022-06-24T00:00:00.000</td>\n      <td>2523</td>\n      <td>HY-VEE FOOD STORE / CENTERVILLE</td>\n      <td>609 N 18TH</td>\n      <td>CENTERVILLE</td>\n      <td>52544.0</td>\n      <td>APPANOOSE</td>\n      <td>1081300.0</td>\n      <td>AMERICAN CORDIALS &amp; LIQUEURS</td>\n      <td>...</td>\n      <td>12</td>\n      <td>750</td>\n      <td>8.66</td>\n      <td>12.99</td>\n      <td>12</td>\n      <td>155.88</td>\n      <td>9.0</td>\n      <td>2.37</td>\n      <td>-92.867967</td>\n      <td>40.737577</td>\n    </tr>\n  </tbody>\n</table>\n<p>5 rows × 24 columns</p>\n</div>"
     },
     "execution_count": 153,
     "metadata": {},
     "output_type": "execute_result"
    }
   ],
   "source": [
    "finalDf.head()"
   ]
  },
  {
   "cell_type": "code",
   "execution_count": 154,
   "id": "edd9562764157360",
   "metadata": {
    "collapsed": false,
    "ExecuteTime": {
     "end_time": "2023-12-02T21:20:20.081108374Z",
     "start_time": "2023-12-02T21:20:20.073599649Z"
    }
   },
   "outputs": [
    {
     "data": {
      "text/plain": "",
      "text/html": "<pre style=\"white-space:pre;overflow-x:auto;line-height:normal;font-family:Menlo,'DejaVu Sans Mono',consolas,'Courier New',monospace\"></pre>\n"
     },
     "metadata": {},
     "output_type": "display_data"
    },
    {
     "data": {
      "text/plain": "\n\u001B[1;35mIndex\u001B[0m\u001B[1m(\u001B[0m\u001B[1m[\u001B[0m\u001B[32m'invoice_line_no'\u001B[0m, \u001B[32m'date'\u001B[0m, \u001B[32m'store'\u001B[0m, \u001B[32m'name'\u001B[0m, \u001B[32m'address'\u001B[0m, \u001B[32m'city'\u001B[0m,\n       \u001B[32m'zipcode'\u001B[0m, \u001B[32m'county'\u001B[0m, \u001B[32m'category'\u001B[0m, \u001B[32m'category_name'\u001B[0m, \u001B[32m'vendor_no'\u001B[0m,\n       \u001B[32m'vendor_name'\u001B[0m, \u001B[32m'itemno'\u001B[0m, \u001B[32m'im_desc'\u001B[0m, \u001B[32m'pack'\u001B[0m, \u001B[32m'bottle_volume_ml'\u001B[0m,\n       \u001B[32m'state_bottle_cost'\u001B[0m, \u001B[32m'state_bottle_retail'\u001B[0m, \u001B[32m'sale_bottles'\u001B[0m,\n       \u001B[32m'sale_dollars'\u001B[0m, \u001B[32m'sale_liters'\u001B[0m, \u001B[32m'sale_gallons'\u001B[0m, \u001B[32m'longitude'\u001B[0m, \u001B[32m'latitude'\u001B[0m\u001B[1m]\u001B[0m,\n      \u001B[33mdtype\u001B[0m=\u001B[32m'object'\u001B[0m\u001B[1m)\u001B[0m"
     },
     "execution_count": 154,
     "metadata": {},
     "output_type": "execute_result"
    }
   ],
   "source": [
    "finalDf.columns"
   ]
  },
  {
   "cell_type": "code",
   "execution_count": 155,
   "outputs": [
    {
     "name": "stdout",
     "output_type": "stream",
     "text": [
      "968827 24\n"
     ]
    }
   ],
   "source": [
    "print(finalDf.shape[0], finalDf.shape[1])"
   ],
   "metadata": {
    "collapsed": false,
    "ExecuteTime": {
     "end_time": "2023-12-02T21:20:20.099780824Z",
     "start_time": "2023-12-02T21:20:20.082427044Z"
    }
   },
   "id": "a257837b0c5fcbee"
  },
  {
   "cell_type": "code",
   "execution_count": 156,
   "outputs": [],
   "source": [
    "finalDf.to_csv('rawDataWithlocationFullfilled.csv', index=False)"
   ],
   "metadata": {
    "collapsed": false,
    "ExecuteTime": {
     "end_time": "2023-12-02T21:20:42.959898533Z",
     "start_time": "2023-12-02T21:20:33.851491239Z"
    }
   },
   "id": "79b2bda27a2f61eb"
  }
 ],
 "metadata": {
  "kernelspec": {
   "display_name": "Python 3",
   "language": "python",
   "name": "python3"
  },
  "language_info": {
   "codemirror_mode": {
    "name": "ipython",
    "version": 3
   },
   "file_extension": ".py",
   "mimetype": "text/x-python",
   "name": "python",
   "nbconvert_exporter": "python",
   "pygments_lexer": "ipython3",
   "version": "3.7.16"
  }
 },
 "nbformat": 4,
 "nbformat_minor": 5
}
