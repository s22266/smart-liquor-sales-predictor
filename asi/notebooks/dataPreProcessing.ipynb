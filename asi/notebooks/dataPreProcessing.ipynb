{
 "cells": [
  {
   "cell_type": "code",
   "execution_count": 75,
   "id": "initial_id",
   "metadata": {
    "collapsed": true,
    "ExecuteTime": {
     "end_time": "2023-11-19T22:14:29.509692694Z",
     "start_time": "2023-11-19T22:14:25.446974743Z"
    }
   },
   "outputs": [
    {
     "name": "stderr",
     "output_type": "stream",
     "text": [
      "/tmp/ipykernel_1048383/1429137426.py:3: DtypeWarning: Columns (6) have mixed types. Specify dtype option on import or set low_memory=False.\n",
      "  df = pd.read_csv('../data/01_raw/iowa_liquor_sales_subset.csv')\n"
     ]
    }
   ],
   "source": [
    "import pandas as pd\n",
    "import os\n",
    "df = pd.read_csv('../data/01_raw/iowa_liquor_sales_subset.csv')"
   ]
  },
  {
   "cell_type": "code",
   "execution_count": 76,
   "outputs": [
    {
     "data": {
      "text/plain": "   invoice_line_no                     date  store  \\\n0  INV-48770300006  2022-06-29T00:00:00.000   5900   \n1  INV-48782900001  2022-06-29T00:00:00.000   3390   \n2  INV-48703200006  2022-06-27T00:00:00.000   4604   \n3  INV-48692600064  2022-06-27T00:00:00.000   2552   \n4  INV-48679200008  2022-06-24T00:00:00.000   2523   \n\n                                  name                address          city  \\\n0         NEW STAR FLETCHER / WATERLOO       315 FLETCHER AVE      WATERLOO   \n1                OKOBOJI AVENUE LIQUOR    1610 OKOBOJI AVENUE       MILFORD   \n2            PIT STOP LIQUORS / NEWTON        1324, 1ST AVE E        NEWTON   \n3  HY-VEE FOOD STORE #3 / CEDAR RAPIDS  20 WILSON AVENUE WEST  CEDAR RAPIDS   \n4      HY-VEE FOOD STORE / CENTERVILLE             609 N 18TH   CENTERVILLE   \n\n   zipcode                                     store_location  county_number  \\\n0  50701.0  {'type': 'Point', 'coordinates': [-92.367142, ...            7.0   \n1  51351.0  {'type': 'Point', 'coordinates': [-95.149955, ...           30.0   \n2  50208.0  {'type': 'Point', 'coordinates': [-93.035653, ...           50.0   \n3  52404.0  {'type': 'Point', 'coordinates': [-91.658576, ...           57.0   \n4  52544.0  {'type': 'Point', 'coordinates': [-92.867967, ...            4.0   \n\n       county  ...  state_bottle_retail sale_bottles  sale_dollars  \\\n0  BLACK HAWK  ...                 5.25           24        126.00   \n1   DICKINSON  ...                 5.96          288       1716.48   \n2      JASPER  ...                 7.50           24        162.00   \n3        LINN  ...                20.99            6        116.64   \n4   APPANOOSE  ...                12.99           12        155.88   \n\n  sale_liters  sale_gallons :@computed_region_3r5t_5243  \\\n0         9.0          2.37                       145.0   \n1       288.0         76.08                        37.0   \n2         9.0          2.37                       903.0   \n3        10.5          2.77                       793.0   \n4         9.0          2.37                       210.0   \n\n   :@computed_region_wnea_7qqw  :@computed_region_i9mz_6gmt  \\\n0                         18.0                        240.0   \n1                         37.0                        419.0   \n2                         11.0                        131.0   \n3                         18.0                        264.0   \n4                         54.0                        534.0   \n\n   :@computed_region_uhgg_e8y2  :@computed_region_e7ym_nrbf  \n0                         35.0                        176.0  \n1                          3.0                       1779.0  \n2                         66.0                       1791.0  \n3                         45.0                        287.0  \n4                         98.0                        175.0  \n\n[5 rows x 29 columns]",
      "text/html": "<div>\n<style scoped>\n    .dataframe tbody tr th:only-of-type {\n        vertical-align: middle;\n    }\n\n    .dataframe tbody tr th {\n        vertical-align: top;\n    }\n\n    .dataframe thead th {\n        text-align: right;\n    }\n</style>\n<table border=\"1\" class=\"dataframe\">\n  <thead>\n    <tr style=\"text-align: right;\">\n      <th></th>\n      <th>invoice_line_no</th>\n      <th>date</th>\n      <th>store</th>\n      <th>name</th>\n      <th>address</th>\n      <th>city</th>\n      <th>zipcode</th>\n      <th>store_location</th>\n      <th>county_number</th>\n      <th>county</th>\n      <th>...</th>\n      <th>state_bottle_retail</th>\n      <th>sale_bottles</th>\n      <th>sale_dollars</th>\n      <th>sale_liters</th>\n      <th>sale_gallons</th>\n      <th>:@computed_region_3r5t_5243</th>\n      <th>:@computed_region_wnea_7qqw</th>\n      <th>:@computed_region_i9mz_6gmt</th>\n      <th>:@computed_region_uhgg_e8y2</th>\n      <th>:@computed_region_e7ym_nrbf</th>\n    </tr>\n  </thead>\n  <tbody>\n    <tr>\n      <th>0</th>\n      <td>INV-48770300006</td>\n      <td>2022-06-29T00:00:00.000</td>\n      <td>5900</td>\n      <td>NEW STAR FLETCHER / WATERLOO</td>\n      <td>315 FLETCHER AVE</td>\n      <td>WATERLOO</td>\n      <td>50701.0</td>\n      <td>{'type': 'Point', 'coordinates': [-92.367142, ...</td>\n      <td>7.0</td>\n      <td>BLACK HAWK</td>\n      <td>...</td>\n      <td>5.25</td>\n      <td>24</td>\n      <td>126.00</td>\n      <td>9.0</td>\n      <td>2.37</td>\n      <td>145.0</td>\n      <td>18.0</td>\n      <td>240.0</td>\n      <td>35.0</td>\n      <td>176.0</td>\n    </tr>\n    <tr>\n      <th>1</th>\n      <td>INV-48782900001</td>\n      <td>2022-06-29T00:00:00.000</td>\n      <td>3390</td>\n      <td>OKOBOJI AVENUE LIQUOR</td>\n      <td>1610 OKOBOJI AVENUE</td>\n      <td>MILFORD</td>\n      <td>51351.0</td>\n      <td>{'type': 'Point', 'coordinates': [-95.149955, ...</td>\n      <td>30.0</td>\n      <td>DICKINSON</td>\n      <td>...</td>\n      <td>5.96</td>\n      <td>288</td>\n      <td>1716.48</td>\n      <td>288.0</td>\n      <td>76.08</td>\n      <td>37.0</td>\n      <td>37.0</td>\n      <td>419.0</td>\n      <td>3.0</td>\n      <td>1779.0</td>\n    </tr>\n    <tr>\n      <th>2</th>\n      <td>INV-48703200006</td>\n      <td>2022-06-27T00:00:00.000</td>\n      <td>4604</td>\n      <td>PIT STOP LIQUORS / NEWTON</td>\n      <td>1324, 1ST AVE E</td>\n      <td>NEWTON</td>\n      <td>50208.0</td>\n      <td>{'type': 'Point', 'coordinates': [-93.035653, ...</td>\n      <td>50.0</td>\n      <td>JASPER</td>\n      <td>...</td>\n      <td>7.50</td>\n      <td>24</td>\n      <td>162.00</td>\n      <td>9.0</td>\n      <td>2.37</td>\n      <td>903.0</td>\n      <td>11.0</td>\n      <td>131.0</td>\n      <td>66.0</td>\n      <td>1791.0</td>\n    </tr>\n    <tr>\n      <th>3</th>\n      <td>INV-48692600064</td>\n      <td>2022-06-27T00:00:00.000</td>\n      <td>2552</td>\n      <td>HY-VEE FOOD STORE #3 / CEDAR RAPIDS</td>\n      <td>20 WILSON AVENUE WEST</td>\n      <td>CEDAR RAPIDS</td>\n      <td>52404.0</td>\n      <td>{'type': 'Point', 'coordinates': [-91.658576, ...</td>\n      <td>57.0</td>\n      <td>LINN</td>\n      <td>...</td>\n      <td>20.99</td>\n      <td>6</td>\n      <td>116.64</td>\n      <td>10.5</td>\n      <td>2.77</td>\n      <td>793.0</td>\n      <td>18.0</td>\n      <td>264.0</td>\n      <td>45.0</td>\n      <td>287.0</td>\n    </tr>\n    <tr>\n      <th>4</th>\n      <td>INV-48679200008</td>\n      <td>2022-06-24T00:00:00.000</td>\n      <td>2523</td>\n      <td>HY-VEE FOOD STORE / CENTERVILLE</td>\n      <td>609 N 18TH</td>\n      <td>CENTERVILLE</td>\n      <td>52544.0</td>\n      <td>{'type': 'Point', 'coordinates': [-92.867967, ...</td>\n      <td>4.0</td>\n      <td>APPANOOSE</td>\n      <td>...</td>\n      <td>12.99</td>\n      <td>12</td>\n      <td>155.88</td>\n      <td>9.0</td>\n      <td>2.37</td>\n      <td>210.0</td>\n      <td>54.0</td>\n      <td>534.0</td>\n      <td>98.0</td>\n      <td>175.0</td>\n    </tr>\n  </tbody>\n</table>\n<p>5 rows × 29 columns</p>\n</div>"
     },
     "execution_count": 76,
     "metadata": {},
     "output_type": "execute_result"
    }
   ],
   "source": [
    "df.head()"
   ],
   "metadata": {
    "collapsed": false,
    "ExecuteTime": {
     "end_time": "2023-11-19T22:14:29.535310203Z",
     "start_time": "2023-11-19T22:14:29.519860343Z"
    }
   },
   "id": "6867f5b4f9b26350"
  },
  {
   "cell_type": "code",
   "execution_count": 77,
   "outputs": [],
   "source": [
    "missing_data = df.isnull().sum()"
   ],
   "metadata": {
    "collapsed": false,
    "ExecuteTime": {
     "end_time": "2023-11-19T22:14:29.794755575Z",
     "start_time": "2023-11-19T22:14:29.531942498Z"
    }
   },
   "id": "6ca2a70488a46ed0"
  },
  {
   "cell_type": "code",
   "execution_count": 78,
   "outputs": [
    {
     "name": "stdout",
     "output_type": "stream",
     "text": [
      "invoice_line_no                     0\n",
      "date                                0\n",
      "store                               0\n",
      "name                                0\n",
      "address                          3957\n",
      "city                             3957\n",
      "zipcode                          3957\n",
      "store_location                 106405\n",
      "county_number                  346656\n",
      "county                          29373\n",
      "category                           56\n",
      "category_name                     460\n",
      "vendor_no                           0\n",
      "vendor_name                         0\n",
      "itemno                              0\n",
      "im_desc                             0\n",
      "pack                                0\n",
      "bottle_volume_ml                    0\n",
      "state_bottle_cost                   0\n",
      "state_bottle_retail                 0\n",
      "sale_bottles                        0\n",
      "sale_dollars                        0\n",
      "sale_liters                         0\n",
      "sale_gallons                        0\n",
      ":@computed_region_3r5t_5243    106952\n",
      ":@computed_region_wnea_7qqw    106952\n",
      ":@computed_region_i9mz_6gmt    106952\n",
      ":@computed_region_uhgg_e8y2    106952\n",
      ":@computed_region_e7ym_nrbf    106405\n",
      "dtype: int64\n"
     ]
    }
   ],
   "source": [
    "print(missing_data)"
   ],
   "metadata": {
    "collapsed": false,
    "ExecuteTime": {
     "end_time": "2023-11-19T22:14:29.819559776Z",
     "start_time": "2023-11-19T22:14:29.797987508Z"
    }
   },
   "id": "727789989f5b1ea9"
  },
  {
   "cell_type": "code",
   "execution_count": 79,
   "outputs": [],
   "source": [
    "percent_missing = df.isnull().mean() * 100"
   ],
   "metadata": {
    "collapsed": false,
    "ExecuteTime": {
     "end_time": "2023-11-19T22:14:30.097107462Z",
     "start_time": "2023-11-19T22:14:29.808965812Z"
    }
   },
   "id": "85ce17ed3990dd6e"
  },
  {
   "cell_type": "code",
   "execution_count": 80,
   "outputs": [
    {
     "name": "stdout",
     "output_type": "stream",
     "text": [
      "invoice_line_no                 0.0000\n",
      "date                            0.0000\n",
      "store                           0.0000\n",
      "name                            0.0000\n",
      "address                         0.3957\n",
      "city                            0.3957\n",
      "zipcode                         0.3957\n",
      "store_location                 10.6405\n",
      "county_number                  34.6656\n",
      "county                          2.9373\n",
      "category                        0.0056\n",
      "category_name                   0.0460\n",
      "vendor_no                       0.0000\n",
      "vendor_name                     0.0000\n",
      "itemno                          0.0000\n",
      "im_desc                         0.0000\n",
      "pack                            0.0000\n",
      "bottle_volume_ml                0.0000\n",
      "state_bottle_cost               0.0000\n",
      "state_bottle_retail             0.0000\n",
      "sale_bottles                    0.0000\n",
      "sale_dollars                    0.0000\n",
      "sale_liters                     0.0000\n",
      "sale_gallons                    0.0000\n",
      ":@computed_region_3r5t_5243    10.6952\n",
      ":@computed_region_wnea_7qqw    10.6952\n",
      ":@computed_region_i9mz_6gmt    10.6952\n",
      ":@computed_region_uhgg_e8y2    10.6952\n",
      ":@computed_region_e7ym_nrbf    10.6405\n",
      "dtype: float64\n"
     ]
    }
   ],
   "source": [
    "print(percent_missing)"
   ],
   "metadata": {
    "collapsed": false,
    "ExecuteTime": {
     "end_time": "2023-11-19T22:14:30.118207600Z",
     "start_time": "2023-11-19T22:14:30.099907842Z"
    }
   },
   "id": "7a8204b958c38be7"
  },
  {
   "cell_type": "code",
   "execution_count": 81,
   "outputs": [
    {
     "data": {
      "text/plain": "                             total_missing  percent_missing\ncounty_number                       346656          34.6656\n:@computed_region_uhgg_e8y2         106952          10.6952\n:@computed_region_i9mz_6gmt         106952          10.6952\n:@computed_region_3r5t_5243         106952          10.6952\n:@computed_region_wnea_7qqw         106952          10.6952\n:@computed_region_e7ym_nrbf         106405          10.6405\nstore_location                      106405          10.6405\ncounty                               29373           2.9373\nzipcode                               3957           0.3957\ncity                                  3957           0.3957\naddress                               3957           0.3957\ncategory_name                          460           0.0460\ncategory                                56           0.0056\nstate_bottle_retail                      0           0.0000\nsale_gallons                             0           0.0000\nsale_liters                              0           0.0000\nsale_dollars                             0           0.0000\nsale_bottles                             0           0.0000\ninvoice_line_no                          0           0.0000\nstate_bottle_cost                        0           0.0000\nbottle_volume_ml                         0           0.0000\npack                                     0           0.0000\nim_desc                                  0           0.0000\ndate                                     0           0.0000\nvendor_name                              0           0.0000\nvendor_no                                0           0.0000\nname                                     0           0.0000\nstore                                    0           0.0000\nitemno                                   0           0.0000",
      "text/html": "<div>\n<style scoped>\n    .dataframe tbody tr th:only-of-type {\n        vertical-align: middle;\n    }\n\n    .dataframe tbody tr th {\n        vertical-align: top;\n    }\n\n    .dataframe thead th {\n        text-align: right;\n    }\n</style>\n<table border=\"1\" class=\"dataframe\">\n  <thead>\n    <tr style=\"text-align: right;\">\n      <th></th>\n      <th>total_missing</th>\n      <th>percent_missing</th>\n    </tr>\n  </thead>\n  <tbody>\n    <tr>\n      <th>county_number</th>\n      <td>346656</td>\n      <td>34.6656</td>\n    </tr>\n    <tr>\n      <th>:@computed_region_uhgg_e8y2</th>\n      <td>106952</td>\n      <td>10.6952</td>\n    </tr>\n    <tr>\n      <th>:@computed_region_i9mz_6gmt</th>\n      <td>106952</td>\n      <td>10.6952</td>\n    </tr>\n    <tr>\n      <th>:@computed_region_3r5t_5243</th>\n      <td>106952</td>\n      <td>10.6952</td>\n    </tr>\n    <tr>\n      <th>:@computed_region_wnea_7qqw</th>\n      <td>106952</td>\n      <td>10.6952</td>\n    </tr>\n    <tr>\n      <th>:@computed_region_e7ym_nrbf</th>\n      <td>106405</td>\n      <td>10.6405</td>\n    </tr>\n    <tr>\n      <th>store_location</th>\n      <td>106405</td>\n      <td>10.6405</td>\n    </tr>\n    <tr>\n      <th>county</th>\n      <td>29373</td>\n      <td>2.9373</td>\n    </tr>\n    <tr>\n      <th>zipcode</th>\n      <td>3957</td>\n      <td>0.3957</td>\n    </tr>\n    <tr>\n      <th>city</th>\n      <td>3957</td>\n      <td>0.3957</td>\n    </tr>\n    <tr>\n      <th>address</th>\n      <td>3957</td>\n      <td>0.3957</td>\n    </tr>\n    <tr>\n      <th>category_name</th>\n      <td>460</td>\n      <td>0.0460</td>\n    </tr>\n    <tr>\n      <th>category</th>\n      <td>56</td>\n      <td>0.0056</td>\n    </tr>\n    <tr>\n      <th>state_bottle_retail</th>\n      <td>0</td>\n      <td>0.0000</td>\n    </tr>\n    <tr>\n      <th>sale_gallons</th>\n      <td>0</td>\n      <td>0.0000</td>\n    </tr>\n    <tr>\n      <th>sale_liters</th>\n      <td>0</td>\n      <td>0.0000</td>\n    </tr>\n    <tr>\n      <th>sale_dollars</th>\n      <td>0</td>\n      <td>0.0000</td>\n    </tr>\n    <tr>\n      <th>sale_bottles</th>\n      <td>0</td>\n      <td>0.0000</td>\n    </tr>\n    <tr>\n      <th>invoice_line_no</th>\n      <td>0</td>\n      <td>0.0000</td>\n    </tr>\n    <tr>\n      <th>state_bottle_cost</th>\n      <td>0</td>\n      <td>0.0000</td>\n    </tr>\n    <tr>\n      <th>bottle_volume_ml</th>\n      <td>0</td>\n      <td>0.0000</td>\n    </tr>\n    <tr>\n      <th>pack</th>\n      <td>0</td>\n      <td>0.0000</td>\n    </tr>\n    <tr>\n      <th>im_desc</th>\n      <td>0</td>\n      <td>0.0000</td>\n    </tr>\n    <tr>\n      <th>date</th>\n      <td>0</td>\n      <td>0.0000</td>\n    </tr>\n    <tr>\n      <th>vendor_name</th>\n      <td>0</td>\n      <td>0.0000</td>\n    </tr>\n    <tr>\n      <th>vendor_no</th>\n      <td>0</td>\n      <td>0.0000</td>\n    </tr>\n    <tr>\n      <th>name</th>\n      <td>0</td>\n      <td>0.0000</td>\n    </tr>\n    <tr>\n      <th>store</th>\n      <td>0</td>\n      <td>0.0000</td>\n    </tr>\n    <tr>\n      <th>itemno</th>\n      <td>0</td>\n      <td>0.0000</td>\n    </tr>\n  </tbody>\n</table>\n</div>"
     },
     "execution_count": 81,
     "metadata": {},
     "output_type": "execute_result"
    }
   ],
   "source": [
    "missing_data_df = pd.DataFrame({'total_missing': missing_data, 'percent_missing': percent_missing})\n",
    "\n",
    "missing_data_df.sort_values(by='percent_missing', ascending=False)"
   ],
   "metadata": {
    "collapsed": false,
    "ExecuteTime": {
     "end_time": "2023-11-19T22:14:30.120373955Z",
     "start_time": "2023-11-19T22:14:30.105443369Z"
    }
   },
   "id": "1f6445a9cdcca624"
  },
  {
   "cell_type": "code",
   "execution_count": 82,
   "outputs": [],
   "source": [
    "#Removing county_number\n",
    "dfWithoutCounty = df.drop('county_number', axis=1)"
   ],
   "metadata": {
    "collapsed": false,
    "ExecuteTime": {
     "end_time": "2023-11-19T22:14:30.276875132Z",
     "start_time": "2023-11-19T22:14:30.117194543Z"
    }
   },
   "id": "5d605c94bdb036da"
  },
  {
   "cell_type": "code",
   "execution_count": 83,
   "outputs": [],
   "source": [
    "dfCleaned = dfWithoutCounty.dropna(subset=['city','zipcode', 'category', 'category_name', 'address'])"
   ],
   "metadata": {
    "collapsed": false,
    "ExecuteTime": {
     "end_time": "2023-11-19T22:14:30.465229789Z",
     "start_time": "2023-11-19T22:14:30.237096764Z"
    }
   },
   "id": "c9e62f0b342a7160"
  },
  {
   "cell_type": "code",
   "execution_count": 84,
   "outputs": [
    {
     "data": {
      "text/plain": "invoice_line_no                     0\ndate                                0\nstore                               0\nname                                0\naddress                             0\ncity                                0\nzipcode                             0\nstore_location                 102363\ncounty                          25390\ncategory                            0\ncategory_name                       0\nvendor_no                           0\nvendor_name                         0\nitemno                              0\nim_desc                             0\npack                                0\nbottle_volume_ml                    0\nstate_bottle_cost                   0\nstate_bottle_retail                 0\nsale_bottles                        0\nsale_dollars                        0\nsale_liters                         0\nsale_gallons                        0\n:@computed_region_3r5t_5243    102910\n:@computed_region_wnea_7qqw    102910\n:@computed_region_i9mz_6gmt    102910\n:@computed_region_uhgg_e8y2    102910\n:@computed_region_e7ym_nrbf    102363\ndtype: int64"
     },
     "execution_count": 84,
     "metadata": {},
     "output_type": "execute_result"
    }
   ],
   "source": [
    "dfCleaned.isnull().sum()"
   ],
   "metadata": {
    "collapsed": false,
    "ExecuteTime": {
     "end_time": "2023-11-19T22:14:30.752125950Z",
     "start_time": "2023-11-19T22:14:30.704468301Z"
    }
   },
   "id": "413b7cc22e8b62af"
  },
  {
   "cell_type": "code",
   "execution_count": 85,
   "outputs": [
    {
     "data": {
      "text/plain": "   invoice_line_no                     date  store  \\\n0  INV-48770300006  2022-06-29T00:00:00.000   5900   \n1  INV-48782900001  2022-06-29T00:00:00.000   3390   \n2  INV-48703200006  2022-06-27T00:00:00.000   4604   \n3  INV-48692600064  2022-06-27T00:00:00.000   2552   \n4  INV-48679200008  2022-06-24T00:00:00.000   2523   \n\n                                  name                address          city  \\\n0         NEW STAR FLETCHER / WATERLOO       315 FLETCHER AVE      WATERLOO   \n1                OKOBOJI AVENUE LIQUOR    1610 OKOBOJI AVENUE       MILFORD   \n2            PIT STOP LIQUORS / NEWTON        1324, 1ST AVE E        NEWTON   \n3  HY-VEE FOOD STORE #3 / CEDAR RAPIDS  20 WILSON AVENUE WEST  CEDAR RAPIDS   \n4      HY-VEE FOOD STORE / CENTERVILLE             609 N 18TH   CENTERVILLE   \n\n   zipcode                                     store_location      county  \\\n0  50701.0  {'type': 'Point', 'coordinates': [-92.367142, ...  BLACK HAWK   \n1  51351.0  {'type': 'Point', 'coordinates': [-95.149955, ...   DICKINSON   \n2  50208.0  {'type': 'Point', 'coordinates': [-93.035653, ...      JASPER   \n3  52404.0  {'type': 'Point', 'coordinates': [-91.658576, ...        LINN   \n4  52544.0  {'type': 'Point', 'coordinates': [-92.867967, ...   APPANOOSE   \n\n    category  ... state_bottle_retail  sale_bottles sale_dollars  sale_liters  \\\n0  1031100.0  ...                5.25            24       126.00          9.0   \n1  1031100.0  ...                5.96           288      1716.48        288.0   \n2  1062200.0  ...                7.50            24       162.00          9.0   \n3  1011100.0  ...               20.99             6       116.64         10.5   \n4  1081300.0  ...               12.99            12       155.88          9.0   \n\n  sale_gallons  :@computed_region_3r5t_5243  :@computed_region_wnea_7qqw  \\\n0         2.37                        145.0                         18.0   \n1        76.08                         37.0                         37.0   \n2         2.37                        903.0                         11.0   \n3         2.77                        793.0                         18.0   \n4         2.37                        210.0                         54.0   \n\n   :@computed_region_i9mz_6gmt  :@computed_region_uhgg_e8y2  \\\n0                        240.0                         35.0   \n1                        419.0                          3.0   \n2                        131.0                         66.0   \n3                        264.0                         45.0   \n4                        534.0                         98.0   \n\n   :@computed_region_e7ym_nrbf  \n0                        176.0  \n1                       1779.0  \n2                       1791.0  \n3                        287.0  \n4                        175.0  \n\n[5 rows x 28 columns]",
      "text/html": "<div>\n<style scoped>\n    .dataframe tbody tr th:only-of-type {\n        vertical-align: middle;\n    }\n\n    .dataframe tbody tr th {\n        vertical-align: top;\n    }\n\n    .dataframe thead th {\n        text-align: right;\n    }\n</style>\n<table border=\"1\" class=\"dataframe\">\n  <thead>\n    <tr style=\"text-align: right;\">\n      <th></th>\n      <th>invoice_line_no</th>\n      <th>date</th>\n      <th>store</th>\n      <th>name</th>\n      <th>address</th>\n      <th>city</th>\n      <th>zipcode</th>\n      <th>store_location</th>\n      <th>county</th>\n      <th>category</th>\n      <th>...</th>\n      <th>state_bottle_retail</th>\n      <th>sale_bottles</th>\n      <th>sale_dollars</th>\n      <th>sale_liters</th>\n      <th>sale_gallons</th>\n      <th>:@computed_region_3r5t_5243</th>\n      <th>:@computed_region_wnea_7qqw</th>\n      <th>:@computed_region_i9mz_6gmt</th>\n      <th>:@computed_region_uhgg_e8y2</th>\n      <th>:@computed_region_e7ym_nrbf</th>\n    </tr>\n  </thead>\n  <tbody>\n    <tr>\n      <th>0</th>\n      <td>INV-48770300006</td>\n      <td>2022-06-29T00:00:00.000</td>\n      <td>5900</td>\n      <td>NEW STAR FLETCHER / WATERLOO</td>\n      <td>315 FLETCHER AVE</td>\n      <td>WATERLOO</td>\n      <td>50701.0</td>\n      <td>{'type': 'Point', 'coordinates': [-92.367142, ...</td>\n      <td>BLACK HAWK</td>\n      <td>1031100.0</td>\n      <td>...</td>\n      <td>5.25</td>\n      <td>24</td>\n      <td>126.00</td>\n      <td>9.0</td>\n      <td>2.37</td>\n      <td>145.0</td>\n      <td>18.0</td>\n      <td>240.0</td>\n      <td>35.0</td>\n      <td>176.0</td>\n    </tr>\n    <tr>\n      <th>1</th>\n      <td>INV-48782900001</td>\n      <td>2022-06-29T00:00:00.000</td>\n      <td>3390</td>\n      <td>OKOBOJI AVENUE LIQUOR</td>\n      <td>1610 OKOBOJI AVENUE</td>\n      <td>MILFORD</td>\n      <td>51351.0</td>\n      <td>{'type': 'Point', 'coordinates': [-95.149955, ...</td>\n      <td>DICKINSON</td>\n      <td>1031100.0</td>\n      <td>...</td>\n      <td>5.96</td>\n      <td>288</td>\n      <td>1716.48</td>\n      <td>288.0</td>\n      <td>76.08</td>\n      <td>37.0</td>\n      <td>37.0</td>\n      <td>419.0</td>\n      <td>3.0</td>\n      <td>1779.0</td>\n    </tr>\n    <tr>\n      <th>2</th>\n      <td>INV-48703200006</td>\n      <td>2022-06-27T00:00:00.000</td>\n      <td>4604</td>\n      <td>PIT STOP LIQUORS / NEWTON</td>\n      <td>1324, 1ST AVE E</td>\n      <td>NEWTON</td>\n      <td>50208.0</td>\n      <td>{'type': 'Point', 'coordinates': [-93.035653, ...</td>\n      <td>JASPER</td>\n      <td>1062200.0</td>\n      <td>...</td>\n      <td>7.50</td>\n      <td>24</td>\n      <td>162.00</td>\n      <td>9.0</td>\n      <td>2.37</td>\n      <td>903.0</td>\n      <td>11.0</td>\n      <td>131.0</td>\n      <td>66.0</td>\n      <td>1791.0</td>\n    </tr>\n    <tr>\n      <th>3</th>\n      <td>INV-48692600064</td>\n      <td>2022-06-27T00:00:00.000</td>\n      <td>2552</td>\n      <td>HY-VEE FOOD STORE #3 / CEDAR RAPIDS</td>\n      <td>20 WILSON AVENUE WEST</td>\n      <td>CEDAR RAPIDS</td>\n      <td>52404.0</td>\n      <td>{'type': 'Point', 'coordinates': [-91.658576, ...</td>\n      <td>LINN</td>\n      <td>1011100.0</td>\n      <td>...</td>\n      <td>20.99</td>\n      <td>6</td>\n      <td>116.64</td>\n      <td>10.5</td>\n      <td>2.77</td>\n      <td>793.0</td>\n      <td>18.0</td>\n      <td>264.0</td>\n      <td>45.0</td>\n      <td>287.0</td>\n    </tr>\n    <tr>\n      <th>4</th>\n      <td>INV-48679200008</td>\n      <td>2022-06-24T00:00:00.000</td>\n      <td>2523</td>\n      <td>HY-VEE FOOD STORE / CENTERVILLE</td>\n      <td>609 N 18TH</td>\n      <td>CENTERVILLE</td>\n      <td>52544.0</td>\n      <td>{'type': 'Point', 'coordinates': [-92.867967, ...</td>\n      <td>APPANOOSE</td>\n      <td>1081300.0</td>\n      <td>...</td>\n      <td>12.99</td>\n      <td>12</td>\n      <td>155.88</td>\n      <td>9.0</td>\n      <td>2.37</td>\n      <td>210.0</td>\n      <td>54.0</td>\n      <td>534.0</td>\n      <td>98.0</td>\n      <td>175.0</td>\n    </tr>\n  </tbody>\n</table>\n<p>5 rows × 28 columns</p>\n</div>"
     },
     "execution_count": 85,
     "metadata": {},
     "output_type": "execute_result"
    }
   ],
   "source": [
    "dfCleaned.head()"
   ],
   "metadata": {
    "collapsed": false,
    "ExecuteTime": {
     "end_time": "2023-11-19T22:14:30.753124758Z",
     "start_time": "2023-11-19T22:14:30.751472649Z"
    }
   },
   "id": "891a2c62d4126772"
  },
  {
   "cell_type": "code",
   "execution_count": 86,
   "outputs": [
    {
     "name": "stdout",
     "output_type": "stream",
     "text": [
      "invoice_line_no                 object\n",
      "date                            object\n",
      "store                            int64\n",
      "name                            object\n",
      "address                         object\n",
      "city                            object\n",
      "zipcode                         object\n",
      "store_location                  object\n",
      "county                          object\n",
      "category                       float64\n",
      "category_name                   object\n",
      "vendor_no                        int64\n",
      "vendor_name                     object\n",
      "itemno                           int64\n",
      "im_desc                         object\n",
      "pack                             int64\n",
      "bottle_volume_ml                 int64\n",
      "state_bottle_cost              float64\n",
      "state_bottle_retail            float64\n",
      "sale_bottles                     int64\n",
      "sale_dollars                   float64\n",
      "sale_liters                    float64\n",
      "sale_gallons                   float64\n",
      ":@computed_region_3r5t_5243    float64\n",
      ":@computed_region_wnea_7qqw    float64\n",
      ":@computed_region_i9mz_6gmt    float64\n",
      ":@computed_region_uhgg_e8y2    float64\n",
      ":@computed_region_e7ym_nrbf    float64\n",
      "dtype: object\n"
     ]
    }
   ],
   "source": [
    "#Checking datatypes for each column\n",
    "data_types = dfCleaned.dtypes\n",
    "print(data_types)"
   ],
   "metadata": {
    "collapsed": false,
    "ExecuteTime": {
     "end_time": "2023-11-19T22:14:30.754714150Z",
     "start_time": "2023-11-19T22:14:30.751649977Z"
    }
   },
   "id": "66698ea0c9eda2a6"
  },
  {
   "cell_type": "code",
   "execution_count": 87,
   "outputs": [],
   "source": [
    "# Displaying rows with null values in 'store_location' and 'county'\n",
    "null_store_location = dfCleaned[dfCleaned['store_location'].isnull()]\n",
    "null_county = dfCleaned[dfCleaned['county'].isnull()]"
   ],
   "metadata": {
    "collapsed": false,
    "ExecuteTime": {
     "end_time": "2023-11-19T22:14:30.901832141Z",
     "start_time": "2023-11-19T22:14:30.795446767Z"
    }
   },
   "id": "d9cf6dccf97495be"
  },
  {
   "cell_type": "code",
   "execution_count": 88,
   "outputs": [
    {
     "data": {
      "text/plain": "    invoice_line_no                     date  store  \\\n40  INV-48781800012  2022-06-29T00:00:00.000   5425   \n48  INV-48701800003  2022-06-27T00:00:00.000   2625   \n51  INV-48740300007  2022-06-28T00:00:00.000   5952   \n55  INV-48722500017  2022-06-27T00:00:00.000   5618   \n59  INV-48701800035  2022-06-27T00:00:00.000   2625   \n\n                                    name             address       city  \\\n40               SPIRITS LIQUOR / GRIMES    109 E 1ST STREET     GRIMES   \n48  HY-VEE WINE & SPIRITS #2 / DAVENPORT  3301 W KIMBERLY RD  DAVENPORT   \n51  TOBACCO OUTLET PLUS #537 / IOWA CITY  923 S RIVERSIDE DR  IOWA CITY   \n55  CASEY'S GENERAL STORE #1446 / LISBON  150 E. BUSINESS 30     LISBON   \n59  HY-VEE WINE & SPIRITS #2 / DAVENPORT  3301 W KIMBERLY RD  DAVENPORT   \n\n    zipcode store_location   county   category  ... state_bottle_retail  \\\n40  50111.0            NaN     POLK  1012100.0  ...               13.13   \n48  52804.0            NaN    SCOTT  1081200.0  ...                6.45   \n51  52246.0            NaN  JOHNSON  1051100.0  ...               19.50   \n55  52253.0            NaN     LINN  1011200.0  ...                8.40   \n59  52804.0            NaN    SCOTT  1081500.0  ...                3.20   \n\n    sale_bottles sale_dollars  sale_liters sale_gallons  \\\n40             6        78.78         10.5         2.77   \n48             6        38.70          0.3         0.07   \n51             6       117.00         10.5         2.77   \n55             8        67.20          3.0         0.79   \n59            12        38.40         12.0         3.17   \n\n    :@computed_region_3r5t_5243  :@computed_region_wnea_7qqw  \\\n40                          NaN                          NaN   \n48                          NaN                          NaN   \n51                          NaN                          NaN   \n55                          NaN                          NaN   \n59                          NaN                          NaN   \n\n    :@computed_region_i9mz_6gmt  :@computed_region_uhgg_e8y2  \\\n40                          NaN                          NaN   \n48                          NaN                          NaN   \n51                          NaN                          NaN   \n55                          NaN                          NaN   \n59                          NaN                          NaN   \n\n    :@computed_region_e7ym_nrbf  \n40                          NaN  \n48                          NaN  \n51                          NaN  \n55                          NaN  \n59                          NaN  \n\n[5 rows x 28 columns]",
      "text/html": "<div>\n<style scoped>\n    .dataframe tbody tr th:only-of-type {\n        vertical-align: middle;\n    }\n\n    .dataframe tbody tr th {\n        vertical-align: top;\n    }\n\n    .dataframe thead th {\n        text-align: right;\n    }\n</style>\n<table border=\"1\" class=\"dataframe\">\n  <thead>\n    <tr style=\"text-align: right;\">\n      <th></th>\n      <th>invoice_line_no</th>\n      <th>date</th>\n      <th>store</th>\n      <th>name</th>\n      <th>address</th>\n      <th>city</th>\n      <th>zipcode</th>\n      <th>store_location</th>\n      <th>county</th>\n      <th>category</th>\n      <th>...</th>\n      <th>state_bottle_retail</th>\n      <th>sale_bottles</th>\n      <th>sale_dollars</th>\n      <th>sale_liters</th>\n      <th>sale_gallons</th>\n      <th>:@computed_region_3r5t_5243</th>\n      <th>:@computed_region_wnea_7qqw</th>\n      <th>:@computed_region_i9mz_6gmt</th>\n      <th>:@computed_region_uhgg_e8y2</th>\n      <th>:@computed_region_e7ym_nrbf</th>\n    </tr>\n  </thead>\n  <tbody>\n    <tr>\n      <th>40</th>\n      <td>INV-48781800012</td>\n      <td>2022-06-29T00:00:00.000</td>\n      <td>5425</td>\n      <td>SPIRITS LIQUOR / GRIMES</td>\n      <td>109 E 1ST STREET</td>\n      <td>GRIMES</td>\n      <td>50111.0</td>\n      <td>NaN</td>\n      <td>POLK</td>\n      <td>1012100.0</td>\n      <td>...</td>\n      <td>13.13</td>\n      <td>6</td>\n      <td>78.78</td>\n      <td>10.5</td>\n      <td>2.77</td>\n      <td>NaN</td>\n      <td>NaN</td>\n      <td>NaN</td>\n      <td>NaN</td>\n      <td>NaN</td>\n    </tr>\n    <tr>\n      <th>48</th>\n      <td>INV-48701800003</td>\n      <td>2022-06-27T00:00:00.000</td>\n      <td>2625</td>\n      <td>HY-VEE WINE &amp; SPIRITS #2 / DAVENPORT</td>\n      <td>3301 W KIMBERLY RD</td>\n      <td>DAVENPORT</td>\n      <td>52804.0</td>\n      <td>NaN</td>\n      <td>SCOTT</td>\n      <td>1081200.0</td>\n      <td>...</td>\n      <td>6.45</td>\n      <td>6</td>\n      <td>38.70</td>\n      <td>0.3</td>\n      <td>0.07</td>\n      <td>NaN</td>\n      <td>NaN</td>\n      <td>NaN</td>\n      <td>NaN</td>\n      <td>NaN</td>\n    </tr>\n    <tr>\n      <th>51</th>\n      <td>INV-48740300007</td>\n      <td>2022-06-28T00:00:00.000</td>\n      <td>5952</td>\n      <td>TOBACCO OUTLET PLUS #537 / IOWA CITY</td>\n      <td>923 S RIVERSIDE DR</td>\n      <td>IOWA CITY</td>\n      <td>52246.0</td>\n      <td>NaN</td>\n      <td>JOHNSON</td>\n      <td>1051100.0</td>\n      <td>...</td>\n      <td>19.50</td>\n      <td>6</td>\n      <td>117.00</td>\n      <td>10.5</td>\n      <td>2.77</td>\n      <td>NaN</td>\n      <td>NaN</td>\n      <td>NaN</td>\n      <td>NaN</td>\n      <td>NaN</td>\n    </tr>\n    <tr>\n      <th>55</th>\n      <td>INV-48722500017</td>\n      <td>2022-06-27T00:00:00.000</td>\n      <td>5618</td>\n      <td>CASEY'S GENERAL STORE #1446 / LISBON</td>\n      <td>150 E. BUSINESS 30</td>\n      <td>LISBON</td>\n      <td>52253.0</td>\n      <td>NaN</td>\n      <td>LINN</td>\n      <td>1011200.0</td>\n      <td>...</td>\n      <td>8.40</td>\n      <td>8</td>\n      <td>67.20</td>\n      <td>3.0</td>\n      <td>0.79</td>\n      <td>NaN</td>\n      <td>NaN</td>\n      <td>NaN</td>\n      <td>NaN</td>\n      <td>NaN</td>\n    </tr>\n    <tr>\n      <th>59</th>\n      <td>INV-48701800035</td>\n      <td>2022-06-27T00:00:00.000</td>\n      <td>2625</td>\n      <td>HY-VEE WINE &amp; SPIRITS #2 / DAVENPORT</td>\n      <td>3301 W KIMBERLY RD</td>\n      <td>DAVENPORT</td>\n      <td>52804.0</td>\n      <td>NaN</td>\n      <td>SCOTT</td>\n      <td>1081500.0</td>\n      <td>...</td>\n      <td>3.20</td>\n      <td>12</td>\n      <td>38.40</td>\n      <td>12.0</td>\n      <td>3.17</td>\n      <td>NaN</td>\n      <td>NaN</td>\n      <td>NaN</td>\n      <td>NaN</td>\n      <td>NaN</td>\n    </tr>\n  </tbody>\n</table>\n<p>5 rows × 28 columns</p>\n</div>"
     },
     "execution_count": 88,
     "metadata": {},
     "output_type": "execute_result"
    }
   ],
   "source": [
    "# Displaying the first few rows of these subsets\n",
    "null_store_location.head()"
   ],
   "metadata": {
    "collapsed": false,
    "ExecuteTime": {
     "end_time": "2023-11-19T22:14:30.904641670Z",
     "start_time": "2023-11-19T22:14:30.860147928Z"
    }
   },
   "id": "c87f26666149aeda"
  },
  {
   "cell_type": "code",
   "execution_count": 89,
   "outputs": [
    {
     "data": {
      "text/plain": "       invoice_line_no                     date  store  \\\n169880    S33578500029  2016-07-26T00:00:00.000   2285   \n182587    S33648700071  2016-07-29T00:00:00.000   2460   \n185761    S33632400017  2016-07-28T00:00:00.000   5251   \n207154    S33291800028  2016-07-11T00:00:00.000   5226   \n380913    S32341900018  2016-05-16T00:00:00.000   2650   \n\n                                    name                  address        city  \\\n169880                    JOHN'S GROCERY       401 EAST MARKET ST   IOWA CITY   \n182587                 LIQUOR BARN, INC.  721 CENTRAL AVENUE WEST     HAMPTON   \n185761                  NORTHSIDE LIQUOR      1303, NORTH FEDERAL  MASON CITY   \n207154                       KC BROTHERS            214 MYRTLE ST   DAVENPORT   \n380913  HY-VEE WINE AND SPIRITS / HARLAN             1808 23RD ST      HARLAN   \n\n        zipcode                                     store_location county  \\\n169880    52240  {'type': 'Point', 'coordinates': [-91.529854, ...    NaN   \n182587    50441  {'type': 'Point', 'coordinates': [-93.21693, 4...    NaN   \n185761    50401  {'type': 'Point', 'coordinates': [-93.201061, ...    NaN   \n207154  52802.0  {'type': 'Point', 'coordinates': [-90.589149, ...    NaN   \n380913  51537.0  {'type': 'Point', 'coordinates': [-95.339881, ...    NaN   \n\n         category  ... state_bottle_retail  sale_bottles sale_dollars  \\\n169880  1012300.0  ...               22.50            12       270.00   \n182587  1081900.0  ...                7.88             3        23.64   \n185761  1081600.0  ...                8.06            12        96.72   \n207154  1011200.0  ...                8.10             1         8.10   \n380913  1011300.0  ...               46.02             6       276.12   \n\n        sale_liters sale_gallons  :@computed_region_3r5t_5243  \\\n169880         9.00         2.38                        526.0   \n182587         2.25         0.59                        775.0   \n185761         9.00         2.38                        647.0   \n207154         0.50         0.13                        185.0   \n380913        10.50         2.77                        229.0   \n\n        :@computed_region_wnea_7qqw  :@computed_region_i9mz_6gmt  \\\n169880                         22.0                        292.0   \n182587                         17.0                        225.0   \n185761                         16.0                        217.0   \n207154                         56.0                         84.0   \n380913                         43.0                        254.0   \n\n        :@computed_region_uhgg_e8y2  :@computed_region_e7ym_nrbf  \n169880                         61.0                       1792.0  \n182587                         29.0                        279.0  \n185761                         17.0                       1373.0  \n207154                         67.0                       1881.0  \n380913                         58.0                        298.0  \n\n[5 rows x 28 columns]",
      "text/html": "<div>\n<style scoped>\n    .dataframe tbody tr th:only-of-type {\n        vertical-align: middle;\n    }\n\n    .dataframe tbody tr th {\n        vertical-align: top;\n    }\n\n    .dataframe thead th {\n        text-align: right;\n    }\n</style>\n<table border=\"1\" class=\"dataframe\">\n  <thead>\n    <tr style=\"text-align: right;\">\n      <th></th>\n      <th>invoice_line_no</th>\n      <th>date</th>\n      <th>store</th>\n      <th>name</th>\n      <th>address</th>\n      <th>city</th>\n      <th>zipcode</th>\n      <th>store_location</th>\n      <th>county</th>\n      <th>category</th>\n      <th>...</th>\n      <th>state_bottle_retail</th>\n      <th>sale_bottles</th>\n      <th>sale_dollars</th>\n      <th>sale_liters</th>\n      <th>sale_gallons</th>\n      <th>:@computed_region_3r5t_5243</th>\n      <th>:@computed_region_wnea_7qqw</th>\n      <th>:@computed_region_i9mz_6gmt</th>\n      <th>:@computed_region_uhgg_e8y2</th>\n      <th>:@computed_region_e7ym_nrbf</th>\n    </tr>\n  </thead>\n  <tbody>\n    <tr>\n      <th>169880</th>\n      <td>S33578500029</td>\n      <td>2016-07-26T00:00:00.000</td>\n      <td>2285</td>\n      <td>JOHN'S GROCERY</td>\n      <td>401 EAST MARKET ST</td>\n      <td>IOWA CITY</td>\n      <td>52240</td>\n      <td>{'type': 'Point', 'coordinates': [-91.529854, ...</td>\n      <td>NaN</td>\n      <td>1012300.0</td>\n      <td>...</td>\n      <td>22.50</td>\n      <td>12</td>\n      <td>270.00</td>\n      <td>9.00</td>\n      <td>2.38</td>\n      <td>526.0</td>\n      <td>22.0</td>\n      <td>292.0</td>\n      <td>61.0</td>\n      <td>1792.0</td>\n    </tr>\n    <tr>\n      <th>182587</th>\n      <td>S33648700071</td>\n      <td>2016-07-29T00:00:00.000</td>\n      <td>2460</td>\n      <td>LIQUOR BARN, INC.</td>\n      <td>721 CENTRAL AVENUE WEST</td>\n      <td>HAMPTON</td>\n      <td>50441</td>\n      <td>{'type': 'Point', 'coordinates': [-93.21693, 4...</td>\n      <td>NaN</td>\n      <td>1081900.0</td>\n      <td>...</td>\n      <td>7.88</td>\n      <td>3</td>\n      <td>23.64</td>\n      <td>2.25</td>\n      <td>0.59</td>\n      <td>775.0</td>\n      <td>17.0</td>\n      <td>225.0</td>\n      <td>29.0</td>\n      <td>279.0</td>\n    </tr>\n    <tr>\n      <th>185761</th>\n      <td>S33632400017</td>\n      <td>2016-07-28T00:00:00.000</td>\n      <td>5251</td>\n      <td>NORTHSIDE LIQUOR</td>\n      <td>1303, NORTH FEDERAL</td>\n      <td>MASON CITY</td>\n      <td>50401</td>\n      <td>{'type': 'Point', 'coordinates': [-93.201061, ...</td>\n      <td>NaN</td>\n      <td>1081600.0</td>\n      <td>...</td>\n      <td>8.06</td>\n      <td>12</td>\n      <td>96.72</td>\n      <td>9.00</td>\n      <td>2.38</td>\n      <td>647.0</td>\n      <td>16.0</td>\n      <td>217.0</td>\n      <td>17.0</td>\n      <td>1373.0</td>\n    </tr>\n    <tr>\n      <th>207154</th>\n      <td>S33291800028</td>\n      <td>2016-07-11T00:00:00.000</td>\n      <td>5226</td>\n      <td>KC BROTHERS</td>\n      <td>214 MYRTLE ST</td>\n      <td>DAVENPORT</td>\n      <td>52802.0</td>\n      <td>{'type': 'Point', 'coordinates': [-90.589149, ...</td>\n      <td>NaN</td>\n      <td>1011200.0</td>\n      <td>...</td>\n      <td>8.10</td>\n      <td>1</td>\n      <td>8.10</td>\n      <td>0.50</td>\n      <td>0.13</td>\n      <td>185.0</td>\n      <td>56.0</td>\n      <td>84.0</td>\n      <td>67.0</td>\n      <td>1881.0</td>\n    </tr>\n    <tr>\n      <th>380913</th>\n      <td>S32341900018</td>\n      <td>2016-05-16T00:00:00.000</td>\n      <td>2650</td>\n      <td>HY-VEE WINE AND SPIRITS / HARLAN</td>\n      <td>1808 23RD ST</td>\n      <td>HARLAN</td>\n      <td>51537.0</td>\n      <td>{'type': 'Point', 'coordinates': [-95.339881, ...</td>\n      <td>NaN</td>\n      <td>1011300.0</td>\n      <td>...</td>\n      <td>46.02</td>\n      <td>6</td>\n      <td>276.12</td>\n      <td>10.50</td>\n      <td>2.77</td>\n      <td>229.0</td>\n      <td>43.0</td>\n      <td>254.0</td>\n      <td>58.0</td>\n      <td>298.0</td>\n    </tr>\n  </tbody>\n</table>\n<p>5 rows × 28 columns</p>\n</div>"
     },
     "execution_count": 89,
     "metadata": {},
     "output_type": "execute_result"
    }
   ],
   "source": [
    "null_county.head()"
   ],
   "metadata": {
    "collapsed": false,
    "ExecuteTime": {
     "end_time": "2023-11-19T22:14:30.905231554Z",
     "start_time": "2023-11-19T22:14:30.903594670Z"
    }
   },
   "id": "d5b2cb9288025968"
  },
  {
   "cell_type": "code",
   "execution_count": 90,
   "outputs": [
    {
     "name": "stderr",
     "output_type": "stream",
     "text": [
      "/tmp/ipykernel_1048383/2938091339.py:5: SettingWithCopyWarning: \n",
      "A value is trying to be set on a copy of a slice from a DataFrame.\n",
      "Try using .loc[row_indexer,col_indexer] = value instead\n",
      "\n",
      "See the caveats in the documentation: https://pandas.pydata.org/pandas-docs/stable/user_guide/indexing.html#returning-a-view-versus-a-copy\n",
      "  dfCleaned['county'] = dfCleaned.apply(lambda row: zipcode_to_county.get(row['zipcode'], row['county']) if pd.isnull(row['county']) else row['county'], axis=1)\n"
     ]
    },
    {
     "data": {
      "text/plain": "241"
     },
     "execution_count": 90,
     "metadata": {},
     "output_type": "execute_result"
    }
   ],
   "source": [
    "# Creating a mapping from zipcode to the most common county for that zipcode\n",
    "zipcode_to_county = dfCleaned.dropna(subset=['county']).groupby('zipcode')['county'].agg(lambda x: x.value_counts().index[0]).to_dict()\n",
    "\n",
    "# Applying this mapping to fill missing values in the 'county' column\n",
    "dfCleaned['county'] = dfCleaned.apply(lambda row: zipcode_to_county.get(row['zipcode'], row['county']) if pd.isnull(row['county']) else row['county'], axis=1)\n",
    "\n",
    "# Checking if the missing values in 'county' have been filled\n",
    "missing_county_after_filling = dfCleaned['county'].isnull().sum()\n",
    "missing_county_after_filling\n"
   ],
   "metadata": {
    "collapsed": false,
    "ExecuteTime": {
     "end_time": "2023-11-19T22:14:40.061116104Z",
     "start_time": "2023-11-19T22:14:30.903874946Z"
    }
   },
   "id": "4d86ad677f8d4e53"
  },
  {
   "cell_type": "code",
   "execution_count": 91,
   "outputs": [],
   "source": [
    "data_cleaned = dfCleaned.dropna(subset=['county'])"
   ],
   "metadata": {
    "collapsed": false,
    "ExecuteTime": {
     "end_time": "2023-11-19T22:14:40.199654788Z",
     "start_time": "2023-11-19T22:14:40.023751890Z"
    }
   },
   "id": "a0c5c9699b4de198"
  },
  {
   "cell_type": "code",
   "execution_count": 92,
   "outputs": [],
   "source": [
    "#Fullfilling missing values from store_location based on store_id ['store']"
   ],
   "metadata": {
    "collapsed": false,
    "ExecuteTime": {
     "end_time": "2023-11-19T22:14:40.200279244Z",
     "start_time": "2023-11-19T22:14:40.192073732Z"
    }
   },
   "id": "e85f094eb8d782a6"
  },
  {
   "cell_type": "code",
   "execution_count": 93,
   "outputs": [
    {
     "name": "stderr",
     "output_type": "stream",
     "text": [
      "/tmp/ipykernel_1048383/3355744226.py:5: SettingWithCopyWarning: \n",
      "A value is trying to be set on a copy of a slice from a DataFrame.\n",
      "Try using .loc[row_indexer,col_indexer] = value instead\n",
      "\n",
      "See the caveats in the documentation: https://pandas.pydata.org/pandas-docs/stable/user_guide/indexing.html#returning-a-view-versus-a-copy\n",
      "  data_cleaned['store_location'] = data_cleaned.apply(lambda row: store_to_location.get(row['store'], row['store_location']) if pd.isnull(row['store_location']) else row['store_location'], axis=1)\n"
     ]
    },
    {
     "data": {
      "text/plain": "85162"
     },
     "execution_count": 93,
     "metadata": {},
     "output_type": "execute_result"
    }
   ],
   "source": [
    "# Step 1: Creating a mapping between 'store' and the most common 'store_location' for that store\n",
    "store_to_location = data_cleaned.dropna(subset=['store_location']).groupby('store')['store_location'].agg(lambda x: x.value_counts().index[0]).to_dict()\n",
    "\n",
    "# Step 2: Using this mapping to fill missing 'store_location' values\n",
    "data_cleaned['store_location'] = data_cleaned.apply(lambda row: store_to_location.get(row['store'], row['store_location']) if pd.isnull(row['store_location']) else row['store_location'], axis=1)\n",
    "\n",
    "# Step 3: Checking how many missing values are left in 'store_location'\n",
    "data_cleaned['store_location'].isnull().sum()\n",
    "\n"
   ],
   "metadata": {
    "collapsed": false,
    "ExecuteTime": {
     "end_time": "2023-11-19T22:14:48.328203477Z",
     "start_time": "2023-11-19T22:14:40.199523555Z"
    }
   },
   "id": "73383d59ee0ec12"
  },
  {
   "cell_type": "code",
   "execution_count": 94,
   "outputs": [],
   "source": [
    "#Still too many records to avoid !\n",
    "# Splitting store_location"
   ],
   "metadata": {
    "collapsed": false,
    "ExecuteTime": {
     "end_time": "2023-11-19T22:14:48.332001548Z",
     "start_time": "2023-11-19T22:14:48.330112116Z"
    }
   },
   "id": "491bdfaf0ce94b5a"
  },
  {
   "cell_type": "code",
   "execution_count": 95,
   "outputs": [],
   "source": [
    "#from geopy.geocoders import Nominatim\n",
    "#from geopy.extra.rate_limiter import RateLimiter\n",
    "\n",
    "# Utworzenie geokodera z ograniczeniem szybkości\n",
    "#geolocator = Nominatim(user_agent=\"GeoLoc\")\n",
    "#geocode = RateLimiter(geolocator.geocode, min_delay_seconds=1)\n",
    "\n",
    "# Funkcja do geokodowania adresu\n",
    "#def geocode_address(row):\n",
    "    # Tworzenie pełnego adresu z kolumn\n",
    "#    address = f\"{row['address']}, {row['city']}, {row['county']}, {row['zipcode']}\"\n",
    "#    location = geocode(address)\n",
    "#    if location:\n",
    "#        return pd.Series([location.latitude, location.longitude])\n",
    "#    else:\n",
    "#        return pd.Series([None, None])\n",
    "\n",
    "# Stosowanie funkcji do DataFrame\n",
    "#data_cleaned[['latitude', 'longitude']] = data_cleaned.apply(geocode_address, axis=1)\n",
    "\n"
   ],
   "metadata": {
    "collapsed": false,
    "ExecuteTime": {
     "end_time": "2023-11-19T22:14:48.338106635Z",
     "start_time": "2023-11-19T22:14:48.334368140Z"
    }
   },
   "id": "b238f4c38ae1c13a"
  },
  {
   "cell_type": "code",
   "execution_count": 96,
   "outputs": [
    {
     "name": "stderr",
     "output_type": "stream",
     "text": [
      "/tmp/ipykernel_1048383/2129834627.py:2: SettingWithCopyWarning: \n",
      "A value is trying to be set on a copy of a slice from a DataFrame\n",
      "\n",
      "See the caveats in the documentation: https://pandas.pydata.org/pandas-docs/stable/user_guide/indexing.html#returning-a-view-versus-a-copy\n",
      "  data_cleaned.drop(columns=['store_location'], inplace=True)\n"
     ]
    }
   ],
   "source": [
    "#Temp dropping store_location column - to modify in the future ?\n",
    "data_cleaned.drop(columns=['store_location'], inplace=True)"
   ],
   "metadata": {
    "collapsed": false,
    "ExecuteTime": {
     "end_time": "2023-11-19T22:14:48.469440920Z",
     "start_time": "2023-11-19T22:14:48.340557317Z"
    }
   },
   "id": "596d495c58b13bff"
  },
  {
   "cell_type": "code",
   "execution_count": 97,
   "outputs": [
    {
     "name": "stderr",
     "output_type": "stream",
     "text": [
      "/tmp/ipykernel_1048383/254899015.py:1: SettingWithCopyWarning: \n",
      "A value is trying to be set on a copy of a slice from a DataFrame\n",
      "\n",
      "See the caveats in the documentation: https://pandas.pydata.org/pandas-docs/stable/user_guide/indexing.html#returning-a-view-versus-a-copy\n",
      "  data_cleaned.drop(columns=[':@computed_region_3r5t_5243', ':@computed_region_wnea_7qqw', ':@computed_region_i9mz_6gmt', ':@computed_region_uhgg_e8y2', ':@computed_region_e7ym_nrbf'], inplace=True)\n"
     ]
    }
   ],
   "source": [
    "data_cleaned.drop(columns=[':@computed_region_3r5t_5243', ':@computed_region_wnea_7qqw', ':@computed_region_i9mz_6gmt', ':@computed_region_uhgg_e8y2', ':@computed_region_e7ym_nrbf'], inplace=True)"
   ],
   "metadata": {
    "collapsed": false,
    "ExecuteTime": {
     "end_time": "2023-11-19T22:14:48.608300108Z",
     "start_time": "2023-11-19T22:14:48.515866348Z"
    }
   },
   "id": "2bdde6880004527f"
  },
  {
   "cell_type": "code",
   "execution_count": 98,
   "outputs": [],
   "source": [
    "finalDf = pd.DataFrame(data_cleaned)"
   ],
   "metadata": {
    "collapsed": false,
    "ExecuteTime": {
     "end_time": "2023-11-19T22:14:48.608667895Z",
     "start_time": "2023-11-19T22:14:48.607691575Z"
    }
   },
   "id": "2e9d3cc6d10a8bc2"
  },
  {
   "cell_type": "code",
   "execution_count": 99,
   "outputs": [
    {
     "data": {
      "text/plain": "   invoice_line_no                     date  store  \\\n0  INV-48770300006  2022-06-29T00:00:00.000   5900   \n1  INV-48782900001  2022-06-29T00:00:00.000   3390   \n2  INV-48703200006  2022-06-27T00:00:00.000   4604   \n3  INV-48692600064  2022-06-27T00:00:00.000   2552   \n4  INV-48679200008  2022-06-24T00:00:00.000   2523   \n\n                                  name                address          city  \\\n0         NEW STAR FLETCHER / WATERLOO       315 FLETCHER AVE      WATERLOO   \n1                OKOBOJI AVENUE LIQUOR    1610 OKOBOJI AVENUE       MILFORD   \n2            PIT STOP LIQUORS / NEWTON        1324, 1ST AVE E        NEWTON   \n3  HY-VEE FOOD STORE #3 / CEDAR RAPIDS  20 WILSON AVENUE WEST  CEDAR RAPIDS   \n4      HY-VEE FOOD STORE / CENTERVILLE             609 N 18TH   CENTERVILLE   \n\n   zipcode      county   category                 category_name  ...  itemno  \\\n0  50701.0  BLACK HAWK  1031100.0               AMERICAN VODKAS  ...   36968   \n1  51351.0   DICKINSON  1031100.0               AMERICAN VODKAS  ...   35317   \n2  50208.0      JASPER  1062200.0                     WHITE RUM  ...   43124   \n3  52404.0        LINN  1011100.0              BLENDED WHISKIES  ...   25608   \n4  52544.0   APPANOOSE  1081300.0  AMERICAN CORDIALS & LIQUEURS  ...   69618   \n\n                         im_desc  pack bottle_volume_ml  state_bottle_cost  \\\n0            NEW AMSTERDAM 80PRF    24              375               3.50   \n1                   BARTON VODKA    12             1000               3.97   \n2               BACARDI SUPERIOR    24              375               5.00   \n3               SEAGRAMS 7 CROWN     6             1750              13.99   \n4  DR MCGILLICUDDYS BUTTERSCOTCH    12              750               8.66   \n\n   state_bottle_retail  sale_bottles  sale_dollars  sale_liters  sale_gallons  \n0                 5.25            24        126.00          9.0          2.37  \n1                 5.96           288       1716.48        288.0         76.08  \n2                 7.50            24        162.00          9.0          2.37  \n3                20.99             6        116.64         10.5          2.77  \n4                12.99            12        155.88          9.0          2.37  \n\n[5 rows x 22 columns]",
      "text/html": "<div>\n<style scoped>\n    .dataframe tbody tr th:only-of-type {\n        vertical-align: middle;\n    }\n\n    .dataframe tbody tr th {\n        vertical-align: top;\n    }\n\n    .dataframe thead th {\n        text-align: right;\n    }\n</style>\n<table border=\"1\" class=\"dataframe\">\n  <thead>\n    <tr style=\"text-align: right;\">\n      <th></th>\n      <th>invoice_line_no</th>\n      <th>date</th>\n      <th>store</th>\n      <th>name</th>\n      <th>address</th>\n      <th>city</th>\n      <th>zipcode</th>\n      <th>county</th>\n      <th>category</th>\n      <th>category_name</th>\n      <th>...</th>\n      <th>itemno</th>\n      <th>im_desc</th>\n      <th>pack</th>\n      <th>bottle_volume_ml</th>\n      <th>state_bottle_cost</th>\n      <th>state_bottle_retail</th>\n      <th>sale_bottles</th>\n      <th>sale_dollars</th>\n      <th>sale_liters</th>\n      <th>sale_gallons</th>\n    </tr>\n  </thead>\n  <tbody>\n    <tr>\n      <th>0</th>\n      <td>INV-48770300006</td>\n      <td>2022-06-29T00:00:00.000</td>\n      <td>5900</td>\n      <td>NEW STAR FLETCHER / WATERLOO</td>\n      <td>315 FLETCHER AVE</td>\n      <td>WATERLOO</td>\n      <td>50701.0</td>\n      <td>BLACK HAWK</td>\n      <td>1031100.0</td>\n      <td>AMERICAN VODKAS</td>\n      <td>...</td>\n      <td>36968</td>\n      <td>NEW AMSTERDAM 80PRF</td>\n      <td>24</td>\n      <td>375</td>\n      <td>3.50</td>\n      <td>5.25</td>\n      <td>24</td>\n      <td>126.00</td>\n      <td>9.0</td>\n      <td>2.37</td>\n    </tr>\n    <tr>\n      <th>1</th>\n      <td>INV-48782900001</td>\n      <td>2022-06-29T00:00:00.000</td>\n      <td>3390</td>\n      <td>OKOBOJI AVENUE LIQUOR</td>\n      <td>1610 OKOBOJI AVENUE</td>\n      <td>MILFORD</td>\n      <td>51351.0</td>\n      <td>DICKINSON</td>\n      <td>1031100.0</td>\n      <td>AMERICAN VODKAS</td>\n      <td>...</td>\n      <td>35317</td>\n      <td>BARTON VODKA</td>\n      <td>12</td>\n      <td>1000</td>\n      <td>3.97</td>\n      <td>5.96</td>\n      <td>288</td>\n      <td>1716.48</td>\n      <td>288.0</td>\n      <td>76.08</td>\n    </tr>\n    <tr>\n      <th>2</th>\n      <td>INV-48703200006</td>\n      <td>2022-06-27T00:00:00.000</td>\n      <td>4604</td>\n      <td>PIT STOP LIQUORS / NEWTON</td>\n      <td>1324, 1ST AVE E</td>\n      <td>NEWTON</td>\n      <td>50208.0</td>\n      <td>JASPER</td>\n      <td>1062200.0</td>\n      <td>WHITE RUM</td>\n      <td>...</td>\n      <td>43124</td>\n      <td>BACARDI SUPERIOR</td>\n      <td>24</td>\n      <td>375</td>\n      <td>5.00</td>\n      <td>7.50</td>\n      <td>24</td>\n      <td>162.00</td>\n      <td>9.0</td>\n      <td>2.37</td>\n    </tr>\n    <tr>\n      <th>3</th>\n      <td>INV-48692600064</td>\n      <td>2022-06-27T00:00:00.000</td>\n      <td>2552</td>\n      <td>HY-VEE FOOD STORE #3 / CEDAR RAPIDS</td>\n      <td>20 WILSON AVENUE WEST</td>\n      <td>CEDAR RAPIDS</td>\n      <td>52404.0</td>\n      <td>LINN</td>\n      <td>1011100.0</td>\n      <td>BLENDED WHISKIES</td>\n      <td>...</td>\n      <td>25608</td>\n      <td>SEAGRAMS 7 CROWN</td>\n      <td>6</td>\n      <td>1750</td>\n      <td>13.99</td>\n      <td>20.99</td>\n      <td>6</td>\n      <td>116.64</td>\n      <td>10.5</td>\n      <td>2.77</td>\n    </tr>\n    <tr>\n      <th>4</th>\n      <td>INV-48679200008</td>\n      <td>2022-06-24T00:00:00.000</td>\n      <td>2523</td>\n      <td>HY-VEE FOOD STORE / CENTERVILLE</td>\n      <td>609 N 18TH</td>\n      <td>CENTERVILLE</td>\n      <td>52544.0</td>\n      <td>APPANOOSE</td>\n      <td>1081300.0</td>\n      <td>AMERICAN CORDIALS &amp; LIQUEURS</td>\n      <td>...</td>\n      <td>69618</td>\n      <td>DR MCGILLICUDDYS BUTTERSCOTCH</td>\n      <td>12</td>\n      <td>750</td>\n      <td>8.66</td>\n      <td>12.99</td>\n      <td>12</td>\n      <td>155.88</td>\n      <td>9.0</td>\n      <td>2.37</td>\n    </tr>\n  </tbody>\n</table>\n<p>5 rows × 22 columns</p>\n</div>"
     },
     "execution_count": 99,
     "metadata": {},
     "output_type": "execute_result"
    }
   ],
   "source": [
    "finalDf.head()"
   ],
   "metadata": {
    "collapsed": false,
    "ExecuteTime": {
     "end_time": "2023-11-19T22:14:48.657676354Z",
     "start_time": "2023-11-19T22:14:48.608010054Z"
    }
   },
   "id": "4864dbcbeb2077a6"
  }
 ],
 "metadata": {
  "kernelspec": {
   "display_name": "Python 3",
   "language": "python",
   "name": "python3"
  },
  "language_info": {
   "codemirror_mode": {
    "name": "ipython",
    "version": 2
   },
   "file_extension": ".py",
   "mimetype": "text/x-python",
   "name": "python",
   "nbconvert_exporter": "python",
   "pygments_lexer": "ipython2",
   "version": "2.7.6"
  }
 },
 "nbformat": 4,
 "nbformat_minor": 5
}
